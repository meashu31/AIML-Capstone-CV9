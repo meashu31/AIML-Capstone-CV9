{
  "nbformat": 4,
  "nbformat_minor": 0,
  "metadata": {
    "colab": {
      "name": "Unet_Models_Pneumonia_Test.ipynb",
      "provenance": [],
      "collapsed_sections": [],
      "mount_file_id": "1Cbw-4DX8sTaphWllzjiDuO1bFrz7nO3T",
      "authorship_tag": "ABX9TyPD0ERYRFNE55ksx1A3tW3b",
      "include_colab_link": true
    },
    "kernelspec": {
      "name": "python3",
      "display_name": "Python 3"
    },
    "widgets": {
      "application/vnd.jupyter.widget-state+json": {
        "cad0780bd4544fd5a83a80c5ab152b37": {
          "model_module": "@jupyter-widgets/controls",
          "model_name": "BoxModel",
          "state": {
            "_view_name": "BoxView",
            "_dom_classes": [],
            "_model_name": "BoxModel",
            "_view_module": "@jupyter-widgets/controls",
            "_model_module_version": "1.5.0",
            "_view_count": null,
            "_view_module_version": "1.5.0",
            "box_style": "",
            "layout": "IPY_MODEL_fe1b8cf161a146bc8a4977f30d92378b",
            "_model_module": "@jupyter-widgets/controls",
            "children": [
              "IPY_MODEL_b006b04ed23a41bd808e719a0c38c62d",
              "IPY_MODEL_2cba2fb6f796494d91739958b73976ea",
              "IPY_MODEL_ee8a045605cb489a9763c97b9736cb0e",
              "IPY_MODEL_b8196346b5714f7f94b023f9f4489042",
              "IPY_MODEL_905115f8f0504052b8f93c7c1ad70240"
            ]
          }
        },
        "fe1b8cf161a146bc8a4977f30d92378b": {
          "model_module": "@jupyter-widgets/base",
          "model_name": "LayoutModel",
          "state": {
            "_view_name": "LayoutView",
            "grid_template_rows": null,
            "right": null,
            "justify_content": null,
            "_view_module": "@jupyter-widgets/base",
            "overflow": null,
            "_model_module_version": "1.2.0",
            "_view_count": null,
            "flex_flow": "column",
            "width": "27%",
            "min_width": null,
            "border": "solid 2px",
            "align_items": "stretch",
            "bottom": null,
            "_model_module": "@jupyter-widgets/base",
            "top": null,
            "grid_column": null,
            "overflow_y": null,
            "overflow_x": null,
            "grid_auto_flow": null,
            "grid_area": null,
            "grid_template_columns": null,
            "flex": null,
            "_model_name": "LayoutModel",
            "justify_items": null,
            "grid_row": null,
            "max_height": null,
            "align_content": null,
            "visibility": null,
            "align_self": null,
            "height": null,
            "min_height": null,
            "padding": null,
            "grid_auto_rows": null,
            "grid_gap": null,
            "max_width": null,
            "order": null,
            "_view_module_version": "1.2.0",
            "grid_template_areas": null,
            "object_position": null,
            "object_fit": null,
            "grid_auto_columns": null,
            "margin": null,
            "display": "flex",
            "left": null
          }
        },
        "b006b04ed23a41bd808e719a0c38c62d": {
          "model_module": "@jupyter-widgets/controls",
          "model_name": "BoxModel",
          "state": {
            "_view_name": "BoxView",
            "_dom_classes": [],
            "_model_name": "BoxModel",
            "_view_module": "@jupyter-widgets/controls",
            "_model_module_version": "1.5.0",
            "_view_count": null,
            "_view_module_version": "1.5.0",
            "box_style": "",
            "layout": "IPY_MODEL_3b076d5c741849a880de61aee68b0ff7",
            "_model_module": "@jupyter-widgets/controls",
            "children": [
              "IPY_MODEL_90b27c7f0b884a2889637239797bed46",
              "IPY_MODEL_ff3fc89586bd4a66a3ddddb5101109b2"
            ]
          }
        },
        "2cba2fb6f796494d91739958b73976ea": {
          "model_module": "@jupyter-widgets/controls",
          "model_name": "BoxModel",
          "state": {
            "_view_name": "BoxView",
            "_dom_classes": [],
            "_model_name": "BoxModel",
            "_view_module": "@jupyter-widgets/controls",
            "_model_module_version": "1.5.0",
            "_view_count": null,
            "_view_module_version": "1.5.0",
            "box_style": "",
            "layout": "IPY_MODEL_3b076d5c741849a880de61aee68b0ff7",
            "_model_module": "@jupyter-widgets/controls",
            "children": [
              "IPY_MODEL_9131d0f43c304dffac448cfb633523c1",
              "IPY_MODEL_91386e7f1c1e462eb5d26835235dcb20"
            ]
          }
        },
        "ee8a045605cb489a9763c97b9736cb0e": {
          "model_module": "@jupyter-widgets/controls",
          "model_name": "BoxModel",
          "state": {
            "_view_name": "BoxView",
            "_dom_classes": [],
            "_model_name": "BoxModel",
            "_view_module": "@jupyter-widgets/controls",
            "_model_module_version": "1.5.0",
            "_view_count": null,
            "_view_module_version": "1.5.0",
            "box_style": "",
            "layout": "IPY_MODEL_3b076d5c741849a880de61aee68b0ff7",
            "_model_module": "@jupyter-widgets/controls",
            "children": [
              "IPY_MODEL_36f5201654334b29887548d7642c0919",
              "IPY_MODEL_95d7656b6c4a4b17a109724f5e09b0c6"
            ]
          }
        },
        "b8196346b5714f7f94b023f9f4489042": {
          "model_module": "@jupyter-widgets/controls",
          "model_name": "BoxModel",
          "state": {
            "_view_name": "BoxView",
            "_dom_classes": [],
            "_model_name": "BoxModel",
            "_view_module": "@jupyter-widgets/controls",
            "_model_module_version": "1.5.0",
            "_view_count": null,
            "_view_module_version": "1.5.0",
            "box_style": "",
            "layout": "IPY_MODEL_3b076d5c741849a880de61aee68b0ff7",
            "_model_module": "@jupyter-widgets/controls",
            "children": [
              "IPY_MODEL_88f9af03c72545669ebf053e1476830b",
              "IPY_MODEL_6ce9045ef7da44528f81db54bc030f13"
            ]
          }
        },
        "905115f8f0504052b8f93c7c1ad70240": {
          "model_module": "@jupyter-widgets/controls",
          "model_name": "BoxModel",
          "state": {
            "_view_name": "BoxView",
            "_dom_classes": [],
            "_model_name": "BoxModel",
            "_view_module": "@jupyter-widgets/controls",
            "_model_module_version": "1.5.0",
            "_view_count": null,
            "_view_module_version": "1.5.0",
            "box_style": "",
            "layout": "IPY_MODEL_3b076d5c741849a880de61aee68b0ff7",
            "_model_module": "@jupyter-widgets/controls",
            "children": [
              "IPY_MODEL_94da8b035e324810bb17fe4489d22c13",
              "IPY_MODEL_3f4e2e7bd94c41b7bbf4a119aa6b3f38"
            ]
          }
        },
        "3b076d5c741849a880de61aee68b0ff7": {
          "model_module": "@jupyter-widgets/base",
          "model_name": "LayoutModel",
          "state": {
            "_view_name": "LayoutView",
            "grid_template_rows": null,
            "right": null,
            "justify_content": "space-between",
            "_view_module": "@jupyter-widgets/base",
            "overflow": null,
            "_model_module_version": "1.2.0",
            "_view_count": null,
            "flex_flow": "row",
            "width": null,
            "min_width": null,
            "border": null,
            "align_items": null,
            "bottom": null,
            "_model_module": "@jupyter-widgets/base",
            "top": null,
            "grid_column": null,
            "overflow_y": null,
            "overflow_x": null,
            "grid_auto_flow": null,
            "grid_area": null,
            "grid_template_columns": null,
            "flex": null,
            "_model_name": "LayoutModel",
            "justify_items": null,
            "grid_row": null,
            "max_height": null,
            "align_content": null,
            "visibility": null,
            "align_self": null,
            "height": null,
            "min_height": null,
            "padding": null,
            "grid_auto_rows": null,
            "grid_gap": null,
            "max_width": null,
            "order": null,
            "_view_module_version": "1.2.0",
            "grid_template_areas": null,
            "object_position": null,
            "object_fit": null,
            "grid_auto_columns": null,
            "margin": null,
            "display": "flex",
            "left": null
          }
        },
        "90b27c7f0b884a2889637239797bed46": {
          "model_module": "@jupyter-widgets/controls",
          "model_name": "LabelModel",
          "state": {
            "_view_name": "LabelView",
            "style": "IPY_MODEL_debda3966a2a49aaa438b1b10d5bd8cc",
            "_dom_classes": [],
            "description": "",
            "_model_name": "LabelModel",
            "placeholder": "​",
            "_view_module": "@jupyter-widgets/controls",
            "_model_module_version": "1.5.0",
            "value": "Select Backbone",
            "_view_count": null,
            "_view_module_version": "1.5.0",
            "description_tooltip": null,
            "_model_module": "@jupyter-widgets/controls",
            "layout": "IPY_MODEL_fa07cfb82f1d4a7e9dad4d1f6d0ebf1e"
          }
        },
        "ff3fc89586bd4a66a3ddddb5101109b2": {
          "model_module": "@jupyter-widgets/controls",
          "model_name": "DropdownModel",
          "state": {
            "_options_labels": [
              "Select",
              "VGG-16",
              "VGG-19",
              "ResNet-18",
              "ResNet-34",
              "ResNet-50",
              "ResNet-101",
              "ResNet-152",
              "DenseNet-121",
              "DenseNet-169",
              "DenseNet-201",
              "Inception V3",
              "Inception ResNet V2",
              "MobileNet"
            ],
            "_view_name": "DropdownView",
            "style": "IPY_MODEL_6c9eb62d58b74029921bff99d70dfe7e",
            "_dom_classes": [],
            "description": "",
            "_model_name": "DropdownModel",
            "index": 0,
            "_view_module": "@jupyter-widgets/controls",
            "_model_module_version": "1.5.0",
            "_view_count": null,
            "disabled": false,
            "_view_module_version": "1.5.0",
            "description_tooltip": null,
            "_model_module": "@jupyter-widgets/controls",
            "layout": "IPY_MODEL_9424e51b2a284fcf94f55d3316fe00c0"
          }
        },
        "9131d0f43c304dffac448cfb633523c1": {
          "model_module": "@jupyter-widgets/controls",
          "model_name": "LabelModel",
          "state": {
            "_view_name": "LabelView",
            "style": "IPY_MODEL_3f70e63421024ca781df399728d78701",
            "_dom_classes": [],
            "description": "",
            "_model_name": "LabelModel",
            "placeholder": "​",
            "_view_module": "@jupyter-widgets/controls",
            "_model_module_version": "1.5.0",
            "value": "Use PreTrained Weights",
            "_view_count": null,
            "_view_module_version": "1.5.0",
            "description_tooltip": null,
            "_model_module": "@jupyter-widgets/controls",
            "layout": "IPY_MODEL_fa66b6e2672a44d0af179cc3d582fa2f"
          }
        },
        "91386e7f1c1e462eb5d26835235dcb20": {
          "model_module": "@jupyter-widgets/controls",
          "model_name": "DropdownModel",
          "state": {
            "_options_labels": [
              "Yes",
              "No"
            ],
            "_view_name": "DropdownView",
            "style": "IPY_MODEL_3fcd06c3ba20413fa6ef0f47827a3c03",
            "_dom_classes": [],
            "description": "",
            "_model_name": "DropdownModel",
            "index": 0,
            "_view_module": "@jupyter-widgets/controls",
            "_model_module_version": "1.5.0",
            "_view_count": null,
            "disabled": false,
            "_view_module_version": "1.5.0",
            "description_tooltip": null,
            "_model_module": "@jupyter-widgets/controls",
            "layout": "IPY_MODEL_6f8b4f13257e4f0ca8aafe6b6ae7a5ee"
          }
        },
        "36f5201654334b29887548d7642c0919": {
          "model_module": "@jupyter-widgets/controls",
          "model_name": "LabelModel",
          "state": {
            "_view_name": "LabelView",
            "style": "IPY_MODEL_bfd3efe961204f9da815dae2df4f9f0c",
            "_dom_classes": [],
            "description": "",
            "_model_name": "LabelModel",
            "placeholder": "​",
            "_view_module": "@jupyter-widgets/controls",
            "_model_module_version": "1.5.0",
            "value": "Show Model Summary",
            "_view_count": null,
            "_view_module_version": "1.5.0",
            "description_tooltip": null,
            "_model_module": "@jupyter-widgets/controls",
            "layout": "IPY_MODEL_1fa8645bbc4d478dbcdf0f9f1bb80dd3"
          }
        },
        "95d7656b6c4a4b17a109724f5e09b0c6": {
          "model_module": "@jupyter-widgets/controls",
          "model_name": "DropdownModel",
          "state": {
            "_options_labels": [
              "Yes",
              "No"
            ],
            "_view_name": "DropdownView",
            "style": "IPY_MODEL_2225c44dfde246b9893037e2ffabb76d",
            "_dom_classes": [],
            "description": "",
            "_model_name": "DropdownModel",
            "index": 1,
            "_view_module": "@jupyter-widgets/controls",
            "_model_module_version": "1.5.0",
            "_view_count": null,
            "disabled": false,
            "_view_module_version": "1.5.0",
            "description_tooltip": null,
            "_model_module": "@jupyter-widgets/controls",
            "layout": "IPY_MODEL_b761012a1dfa476daca709f72fc09027"
          }
        },
        "88f9af03c72545669ebf053e1476830b": {
          "model_module": "@jupyter-widgets/controls",
          "model_name": "LabelModel",
          "state": {
            "_view_name": "LabelView",
            "style": "IPY_MODEL_ddb9816c6ba64179aeb4bad843bda64f",
            "_dom_classes": [],
            "description": "",
            "_model_name": "LabelModel",
            "placeholder": "​",
            "_view_module": "@jupyter-widgets/controls",
            "_model_module_version": "1.5.0",
            "value": "Train Model",
            "_view_count": null,
            "_view_module_version": "1.5.0",
            "description_tooltip": null,
            "_model_module": "@jupyter-widgets/controls",
            "layout": "IPY_MODEL_15e59bf49dca417f80a0ac581313191b"
          }
        },
        "6ce9045ef7da44528f81db54bc030f13": {
          "model_module": "@jupyter-widgets/controls",
          "model_name": "DropdownModel",
          "state": {
            "_options_labels": [
              "Yes",
              "No"
            ],
            "_view_name": "DropdownView",
            "style": "IPY_MODEL_40619077b4ab42ca988b48de53176839",
            "_dom_classes": [],
            "description": "",
            "_model_name": "DropdownModel",
            "index": 1,
            "_view_module": "@jupyter-widgets/controls",
            "_model_module_version": "1.5.0",
            "_view_count": null,
            "disabled": false,
            "_view_module_version": "1.5.0",
            "description_tooltip": null,
            "_model_module": "@jupyter-widgets/controls",
            "layout": "IPY_MODEL_2cb22c7449374bc9ad4eff4fe50dccc8"
          }
        },
        "94da8b035e324810bb17fe4489d22c13": {
          "model_module": "@jupyter-widgets/controls",
          "model_name": "LabelModel",
          "state": {
            "_view_name": "LabelView",
            "style": "IPY_MODEL_75449691f7394338b07cbd982082ade1",
            "_dom_classes": [],
            "description": "",
            "_model_name": "LabelModel",
            "placeholder": "​",
            "_view_module": "@jupyter-widgets/controls",
            "_model_module_version": "1.5.0",
            "value": "Test Model",
            "_view_count": null,
            "_view_module_version": "1.5.0",
            "description_tooltip": null,
            "_model_module": "@jupyter-widgets/controls",
            "layout": "IPY_MODEL_49b4033ea07943849b69f4841ba7c924"
          }
        },
        "3f4e2e7bd94c41b7bbf4a119aa6b3f38": {
          "model_module": "@jupyter-widgets/controls",
          "model_name": "DropdownModel",
          "state": {
            "_options_labels": [
              "Yes",
              "No"
            ],
            "_view_name": "DropdownView",
            "style": "IPY_MODEL_e78058927ecc4f8db75d9bc5cc31a33c",
            "_dom_classes": [],
            "description": "",
            "_model_name": "DropdownModel",
            "index": 1,
            "_view_module": "@jupyter-widgets/controls",
            "_model_module_version": "1.5.0",
            "_view_count": null,
            "disabled": false,
            "_view_module_version": "1.5.0",
            "description_tooltip": null,
            "_model_module": "@jupyter-widgets/controls",
            "layout": "IPY_MODEL_a7920926b9a3404b99bea5a86ebb9219"
          }
        },
        "debda3966a2a49aaa438b1b10d5bd8cc": {
          "model_module": "@jupyter-widgets/controls",
          "model_name": "DescriptionStyleModel",
          "state": {
            "_view_name": "StyleView",
            "_model_name": "DescriptionStyleModel",
            "description_width": "",
            "_view_module": "@jupyter-widgets/base",
            "_model_module_version": "1.5.0",
            "_view_count": null,
            "_view_module_version": "1.2.0",
            "_model_module": "@jupyter-widgets/controls"
          }
        },
        "fa07cfb82f1d4a7e9dad4d1f6d0ebf1e": {
          "model_module": "@jupyter-widgets/base",
          "model_name": "LayoutModel",
          "state": {
            "_view_name": "LayoutView",
            "grid_template_rows": null,
            "right": null,
            "justify_content": null,
            "_view_module": "@jupyter-widgets/base",
            "overflow": null,
            "_model_module_version": "1.2.0",
            "_view_count": null,
            "flex_flow": null,
            "width": null,
            "min_width": null,
            "border": null,
            "align_items": null,
            "bottom": null,
            "_model_module": "@jupyter-widgets/base",
            "top": null,
            "grid_column": null,
            "overflow_y": null,
            "overflow_x": null,
            "grid_auto_flow": null,
            "grid_area": null,
            "grid_template_columns": null,
            "flex": null,
            "_model_name": "LayoutModel",
            "justify_items": null,
            "grid_row": null,
            "max_height": null,
            "align_content": null,
            "visibility": null,
            "align_self": null,
            "height": null,
            "min_height": null,
            "padding": null,
            "grid_auto_rows": null,
            "grid_gap": null,
            "max_width": null,
            "order": null,
            "_view_module_version": "1.2.0",
            "grid_template_areas": null,
            "object_position": null,
            "object_fit": null,
            "grid_auto_columns": null,
            "margin": null,
            "display": null,
            "left": null
          }
        },
        "6c9eb62d58b74029921bff99d70dfe7e": {
          "model_module": "@jupyter-widgets/controls",
          "model_name": "DescriptionStyleModel",
          "state": {
            "_view_name": "StyleView",
            "_model_name": "DescriptionStyleModel",
            "description_width": "",
            "_view_module": "@jupyter-widgets/base",
            "_model_module_version": "1.5.0",
            "_view_count": null,
            "_view_module_version": "1.2.0",
            "_model_module": "@jupyter-widgets/controls"
          }
        },
        "9424e51b2a284fcf94f55d3316fe00c0": {
          "model_module": "@jupyter-widgets/base",
          "model_name": "LayoutModel",
          "state": {
            "_view_name": "LayoutView",
            "grid_template_rows": null,
            "right": null,
            "justify_content": null,
            "_view_module": "@jupyter-widgets/base",
            "overflow": null,
            "_model_module_version": "1.2.0",
            "_view_count": null,
            "flex_flow": null,
            "width": null,
            "min_width": null,
            "border": null,
            "align_items": null,
            "bottom": null,
            "_model_module": "@jupyter-widgets/base",
            "top": null,
            "grid_column": null,
            "overflow_y": null,
            "overflow_x": null,
            "grid_auto_flow": null,
            "grid_area": null,
            "grid_template_columns": null,
            "flex": null,
            "_model_name": "LayoutModel",
            "justify_items": null,
            "grid_row": null,
            "max_height": null,
            "align_content": null,
            "visibility": null,
            "align_self": null,
            "height": null,
            "min_height": null,
            "padding": null,
            "grid_auto_rows": null,
            "grid_gap": null,
            "max_width": null,
            "order": null,
            "_view_module_version": "1.2.0",
            "grid_template_areas": null,
            "object_position": null,
            "object_fit": null,
            "grid_auto_columns": null,
            "margin": null,
            "display": null,
            "left": null
          }
        },
        "3f70e63421024ca781df399728d78701": {
          "model_module": "@jupyter-widgets/controls",
          "model_name": "DescriptionStyleModel",
          "state": {
            "_view_name": "StyleView",
            "_model_name": "DescriptionStyleModel",
            "description_width": "",
            "_view_module": "@jupyter-widgets/base",
            "_model_module_version": "1.5.0",
            "_view_count": null,
            "_view_module_version": "1.2.0",
            "_model_module": "@jupyter-widgets/controls"
          }
        },
        "fa66b6e2672a44d0af179cc3d582fa2f": {
          "model_module": "@jupyter-widgets/base",
          "model_name": "LayoutModel",
          "state": {
            "_view_name": "LayoutView",
            "grid_template_rows": null,
            "right": null,
            "justify_content": null,
            "_view_module": "@jupyter-widgets/base",
            "overflow": null,
            "_model_module_version": "1.2.0",
            "_view_count": null,
            "flex_flow": null,
            "width": null,
            "min_width": null,
            "border": null,
            "align_items": null,
            "bottom": null,
            "_model_module": "@jupyter-widgets/base",
            "top": null,
            "grid_column": null,
            "overflow_y": null,
            "overflow_x": null,
            "grid_auto_flow": null,
            "grid_area": null,
            "grid_template_columns": null,
            "flex": null,
            "_model_name": "LayoutModel",
            "justify_items": null,
            "grid_row": null,
            "max_height": null,
            "align_content": null,
            "visibility": null,
            "align_self": null,
            "height": null,
            "min_height": null,
            "padding": null,
            "grid_auto_rows": null,
            "grid_gap": null,
            "max_width": null,
            "order": null,
            "_view_module_version": "1.2.0",
            "grid_template_areas": null,
            "object_position": null,
            "object_fit": null,
            "grid_auto_columns": null,
            "margin": null,
            "display": null,
            "left": null
          }
        },
        "3fcd06c3ba20413fa6ef0f47827a3c03": {
          "model_module": "@jupyter-widgets/controls",
          "model_name": "DescriptionStyleModel",
          "state": {
            "_view_name": "StyleView",
            "_model_name": "DescriptionStyleModel",
            "description_width": "",
            "_view_module": "@jupyter-widgets/base",
            "_model_module_version": "1.5.0",
            "_view_count": null,
            "_view_module_version": "1.2.0",
            "_model_module": "@jupyter-widgets/controls"
          }
        },
        "6f8b4f13257e4f0ca8aafe6b6ae7a5ee": {
          "model_module": "@jupyter-widgets/base",
          "model_name": "LayoutModel",
          "state": {
            "_view_name": "LayoutView",
            "grid_template_rows": null,
            "right": null,
            "justify_content": null,
            "_view_module": "@jupyter-widgets/base",
            "overflow": null,
            "_model_module_version": "1.2.0",
            "_view_count": null,
            "flex_flow": null,
            "width": null,
            "min_width": null,
            "border": null,
            "align_items": null,
            "bottom": null,
            "_model_module": "@jupyter-widgets/base",
            "top": null,
            "grid_column": null,
            "overflow_y": null,
            "overflow_x": null,
            "grid_auto_flow": null,
            "grid_area": null,
            "grid_template_columns": null,
            "flex": null,
            "_model_name": "LayoutModel",
            "justify_items": null,
            "grid_row": null,
            "max_height": null,
            "align_content": null,
            "visibility": null,
            "align_self": null,
            "height": null,
            "min_height": null,
            "padding": null,
            "grid_auto_rows": null,
            "grid_gap": null,
            "max_width": null,
            "order": null,
            "_view_module_version": "1.2.0",
            "grid_template_areas": null,
            "object_position": null,
            "object_fit": null,
            "grid_auto_columns": null,
            "margin": null,
            "display": null,
            "left": null
          }
        },
        "bfd3efe961204f9da815dae2df4f9f0c": {
          "model_module": "@jupyter-widgets/controls",
          "model_name": "DescriptionStyleModel",
          "state": {
            "_view_name": "StyleView",
            "_model_name": "DescriptionStyleModel",
            "description_width": "",
            "_view_module": "@jupyter-widgets/base",
            "_model_module_version": "1.5.0",
            "_view_count": null,
            "_view_module_version": "1.2.0",
            "_model_module": "@jupyter-widgets/controls"
          }
        },
        "1fa8645bbc4d478dbcdf0f9f1bb80dd3": {
          "model_module": "@jupyter-widgets/base",
          "model_name": "LayoutModel",
          "state": {
            "_view_name": "LayoutView",
            "grid_template_rows": null,
            "right": null,
            "justify_content": null,
            "_view_module": "@jupyter-widgets/base",
            "overflow": null,
            "_model_module_version": "1.2.0",
            "_view_count": null,
            "flex_flow": null,
            "width": null,
            "min_width": null,
            "border": null,
            "align_items": null,
            "bottom": null,
            "_model_module": "@jupyter-widgets/base",
            "top": null,
            "grid_column": null,
            "overflow_y": null,
            "overflow_x": null,
            "grid_auto_flow": null,
            "grid_area": null,
            "grid_template_columns": null,
            "flex": null,
            "_model_name": "LayoutModel",
            "justify_items": null,
            "grid_row": null,
            "max_height": null,
            "align_content": null,
            "visibility": null,
            "align_self": null,
            "height": null,
            "min_height": null,
            "padding": null,
            "grid_auto_rows": null,
            "grid_gap": null,
            "max_width": null,
            "order": null,
            "_view_module_version": "1.2.0",
            "grid_template_areas": null,
            "object_position": null,
            "object_fit": null,
            "grid_auto_columns": null,
            "margin": null,
            "display": null,
            "left": null
          }
        },
        "2225c44dfde246b9893037e2ffabb76d": {
          "model_module": "@jupyter-widgets/controls",
          "model_name": "DescriptionStyleModel",
          "state": {
            "_view_name": "StyleView",
            "_model_name": "DescriptionStyleModel",
            "description_width": "",
            "_view_module": "@jupyter-widgets/base",
            "_model_module_version": "1.5.0",
            "_view_count": null,
            "_view_module_version": "1.2.0",
            "_model_module": "@jupyter-widgets/controls"
          }
        },
        "b761012a1dfa476daca709f72fc09027": {
          "model_module": "@jupyter-widgets/base",
          "model_name": "LayoutModel",
          "state": {
            "_view_name": "LayoutView",
            "grid_template_rows": null,
            "right": null,
            "justify_content": null,
            "_view_module": "@jupyter-widgets/base",
            "overflow": null,
            "_model_module_version": "1.2.0",
            "_view_count": null,
            "flex_flow": null,
            "width": null,
            "min_width": null,
            "border": null,
            "align_items": null,
            "bottom": null,
            "_model_module": "@jupyter-widgets/base",
            "top": null,
            "grid_column": null,
            "overflow_y": null,
            "overflow_x": null,
            "grid_auto_flow": null,
            "grid_area": null,
            "grid_template_columns": null,
            "flex": null,
            "_model_name": "LayoutModel",
            "justify_items": null,
            "grid_row": null,
            "max_height": null,
            "align_content": null,
            "visibility": null,
            "align_self": null,
            "height": null,
            "min_height": null,
            "padding": null,
            "grid_auto_rows": null,
            "grid_gap": null,
            "max_width": null,
            "order": null,
            "_view_module_version": "1.2.0",
            "grid_template_areas": null,
            "object_position": null,
            "object_fit": null,
            "grid_auto_columns": null,
            "margin": null,
            "display": null,
            "left": null
          }
        },
        "ddb9816c6ba64179aeb4bad843bda64f": {
          "model_module": "@jupyter-widgets/controls",
          "model_name": "DescriptionStyleModel",
          "state": {
            "_view_name": "StyleView",
            "_model_name": "DescriptionStyleModel",
            "description_width": "",
            "_view_module": "@jupyter-widgets/base",
            "_model_module_version": "1.5.0",
            "_view_count": null,
            "_view_module_version": "1.2.0",
            "_model_module": "@jupyter-widgets/controls"
          }
        },
        "15e59bf49dca417f80a0ac581313191b": {
          "model_module": "@jupyter-widgets/base",
          "model_name": "LayoutModel",
          "state": {
            "_view_name": "LayoutView",
            "grid_template_rows": null,
            "right": null,
            "justify_content": null,
            "_view_module": "@jupyter-widgets/base",
            "overflow": null,
            "_model_module_version": "1.2.0",
            "_view_count": null,
            "flex_flow": null,
            "width": null,
            "min_width": null,
            "border": null,
            "align_items": null,
            "bottom": null,
            "_model_module": "@jupyter-widgets/base",
            "top": null,
            "grid_column": null,
            "overflow_y": null,
            "overflow_x": null,
            "grid_auto_flow": null,
            "grid_area": null,
            "grid_template_columns": null,
            "flex": null,
            "_model_name": "LayoutModel",
            "justify_items": null,
            "grid_row": null,
            "max_height": null,
            "align_content": null,
            "visibility": null,
            "align_self": null,
            "height": null,
            "min_height": null,
            "padding": null,
            "grid_auto_rows": null,
            "grid_gap": null,
            "max_width": null,
            "order": null,
            "_view_module_version": "1.2.0",
            "grid_template_areas": null,
            "object_position": null,
            "object_fit": null,
            "grid_auto_columns": null,
            "margin": null,
            "display": null,
            "left": null
          }
        },
        "40619077b4ab42ca988b48de53176839": {
          "model_module": "@jupyter-widgets/controls",
          "model_name": "DescriptionStyleModel",
          "state": {
            "_view_name": "StyleView",
            "_model_name": "DescriptionStyleModel",
            "description_width": "",
            "_view_module": "@jupyter-widgets/base",
            "_model_module_version": "1.5.0",
            "_view_count": null,
            "_view_module_version": "1.2.0",
            "_model_module": "@jupyter-widgets/controls"
          }
        },
        "2cb22c7449374bc9ad4eff4fe50dccc8": {
          "model_module": "@jupyter-widgets/base",
          "model_name": "LayoutModel",
          "state": {
            "_view_name": "LayoutView",
            "grid_template_rows": null,
            "right": null,
            "justify_content": null,
            "_view_module": "@jupyter-widgets/base",
            "overflow": null,
            "_model_module_version": "1.2.0",
            "_view_count": null,
            "flex_flow": null,
            "width": null,
            "min_width": null,
            "border": null,
            "align_items": null,
            "bottom": null,
            "_model_module": "@jupyter-widgets/base",
            "top": null,
            "grid_column": null,
            "overflow_y": null,
            "overflow_x": null,
            "grid_auto_flow": null,
            "grid_area": null,
            "grid_template_columns": null,
            "flex": null,
            "_model_name": "LayoutModel",
            "justify_items": null,
            "grid_row": null,
            "max_height": null,
            "align_content": null,
            "visibility": null,
            "align_self": null,
            "height": null,
            "min_height": null,
            "padding": null,
            "grid_auto_rows": null,
            "grid_gap": null,
            "max_width": null,
            "order": null,
            "_view_module_version": "1.2.0",
            "grid_template_areas": null,
            "object_position": null,
            "object_fit": null,
            "grid_auto_columns": null,
            "margin": null,
            "display": null,
            "left": null
          }
        },
        "75449691f7394338b07cbd982082ade1": {
          "model_module": "@jupyter-widgets/controls",
          "model_name": "DescriptionStyleModel",
          "state": {
            "_view_name": "StyleView",
            "_model_name": "DescriptionStyleModel",
            "description_width": "",
            "_view_module": "@jupyter-widgets/base",
            "_model_module_version": "1.5.0",
            "_view_count": null,
            "_view_module_version": "1.2.0",
            "_model_module": "@jupyter-widgets/controls"
          }
        },
        "49b4033ea07943849b69f4841ba7c924": {
          "model_module": "@jupyter-widgets/base",
          "model_name": "LayoutModel",
          "state": {
            "_view_name": "LayoutView",
            "grid_template_rows": null,
            "right": null,
            "justify_content": null,
            "_view_module": "@jupyter-widgets/base",
            "overflow": null,
            "_model_module_version": "1.2.0",
            "_view_count": null,
            "flex_flow": null,
            "width": null,
            "min_width": null,
            "border": null,
            "align_items": null,
            "bottom": null,
            "_model_module": "@jupyter-widgets/base",
            "top": null,
            "grid_column": null,
            "overflow_y": null,
            "overflow_x": null,
            "grid_auto_flow": null,
            "grid_area": null,
            "grid_template_columns": null,
            "flex": null,
            "_model_name": "LayoutModel",
            "justify_items": null,
            "grid_row": null,
            "max_height": null,
            "align_content": null,
            "visibility": null,
            "align_self": null,
            "height": null,
            "min_height": null,
            "padding": null,
            "grid_auto_rows": null,
            "grid_gap": null,
            "max_width": null,
            "order": null,
            "_view_module_version": "1.2.0",
            "grid_template_areas": null,
            "object_position": null,
            "object_fit": null,
            "grid_auto_columns": null,
            "margin": null,
            "display": null,
            "left": null
          }
        },
        "e78058927ecc4f8db75d9bc5cc31a33c": {
          "model_module": "@jupyter-widgets/controls",
          "model_name": "DescriptionStyleModel",
          "state": {
            "_view_name": "StyleView",
            "_model_name": "DescriptionStyleModel",
            "description_width": "",
            "_view_module": "@jupyter-widgets/base",
            "_model_module_version": "1.5.0",
            "_view_count": null,
            "_view_module_version": "1.2.0",
            "_model_module": "@jupyter-widgets/controls"
          }
        },
        "a7920926b9a3404b99bea5a86ebb9219": {
          "model_module": "@jupyter-widgets/base",
          "model_name": "LayoutModel",
          "state": {
            "_view_name": "LayoutView",
            "grid_template_rows": null,
            "right": null,
            "justify_content": null,
            "_view_module": "@jupyter-widgets/base",
            "overflow": null,
            "_model_module_version": "1.2.0",
            "_view_count": null,
            "flex_flow": null,
            "width": null,
            "min_width": null,
            "border": null,
            "align_items": null,
            "bottom": null,
            "_model_module": "@jupyter-widgets/base",
            "top": null,
            "grid_column": null,
            "overflow_y": null,
            "overflow_x": null,
            "grid_auto_flow": null,
            "grid_area": null,
            "grid_template_columns": null,
            "flex": null,
            "_model_name": "LayoutModel",
            "justify_items": null,
            "grid_row": null,
            "max_height": null,
            "align_content": null,
            "visibility": null,
            "align_self": null,
            "height": null,
            "min_height": null,
            "padding": null,
            "grid_auto_rows": null,
            "grid_gap": null,
            "max_width": null,
            "order": null,
            "_view_module_version": "1.2.0",
            "grid_template_areas": null,
            "object_position": null,
            "object_fit": null,
            "grid_auto_columns": null,
            "margin": null,
            "display": null,
            "left": null
          }
        },
        "dbe089c73c164efda31e5befd81c06db": {
          "model_module": "@jupyter-widgets/output",
          "model_name": "OutputModel",
          "state": {
            "_view_name": "OutputView",
            "msg_id": "",
            "_dom_classes": [],
            "_model_name": "OutputModel",
            "outputs": [
              {
                "output_type": "stream",
                "metadata": {
                  "tags": []
                },
                "text": "\nPlease select a Backbone of your choice\n",
                "stream": "stdout"
              }
            ],
            "_view_module": "@jupyter-widgets/output",
            "_model_module_version": "1.0.0",
            "_view_count": null,
            "_view_module_version": "1.0.0",
            "layout": "IPY_MODEL_3ee6495454b74079b5feb03db71253eb",
            "_model_module": "@jupyter-widgets/output"
          }
        },
        "3ee6495454b74079b5feb03db71253eb": {
          "model_module": "@jupyter-widgets/base",
          "model_name": "LayoutModel",
          "state": {
            "_view_name": "LayoutView",
            "grid_template_rows": null,
            "right": null,
            "justify_content": null,
            "_view_module": "@jupyter-widgets/base",
            "overflow": null,
            "_model_module_version": "1.2.0",
            "_view_count": null,
            "flex_flow": null,
            "width": null,
            "min_width": null,
            "border": null,
            "align_items": null,
            "bottom": null,
            "_model_module": "@jupyter-widgets/base",
            "top": null,
            "grid_column": null,
            "overflow_y": null,
            "overflow_x": null,
            "grid_auto_flow": null,
            "grid_area": null,
            "grid_template_columns": null,
            "flex": null,
            "_model_name": "LayoutModel",
            "justify_items": null,
            "grid_row": null,
            "max_height": null,
            "align_content": null,
            "visibility": null,
            "align_self": null,
            "height": null,
            "min_height": null,
            "padding": null,
            "grid_auto_rows": null,
            "grid_gap": null,
            "max_width": null,
            "order": null,
            "_view_module_version": "1.2.0",
            "grid_template_areas": null,
            "object_position": null,
            "object_fit": null,
            "grid_auto_columns": null,
            "margin": null,
            "display": null,
            "left": null
          }
        }
      }
    },
    "accelerator": "GPU"
  },
  "cells": [
    {
      "cell_type": "markdown",
      "metadata": {
        "id": "view-in-github",
        "colab_type": "text"
      },
      "source": [
        "<a href=\"https://colab.research.google.com/github/meashu31/AIML-Capstone-CV9/blob/Vadhi_master/Unet_Models_Pneumonia_Test.ipynb\" target=\"_parent\"><img src=\"https://colab.research.google.com/assets/colab-badge.svg\" alt=\"Open In Colab\"/></a>"
      ]
    },
    {
      "cell_type": "markdown",
      "metadata": {
        "id": "xDN7dCedAIXD",
        "colab_type": "text"
      },
      "source": [
        "## Mount Gogle Drive"
      ]
    },
    {
      "cell_type": "code",
      "metadata": {
        "id": "K4Yt6mOWlowf",
        "colab_type": "code",
        "colab": {
          "base_uri": "https://localhost:8080/",
          "height": 425
        },
        "outputId": "c8251416-1c15-4a9a-c830-6e43c99df8b1"
      },
      "source": [
        "pip install segmentation-models"
      ],
      "execution_count": 1,
      "outputs": [
        {
          "output_type": "stream",
          "text": [
            "Collecting segmentation-models\n",
            "  Downloading https://files.pythonhosted.org/packages/da/b9/4a183518c21689a56b834eaaa45cad242d9ec09a4360b5b10139f23c63f4/segmentation_models-1.0.1-py3-none-any.whl\n",
            "Requirement already satisfied: keras-applications<=1.0.8,>=1.0.7 in /usr/local/lib/python3.6/dist-packages (from segmentation-models) (1.0.8)\n",
            "Collecting efficientnet==1.0.0\n",
            "  Downloading https://files.pythonhosted.org/packages/97/82/f3ae07316f0461417dc54affab6e86ab188a5a22f33176d35271628b96e0/efficientnet-1.0.0-py3-none-any.whl\n",
            "Collecting image-classifiers==1.0.0\n",
            "  Downloading https://files.pythonhosted.org/packages/81/98/6f84720e299a4942ab80df5f76ab97b7828b24d1de5e9b2cbbe6073228b7/image_classifiers-1.0.0-py3-none-any.whl\n",
            "Requirement already satisfied: numpy>=1.9.1 in /usr/local/lib/python3.6/dist-packages (from keras-applications<=1.0.8,>=1.0.7->segmentation-models) (1.18.5)\n",
            "Requirement already satisfied: h5py in /usr/local/lib/python3.6/dist-packages (from keras-applications<=1.0.8,>=1.0.7->segmentation-models) (2.10.0)\n",
            "Requirement already satisfied: scikit-image in /usr/local/lib/python3.6/dist-packages (from efficientnet==1.0.0->segmentation-models) (0.16.2)\n",
            "Requirement already satisfied: six in /usr/local/lib/python3.6/dist-packages (from h5py->keras-applications<=1.0.8,>=1.0.7->segmentation-models) (1.12.0)\n",
            "Requirement already satisfied: networkx>=2.0 in /usr/local/lib/python3.6/dist-packages (from scikit-image->efficientnet==1.0.0->segmentation-models) (2.4)\n",
            "Requirement already satisfied: matplotlib!=3.0.0,>=2.0.0 in /usr/local/lib/python3.6/dist-packages (from scikit-image->efficientnet==1.0.0->segmentation-models) (3.2.2)\n",
            "Requirement already satisfied: scipy>=0.19.0 in /usr/local/lib/python3.6/dist-packages (from scikit-image->efficientnet==1.0.0->segmentation-models) (1.4.1)\n",
            "Requirement already satisfied: pillow>=4.3.0 in /usr/local/lib/python3.6/dist-packages (from scikit-image->efficientnet==1.0.0->segmentation-models) (7.0.0)\n",
            "Requirement already satisfied: imageio>=2.3.0 in /usr/local/lib/python3.6/dist-packages (from scikit-image->efficientnet==1.0.0->segmentation-models) (2.4.1)\n",
            "Requirement already satisfied: PyWavelets>=0.4.0 in /usr/local/lib/python3.6/dist-packages (from scikit-image->efficientnet==1.0.0->segmentation-models) (1.1.1)\n",
            "Requirement already satisfied: decorator>=4.3.0 in /usr/local/lib/python3.6/dist-packages (from networkx>=2.0->scikit-image->efficientnet==1.0.0->segmentation-models) (4.4.2)\n",
            "Requirement already satisfied: python-dateutil>=2.1 in /usr/local/lib/python3.6/dist-packages (from matplotlib!=3.0.0,>=2.0.0->scikit-image->efficientnet==1.0.0->segmentation-models) (2.8.1)\n",
            "Requirement already satisfied: pyparsing!=2.0.4,!=2.1.2,!=2.1.6,>=2.0.1 in /usr/local/lib/python3.6/dist-packages (from matplotlib!=3.0.0,>=2.0.0->scikit-image->efficientnet==1.0.0->segmentation-models) (2.4.7)\n",
            "Requirement already satisfied: cycler>=0.10 in /usr/local/lib/python3.6/dist-packages (from matplotlib!=3.0.0,>=2.0.0->scikit-image->efficientnet==1.0.0->segmentation-models) (0.10.0)\n",
            "Requirement already satisfied: kiwisolver>=1.0.1 in /usr/local/lib/python3.6/dist-packages (from matplotlib!=3.0.0,>=2.0.0->scikit-image->efficientnet==1.0.0->segmentation-models) (1.2.0)\n",
            "Installing collected packages: efficientnet, image-classifiers, segmentation-models\n",
            "Successfully installed efficientnet-1.0.0 image-classifiers-1.0.0 segmentation-models-1.0.1\n"
          ],
          "name": "stdout"
        }
      ]
    },
    {
      "cell_type": "code",
      "metadata": {
        "id": "Ve5QgR14TRiJ",
        "colab_type": "code",
        "colab": {
          "base_uri": "https://localhost:8080/",
          "height": 425
        },
        "outputId": "f14e48a3-42af-48ca-d984-e1e4350b15fc"
      },
      "source": [
        "pip install plot_keras_history"
      ],
      "execution_count": 6,
      "outputs": [
        {
          "output_type": "stream",
          "text": [
            "Collecting plot_keras_history\n",
            "  Downloading https://files.pythonhosted.org/packages/2e/5a/8d60eae5d2624877fba35b63b70cea4edcf603c75883c004bb4715470d10/plot_keras_history-1.1.23.tar.gz\n",
            "Requirement already satisfied: matplotlib in /usr/local/lib/python3.6/dist-packages (from plot_keras_history) (3.2.2)\n",
            "Requirement already satisfied: pandas in /usr/local/lib/python3.6/dist-packages (from plot_keras_history) (1.0.5)\n",
            "Requirement already satisfied: scipy in /usr/local/lib/python3.6/dist-packages (from plot_keras_history) (1.4.1)\n",
            "Collecting sanitize_ml_labels\n",
            "  Downloading https://files.pythonhosted.org/packages/64/f5/7904f0cb0146b8c9dd3d43c7a652be09be763d7c9fff76d05b8a01cef197/sanitize_ml_labels-1.0.9.tar.gz\n",
            "Requirement already satisfied: cycler>=0.10 in /usr/local/lib/python3.6/dist-packages (from matplotlib->plot_keras_history) (0.10.0)\n",
            "Requirement already satisfied: pyparsing!=2.0.4,!=2.1.2,!=2.1.6,>=2.0.1 in /usr/local/lib/python3.6/dist-packages (from matplotlib->plot_keras_history) (2.4.7)\n",
            "Requirement already satisfied: python-dateutil>=2.1 in /usr/local/lib/python3.6/dist-packages (from matplotlib->plot_keras_history) (2.8.1)\n",
            "Requirement already satisfied: kiwisolver>=1.0.1 in /usr/local/lib/python3.6/dist-packages (from matplotlib->plot_keras_history) (1.2.0)\n",
            "Requirement already satisfied: numpy>=1.11 in /usr/local/lib/python3.6/dist-packages (from matplotlib->plot_keras_history) (1.18.5)\n",
            "Requirement already satisfied: pytz>=2017.2 in /usr/local/lib/python3.6/dist-packages (from pandas->plot_keras_history) (2018.9)\n",
            "Requirement already satisfied: six in /usr/local/lib/python3.6/dist-packages (from cycler>=0.10->matplotlib->plot_keras_history) (1.12.0)\n",
            "Building wheels for collected packages: plot-keras-history, sanitize-ml-labels\n",
            "  Building wheel for plot-keras-history (setup.py) ... \u001b[?25l\u001b[?25hdone\n",
            "  Created wheel for plot-keras-history: filename=plot_keras_history-1.1.23-cp36-none-any.whl size=6405 sha256=33cbe25734de5cf43d820c52c209a8e3211f1188b966c97785b40275ab4ee6e1\n",
            "  Stored in directory: /root/.cache/pip/wheels/c0/78/33/da5ed769fab5587fcdae95271e8d19106e3b92b3ae2d46382d\n",
            "  Building wheel for sanitize-ml-labels (setup.py) ... \u001b[?25l\u001b[?25hdone\n",
            "  Created wheel for sanitize-ml-labels: filename=sanitize_ml_labels-1.0.9-cp36-none-any.whl size=6476 sha256=c0524ad8a4d6f102983f01ca6fdcff52a068e82dffe43508e398ee8d326b5dba\n",
            "  Stored in directory: /root/.cache/pip/wheels/9d/e9/ec/ca775287a4d0f9e87a56220bf82ca01d9cff045026271fad24\n",
            "Successfully built plot-keras-history sanitize-ml-labels\n",
            "Installing collected packages: sanitize-ml-labels, plot-keras-history\n",
            "Successfully installed plot-keras-history-1.1.23 sanitize-ml-labels-1.0.9\n"
          ],
          "name": "stdout"
        }
      ]
    },
    {
      "cell_type": "code",
      "metadata": {
        "id": "cViY1pf-lIp8",
        "colab_type": "code",
        "colab": {
          "base_uri": "https://localhost:8080/",
          "height": 122
        },
        "outputId": "02713464-6d05-40b4-ca64-72d49f16d977"
      },
      "source": [
        "from google.colab import drive\n",
        "drive.mount('/content/drive/')"
      ],
      "execution_count": 2,
      "outputs": [
        {
          "output_type": "stream",
          "text": [
            "Go to this URL in a browser: https://accounts.google.com/o/oauth2/auth?client_id=947318989803-6bn6qk8qdgf4n4g3pfee6491hc0brc4i.apps.googleusercontent.com&redirect_uri=urn%3aietf%3awg%3aoauth%3a2.0%3aoob&response_type=code&scope=email%20https%3a%2f%2fwww.googleapis.com%2fauth%2fdocs.test%20https%3a%2f%2fwww.googleapis.com%2fauth%2fdrive%20https%3a%2f%2fwww.googleapis.com%2fauth%2fdrive.photos.readonly%20https%3a%2f%2fwww.googleapis.com%2fauth%2fpeopleapi.readonly\n",
            "\n",
            "Enter your authorization code:\n",
            "··········\n",
            "Mounted at /content/drive/\n"
          ],
          "name": "stdout"
        }
      ]
    },
    {
      "cell_type": "code",
      "metadata": {
        "id": "n2Wq2-hcmRqH",
        "colab_type": "code",
        "colab": {}
      },
      "source": [
        "#------------------------- Load necessary libraries -------------------------#\n",
        "####------------------------- for loading path -------------------------#\n",
        "import os\n",
        "import pickle\n",
        "from tqdm import tqdm\n",
        "from matplotlib import image\n",
        "from matplotlib import pyplot\n",
        "from plot_keras_history import plot_history\n",
        "####------------------------- for DataGenerator -------------------------#\n",
        "import numpy as np\n",
        "import keras\n",
        "import tensorflow as tf\n",
        "from keras.preprocessing.image import ImageDataGenerator\n",
        "####------------------------- for Plotting -------------------------#\n",
        "import matplotlib.pyplot as plt\n",
        "####------------------------- for Model -------------------------#\n",
        "from keras.utils.layer_utils import count_params\n",
        "from tabulate import tabulate\n",
        "from segmentation_models import Unet\n",
        "from segmentation_models import get_preprocessing\n",
        "from segmentation_models.losses import bce_jaccard_loss\n",
        "from segmentation_models.metrics import iou_score\n",
        "from keras.callbacks import ModelCheckpoint, EarlyStopping, ReduceLROnPlateau\n",
        "from keras.optimizers import Adam\n",
        "from keras.models import *\n",
        "from keras.layers import  *\n",
        "import tensorflow as tf\n",
        "\n",
        "import pandas as pd\n",
        "from IPython.display import clear_output\n",
        "import matplotlib.pyplot as plt\n",
        "\n",
        "IMAGE_HEIGHT=224\n",
        "IMAGE_WIDTH=224\n",
        "batch_size = 16"
      ],
      "execution_count": 7,
      "outputs": []
    },
    {
      "cell_type": "code",
      "metadata": {
        "id": "0OEYWXZa9mQw",
        "colab_type": "code",
        "colab": {}
      },
      "source": [
        "#------------------------- Declare required path -------------------------#\n",
        "ProjectPath = '/content/drive/My Drive/great learning/capstone project/rsna-pneumonia-detection/'\n",
        "CSVPath = os.path.join(ProjectPath,\"DataSet_CSV\")\n",
        "Normal = os.path.join(ProjectPath,'Balanced_Data/Normal')\n",
        "NormalImg = os.path.join(ProjectPath,'Balanced_Data/Normal/image_data/images')\n",
        "NormalMask = os.path.join(ProjectPath,'Balanced_Data/Normal/mask_data/masks')\n",
        "Pneumonia = os.path.join(ProjectPath,'Balanced_Data/Pneumonia')\n",
        "PneumoniaImg = os.path.join(ProjectPath,'Balanced_Data/Pneumonia/image_data/images')\n",
        "PneumoniaMask = os.path.join(ProjectPath,'Balanced_Data/Pneumonia/mask_data/masks')\n",
        "RawImg = os.path.join(ProjectPath,'data/image_data/images')\n",
        "RawMask = os.path.join(ProjectPath,'data/mask_data/masks')\n",
        "\n",
        "os.chdir(ProjectPath) #changing the current directory path to the project direcotry where the dataset is available\n",
        "#------------------------- Load CSV to get label info -------------------------#"
      ],
      "execution_count": 8,
      "outputs": []
    },
    {
      "cell_type": "code",
      "metadata": {
        "id": "Hw2X2XRonYYm",
        "colab_type": "code",
        "colab": {}
      },
      "source": [
        "#------------------------- Run This code onlt if ID_List.pkl not available -------------------------#\n",
        "#NormalList = os.listdir(NormalImg)\n",
        "#PneumoniaList = os.listdir(PneumoniaImg)\n",
        "\n",
        "#ID_Target = pd.read_csv(os.path.join(CSVPath,\"stage_2_train_labels.csv\")).reset_index()\n",
        "#ID_Target = ID_Target.drop(['index','x','y','width','height'],axis=1)\n",
        "\n",
        "#for i in tqdm(ID_Target.index): \n",
        "#  ID = ID_Target.patientId[i]+'.png'\n",
        "#  Target = ID_Target.Target[i]\n",
        "#  if Target == 0:\n",
        "#    if not ID in NormalList:\n",
        "#      NormalList.append(ID)\n",
        "#      shutil.copy(RawImg+'/'+ID, NormalImg) #Copy Normal Image\n",
        "#      shutil.copy(RawMask+'/'+ID, NormalMask) #Copy Normal Mask\n",
        "#  else:\n",
        "#    if not ID in PneumoniaList:\n",
        "#      PneumoniaList.append(ID)\n",
        "#      shutil.copy(RawImg+'/'+ID, PneumoniaImg) #Copy Pneumonia Image\n",
        "#      shutil.copy(RawMask+'/'+ID, PneumoniaMask) #Copy Pneumonia Mask\n",
        "\n",
        "#print('NormalList',len(NormalList))\n",
        "#print('PneumoniaList',len(PneumoniaList))\n",
        "\n",
        "#with open(ProjectPath+'/ID_List.pkl', 'wb') as f:  # Python 3: open(..., 'wb')\n",
        "#    pickle.dump([NormalList, PneumoniaList], f)"
      ],
      "execution_count": 9,
      "outputs": []
    },
    {
      "cell_type": "code",
      "metadata": {
        "id": "YN9avMtzmP84",
        "colab_type": "code",
        "colab": {
          "base_uri": "https://localhost:8080/",
          "height": 51
        },
        "outputId": "7bbdd40a-da85-494e-c24d-994f2f5de1c3"
      },
      "source": [
        "# Getting back the objects:\n",
        "with open(ProjectPath+'/ID_List.pkl', 'rb') as f:  # Python 3: open(..., 'rb')\n",
        "    NormalList, PneumoniaList = pickle.load(f)\n",
        "\n",
        "print('NormalList',len(NormalList))\n",
        "print('PneumoniaList',len(PneumoniaList))"
      ],
      "execution_count": 10,
      "outputs": [
        {
          "output_type": "stream",
          "text": [
            "NormalList 20672\n",
            "PneumoniaList 6012\n"
          ],
          "name": "stdout"
        }
      ]
    },
    {
      "cell_type": "markdown",
      "metadata": {
        "id": "7ODT1cwlASER",
        "colab_type": "text"
      },
      "source": [
        "## Backboned-UNet"
      ]
    },
    {
      "cell_type": "code",
      "metadata": {
        "id": "XFn2TZ1hlS_M",
        "colab_type": "code",
        "colab": {}
      },
      "source": [
        "def create_model(Backbone='vgg16',pretrained=True,ShowSummery=False,TrainModel=True,TestModel=True):\n",
        "  # Data Generator\n",
        "  preprocess_input = get_preprocessing(Backbone)\n",
        "  seed = 1\n",
        "  # this is the augmentation configuration we will use for training\n",
        "  train_img_datagen = ImageDataGenerator(preprocessing_function=preprocess_input,shear_range=0.2,zoom_range=0.2,horizontal_flip=True,validation_split=0.2)\n",
        "  train_mask_datagen = ImageDataGenerator(rescale=1./255,shear_range=0.2,zoom_range=0.2,horizontal_flip=True,validation_split=0.2)\n",
        "  # this is the augmentation configuration we will use for testing: only rescaling\n",
        "  test_img_datagen = ImageDataGenerator(preprocessing_function=preprocess_input,validation_split=0.2)\n",
        "  test_mask_datagen = ImageDataGenerator(rescale=1./255,validation_split=0.2)\n",
        "\n",
        "  # this is a generator that will read pictures found in subfolers of 'data/train', and indefinitely generate batches of augmented image data\n",
        "  #------------------------- Train DataSetGenerator -------------------------#\n",
        "  train_img_generator = train_img_datagen.flow_from_directory('Balanced_Data/Pneumonia/image_data',target_size=(IMAGE_HEIGHT, IMAGE_WIDTH),batch_size=batch_size,class_mode=None,subset='training',seed=seed)\n",
        "  train_mask_generator = train_mask_datagen.flow_from_directory('Balanced_Data/Pneumonia/mask_data',target_size=(IMAGE_HEIGHT, IMAGE_WIDTH),batch_size=batch_size,class_mode=None, color_mode=\"grayscale\",subset='training',seed=seed)\n",
        "  #------------------------- Validation DataSetGenerator -------------------------#\n",
        "  validation_img_generator =  test_img_datagen.flow_from_directory('Balanced_Data/Pneumonia/image_data',target_size=(IMAGE_HEIGHT, IMAGE_WIDTH),batch_size=batch_size,class_mode=None,subset='validation',seed=seed)\n",
        "  validation_mask_generator =  test_mask_datagen.flow_from_directory('Balanced_Data/Pneumonia/mask_data',target_size=(IMAGE_HEIGHT, IMAGE_WIDTH),batch_size=batch_size,class_mode=None, color_mode=\"grayscale\",subset='validation',seed=seed)\n",
        "  #----- Zip Data----\n",
        "  train_generator = (pair for pair in zip(train_img_generator, train_mask_generator))\n",
        "  validation_generator = (pair for pair in zip(validation_img_generator, validation_mask_generator))\n",
        "  \n",
        "  # define model\n",
        "  print(\"-------------------Generating UNet Model----------------------\")\n",
        "  model = Unet(Backbone, encoder_weights='imagenet', input_shape=(224, 224, 3))\n",
        "  ##-------------------getLast layer and add reshape----------------------\n",
        "  OneThrird = int(len(model.layers)/3)\n",
        "  for layer in model.layers[:OneThrird]:\n",
        "      layer.trainable=False\n",
        "  for layer in model.layers[OneThrird:]:\n",
        "      layer.trainable=True\n",
        "\n",
        "  # Model Overview\n",
        "  trainable_count = count_params(model.trainable_weights)\n",
        "  non_trainable_count = count_params(model.non_trainable_weights)\n",
        "  print()\n",
        "  print(tabulate([['Model', 'UNet'],\\\n",
        "                          ['BackBone', Backbone],\\\n",
        "                          ['Number of Layers', len(model.layers)],\\\n",
        "                          ['Total params', model.count_params()],\\\n",
        "                          ['Trainable params', trainable_count],\\\n",
        "                          ['Non-trainable params', non_trainable_count]],\\\n",
        "                          headers=['Header', 'Value'], tablefmt='orgtbl'))\n",
        "  print()\n",
        "  #If Choosen Show Summery\n",
        "  \n",
        "  if ShowSummery: \n",
        "    print(\"-------------------Model Summery----------------------\")\n",
        "    model.summary()\n",
        "  if TrainModel:\n",
        "    print(\"-------------------Training Model----------------------\")\n",
        "    # Compile model\n",
        "    Adam=keras.optimizers.Adam(lr=0.0001, beta_1=0.9, beta_2=0.999, epsilon=None, decay=1e-5, amsgrad=False)\n",
        "    model.compile(loss=\"binary_crossentropy\", optimizer='Adam', metrics=[['accuracy',tf.keras.metrics.MeanIoU(num_classes=2)]])\n",
        "    # checkpoint\n",
        "    filepath = '/content/drive/My Drive/great learning/capstone project/rsna-pneumonia-detection/UNet_Model_Weights/' + Backbone + \"/\"\n",
        "    checkpoint = ModelCheckpoint(filepath+\"model-{loss:.2f}.h5\", monitor=\"loss\", verbose=1, save_best_only=True, save_weights_only=True, mode=\"min\", period=1)\n",
        "    stop = EarlyStopping(monitor=\"loss\", patience=2, mode=\"min\")\n",
        "    history = model.fit(train_generator,\n",
        "                    epochs=1,\n",
        "                    use_multiprocessing = True, workers = 4,\n",
        "                    steps_per_epoch = 50,#21348//(batch_size**2),\n",
        "                    validation_data=validation_generator,\n",
        "                    validation_steps = 25,#5336//(batch_size**2),\n",
        "                    callbacks= [checkpoint, stop]).history\n",
        "    #--------------------- Plot Loss and Accuracy --------------\n",
        "    plot_history(history)\n",
        "    plt.show()\n",
        "    plot_history(history, path=filepath + \"standard.png\")\n",
        "    plt.close()\n",
        "  #---------------- DO NOT USE TEST AS OF NOW --------------------\n",
        "  if TestModel:\n",
        "    test_list = ['0a2c130c-c536-4651-836d-95d07e9a89cf.png','0a03fbf6-3c9a-4e2e-89ce-c7629ae43a27.png']\n",
        "    test_gen = DataGenerator(list_IDs=test_list , image_path = im_path, mask_path=mask_path,dim=(224,224),batch_size=8,resize=True, preprocessinput=PreprocessInput)\n",
        "    model.compile('Adam', loss=jaccard_distance_loss, metrics=['accuracy',iou_score])\n",
        "    n = 0\n",
        "    sample_image = test_gen[n][0][0]\n",
        "    sample_image_redim = np.expand_dims(sample_image, axis=0)\n",
        "    region = model.predict(sample_image_redim)\n",
        "    f, ((ax1, ax2, ax3)) = plt.subplots(1, 3, figsize = (15, 8))\n",
        "    ax1.imshow(sample_image[:,:,0], cmap = plt.cm.bone)\n",
        "    ax1.set_title('Input Image')\n",
        "    ax1.axis('off')\n",
        "    ax2.imshow(test_gen[n][1][0], cmap = plt.cm.bone)\n",
        "    ax2.set_title('Ground Truth Mask')\n",
        "    ax2.axis('off')\n",
        "    ax3.imshow(region[0], cmap = plt.cm.bone)\n",
        "    ax3.set_title('Predicted Mask (no threshold applied)')\n",
        "    ax3.axis('off')\n",
        "    plt.show()\n",
        "  print('----------------------- I AM DONE -----------------------')"
      ],
      "execution_count": 12,
      "outputs": []
    },
    {
      "cell_type": "code",
      "metadata": {
        "id": "o5TGaMOo0vHo",
        "colab_type": "code",
        "colab": {
          "base_uri": "https://localhost:8080/",
          "height": 272
        },
        "outputId": "8369e1a2-2311-49c2-82d5-a012d9446ace"
      },
      "source": [
        "print(tabulate([['UNet', 'VGG-16', 67, 23752273],\\\n",
        "                ['UNet', 'VGG-19', 70, 29061969],\\\n",
        "                ['UNet', 'ResNet-18', 128, 14340570],\\\n",
        "                ['UNet', 'ResNet-34', 200, 24456154],\\\n",
        "                ['UNet', 'ResNet-50', 232, 32561114],\\\n",
        "                ['UNet', 'ResNet-101', 419, 51605466],\\\n",
        "                ['UNet', 'ResNet-152', 606, 67295194],\\\n",
        "                ['UNet', 'DenseNet-121', 469, 12144977],\\\n",
        "                ['UNet', 'DenseNet-169', 637, 19519825],\\\n",
        "                ['UNet', 'DenseNet-201', 749, 26378577],\\\n",
        "                ['UNet', 'Inception-V3', 353, 29933105],\\\n",
        "                ['UNet', 'Inception-ResNet-V2', 822, 62061553],\\\n",
        "                ['UNet', 'MobileNet', 129, 8336337]],\n",
        "                headers=['Model', 'Backbone', 'Number of Layers', 'Total Parameters'], tablefmt='orgtbl',stralign=\"center\", numalign=\"center\"))"
      ],
      "execution_count": 11,
      "outputs": [
        {
          "output_type": "stream",
          "text": [
            "|  Model  |      Backbone       |  Number of Layers  |  Total Parameters  |\n",
            "|---------+---------------------+--------------------+--------------------|\n",
            "|  UNet   |       VGG-16        |         67         |      23752273      |\n",
            "|  UNet   |       VGG-19        |         70         |      29061969      |\n",
            "|  UNet   |      ResNet-18      |        128         |      14340570      |\n",
            "|  UNet   |      ResNet-34      |        200         |      24456154      |\n",
            "|  UNet   |      ResNet-50      |        232         |      32561114      |\n",
            "|  UNet   |     ResNet-101      |        419         |      51605466      |\n",
            "|  UNet   |     ResNet-152      |        606         |      67295194      |\n",
            "|  UNet   |    DenseNet-121     |        469         |      12144977      |\n",
            "|  UNet   |    DenseNet-169     |        637         |      19519825      |\n",
            "|  UNet   |    DenseNet-201     |        749         |      26378577      |\n",
            "|  UNet   |    Inception-V3     |        353         |      29933105      |\n",
            "|  UNet   | Inception-ResNet-V2 |        822         |      62061553      |\n",
            "|  UNet   |      MobileNet      |        129         |      8336337       |\n"
          ],
          "name": "stdout"
        }
      ]
    },
    {
      "cell_type": "code",
      "metadata": {
        "id": "QIbp_Q9kNoik",
        "colab_type": "code",
        "colab": {}
      },
      "source": [
        "#------------------------- Load necessary libraries -------------------------#\n",
        "from ipywidgets import widgets, Layout, Button, Box, Dropdown, Label,Output,interact, interactive_output\n",
        "from IPython.display import clear_output\n",
        "#------------------------- Load widgets -------------------------#\n",
        "BackBoneLabel = Label(value='Select Backbone')\n",
        "BackboneDrop = Dropdown(options=[('Select', \"\"),(\"VGG-16\", \"vgg16\"),(\"VGG-19\", \"vgg19\"),\n",
        "                           (\"ResNet-18\",\"resnet18\"),(\"ResNet-34\",\"resnet34\"),\n",
        "                           (\"ResNet-50\",\"resnet50\"),(\"ResNet-101\",\"resnet101\"),\n",
        "                           (\"ResNet-152\",\"resnet152\"),(\"DenseNet-121\",\"densenet121\"),\n",
        "                           (\"DenseNet-169\",\"densenet169\"),(\"DenseNet-201\",\"densenet201\"),\n",
        "                           (\"Inception V3\",\"inceptionv3\"),(\"Inception ResNet V2\",\"inceptionresnetv2\"),\n",
        "                           (\"MobileNet\",\"mobilenet\")],value='')\n",
        "PreTrainLabel = Label(value='Use PreTrained Weights')\n",
        "PreTrainedDrop = Dropdown(options=[('Yes', True),(\"No\", False)],value=True)\n",
        "SummeryLabel = Label(value='Show Model Summary')\n",
        "SummeryDrop = Dropdown(options=[('Yes', True),(\"No\", False)],value=False)\n",
        "TrainLabel = Label(value='Train Model')\n",
        "TrainModel = Dropdown(options=[('Yes', True),(\"No\", False)],value=False)\n",
        "TestLabel = Label(value='Test Model')\n",
        "TestModel = Dropdown(options=[('Yes', True),(\"No\", False)],value=False)\n",
        "GenerateModelButton = widgets.Button(description=\"Generate Model\",disabled=False,button_style='success',tooltip='Click to generate model')\n",
        "#------------------------- Function on Selection -------------------------#\n",
        "def OnSelection(BackBoneSelection,PreTrainSelection,SummerySelection,TrainSelection,TestSelection):\n",
        "  PreTrainStr = None\n",
        "  ShowSummaryStr = None\n",
        "  TrainModelStr = None\n",
        "  TestModelStr = None\n",
        "  print()\n",
        "  if BackBoneSelection == \"\":\n",
        "    print(\"Please select a Backbone of your choice\")\n",
        "  else:\n",
        "    PreTrainStr = \"Trained\" if PreTrainSelection else \"UnTrained\"\n",
        "    ShowSummaryStr = \"be\" if SummerySelection else \"not be\"\n",
        "    TrainModelStr = \"be\" if TrainSelection else \"not be\"\n",
        "    TestModelStr = \"be\" if TestSelection else \"not be\"\n",
        "    print(\"UNet Model with\",PreTrainStr,BackBoneSelection,\"backbone will be loaded, Model Summary will\",ShowSummaryStr,\"displayed, will\", TrainModelStr, \"trained and will\",TestModelStr, \"tested with new data.\")\n",
        "    print()\n",
        "    print(\"If OK with above configuration, Click Generate Model (OR) Choose required configuration from GUI\")\n",
        "    print()\n",
        "    display(GenerateModelButton)\n",
        "#------------------------- Function at Button click -------------------------#\n",
        "def on_button_clicked(b):\n",
        "  create_model(Backbone=BackboneDrop.value,pretrained=PreTrainedDrop.value,ShowSummery=SummeryDrop.value,TrainModel=TrainModel.value,TestModel=TestModel.value)\n",
        "GenerateModelButton.on_click(on_button_clicked)\n",
        "#------------------------- Make widget -------------------------#\n",
        "out = interactive_output(OnSelection, {\"BackBoneSelection\":BackboneDrop, \"PreTrainSelection\":PreTrainedDrop, \"SummerySelection\":SummeryDrop, \"TrainSelection\":TrainModel, \"TestSelection\":TestModel})\n",
        "form_item_layout = Layout(display='flex',flex_flow='row',justify_content='space-between')\n",
        "form_items = [\n",
        "    Box([BackBoneLabel,BackboneDrop], layout=form_item_layout),\n",
        "    Box([PreTrainLabel, PreTrainedDrop], layout=form_item_layout),\n",
        "    Box([SummeryLabel, SummeryDrop], layout=form_item_layout),\n",
        "    Box([TrainLabel, TrainModel], layout=form_item_layout),\n",
        "    Box([TestLabel, TestModel], layout=form_item_layout)]\n",
        "GUI = Box(form_items, layout=Layout(display='flex',flex_flow='column',border='solid 2px',align_items='stretch',width='27%'))"
      ],
      "execution_count": 12,
      "outputs": []
    },
    {
      "cell_type": "code",
      "metadata": {
        "id": "CCnOMoAp8UP8",
        "colab_type": "code",
        "colab": {
          "base_uri": "https://localhost:8080/",
          "height": 215,
          "referenced_widgets": [
            "cad0780bd4544fd5a83a80c5ab152b37",
            "fe1b8cf161a146bc8a4977f30d92378b",
            "b006b04ed23a41bd808e719a0c38c62d",
            "2cba2fb6f796494d91739958b73976ea",
            "ee8a045605cb489a9763c97b9736cb0e",
            "b8196346b5714f7f94b023f9f4489042",
            "905115f8f0504052b8f93c7c1ad70240",
            "3b076d5c741849a880de61aee68b0ff7",
            "90b27c7f0b884a2889637239797bed46",
            "ff3fc89586bd4a66a3ddddb5101109b2",
            "9131d0f43c304dffac448cfb633523c1",
            "91386e7f1c1e462eb5d26835235dcb20",
            "36f5201654334b29887548d7642c0919",
            "95d7656b6c4a4b17a109724f5e09b0c6",
            "88f9af03c72545669ebf053e1476830b",
            "6ce9045ef7da44528f81db54bc030f13",
            "94da8b035e324810bb17fe4489d22c13",
            "3f4e2e7bd94c41b7bbf4a119aa6b3f38",
            "debda3966a2a49aaa438b1b10d5bd8cc",
            "fa07cfb82f1d4a7e9dad4d1f6d0ebf1e",
            "6c9eb62d58b74029921bff99d70dfe7e",
            "9424e51b2a284fcf94f55d3316fe00c0",
            "3f70e63421024ca781df399728d78701",
            "fa66b6e2672a44d0af179cc3d582fa2f",
            "3fcd06c3ba20413fa6ef0f47827a3c03",
            "6f8b4f13257e4f0ca8aafe6b6ae7a5ee",
            "bfd3efe961204f9da815dae2df4f9f0c",
            "1fa8645bbc4d478dbcdf0f9f1bb80dd3",
            "2225c44dfde246b9893037e2ffabb76d",
            "b761012a1dfa476daca709f72fc09027",
            "ddb9816c6ba64179aeb4bad843bda64f",
            "15e59bf49dca417f80a0ac581313191b",
            "40619077b4ab42ca988b48de53176839",
            "2cb22c7449374bc9ad4eff4fe50dccc8",
            "75449691f7394338b07cbd982082ade1",
            "49b4033ea07943849b69f4841ba7c924",
            "e78058927ecc4f8db75d9bc5cc31a33c",
            "a7920926b9a3404b99bea5a86ebb9219",
            "dbe089c73c164efda31e5befd81c06db",
            "3ee6495454b74079b5feb03db71253eb"
          ]
        },
        "outputId": "3da61095-6097-42ad-ba27-d4ff2ae4a530"
      },
      "source": [
        "display(GUI, out)"
      ],
      "execution_count": 13,
      "outputs": [
        {
          "output_type": "display_data",
          "data": {
            "application/vnd.jupyter.widget-view+json": {
              "model_id": "cad0780bd4544fd5a83a80c5ab152b37",
              "version_minor": 0,
              "version_major": 2
            },
            "text/plain": [
              "Box(children=(Box(children=(Label(value='Select Backbone'), Dropdown(options=(('Select', ''), ('VGG-16', 'vgg1…"
            ]
          },
          "metadata": {
            "tags": []
          }
        },
        {
          "output_type": "display_data",
          "data": {
            "application/vnd.jupyter.widget-view+json": {
              "model_id": "dbe089c73c164efda31e5befd81c06db",
              "version_minor": 0,
              "version_major": 2
            },
            "text/plain": [
              "Output()"
            ]
          },
          "metadata": {
            "tags": []
          }
        }
      ]
    },
    {
      "cell_type": "code",
      "metadata": {
        "id": "zwVt9fDzWlgI",
        "colab_type": "code",
        "colab": {
          "base_uri": "https://localhost:8080/",
          "height": 737
        },
        "outputId": "8e3dd14f-227a-468b-b126-114be9e207b0"
      },
      "source": [
        "create_model(Backbone='mobilenet' ,pretrained=True,ShowSummery=False,TrainModel=True,TestModel=False)"
      ],
      "execution_count": 13,
      "outputs": [
        {
          "output_type": "stream",
          "text": [
            "Found 4810 images belonging to 2 classes.\n",
            "Found 4810 images belonging to 2 classes.\n",
            "Found 1202 images belonging to 2 classes.\n",
            "Found 1202 images belonging to 2 classes.\n",
            "-------------------Generating UNet Model----------------------\n",
            "Downloading data from https://github.com/fchollet/deep-learning-models/releases/download/v0.6/mobilenet_1_0_224_tf_no_top.h5\n",
            "17227776/17225924 [==============================] - 1s 0us/step\n",
            "\n",
            "| Header               | Value     |\n",
            "|----------------------+-----------|\n",
            "| Model                | UNet      |\n",
            "| BackBone             | mobilenet |\n",
            "| Number of Layers     | 128       |\n",
            "| Total params         | 8336337   |\n",
            "| Trainable params     | 8044369   |\n",
            "| Non-trainable params | 291968    |\n",
            "\n",
            "-------------------Training Model----------------------\n"
          ],
          "name": "stdout"
        },
        {
          "output_type": "stream",
          "text": [
            "/usr/local/lib/python3.6/dist-packages/keras/engine/training_generator.py:49: UserWarning: Using a generator with `use_multiprocessing=True` and multiple workers may duplicate your data. Please consider using the `keras.utils.Sequence class.\n",
            "  UserWarning('Using a generator with `use_multiprocessing=True`'\n"
          ],
          "name": "stderr"
        },
        {
          "output_type": "stream",
          "text": [
            "Epoch 1/1\n",
            "50/50 [==============================] - 771s 15s/step - loss: 0.2686 - accuracy: 0.9143 - mean_io_u: 0.4414 - val_loss: 0.5115 - val_accuracy: 0.9064 - val_mean_io_u: 0.4462\n",
            "\n",
            "Epoch 00001: loss improved from inf to 0.26864, saving model to /content/drive/My Drive/great learning/capstone project/rsna-pneumonia-detection/UNet_Model_Weights/mobilenet/model-0.27.h5\n"
          ],
          "name": "stdout"
        },
        {
          "output_type": "display_data",
          "data": {
            "image/png": "[encoded data removed]",
            "text/plain": [
              "<Figure size 1080x360 with 3 Axes>"
            ]
          },
          "metadata": {
            "tags": [],
            "needs_background": "light"
          }
        },
        {
          "output_type": "stream",
          "text": [
            "----------------------- I AM DONE -----------------------\n"
          ],
          "name": "stdout"
        }
      ]
    },
    {
      "cell_type": "code",
      "metadata": {
        "id": "g7ANl0IOQaYr",
        "colab_type": "code",
        "colab": {
          "base_uri": "https://localhost:8080/",
          "height": 180
        },
        "outputId": "d816eebf-7eda-40b1-90a6-453960b11756"
      },
      "source": [
        "history_dict = model.history.history\n",
        "print(history_dict.keys())"
      ],
      "execution_count": 186,
      "outputs": [
        {
          "output_type": "error",
          "ename": "AttributeError",
          "evalue": "ignored",
          "traceback": [
            "\u001b[0;31m---------------------------------------------------------------------------\u001b[0m",
            "\u001b[0;31mAttributeError\u001b[0m                            Traceback (most recent call last)",
            "\u001b[0;32m<ipython-input-186-53e930fd01fc>\u001b[0m in \u001b[0;36m<module>\u001b[0;34m()\u001b[0m\n\u001b[0;32m----> 1\u001b[0;31m \u001b[0mhistory_dict\u001b[0m \u001b[0;34m=\u001b[0m \u001b[0mmodel\u001b[0m\u001b[0;34m.\u001b[0m\u001b[0mhistory\u001b[0m\u001b[0;34m.\u001b[0m\u001b[0mhistory\u001b[0m\u001b[0;34m\u001b[0m\u001b[0;34m\u001b[0m\u001b[0m\n\u001b[0m\u001b[1;32m      2\u001b[0m \u001b[0mprint\u001b[0m\u001b[0;34m(\u001b[0m\u001b[0mhistory_dict\u001b[0m\u001b[0;34m.\u001b[0m\u001b[0mkeys\u001b[0m\u001b[0;34m(\u001b[0m\u001b[0;34m)\u001b[0m\u001b[0;34m)\u001b[0m\u001b[0;34m\u001b[0m\u001b[0;34m\u001b[0m\u001b[0m\n",
            "\u001b[0;31mAttributeError\u001b[0m: 'Model' object has no attribute 'history'"
          ]
        }
      ]
    },
    {
      "cell_type": "code",
      "metadata": {
        "id": "Q0wpsYFV_PPX",
        "colab_type": "code",
        "colab": {}
      },
      "source": [
        "create_model(Backbone='densenet121' ,pretrained=True,ShowSummery=False,TrainModel=True,TestModel=False)"
      ],
      "execution_count": null,
      "outputs": []
    },
    {
      "cell_type": "code",
      "metadata": {
        "id": "FKRBz0fYrpwb",
        "colab_type": "code",
        "colab": {}
      },
      "source": [
        "create_model(Backbone='resnet50' ,pretrained=True,ShowSummery=False,TrainModel=True,TestModel=False)"
      ],
      "execution_count": null,
      "outputs": []
    },
    {
      "cell_type": "code",
      "metadata": {
        "id": "PthIPmtSrsUq",
        "colab_type": "code",
        "colab": {}
      },
      "source": [
        "create_model(Backbone='inceptionv3' ,pretrained=True,ShowSummery=False,TrainModel=True,TestModel=False)"
      ],
      "execution_count": null,
      "outputs": []
    },
    {
      "cell_type": "code",
      "metadata": {
        "id": "WltBwWrqGrVG",
        "colab_type": "code",
        "colab": {}
      },
      "source": [
        "create_model(Backbone='vgg19' ,pretrained=True,ShowSummery=False,TrainModel=True,TestModel=False)"
      ],
      "execution_count": null,
      "outputs": []
    },
    {
      "cell_type": "code",
      "metadata": {
        "id": "B-mstuAEKTUa",
        "colab_type": "code",
        "colab": {
          "base_uri": "https://localhost:8080/",
          "height": 68
        },
        "outputId": "bf9e8c77-d316-493f-8379-d18801335704"
      },
      "source": [
        "One_Box  = '0100515c-5204-4f31-98e0-f35e4b00004a.png'\t# One Box\n",
        "Two_Box = '00436515-870c-4b36-a041-de91049b9ab4.png'\t# Two Box\n",
        "Three_Box = '03a9498c-549d-4e7d-800b-e74797f7f625.png'\t# Three Box\n",
        "Four_Box = '0d5bc737-03de-4bb8-98a1-45b7180c3e0f.png'\t# Four Box\n",
        "Not_Normal = '0004cfab-14fd-4e49-80ba-63a80b6bddd6.png'\t# No Lung Opacity/Not Normal\n",
        "Normal = '003d8fa0-6bf1-40ed-b54c-ac657f8495c5.png'\t# Normal\n",
        "\n",
        "test_patient_id = One_Box\n",
        "image = tf.keras.preprocessing.image.load_img(PneumoniaImg+'/'+test_patient_id, grayscale=False,color_mode=\"rgb\", target_size=(224,224))\n",
        "input_img = keras.preprocessing.image.img_to_array(image)\n",
        "input_img = np.array([input_img])  # Convert single image to a batch\n",
        "input_img = tf.keras.applications.mobilenet.preprocess_input(input_img)\n",
        "mask = tf.keras.preprocessing.image.load_img(PneumoniaMask+'/'+test_patient_id, color_mode=\"grayscale\", target_size=(224,224))\n",
        "input_img.shape\n",
        "\n",
        "Backbone = 'mobilenet'\n",
        "WEIGHTS_FILE = \"/content/drive/My Drive/great learning/capstone project/rsna-pneumonia-detection/UNet_Model_Weights/mobilenet/model-0.24.h5\"\n",
        "THRESHOLD = 0.8\n",
        "EPSILON = 0.02\n",
        "\n",
        "model = Unet(Backbone, input_shape=(224, 224, 3))\n",
        "model.load_weights(WEIGHTS_FILE)\n",
        "threshold = 0.0\n",
        "\n",
        "region = model.predict(input_img)\n",
        "# region = np.where(region<threshold,0,1)\n",
        "print(region.shape)\n",
        "print('Max pixal value :',np.amax(region),'\\nMin pixal Value :',np.amin(region))"
      ],
      "execution_count": 15,
      "outputs": [
        {
          "output_type": "stream",
          "text": [
            "(1, 224, 224, 1)\n",
            "Max pixal value : 0.99570465 \n",
            "Min pixal Value : 1.7399254e-12\n"
          ],
          "name": "stdout"
        }
      ]
    },
    {
      "cell_type": "code",
      "metadata": {
        "id": "xrm6N8ILoXzH",
        "colab_type": "code",
        "colab": {
          "base_uri": "https://localhost:8080/",
          "height": 288
        },
        "outputId": "f44142de-aca1-4798-e4b8-e0329b92fd2e"
      },
      "source": [
        "PredictMask = region[0][:,:,0]\n",
        "PredictMask = 1.0*(PredictMask>0.5)\n",
        "f, ((ax1, ax2, ax3)) = plt.subplots(1, 3, figsize = (15, 8))\n",
        "ax1.imshow(image, cmap = plt.cm.bone)\n",
        "ax1.set_title('Input Image')\n",
        "ax1.axis('off')\n",
        "ax2.imshow(mask, cmap = plt.cm.bone)\n",
        "ax2.set_title('Ground Truth Mask')\n",
        "ax2.axis('off')\n",
        "ax3.imshow(PredictMask, cmap = plt.cm.bone)\n",
        "ax3.set_title('Predicted Mask (no threshold applied)')\n",
        "ax3.axis('off')\n",
        "plt.show()"
      ],
      "execution_count": 16,
      "outputs": [
        {
          "output_type": "display_data",
          "data": {
            "image/png": "[encoded data removed]",
            "text/plain": [
              "<Figure size 1080x576 with 3 Axes>"
            ]
          },
          "metadata": {
            "tags": [],
            "needs_background": "light"
          }
        }
      ]
    },
    {
      "cell_type": "code",
      "metadata": {
        "id": "dWpHQyTDouXW",
        "colab_type": "code",
        "colab": {}
      },
      "source": [
        ""
      ],
      "execution_count": null,
      "outputs": []
    }
  ]
}