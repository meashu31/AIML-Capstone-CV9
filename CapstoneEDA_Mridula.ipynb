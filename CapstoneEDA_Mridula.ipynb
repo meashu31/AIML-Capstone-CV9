{
  "nbformat": 4,
  "nbformat_minor": 0,
  "metadata": {
    "colab": {
      "name": "CapstoneEDA.ipynb",
      "provenance": []
    },
    "kernelspec": {
      "name": "python3",
      "display_name": "Python 3"
    }
  },
  "cells": [
    {
      "cell_type": "markdown",
      "metadata": {
        "id": "UUpgeGmZLS42",
        "colab_type": "text"
      },
      "source": [
        "# Capstone Project : Pneumonia Detection from X-rays\n",
        "### Exploratory Data Analysis"
      ]
    },
    {
      "cell_type": "code",
      "metadata": {
        "id": "o_gKZP65UoJJ",
        "colab_type": "code",
        "outputId": "cea2f49d-a139-4e21-9454-fd8d7d0a602f",
        "colab": {
          "base_uri": "https://localhost:8080/",
          "height": 102
        }
      },
      "source": [
        "!pip install pydicom"
      ],
      "execution_count": 1,
      "outputs": [
        {
          "output_type": "stream",
          "text": [
            "Collecting pydicom\n",
            "\u001b[?25l  Downloading https://files.pythonhosted.org/packages/d3/56/342e1f8ce5afe63bf65c23d0b2c1cd5a05600caad1c211c39725d3a4cc56/pydicom-2.0.0-py3-none-any.whl (35.4MB)\n",
            "\u001b[K     |████████████████████████████████| 35.5MB 1.3MB/s \n",
            "\u001b[?25hInstalling collected packages: pydicom\n",
            "Successfully installed pydicom-2.0.0\n"
          ],
          "name": "stdout"
        }
      ]
    },
    {
      "cell_type": "code",
      "metadata": {
        "id": "OG7oWg1FOIrM",
        "colab_type": "code",
        "outputId": "eda8b158-4259-4495-8b14-ed28c7de09e5",
        "colab": {
          "base_uri": "https://localhost:8080/",
          "height": 122
        }
      },
      "source": [
        "# Load the data from Google drive\n",
        "from google.colab import drive\n",
        "drive.mount('/content/drive/')\n",
        "\n"
      ],
      "execution_count": 2,
      "outputs": [
        {
          "output_type": "stream",
          "text": [
            "Go to this URL in a browser: https://accounts.google.com/o/oauth2/auth?client_id=947318989803-6bn6qk8qdgf4n4g3pfee6491hc0brc4i.apps.googleusercontent.com&redirect_uri=urn%3aietf%3awg%3aoauth%3a2.0%3aoob&response_type=code&scope=email%20https%3a%2f%2fwww.googleapis.com%2fauth%2fdocs.test%20https%3a%2f%2fwww.googleapis.com%2fauth%2fdrive%20https%3a%2f%2fwww.googleapis.com%2fauth%2fdrive.photos.readonly%20https%3a%2f%2fwww.googleapis.com%2fauth%2fpeopleapi.readonly\n",
            "\n",
            "Enter your authorization code:\n",
            "··········\n",
            "Mounted at /content/drive/\n"
          ],
          "name": "stdout"
        }
      ]
    },
    {
      "cell_type": "code",
      "metadata": {
        "id": "fuaJTNv4V_Q8",
        "colab_type": "code",
        "colab": {}
      },
      "source": [
        "#Set the project path \n",
        "project_path =  '/content/drive/My Drive/AIML_Delete/Capstone/'"
      ],
      "execution_count": 0,
      "outputs": []
    },
    {
      "cell_type": "code",
      "metadata": {
        "id": "ndjVh6lNOEie",
        "colab_type": "code",
        "colab": {}
      },
      "source": [
        "import os\n",
        "os.chdir(project_path)\n",
        "path = '.'"
      ],
      "execution_count": 0,
      "outputs": []
    },
    {
      "cell_type": "code",
      "metadata": {
        "id": "o5OlbjpDYkxF",
        "colab_type": "code",
        "outputId": "a1cfc425-960a-44a8-c0fa-2a7269975a3e",
        "colab": {
          "base_uri": "https://localhost:8080/",
          "height": 119
        }
      },
      "source": [
        "ls"
      ],
      "execution_count": 5,
      "outputs": [
        {
          "output_type": "stream",
          "text": [
            " dicom_image_description.csv              stage_2_sample_submission.csv\n",
            "'GCP Credits Request Link - RSNA.txt'     \u001b[0m\u001b[01;34mstage_2_test_images\u001b[0m/\n",
            " Mridula_Notes.gdoc                       \u001b[01;34mstage_2_train_images\u001b[0m/\n",
            " Patient_Detail.csv                       stage_2_train_labels.csv\n",
            " rsna-pneumonia-detection-challenge.zip   Training_labels_merged.csv\n",
            " stage_2_detailed_class_info.csv\n"
          ],
          "name": "stdout"
        }
      ]
    },
    {
      "cell_type": "code",
      "metadata": {
        "id": "vuDkq1VXY4XZ",
        "colab_type": "code",
        "colab": {}
      },
      "source": [
        "#################DO NOT REEXECUTE ON SUBSEQUENT RUNS#########################\n",
        "# extract the files from zipped directory to drive\n",
        "from zipfile import ZipFile\n",
        "\n",
        "with ZipFile(project_path+'rsna-pneumonia-detection-challenge.zip', 'r') as z:\n",
        "  z.extractall()"
      ],
      "execution_count": 0,
      "outputs": []
    },
    {
      "cell_type": "code",
      "metadata": {
        "id": "AosifDRnfsqc",
        "colab_type": "code",
        "colab": {}
      },
      "source": [
        "import pydicom \n",
        "from pydicom.data import get_testdata_files\n",
        "import matplotlib.pyplot as plt"
      ],
      "execution_count": 0,
      "outputs": []
    },
    {
      "cell_type": "code",
      "metadata": {
        "id": "luOwLAfHjP-k",
        "colab_type": "code",
        "outputId": "e1ce0ad7-1865-42f8-89ee-9ed65a8cf33c",
        "colab": {
          "base_uri": "https://localhost:8080/",
          "height": 1000
        }
      },
      "source": [
        "#################DO NOT REEXECUTE ON SUBSEQUENT RUNS#########################\n",
        "#Load a sample image and print the metadata + the image\n",
        "temp_path='/content/drive/My Drive/AIML_Delete/Capstone/stage_2_train_images/0a46eca3-e577-4c7f-a782-9d54754bf096.dcm'\n",
        "filename = temp_path\n",
        "dataset = pydicom.dcmread(filename)\n",
        "\n",
        "# Normal mode:\n",
        "print()\n",
        "\n",
        "print(dataset)\n",
        "\n",
        "#Matplotlib plot of the image\n",
        "if 'PixelData' in dataset:\n",
        "    rows = int(dataset.Rows)\n",
        "    cols = int(dataset.Columns)\n",
        "    print(\"Image size.......: {rows:d} x {cols:d}, {size:d} bytes\".format(\n",
        "        rows=rows, cols=cols, size=len(dataset.PixelData)))\n",
        "    if 'PixelSpacing' in dataset:\n",
        "        print(\"Pixel spacing....:\", dataset.PixelSpacing)\n",
        "\n",
        "# use .get() if not sure the item exists, and want a default value if missing\n",
        "print(\"Slice location...:\", dataset.get('SliceLocation', \"(missing)\"))\n",
        "\n",
        "# plot the image using matplotlib\n",
        "plt.imshow(dataset.pixel_array, cmap=plt.cm.bone)\n",
        "plt.show()"
      ],
      "execution_count": 0,
      "outputs": [
        {
          "output_type": "stream",
          "text": [
            "\n",
            "Dataset.file_meta -------------------------------\n",
            "(0002, 0000) File Meta Information Group Length  UL: 200\n",
            "(0002, 0001) File Meta Information Version       OB: b'\\x00\\x01'\n",
            "(0002, 0002) Media Storage SOP Class UID         UI: Secondary Capture Image Storage\n",
            "(0002, 0003) Media Storage SOP Instance UID      UI: 1.2.276.0.7230010.3.1.4.8323329.2323.1517874295.912485\n",
            "(0002, 0010) Transfer Syntax UID                 UI: JPEG Baseline (Process 1)\n",
            "(0002, 0012) Implementation Class UID            UI: 1.2.276.0.7230010.3.0.3.6.0\n",
            "(0002, 0013) Implementation Version Name         SH: 'OFFIS_DCMTK_360'\n",
            "-------------------------------------------------\n",
            "(0008, 0005) Specific Character Set              CS: 'ISO_IR 100'\n",
            "(0008, 0016) SOP Class UID                       UI: Secondary Capture Image Storage\n",
            "(0008, 0018) SOP Instance UID                    UI: 1.2.276.0.7230010.3.1.4.8323329.2323.1517874295.912485\n",
            "(0008, 0020) Study Date                          DA: '19010101'\n",
            "(0008, 0030) Study Time                          TM: '000000.00'\n",
            "(0008, 0050) Accession Number                    SH: ''\n",
            "(0008, 0060) Modality                            CS: 'CR'\n",
            "(0008, 0064) Conversion Type                     CS: 'WSD'\n",
            "(0008, 0090) Referring Physician's Name          PN: ''\n",
            "(0008, 103e) Series Description                  LO: 'view: AP'\n",
            "(0010, 0010) Patient's Name                      PN: '0a46eca3-e577-4c7f-a782-9d54754bf096'\n",
            "(0010, 0020) Patient ID                          LO: '0a46eca3-e577-4c7f-a782-9d54754bf096'\n",
            "(0010, 0030) Patient's Birth Date                DA: ''\n",
            "(0010, 0040) Patient's Sex                       CS: 'M'\n",
            "(0010, 1010) Patient's Age                       AS: '59'\n",
            "(0018, 0015) Body Part Examined                  CS: 'CHEST'\n",
            "(0018, 5101) View Position                       CS: 'AP'\n",
            "(0020, 000d) Study Instance UID                  UI: 1.2.276.0.7230010.3.1.2.8323329.2323.1517874295.912484\n",
            "(0020, 000e) Series Instance UID                 UI: 1.2.276.0.7230010.3.1.3.8323329.2323.1517874295.912483\n",
            "(0020, 0010) Study ID                            SH: ''\n",
            "(0020, 0011) Series Number                       IS: \"1\"\n",
            "(0020, 0013) Instance Number                     IS: \"1\"\n",
            "(0020, 0020) Patient Orientation                 CS: ''\n",
            "(0028, 0002) Samples per Pixel                   US: 1\n",
            "(0028, 0004) Photometric Interpretation          CS: 'MONOCHROME2'\n",
            "(0028, 0010) Rows                                US: 1024\n",
            "(0028, 0011) Columns                             US: 1024\n",
            "(0028, 0030) Pixel Spacing                       DS: [0.168, 0.168]\n",
            "(0028, 0100) Bits Allocated                      US: 8\n",
            "(0028, 0101) Bits Stored                         US: 8\n",
            "(0028, 0102) High Bit                            US: 7\n",
            "(0028, 0103) Pixel Representation                US: 0\n",
            "(0028, 2110) Lossy Image Compression             CS: '01'\n",
            "(0028, 2114) Lossy Image Compression Method      CS: 'ISO_10918_1'\n",
            "(7fe0, 0010) Pixel Data                          OB: Array of 102376 elements\n",
            "Image size.......: 1024 x 1024, 102376 bytes\n",
            "Pixel spacing....: [0.168, 0.168]\n",
            "Slice location...: (missing)\n"
          ],
          "name": "stdout"
        },
        {
          "output_type": "display_data",
          "data": {
            "image/png": "[encoded data removed]",
            "text/plain": [
              "<Figure size 432x288 with 1 Axes>"
            ]
          },
          "metadata": {
            "tags": [],
            "needs_background": "light"
          }
        }
      ]
    },
    {
      "cell_type": "code",
      "metadata": {
        "id": "yZFiIR-iYq12",
        "colab_type": "code",
        "colab": {}
      },
      "source": [
        "# Code to extract the metadata from all the images and store to CSV\n",
        "import pandas as pd\n",
        "import csv\n",
        "import cv2\n",
        "folder_path=\"/content/drive/My Drive/AIML_Delete/Capstone/stage_2_train_images/\"\n",
        "images_path = os.listdir(folder_path)\n",
        "\n",
        "\n"
      ],
      "execution_count": 0,
      "outputs": []
    },
    {
      "cell_type": "code",
      "metadata": {
        "id": "GroK3XKfR6eY",
        "colab_type": "code",
        "colab": {}
      },
      "source": [
        "dicom_image_description = pd.read_csv(\"/content/drive/My Drive/AIML_Delete/Capstone/dicom_image_description.csv\")\n"
      ],
      "execution_count": 0,
      "outputs": []
    },
    {
      "cell_type": "code",
      "metadata": {
        "id": "fupkQAIliWYg",
        "colab_type": "code",
        "colab": {}
      },
      "source": [
        "#############DO NOT REEXECUTE ON SUBSEQUENT RUNS ########################################\n",
        "with open('Patient_Detail.csv', 'w', newline ='') as csvfile:\n",
        "    fieldnames = list(dicom_image_description[\"Description\"])\n",
        "    writer = csv.writer(csvfile, delimiter=',')\n",
        "    writer.writerow(fieldnames)\n",
        "    for n, image in enumerate(images_path):\n",
        "        ds = pydicom.dcmread(os.path.join(folder_path, image))\n",
        "        rows = []\n",
        "        for field in fieldnames:\n",
        "            if ds.data_element(field) is None:\n",
        "                rows.append('')\n",
        "            else:\n",
        "                x = str(ds.data_element(field)).replace(\"'\", \"\")\n",
        "                y = x.find(\":\")\n",
        "                x = x[y+2:]\n",
        "                rows.append(x)\n",
        "        writer.writerow(rows)"
      ],
      "execution_count": 0,
      "outputs": []
    },
    {
      "cell_type": "markdown",
      "metadata": {
        "id": "89j3B-Kq4XPp",
        "colab_type": "text"
      },
      "source": [
        "Combine the CSVs for Patient Details with Train label csv with patientID column\n"
      ]
    },
    {
      "cell_type": "code",
      "metadata": {
        "id": "Cr8O6aOL6GWC",
        "colab_type": "code",
        "colab": {
          "base_uri": "https://localhost:8080/",
          "height": 34
        },
        "outputId": "2f20e741-ab58-4064-eaf2-053d312c9f95"
      },
      "source": [
        "#############DO NOT REEXECUTE ON SUBSEQUENT RUNS ########################################\n",
        "a = pd.read_csv(\"stage_2_detailed_class_info.csv\")\n",
        "b = pd.read_csv(\"stage_2_train_labels.csv\")\n",
        "a = a.dropna(axis=1)\n",
        "merged = a.merge(b, on='PatientID')\n",
        "m1=merged.drop_duplicates()\n",
        "m1.shape\n"
      ],
      "execution_count": 10,
      "outputs": [
        {
          "output_type": "execute_result",
          "data": {
            "text/plain": [
              "(30227, 7)"
            ]
          },
          "metadata": {
            "tags": []
          },
          "execution_count": 10
        }
      ]
    },
    {
      "cell_type": "code",
      "metadata": {
        "id": "70ajVFKDhdif",
        "colab_type": "code",
        "colab": {}
      },
      "source": [
        "#############DO NOT REEXECUTE ON SUBSEQUENT RUNS ########################################\n",
        "\n",
        "c = pd.read_csv(\"Patient_Detail.csv\")\n",
        "merged = c.merge(m1, on='PatientID')\n",
        "merged.to_csv(\"Training_labels_merged.csv\", index=False)"
      ],
      "execution_count": 0,
      "outputs": []
    },
    {
      "cell_type": "code",
      "metadata": {
        "id": "L74UnzCKhrn0",
        "colab_type": "code",
        "colab": {
          "base_uri": "https://localhost:8080/",
          "height": 34
        },
        "outputId": "21f9c534-87df-4580-a709-e536ecf95990"
      },
      "source": [
        "merged.shape"
      ],
      "execution_count": 12,
      "outputs": [
        {
          "output_type": "execute_result",
          "data": {
            "text/plain": [
              "(30227, 41)"
            ]
          },
          "metadata": {
            "tags": []
          },
          "execution_count": 12
        }
      ]
    },
    {
      "cell_type": "markdown",
      "metadata": {
        "id": "8L1QImCc8xVf",
        "colab_type": "text"
      },
      "source": [
        "## Perform Exploratory Data Analysis on the merged training csv\n"
      ]
    },
    {
      "cell_type": "code",
      "metadata": {
        "id": "s1iIco9087jx",
        "colab_type": "code",
        "outputId": "71fd5e51-bfd3-4c3c-aaa5-a6965f06836b",
        "colab": {
          "base_uri": "https://localhost:8080/",
          "height": 479
        }
      },
      "source": [
        "# Read data as dataframe\n",
        "medData = pd.read_csv('Training_labels_merged.csv')\n",
        "medData.head()"
      ],
      "execution_count": 13,
      "outputs": [
        {
          "output_type": "execute_result",
          "data": {
            "text/html": [
              "<div>\n",
              "<style scoped>\n",
              "    .dataframe tbody tr th:only-of-type {\n",
              "        vertical-align: middle;\n",
              "    }\n",
              "\n",
              "    .dataframe tbody tr th {\n",
              "        vertical-align: top;\n",
              "    }\n",
              "\n",
              "    .dataframe thead th {\n",
              "        text-align: right;\n",
              "    }\n",
              "</style>\n",
              "<table border=\"1\" class=\"dataframe\">\n",
              "  <thead>\n",
              "    <tr style=\"text-align: right;\">\n",
              "      <th></th>\n",
              "      <th>SpecificCharacterSet</th>\n",
              "      <th>SOPClassUID</th>\n",
              "      <th>SOPInstanceUID</th>\n",
              "      <th>StudyDate</th>\n",
              "      <th>StudyTime</th>\n",
              "      <th>AccessionNumber</th>\n",
              "      <th>Modality</th>\n",
              "      <th>ConversionType</th>\n",
              "      <th>ReferringPhysicianName</th>\n",
              "      <th>SeriesDescription</th>\n",
              "      <th>PatientName</th>\n",
              "      <th>PatientID</th>\n",
              "      <th>PatientBirthDate</th>\n",
              "      <th>PatientSex</th>\n",
              "      <th>PatientAge</th>\n",
              "      <th>BodyPartExamined</th>\n",
              "      <th>ViewPosition</th>\n",
              "      <th>StudyInstanceUID</th>\n",
              "      <th>SeriesInstanceUID</th>\n",
              "      <th>StudyID</th>\n",
              "      <th>SeriesNumber</th>\n",
              "      <th>InstanceNumber</th>\n",
              "      <th>PatientOrientation</th>\n",
              "      <th>SamplesperPixel</th>\n",
              "      <th>PhotometricInterpretation</th>\n",
              "      <th>Rows</th>\n",
              "      <th>Columns</th>\n",
              "      <th>PixelSpacing</th>\n",
              "      <th>BitsAllocated</th>\n",
              "      <th>BitsStored</th>\n",
              "      <th>HighBit</th>\n",
              "      <th>PixelRepresentation</th>\n",
              "      <th>LossyImageCompression</th>\n",
              "      <th>LossyImageCompressionMethod</th>\n",
              "      <th>PixelData</th>\n",
              "      <th>class</th>\n",
              "      <th>x</th>\n",
              "      <th>y</th>\n",
              "      <th>width</th>\n",
              "      <th>height</th>\n",
              "      <th>Target</th>\n",
              "    </tr>\n",
              "  </thead>\n",
              "  <tbody>\n",
              "    <tr>\n",
              "      <th>0</th>\n",
              "      <td>ISO_IR 100</td>\n",
              "      <td>Secondary Capture Image Storage</td>\n",
              "      <td>1.2.276.0.7230010.3.1.4.8323329.3171.151787430...</td>\n",
              "      <td>19010101</td>\n",
              "      <td>0.0</td>\n",
              "      <td>NaN</td>\n",
              "      <td>CR</td>\n",
              "      <td>WSD</td>\n",
              "      <td>NaN</td>\n",
              "      <td>view: PA</td>\n",
              "      <td>f79e5a75-5e15-431a-9ba3-de64c1724b65</td>\n",
              "      <td>f79e5a75-5e15-431a-9ba3-de64c1724b65</td>\n",
              "      <td>NaN</td>\n",
              "      <td>M</td>\n",
              "      <td>59</td>\n",
              "      <td>CHEST</td>\n",
              "      <td>PA</td>\n",
              "      <td>1.2.276.0.7230010.3.1.2.8323329.3171.151787430...</td>\n",
              "      <td>1.2.276.0.7230010.3.1.3.8323329.3171.151787430...</td>\n",
              "      <td>NaN</td>\n",
              "      <td>\"1\"</td>\n",
              "      <td>\"1\"</td>\n",
              "      <td>NaN</td>\n",
              "      <td>NaN</td>\n",
              "      <td>MONOCHROME2</td>\n",
              "      <td>1024</td>\n",
              "      <td>1024</td>\n",
              "      <td>[0.14300000000000002, 0.14300000000000002]</td>\n",
              "      <td>8</td>\n",
              "      <td>8</td>\n",
              "      <td>7</td>\n",
              "      <td>0</td>\n",
              "      <td>1</td>\n",
              "      <td>ISO_10918_1</td>\n",
              "      <td>Array of 159576 elements</td>\n",
              "      <td>Normal</td>\n",
              "      <td>NaN</td>\n",
              "      <td>NaN</td>\n",
              "      <td>NaN</td>\n",
              "      <td>NaN</td>\n",
              "      <td>0</td>\n",
              "    </tr>\n",
              "    <tr>\n",
              "      <th>1</th>\n",
              "      <td>ISO_IR 100</td>\n",
              "      <td>Secondary Capture Image Storage</td>\n",
              "      <td>1.2.276.0.7230010.3.1.4.8323329.26568.15178744...</td>\n",
              "      <td>19010101</td>\n",
              "      <td>0.0</td>\n",
              "      <td>NaN</td>\n",
              "      <td>CR</td>\n",
              "      <td>WSD</td>\n",
              "      <td>NaN</td>\n",
              "      <td>view: PA</td>\n",
              "      <td>f79fa94e-8886-425c-95d4-81abfea92aee</td>\n",
              "      <td>f79fa94e-8886-425c-95d4-81abfea92aee</td>\n",
              "      <td>NaN</td>\n",
              "      <td>F</td>\n",
              "      <td>43</td>\n",
              "      <td>CHEST</td>\n",
              "      <td>PA</td>\n",
              "      <td>1.2.276.0.7230010.3.1.2.8323329.26568.15178744...</td>\n",
              "      <td>1.2.276.0.7230010.3.1.3.8323329.26568.15178744...</td>\n",
              "      <td>NaN</td>\n",
              "      <td>\"1\"</td>\n",
              "      <td>\"1\"</td>\n",
              "      <td>NaN</td>\n",
              "      <td>NaN</td>\n",
              "      <td>MONOCHROME2</td>\n",
              "      <td>1024</td>\n",
              "      <td>1024</td>\n",
              "      <td>[0.168, 0.168]</td>\n",
              "      <td>8</td>\n",
              "      <td>8</td>\n",
              "      <td>7</td>\n",
              "      <td>0</td>\n",
              "      <td>1</td>\n",
              "      <td>ISO_10918_1</td>\n",
              "      <td>Array of 109446 elements</td>\n",
              "      <td>Normal</td>\n",
              "      <td>NaN</td>\n",
              "      <td>NaN</td>\n",
              "      <td>NaN</td>\n",
              "      <td>NaN</td>\n",
              "      <td>0</td>\n",
              "    </tr>\n",
              "    <tr>\n",
              "      <th>2</th>\n",
              "      <td>ISO_IR 100</td>\n",
              "      <td>Secondary Capture Image Storage</td>\n",
              "      <td>1.2.276.0.7230010.3.1.4.8323329.22227.15178744...</td>\n",
              "      <td>19010101</td>\n",
              "      <td>0.0</td>\n",
              "      <td>NaN</td>\n",
              "      <td>CR</td>\n",
              "      <td>WSD</td>\n",
              "      <td>NaN</td>\n",
              "      <td>view: AP</td>\n",
              "      <td>f79fc759-fde0-4e2e-8951-26ac8af5ef89</td>\n",
              "      <td>f79fc759-fde0-4e2e-8951-26ac8af5ef89</td>\n",
              "      <td>NaN</td>\n",
              "      <td>F</td>\n",
              "      <td>45</td>\n",
              "      <td>CHEST</td>\n",
              "      <td>AP</td>\n",
              "      <td>1.2.276.0.7230010.3.1.2.8323329.22227.15178744...</td>\n",
              "      <td>1.2.276.0.7230010.3.1.3.8323329.22227.15178744...</td>\n",
              "      <td>NaN</td>\n",
              "      <td>\"1\"</td>\n",
              "      <td>\"1\"</td>\n",
              "      <td>NaN</td>\n",
              "      <td>NaN</td>\n",
              "      <td>MONOCHROME2</td>\n",
              "      <td>1024</td>\n",
              "      <td>1024</td>\n",
              "      <td>[0.168, 0.168]</td>\n",
              "      <td>8</td>\n",
              "      <td>8</td>\n",
              "      <td>7</td>\n",
              "      <td>0</td>\n",
              "      <td>1</td>\n",
              "      <td>ISO_10918_1</td>\n",
              "      <td>Array of 107838 elements</td>\n",
              "      <td>Lung Opacity</td>\n",
              "      <td>613.0</td>\n",
              "      <td>241.0</td>\n",
              "      <td>169.0</td>\n",
              "      <td>479.0</td>\n",
              "      <td>1</td>\n",
              "    </tr>\n",
              "    <tr>\n",
              "      <th>3</th>\n",
              "      <td>ISO_IR 100</td>\n",
              "      <td>Secondary Capture Image Storage</td>\n",
              "      <td>1.2.276.0.7230010.3.1.4.8323329.22227.15178744...</td>\n",
              "      <td>19010101</td>\n",
              "      <td>0.0</td>\n",
              "      <td>NaN</td>\n",
              "      <td>CR</td>\n",
              "      <td>WSD</td>\n",
              "      <td>NaN</td>\n",
              "      <td>view: AP</td>\n",
              "      <td>f79fc759-fde0-4e2e-8951-26ac8af5ef89</td>\n",
              "      <td>f79fc759-fde0-4e2e-8951-26ac8af5ef89</td>\n",
              "      <td>NaN</td>\n",
              "      <td>F</td>\n",
              "      <td>45</td>\n",
              "      <td>CHEST</td>\n",
              "      <td>AP</td>\n",
              "      <td>1.2.276.0.7230010.3.1.2.8323329.22227.15178744...</td>\n",
              "      <td>1.2.276.0.7230010.3.1.3.8323329.22227.15178744...</td>\n",
              "      <td>NaN</td>\n",
              "      <td>\"1\"</td>\n",
              "      <td>\"1\"</td>\n",
              "      <td>NaN</td>\n",
              "      <td>NaN</td>\n",
              "      <td>MONOCHROME2</td>\n",
              "      <td>1024</td>\n",
              "      <td>1024</td>\n",
              "      <td>[0.168, 0.168]</td>\n",
              "      <td>8</td>\n",
              "      <td>8</td>\n",
              "      <td>7</td>\n",
              "      <td>0</td>\n",
              "      <td>1</td>\n",
              "      <td>ISO_10918_1</td>\n",
              "      <td>Array of 107838 elements</td>\n",
              "      <td>Lung Opacity</td>\n",
              "      <td>276.0</td>\n",
              "      <td>248.0</td>\n",
              "      <td>168.0</td>\n",
              "      <td>477.0</td>\n",
              "      <td>1</td>\n",
              "    </tr>\n",
              "    <tr>\n",
              "      <th>4</th>\n",
              "      <td>ISO_IR 100</td>\n",
              "      <td>Secondary Capture Image Storage</td>\n",
              "      <td>1.2.276.0.7230010.3.1.4.8323329.7714.151787433...</td>\n",
              "      <td>19010101</td>\n",
              "      <td>0.0</td>\n",
              "      <td>NaN</td>\n",
              "      <td>CR</td>\n",
              "      <td>WSD</td>\n",
              "      <td>NaN</td>\n",
              "      <td>view: PA</td>\n",
              "      <td>f7a169e2-a1a7-439a-ab83-0d34cf5ae4b9</td>\n",
              "      <td>f7a169e2-a1a7-439a-ab83-0d34cf5ae4b9</td>\n",
              "      <td>NaN</td>\n",
              "      <td>M</td>\n",
              "      <td>52</td>\n",
              "      <td>CHEST</td>\n",
              "      <td>PA</td>\n",
              "      <td>1.2.276.0.7230010.3.1.2.8323329.7714.151787433...</td>\n",
              "      <td>1.2.276.0.7230010.3.1.3.8323329.7714.151787433...</td>\n",
              "      <td>NaN</td>\n",
              "      <td>\"1\"</td>\n",
              "      <td>\"1\"</td>\n",
              "      <td>NaN</td>\n",
              "      <td>NaN</td>\n",
              "      <td>MONOCHROME2</td>\n",
              "      <td>1024</td>\n",
              "      <td>1024</td>\n",
              "      <td>[0.14300000000000002, 0.14300000000000002]</td>\n",
              "      <td>8</td>\n",
              "      <td>8</td>\n",
              "      <td>7</td>\n",
              "      <td>0</td>\n",
              "      <td>1</td>\n",
              "      <td>ISO_10918_1</td>\n",
              "      <td>Array of 156654 elements</td>\n",
              "      <td>Normal</td>\n",
              "      <td>NaN</td>\n",
              "      <td>NaN</td>\n",
              "      <td>NaN</td>\n",
              "      <td>NaN</td>\n",
              "      <td>0</td>\n",
              "    </tr>\n",
              "  </tbody>\n",
              "</table>\n",
              "</div>"
            ],
            "text/plain": [
              "  SpecificCharacterSet                      SOPClassUID  ... height  Target\n",
              "0           ISO_IR 100  Secondary Capture Image Storage  ...    NaN       0\n",
              "1           ISO_IR 100  Secondary Capture Image Storage  ...    NaN       0\n",
              "2           ISO_IR 100  Secondary Capture Image Storage  ...  479.0       1\n",
              "3           ISO_IR 100  Secondary Capture Image Storage  ...  477.0       1\n",
              "4           ISO_IR 100  Secondary Capture Image Storage  ...    NaN       0\n",
              "\n",
              "[5 rows x 41 columns]"
            ]
          },
          "metadata": {
            "tags": []
          },
          "execution_count": 13
        }
      ]
    },
    {
      "cell_type": "code",
      "metadata": {
        "id": "WjM5yO1z_eDM",
        "colab_type": "code",
        "outputId": "910049cc-1b35-44be-e508-558b0177019b",
        "colab": {
          "base_uri": "https://localhost:8080/",
          "height": 1000
        }
      },
      "source": [
        "medData.describe(include=\"all\").transpose()"
      ],
      "execution_count": 14,
      "outputs": [
        {
          "output_type": "execute_result",
          "data": {
            "text/html": [
              "<div>\n",
              "<style scoped>\n",
              "    .dataframe tbody tr th:only-of-type {\n",
              "        vertical-align: middle;\n",
              "    }\n",
              "\n",
              "    .dataframe tbody tr th {\n",
              "        vertical-align: top;\n",
              "    }\n",
              "\n",
              "    .dataframe thead th {\n",
              "        text-align: right;\n",
              "    }\n",
              "</style>\n",
              "<table border=\"1\" class=\"dataframe\">\n",
              "  <thead>\n",
              "    <tr style=\"text-align: right;\">\n",
              "      <th></th>\n",
              "      <th>count</th>\n",
              "      <th>unique</th>\n",
              "      <th>top</th>\n",
              "      <th>freq</th>\n",
              "      <th>mean</th>\n",
              "      <th>std</th>\n",
              "      <th>min</th>\n",
              "      <th>25%</th>\n",
              "      <th>50%</th>\n",
              "      <th>75%</th>\n",
              "      <th>max</th>\n",
              "    </tr>\n",
              "  </thead>\n",
              "  <tbody>\n",
              "    <tr>\n",
              "      <th>SpecificCharacterSet</th>\n",
              "      <td>30227</td>\n",
              "      <td>1</td>\n",
              "      <td>ISO_IR 100</td>\n",
              "      <td>30227</td>\n",
              "      <td>NaN</td>\n",
              "      <td>NaN</td>\n",
              "      <td>NaN</td>\n",
              "      <td>NaN</td>\n",
              "      <td>NaN</td>\n",
              "      <td>NaN</td>\n",
              "      <td>NaN</td>\n",
              "    </tr>\n",
              "    <tr>\n",
              "      <th>SOPClassUID</th>\n",
              "      <td>30227</td>\n",
              "      <td>1</td>\n",
              "      <td>Secondary Capture Image Storage</td>\n",
              "      <td>30227</td>\n",
              "      <td>NaN</td>\n",
              "      <td>NaN</td>\n",
              "      <td>NaN</td>\n",
              "      <td>NaN</td>\n",
              "      <td>NaN</td>\n",
              "      <td>NaN</td>\n",
              "      <td>NaN</td>\n",
              "    </tr>\n",
              "    <tr>\n",
              "      <th>SOPInstanceUID</th>\n",
              "      <td>30227</td>\n",
              "      <td>26684</td>\n",
              "      <td>1.2.276.0.7230010.3.1.4.8323329.25927.15178744...</td>\n",
              "      <td>4</td>\n",
              "      <td>NaN</td>\n",
              "      <td>NaN</td>\n",
              "      <td>NaN</td>\n",
              "      <td>NaN</td>\n",
              "      <td>NaN</td>\n",
              "      <td>NaN</td>\n",
              "      <td>NaN</td>\n",
              "    </tr>\n",
              "    <tr>\n",
              "      <th>StudyDate</th>\n",
              "      <td>30227</td>\n",
              "      <td>NaN</td>\n",
              "      <td>NaN</td>\n",
              "      <td>NaN</td>\n",
              "      <td>1.90101e+07</td>\n",
              "      <td>0</td>\n",
              "      <td>1.90101e+07</td>\n",
              "      <td>1.90101e+07</td>\n",
              "      <td>1.90101e+07</td>\n",
              "      <td>1.90101e+07</td>\n",
              "      <td>1.90101e+07</td>\n",
              "    </tr>\n",
              "    <tr>\n",
              "      <th>StudyTime</th>\n",
              "      <td>30227</td>\n",
              "      <td>NaN</td>\n",
              "      <td>NaN</td>\n",
              "      <td>NaN</td>\n",
              "      <td>0</td>\n",
              "      <td>0</td>\n",
              "      <td>0</td>\n",
              "      <td>0</td>\n",
              "      <td>0</td>\n",
              "      <td>0</td>\n",
              "      <td>0</td>\n",
              "    </tr>\n",
              "    <tr>\n",
              "      <th>AccessionNumber</th>\n",
              "      <td>0</td>\n",
              "      <td>NaN</td>\n",
              "      <td>NaN</td>\n",
              "      <td>NaN</td>\n",
              "      <td>NaN</td>\n",
              "      <td>NaN</td>\n",
              "      <td>NaN</td>\n",
              "      <td>NaN</td>\n",
              "      <td>NaN</td>\n",
              "      <td>NaN</td>\n",
              "      <td>NaN</td>\n",
              "    </tr>\n",
              "    <tr>\n",
              "      <th>Modality</th>\n",
              "      <td>30227</td>\n",
              "      <td>1</td>\n",
              "      <td>CR</td>\n",
              "      <td>30227</td>\n",
              "      <td>NaN</td>\n",
              "      <td>NaN</td>\n",
              "      <td>NaN</td>\n",
              "      <td>NaN</td>\n",
              "      <td>NaN</td>\n",
              "      <td>NaN</td>\n",
              "      <td>NaN</td>\n",
              "    </tr>\n",
              "    <tr>\n",
              "      <th>ConversionType</th>\n",
              "      <td>30227</td>\n",
              "      <td>1</td>\n",
              "      <td>WSD</td>\n",
              "      <td>30227</td>\n",
              "      <td>NaN</td>\n",
              "      <td>NaN</td>\n",
              "      <td>NaN</td>\n",
              "      <td>NaN</td>\n",
              "      <td>NaN</td>\n",
              "      <td>NaN</td>\n",
              "      <td>NaN</td>\n",
              "    </tr>\n",
              "    <tr>\n",
              "      <th>ReferringPhysicianName</th>\n",
              "      <td>0</td>\n",
              "      <td>NaN</td>\n",
              "      <td>NaN</td>\n",
              "      <td>NaN</td>\n",
              "      <td>NaN</td>\n",
              "      <td>NaN</td>\n",
              "      <td>NaN</td>\n",
              "      <td>NaN</td>\n",
              "      <td>NaN</td>\n",
              "      <td>NaN</td>\n",
              "      <td>NaN</td>\n",
              "    </tr>\n",
              "    <tr>\n",
              "      <th>SeriesDescription</th>\n",
              "      <td>30227</td>\n",
              "      <td>2</td>\n",
              "      <td>view: AP</td>\n",
              "      <td>15297</td>\n",
              "      <td>NaN</td>\n",
              "      <td>NaN</td>\n",
              "      <td>NaN</td>\n",
              "      <td>NaN</td>\n",
              "      <td>NaN</td>\n",
              "      <td>NaN</td>\n",
              "      <td>NaN</td>\n",
              "    </tr>\n",
              "    <tr>\n",
              "      <th>PatientName</th>\n",
              "      <td>30227</td>\n",
              "      <td>26684</td>\n",
              "      <td>7d674c82-5501-4730-92c5-d241fd6911e7</td>\n",
              "      <td>4</td>\n",
              "      <td>NaN</td>\n",
              "      <td>NaN</td>\n",
              "      <td>NaN</td>\n",
              "      <td>NaN</td>\n",
              "      <td>NaN</td>\n",
              "      <td>NaN</td>\n",
              "      <td>NaN</td>\n",
              "    </tr>\n",
              "    <tr>\n",
              "      <th>PatientID</th>\n",
              "      <td>30227</td>\n",
              "      <td>26684</td>\n",
              "      <td>7d674c82-5501-4730-92c5-d241fd6911e7</td>\n",
              "      <td>4</td>\n",
              "      <td>NaN</td>\n",
              "      <td>NaN</td>\n",
              "      <td>NaN</td>\n",
              "      <td>NaN</td>\n",
              "      <td>NaN</td>\n",
              "      <td>NaN</td>\n",
              "      <td>NaN</td>\n",
              "    </tr>\n",
              "    <tr>\n",
              "      <th>PatientBirthDate</th>\n",
              "      <td>0</td>\n",
              "      <td>NaN</td>\n",
              "      <td>NaN</td>\n",
              "      <td>NaN</td>\n",
              "      <td>NaN</td>\n",
              "      <td>NaN</td>\n",
              "      <td>NaN</td>\n",
              "      <td>NaN</td>\n",
              "      <td>NaN</td>\n",
              "      <td>NaN</td>\n",
              "      <td>NaN</td>\n",
              "    </tr>\n",
              "    <tr>\n",
              "      <th>PatientSex</th>\n",
              "      <td>30227</td>\n",
              "      <td>2</td>\n",
              "      <td>M</td>\n",
              "      <td>17216</td>\n",
              "      <td>NaN</td>\n",
              "      <td>NaN</td>\n",
              "      <td>NaN</td>\n",
              "      <td>NaN</td>\n",
              "      <td>NaN</td>\n",
              "      <td>NaN</td>\n",
              "      <td>NaN</td>\n",
              "    </tr>\n",
              "    <tr>\n",
              "      <th>PatientAge</th>\n",
              "      <td>30227</td>\n",
              "      <td>NaN</td>\n",
              "      <td>NaN</td>\n",
              "      <td>NaN</td>\n",
              "      <td>46.7978</td>\n",
              "      <td>16.8929</td>\n",
              "      <td>1</td>\n",
              "      <td>34</td>\n",
              "      <td>49</td>\n",
              "      <td>59</td>\n",
              "      <td>155</td>\n",
              "    </tr>\n",
              "    <tr>\n",
              "      <th>BodyPartExamined</th>\n",
              "      <td>30227</td>\n",
              "      <td>1</td>\n",
              "      <td>CHEST</td>\n",
              "      <td>30227</td>\n",
              "      <td>NaN</td>\n",
              "      <td>NaN</td>\n",
              "      <td>NaN</td>\n",
              "      <td>NaN</td>\n",
              "      <td>NaN</td>\n",
              "      <td>NaN</td>\n",
              "      <td>NaN</td>\n",
              "    </tr>\n",
              "    <tr>\n",
              "      <th>ViewPosition</th>\n",
              "      <td>30227</td>\n",
              "      <td>2</td>\n",
              "      <td>AP</td>\n",
              "      <td>15297</td>\n",
              "      <td>NaN</td>\n",
              "      <td>NaN</td>\n",
              "      <td>NaN</td>\n",
              "      <td>NaN</td>\n",
              "      <td>NaN</td>\n",
              "      <td>NaN</td>\n",
              "      <td>NaN</td>\n",
              "    </tr>\n",
              "    <tr>\n",
              "      <th>StudyInstanceUID</th>\n",
              "      <td>30227</td>\n",
              "      <td>26684</td>\n",
              "      <td>1.2.276.0.7230010.3.1.2.8323329.6564.151787432...</td>\n",
              "      <td>4</td>\n",
              "      <td>NaN</td>\n",
              "      <td>NaN</td>\n",
              "      <td>NaN</td>\n",
              "      <td>NaN</td>\n",
              "      <td>NaN</td>\n",
              "      <td>NaN</td>\n",
              "      <td>NaN</td>\n",
              "    </tr>\n",
              "    <tr>\n",
              "      <th>SeriesInstanceUID</th>\n",
              "      <td>30227</td>\n",
              "      <td>26684</td>\n",
              "      <td>1.2.276.0.7230010.3.1.3.8323329.25927.15178744...</td>\n",
              "      <td>4</td>\n",
              "      <td>NaN</td>\n",
              "      <td>NaN</td>\n",
              "      <td>NaN</td>\n",
              "      <td>NaN</td>\n",
              "      <td>NaN</td>\n",
              "      <td>NaN</td>\n",
              "      <td>NaN</td>\n",
              "    </tr>\n",
              "    <tr>\n",
              "      <th>StudyID</th>\n",
              "      <td>0</td>\n",
              "      <td>NaN</td>\n",
              "      <td>NaN</td>\n",
              "      <td>NaN</td>\n",
              "      <td>NaN</td>\n",
              "      <td>NaN</td>\n",
              "      <td>NaN</td>\n",
              "      <td>NaN</td>\n",
              "      <td>NaN</td>\n",
              "      <td>NaN</td>\n",
              "      <td>NaN</td>\n",
              "    </tr>\n",
              "    <tr>\n",
              "      <th>SeriesNumber</th>\n",
              "      <td>30227</td>\n",
              "      <td>1</td>\n",
              "      <td>\"1\"</td>\n",
              "      <td>30227</td>\n",
              "      <td>NaN</td>\n",
              "      <td>NaN</td>\n",
              "      <td>NaN</td>\n",
              "      <td>NaN</td>\n",
              "      <td>NaN</td>\n",
              "      <td>NaN</td>\n",
              "      <td>NaN</td>\n",
              "    </tr>\n",
              "    <tr>\n",
              "      <th>InstanceNumber</th>\n",
              "      <td>30227</td>\n",
              "      <td>1</td>\n",
              "      <td>\"1\"</td>\n",
              "      <td>30227</td>\n",
              "      <td>NaN</td>\n",
              "      <td>NaN</td>\n",
              "      <td>NaN</td>\n",
              "      <td>NaN</td>\n",
              "      <td>NaN</td>\n",
              "      <td>NaN</td>\n",
              "      <td>NaN</td>\n",
              "    </tr>\n",
              "    <tr>\n",
              "      <th>PatientOrientation</th>\n",
              "      <td>0</td>\n",
              "      <td>NaN</td>\n",
              "      <td>NaN</td>\n",
              "      <td>NaN</td>\n",
              "      <td>NaN</td>\n",
              "      <td>NaN</td>\n",
              "      <td>NaN</td>\n",
              "      <td>NaN</td>\n",
              "      <td>NaN</td>\n",
              "      <td>NaN</td>\n",
              "      <td>NaN</td>\n",
              "    </tr>\n",
              "    <tr>\n",
              "      <th>SamplesperPixel</th>\n",
              "      <td>0</td>\n",
              "      <td>NaN</td>\n",
              "      <td>NaN</td>\n",
              "      <td>NaN</td>\n",
              "      <td>NaN</td>\n",
              "      <td>NaN</td>\n",
              "      <td>NaN</td>\n",
              "      <td>NaN</td>\n",
              "      <td>NaN</td>\n",
              "      <td>NaN</td>\n",
              "      <td>NaN</td>\n",
              "    </tr>\n",
              "    <tr>\n",
              "      <th>PhotometricInterpretation</th>\n",
              "      <td>30227</td>\n",
              "      <td>1</td>\n",
              "      <td>MONOCHROME2</td>\n",
              "      <td>30227</td>\n",
              "      <td>NaN</td>\n",
              "      <td>NaN</td>\n",
              "      <td>NaN</td>\n",
              "      <td>NaN</td>\n",
              "      <td>NaN</td>\n",
              "      <td>NaN</td>\n",
              "      <td>NaN</td>\n",
              "    </tr>\n",
              "    <tr>\n",
              "      <th>Rows</th>\n",
              "      <td>30227</td>\n",
              "      <td>NaN</td>\n",
              "      <td>NaN</td>\n",
              "      <td>NaN</td>\n",
              "      <td>1024</td>\n",
              "      <td>0</td>\n",
              "      <td>1024</td>\n",
              "      <td>1024</td>\n",
              "      <td>1024</td>\n",
              "      <td>1024</td>\n",
              "      <td>1024</td>\n",
              "    </tr>\n",
              "    <tr>\n",
              "      <th>Columns</th>\n",
              "      <td>30227</td>\n",
              "      <td>NaN</td>\n",
              "      <td>NaN</td>\n",
              "      <td>NaN</td>\n",
              "      <td>1024</td>\n",
              "      <td>0</td>\n",
              "      <td>1024</td>\n",
              "      <td>1024</td>\n",
              "      <td>1024</td>\n",
              "      <td>1024</td>\n",
              "      <td>1024</td>\n",
              "    </tr>\n",
              "    <tr>\n",
              "      <th>PixelSpacing</th>\n",
              "      <td>30227</td>\n",
              "      <td>18</td>\n",
              "      <td>[0.168, 0.168]</td>\n",
              "      <td>10677</td>\n",
              "      <td>NaN</td>\n",
              "      <td>NaN</td>\n",
              "      <td>NaN</td>\n",
              "      <td>NaN</td>\n",
              "      <td>NaN</td>\n",
              "      <td>NaN</td>\n",
              "      <td>NaN</td>\n",
              "    </tr>\n",
              "    <tr>\n",
              "      <th>BitsAllocated</th>\n",
              "      <td>30227</td>\n",
              "      <td>NaN</td>\n",
              "      <td>NaN</td>\n",
              "      <td>NaN</td>\n",
              "      <td>8</td>\n",
              "      <td>0</td>\n",
              "      <td>8</td>\n",
              "      <td>8</td>\n",
              "      <td>8</td>\n",
              "      <td>8</td>\n",
              "      <td>8</td>\n",
              "    </tr>\n",
              "    <tr>\n",
              "      <th>BitsStored</th>\n",
              "      <td>30227</td>\n",
              "      <td>NaN</td>\n",
              "      <td>NaN</td>\n",
              "      <td>NaN</td>\n",
              "      <td>8</td>\n",
              "      <td>0</td>\n",
              "      <td>8</td>\n",
              "      <td>8</td>\n",
              "      <td>8</td>\n",
              "      <td>8</td>\n",
              "      <td>8</td>\n",
              "    </tr>\n",
              "    <tr>\n",
              "      <th>HighBit</th>\n",
              "      <td>30227</td>\n",
              "      <td>NaN</td>\n",
              "      <td>NaN</td>\n",
              "      <td>NaN</td>\n",
              "      <td>7</td>\n",
              "      <td>0</td>\n",
              "      <td>7</td>\n",
              "      <td>7</td>\n",
              "      <td>7</td>\n",
              "      <td>7</td>\n",
              "      <td>7</td>\n",
              "    </tr>\n",
              "    <tr>\n",
              "      <th>PixelRepresentation</th>\n",
              "      <td>30227</td>\n",
              "      <td>NaN</td>\n",
              "      <td>NaN</td>\n",
              "      <td>NaN</td>\n",
              "      <td>0</td>\n",
              "      <td>0</td>\n",
              "      <td>0</td>\n",
              "      <td>0</td>\n",
              "      <td>0</td>\n",
              "      <td>0</td>\n",
              "      <td>0</td>\n",
              "    </tr>\n",
              "    <tr>\n",
              "      <th>LossyImageCompression</th>\n",
              "      <td>30227</td>\n",
              "      <td>NaN</td>\n",
              "      <td>NaN</td>\n",
              "      <td>NaN</td>\n",
              "      <td>1</td>\n",
              "      <td>0</td>\n",
              "      <td>1</td>\n",
              "      <td>1</td>\n",
              "      <td>1</td>\n",
              "      <td>1</td>\n",
              "      <td>1</td>\n",
              "    </tr>\n",
              "    <tr>\n",
              "      <th>LossyImageCompressionMethod</th>\n",
              "      <td>30227</td>\n",
              "      <td>1</td>\n",
              "      <td>ISO_10918_1</td>\n",
              "      <td>30227</td>\n",
              "      <td>NaN</td>\n",
              "      <td>NaN</td>\n",
              "      <td>NaN</td>\n",
              "      <td>NaN</td>\n",
              "      <td>NaN</td>\n",
              "      <td>NaN</td>\n",
              "      <td>NaN</td>\n",
              "    </tr>\n",
              "    <tr>\n",
              "      <th>PixelData</th>\n",
              "      <td>30227</td>\n",
              "      <td>19569</td>\n",
              "      <td>Array of 141270 elements</td>\n",
              "      <td>7</td>\n",
              "      <td>NaN</td>\n",
              "      <td>NaN</td>\n",
              "      <td>NaN</td>\n",
              "      <td>NaN</td>\n",
              "      <td>NaN</td>\n",
              "      <td>NaN</td>\n",
              "      <td>NaN</td>\n",
              "    </tr>\n",
              "    <tr>\n",
              "      <th>class</th>\n",
              "      <td>30227</td>\n",
              "      <td>3</td>\n",
              "      <td>No Lung Opacity / Not Normal</td>\n",
              "      <td>11821</td>\n",
              "      <td>NaN</td>\n",
              "      <td>NaN</td>\n",
              "      <td>NaN</td>\n",
              "      <td>NaN</td>\n",
              "      <td>NaN</td>\n",
              "      <td>NaN</td>\n",
              "      <td>NaN</td>\n",
              "    </tr>\n",
              "    <tr>\n",
              "      <th>x</th>\n",
              "      <td>9555</td>\n",
              "      <td>NaN</td>\n",
              "      <td>NaN</td>\n",
              "      <td>NaN</td>\n",
              "      <td>394.048</td>\n",
              "      <td>204.574</td>\n",
              "      <td>2</td>\n",
              "      <td>207</td>\n",
              "      <td>324</td>\n",
              "      <td>594</td>\n",
              "      <td>835</td>\n",
              "    </tr>\n",
              "    <tr>\n",
              "      <th>y</th>\n",
              "      <td>9555</td>\n",
              "      <td>NaN</td>\n",
              "      <td>NaN</td>\n",
              "      <td>NaN</td>\n",
              "      <td>366.84</td>\n",
              "      <td>148.94</td>\n",
              "      <td>2</td>\n",
              "      <td>249</td>\n",
              "      <td>365</td>\n",
              "      <td>478.5</td>\n",
              "      <td>881</td>\n",
              "    </tr>\n",
              "    <tr>\n",
              "      <th>width</th>\n",
              "      <td>9555</td>\n",
              "      <td>NaN</td>\n",
              "      <td>NaN</td>\n",
              "      <td>NaN</td>\n",
              "      <td>218.471</td>\n",
              "      <td>59.2895</td>\n",
              "      <td>40</td>\n",
              "      <td>177</td>\n",
              "      <td>217</td>\n",
              "      <td>259</td>\n",
              "      <td>528</td>\n",
              "    </tr>\n",
              "    <tr>\n",
              "      <th>height</th>\n",
              "      <td>9555</td>\n",
              "      <td>NaN</td>\n",
              "      <td>NaN</td>\n",
              "      <td>NaN</td>\n",
              "      <td>329.27</td>\n",
              "      <td>157.751</td>\n",
              "      <td>45</td>\n",
              "      <td>203</td>\n",
              "      <td>298</td>\n",
              "      <td>438</td>\n",
              "      <td>942</td>\n",
              "    </tr>\n",
              "    <tr>\n",
              "      <th>Target</th>\n",
              "      <td>30227</td>\n",
              "      <td>NaN</td>\n",
              "      <td>NaN</td>\n",
              "      <td>NaN</td>\n",
              "      <td>0.316108</td>\n",
              "      <td>0.464963</td>\n",
              "      <td>0</td>\n",
              "      <td>0</td>\n",
              "      <td>0</td>\n",
              "      <td>1</td>\n",
              "      <td>1</td>\n",
              "    </tr>\n",
              "  </tbody>\n",
              "</table>\n",
              "</div>"
            ],
            "text/plain": [
              "                             count unique  ...          75%          max\n",
              "SpecificCharacterSet         30227      1  ...          NaN          NaN\n",
              "SOPClassUID                  30227      1  ...          NaN          NaN\n",
              "SOPInstanceUID               30227  26684  ...          NaN          NaN\n",
              "StudyDate                    30227    NaN  ...  1.90101e+07  1.90101e+07\n",
              "StudyTime                    30227    NaN  ...            0            0\n",
              "AccessionNumber                  0    NaN  ...          NaN          NaN\n",
              "Modality                     30227      1  ...          NaN          NaN\n",
              "ConversionType               30227      1  ...          NaN          NaN\n",
              "ReferringPhysicianName           0    NaN  ...          NaN          NaN\n",
              "SeriesDescription            30227      2  ...          NaN          NaN\n",
              "PatientName                  30227  26684  ...          NaN          NaN\n",
              "PatientID                    30227  26684  ...          NaN          NaN\n",
              "PatientBirthDate                 0    NaN  ...          NaN          NaN\n",
              "PatientSex                   30227      2  ...          NaN          NaN\n",
              "PatientAge                   30227    NaN  ...           59          155\n",
              "BodyPartExamined             30227      1  ...          NaN          NaN\n",
              "ViewPosition                 30227      2  ...          NaN          NaN\n",
              "StudyInstanceUID             30227  26684  ...          NaN          NaN\n",
              "SeriesInstanceUID            30227  26684  ...          NaN          NaN\n",
              "StudyID                          0    NaN  ...          NaN          NaN\n",
              "SeriesNumber                 30227      1  ...          NaN          NaN\n",
              "InstanceNumber               30227      1  ...          NaN          NaN\n",
              "PatientOrientation               0    NaN  ...          NaN          NaN\n",
              "SamplesperPixel                  0    NaN  ...          NaN          NaN\n",
              "PhotometricInterpretation    30227      1  ...          NaN          NaN\n",
              "Rows                         30227    NaN  ...         1024         1024\n",
              "Columns                      30227    NaN  ...         1024         1024\n",
              "PixelSpacing                 30227     18  ...          NaN          NaN\n",
              "BitsAllocated                30227    NaN  ...            8            8\n",
              "BitsStored                   30227    NaN  ...            8            8\n",
              "HighBit                      30227    NaN  ...            7            7\n",
              "PixelRepresentation          30227    NaN  ...            0            0\n",
              "LossyImageCompression        30227    NaN  ...            1            1\n",
              "LossyImageCompressionMethod  30227      1  ...          NaN          NaN\n",
              "PixelData                    30227  19569  ...          NaN          NaN\n",
              "class                        30227      3  ...          NaN          NaN\n",
              "x                             9555    NaN  ...          594          835\n",
              "y                             9555    NaN  ...        478.5          881\n",
              "width                         9555    NaN  ...          259          528\n",
              "height                        9555    NaN  ...          438          942\n",
              "Target                       30227    NaN  ...            1            1\n",
              "\n",
              "[41 rows x 11 columns]"
            ]
          },
          "metadata": {
            "tags": []
          },
          "execution_count": 14
        }
      ]
    },
    {
      "cell_type": "code",
      "metadata": {
        "id": "AvDROALLSkXf",
        "colab_type": "code",
        "outputId": "0dca3cdc-8069-49e8-c81f-4f5d45937c2c",
        "colab": {
          "base_uri": "https://localhost:8080/",
          "height": 34
        }
      },
      "source": [
        "medData.shape\n"
      ],
      "execution_count": 15,
      "outputs": [
        {
          "output_type": "execute_result",
          "data": {
            "text/plain": [
              "(30227, 41)"
            ]
          },
          "metadata": {
            "tags": []
          },
          "execution_count": 15
        }
      ]
    },
    {
      "cell_type": "markdown",
      "metadata": {
        "id": "G73YJzmzSzyp",
        "colab_type": "text"
      },
      "source": [
        "Too many columns to analyse.. Dropping some unnecessary columns from dataframe"
      ]
    },
    {
      "cell_type": "code",
      "metadata": {
        "id": "SG3k3kB8S9mv",
        "colab_type": "code",
        "colab": {}
      },
      "source": [
        "df=medData.drop(['StudyID','PatientOrientation','PatientBirthDate','SamplesperPixel','AccessionNumber','ReferringPhysicianName','PatientBirthDate','PatientName','PhotometricInterpretation','PixelSpacing','PixelData','Rows','Columns','SpecificCharacterSet','SOPClassUID','SOPInstanceUID','StudyDate','StudyTime','ConversionType','SeriesDescription','StudyInstanceUID','SeriesInstanceUID','SeriesNumber','InstanceNumber','BitsAllocated','BitsStored','HighBit','PixelRepresentation','LossyImageCompression','LossyImageCompressionMethod'],axis=1)"
      ],
      "execution_count": 0,
      "outputs": []
    },
    {
      "cell_type": "code",
      "metadata": {
        "id": "Thfc9H8nU-CK",
        "colab_type": "code",
        "outputId": "bd30cc84-cfd0-4437-cebe-54beda779baa",
        "colab": {
          "base_uri": "https://localhost:8080/",
          "height": 421
        }
      },
      "source": [
        "df.describe(include=\"all\").transpose()"
      ],
      "execution_count": 23,
      "outputs": [
        {
          "output_type": "execute_result",
          "data": {
            "text/html": [
              "<div>\n",
              "<style scoped>\n",
              "    .dataframe tbody tr th:only-of-type {\n",
              "        vertical-align: middle;\n",
              "    }\n",
              "\n",
              "    .dataframe tbody tr th {\n",
              "        vertical-align: top;\n",
              "    }\n",
              "\n",
              "    .dataframe thead th {\n",
              "        text-align: right;\n",
              "    }\n",
              "</style>\n",
              "<table border=\"1\" class=\"dataframe\">\n",
              "  <thead>\n",
              "    <tr style=\"text-align: right;\">\n",
              "      <th></th>\n",
              "      <th>count</th>\n",
              "      <th>unique</th>\n",
              "      <th>top</th>\n",
              "      <th>freq</th>\n",
              "      <th>mean</th>\n",
              "      <th>std</th>\n",
              "      <th>min</th>\n",
              "      <th>25%</th>\n",
              "      <th>50%</th>\n",
              "      <th>75%</th>\n",
              "      <th>max</th>\n",
              "    </tr>\n",
              "  </thead>\n",
              "  <tbody>\n",
              "    <tr>\n",
              "      <th>Modality</th>\n",
              "      <td>30227</td>\n",
              "      <td>1</td>\n",
              "      <td>CR</td>\n",
              "      <td>30227</td>\n",
              "      <td>NaN</td>\n",
              "      <td>NaN</td>\n",
              "      <td>NaN</td>\n",
              "      <td>NaN</td>\n",
              "      <td>NaN</td>\n",
              "      <td>NaN</td>\n",
              "      <td>NaN</td>\n",
              "    </tr>\n",
              "    <tr>\n",
              "      <th>PatientID</th>\n",
              "      <td>30227</td>\n",
              "      <td>26684</td>\n",
              "      <td>7d674c82-5501-4730-92c5-d241fd6911e7</td>\n",
              "      <td>4</td>\n",
              "      <td>NaN</td>\n",
              "      <td>NaN</td>\n",
              "      <td>NaN</td>\n",
              "      <td>NaN</td>\n",
              "      <td>NaN</td>\n",
              "      <td>NaN</td>\n",
              "      <td>NaN</td>\n",
              "    </tr>\n",
              "    <tr>\n",
              "      <th>PatientSex</th>\n",
              "      <td>30227</td>\n",
              "      <td>2</td>\n",
              "      <td>M</td>\n",
              "      <td>17216</td>\n",
              "      <td>NaN</td>\n",
              "      <td>NaN</td>\n",
              "      <td>NaN</td>\n",
              "      <td>NaN</td>\n",
              "      <td>NaN</td>\n",
              "      <td>NaN</td>\n",
              "      <td>NaN</td>\n",
              "    </tr>\n",
              "    <tr>\n",
              "      <th>PatientAge</th>\n",
              "      <td>30227</td>\n",
              "      <td>NaN</td>\n",
              "      <td>NaN</td>\n",
              "      <td>NaN</td>\n",
              "      <td>46.7978</td>\n",
              "      <td>16.8929</td>\n",
              "      <td>1</td>\n",
              "      <td>34</td>\n",
              "      <td>49</td>\n",
              "      <td>59</td>\n",
              "      <td>155</td>\n",
              "    </tr>\n",
              "    <tr>\n",
              "      <th>BodyPartExamined</th>\n",
              "      <td>30227</td>\n",
              "      <td>1</td>\n",
              "      <td>CHEST</td>\n",
              "      <td>30227</td>\n",
              "      <td>NaN</td>\n",
              "      <td>NaN</td>\n",
              "      <td>NaN</td>\n",
              "      <td>NaN</td>\n",
              "      <td>NaN</td>\n",
              "      <td>NaN</td>\n",
              "      <td>NaN</td>\n",
              "    </tr>\n",
              "    <tr>\n",
              "      <th>ViewPosition</th>\n",
              "      <td>30227</td>\n",
              "      <td>2</td>\n",
              "      <td>AP</td>\n",
              "      <td>15297</td>\n",
              "      <td>NaN</td>\n",
              "      <td>NaN</td>\n",
              "      <td>NaN</td>\n",
              "      <td>NaN</td>\n",
              "      <td>NaN</td>\n",
              "      <td>NaN</td>\n",
              "      <td>NaN</td>\n",
              "    </tr>\n",
              "    <tr>\n",
              "      <th>class</th>\n",
              "      <td>30227</td>\n",
              "      <td>3</td>\n",
              "      <td>No Lung Opacity / Not Normal</td>\n",
              "      <td>11821</td>\n",
              "      <td>NaN</td>\n",
              "      <td>NaN</td>\n",
              "      <td>NaN</td>\n",
              "      <td>NaN</td>\n",
              "      <td>NaN</td>\n",
              "      <td>NaN</td>\n",
              "      <td>NaN</td>\n",
              "    </tr>\n",
              "    <tr>\n",
              "      <th>x</th>\n",
              "      <td>9555</td>\n",
              "      <td>NaN</td>\n",
              "      <td>NaN</td>\n",
              "      <td>NaN</td>\n",
              "      <td>394.048</td>\n",
              "      <td>204.574</td>\n",
              "      <td>2</td>\n",
              "      <td>207</td>\n",
              "      <td>324</td>\n",
              "      <td>594</td>\n",
              "      <td>835</td>\n",
              "    </tr>\n",
              "    <tr>\n",
              "      <th>y</th>\n",
              "      <td>9555</td>\n",
              "      <td>NaN</td>\n",
              "      <td>NaN</td>\n",
              "      <td>NaN</td>\n",
              "      <td>366.84</td>\n",
              "      <td>148.94</td>\n",
              "      <td>2</td>\n",
              "      <td>249</td>\n",
              "      <td>365</td>\n",
              "      <td>478.5</td>\n",
              "      <td>881</td>\n",
              "    </tr>\n",
              "    <tr>\n",
              "      <th>width</th>\n",
              "      <td>9555</td>\n",
              "      <td>NaN</td>\n",
              "      <td>NaN</td>\n",
              "      <td>NaN</td>\n",
              "      <td>218.471</td>\n",
              "      <td>59.2895</td>\n",
              "      <td>40</td>\n",
              "      <td>177</td>\n",
              "      <td>217</td>\n",
              "      <td>259</td>\n",
              "      <td>528</td>\n",
              "    </tr>\n",
              "    <tr>\n",
              "      <th>height</th>\n",
              "      <td>9555</td>\n",
              "      <td>NaN</td>\n",
              "      <td>NaN</td>\n",
              "      <td>NaN</td>\n",
              "      <td>329.27</td>\n",
              "      <td>157.751</td>\n",
              "      <td>45</td>\n",
              "      <td>203</td>\n",
              "      <td>298</td>\n",
              "      <td>438</td>\n",
              "      <td>942</td>\n",
              "    </tr>\n",
              "    <tr>\n",
              "      <th>Target</th>\n",
              "      <td>30227</td>\n",
              "      <td>NaN</td>\n",
              "      <td>NaN</td>\n",
              "      <td>NaN</td>\n",
              "      <td>0.316108</td>\n",
              "      <td>0.464963</td>\n",
              "      <td>0</td>\n",
              "      <td>0</td>\n",
              "      <td>0</td>\n",
              "      <td>1</td>\n",
              "      <td>1</td>\n",
              "    </tr>\n",
              "  </tbody>\n",
              "</table>\n",
              "</div>"
            ],
            "text/plain": [
              "                  count unique  ...    75%  max\n",
              "Modality          30227      1  ...    NaN  NaN\n",
              "PatientID         30227  26684  ...    NaN  NaN\n",
              "PatientSex        30227      2  ...    NaN  NaN\n",
              "PatientAge        30227    NaN  ...     59  155\n",
              "BodyPartExamined  30227      1  ...    NaN  NaN\n",
              "ViewPosition      30227      2  ...    NaN  NaN\n",
              "class             30227      3  ...    NaN  NaN\n",
              "x                  9555    NaN  ...    594  835\n",
              "y                  9555    NaN  ...  478.5  881\n",
              "width              9555    NaN  ...    259  528\n",
              "height             9555    NaN  ...    438  942\n",
              "Target            30227    NaN  ...      1    1\n",
              "\n",
              "[12 rows x 11 columns]"
            ]
          },
          "metadata": {
            "tags": []
          },
          "execution_count": 23
        }
      ]
    },
    {
      "cell_type": "code",
      "metadata": {
        "id": "zq4ULiEbXLBF",
        "colab_type": "code",
        "colab": {}
      },
      "source": [
        "#Checking for duplicated rows"
      ],
      "execution_count": 0,
      "outputs": []
    },
    {
      "cell_type": "code",
      "metadata": {
        "id": "VdAVq0xzXNnz",
        "colab_type": "code",
        "outputId": "2e110c4c-8eaf-4378-aa08-0bd3691a5c6c",
        "colab": {
          "base_uri": "https://localhost:8080/",
          "height": 68
        }
      },
      "source": [
        "duplicateDFRow = df[df.duplicated()]\n",
        "print(duplicateDFRow)"
      ],
      "execution_count": 25,
      "outputs": [
        {
          "output_type": "stream",
          "text": [
            "Empty DataFrame\n",
            "Columns: [Modality, PatientID, PatientSex, PatientAge, BodyPartExamined, ViewPosition, class, x, y, width, height, Target]\n",
            "Index: []\n"
          ],
          "name": "stdout"
        }
      ]
    },
    {
      "cell_type": "markdown",
      "metadata": {
        "id": "WOXNU96_jGCA",
        "colab_type": "text"
      },
      "source": [
        "There are no duplicate rows. The number of rows is greater in than the actual number of X-rays by ~4000 , but this is due to some patients having multiple infected aread in the lungs ,thus needing more than one bounding boxes to be defined"
      ]
    },
    {
      "cell_type": "code",
      "metadata": {
        "id": "en4lPzBwVUCX",
        "colab_type": "code",
        "colab": {}
      },
      "source": [
        "import seaborn as sns"
      ],
      "execution_count": 0,
      "outputs": []
    },
    {
      "cell_type": "code",
      "metadata": {
        "id": "vePj3dC2V4eP",
        "colab_type": "code",
        "outputId": "16994c92-2097-4845-c7fb-dd133f36bd97",
        "colab": {
          "base_uri": "https://localhost:8080/",
          "height": 543
        }
      },
      "source": [
        "#Plotting a histogram of age distribution of Patients\n",
        "sns.distplot(df['PatientAge'])\n",
        "df.hist('PatientAge')\n",
        "plt.show()"
      ],
      "execution_count": 27,
      "outputs": [
        {
          "output_type": "display_data",
          "data": {
            "image/png": "[encoded data removed]",
            "text/plain": [
              "<Figure size 432x288 with 1 Axes>"
            ]
          },
          "metadata": {
            "tags": [],
            "needs_background": "light"
          }
        },
        {
          "output_type": "display_data",
          "data": {
            "image/png": "[encoded data removed]",
            "text/plain": [
              "<Figure size 432x288 with 1 Axes>"
            ]
          },
          "metadata": {
            "tags": [],
            "needs_background": "light"
          }
        }
      ]
    },
    {
      "cell_type": "markdown",
      "metadata": {
        "id": "OJIr6uvAWYH6",
        "colab_type": "text"
      },
      "source": [
        "Maximum number of patients are above 50 years of age"
      ]
    },
    {
      "cell_type": "code",
      "metadata": {
        "id": "qBqzNLaqaR_O",
        "colab_type": "code",
        "outputId": "ddb505d2-95fd-424f-d6a2-503d732cb2bc",
        "colab": {
          "base_uri": "https://localhost:8080/",
          "height": 299
        }
      },
      "source": [
        "#Checking for the division of pneumonia patients with respect to their sex\n",
        "sns.countplot(x='PatientSex',hue='class',data=df)\n"
      ],
      "execution_count": 29,
      "outputs": [
        {
          "output_type": "execute_result",
          "data": {
            "text/plain": [
              "<matplotlib.axes._subplots.AxesSubplot at 0x7fa5ad7e76d8>"
            ]
          },
          "metadata": {
            "tags": []
          },
          "execution_count": 29
        },
        {
          "output_type": "display_data",
          "data": {
            "image/png": "[encoded data removed]",
            "text/plain": [
              "<Figure size 432x288 with 1 Axes>"
            ]
          },
          "metadata": {
            "tags": [],
            "needs_background": "light"
          }
        }
      ]
    },
    {
      "cell_type": "markdown",
      "metadata": {
        "id": "-qRxtt9_jfPV",
        "colab_type": "text"
      },
      "source": [
        "Number of male patients is higher and hence there is a slight class imbalance in the numbers"
      ]
    },
    {
      "cell_type": "code",
      "metadata": {
        "id": "8wsMsCUNavNj",
        "colab_type": "code",
        "outputId": "a41c2011-d04d-4998-d278-9a3749c7eda3",
        "colab": {
          "base_uri": "https://localhost:8080/",
          "height": 404
        }
      },
      "source": [
        "# Check for the depedance of Age of Patients with Pneumonia Outcome\n",
        "sns.pairplot(df,vars=['PatientAge','Target'])"
      ],
      "execution_count": 30,
      "outputs": [
        {
          "output_type": "execute_result",
          "data": {
            "text/plain": [
              "<seaborn.axisgrid.PairGrid at 0x7fa5ad79f898>"
            ]
          },
          "metadata": {
            "tags": []
          },
          "execution_count": 30
        },
        {
          "output_type": "display_data",
          "data": {
            "image/png": "[encoded data removed]",
            "text/plain": [
              "<Figure size 360x360 with 6 Axes>"
            ]
          },
          "metadata": {
            "tags": [],
            "needs_background": "light"
          }
        }
      ]
    },
    {
      "cell_type": "markdown",
      "metadata": {
        "id": "jCw4TetIbiCP",
        "colab_type": "text"
      },
      "source": [
        "No clear dependency seen in the outcome from the pair-plot"
      ]
    },
    {
      "cell_type": "code",
      "metadata": {
        "id": "AF_l2EuVbmHS",
        "colab_type": "code",
        "outputId": "f591e893-0764-41c3-f12e-c20bdf85698d",
        "colab": {
          "base_uri": "https://localhost:8080/",
          "height": 300
        }
      },
      "source": [
        "#Barplot to give a clear understanding of the patients with pneumonia outcome with respect to age\n",
        "sns.barplot(x='Target',y='PatientAge',data=df)"
      ],
      "execution_count": 33,
      "outputs": [
        {
          "output_type": "execute_result",
          "data": {
            "text/plain": [
              "<matplotlib.axes._subplots.AxesSubplot at 0x7fa5ade6bc50>"
            ]
          },
          "metadata": {
            "tags": []
          },
          "execution_count": 33
        },
        {
          "output_type": "display_data",
          "data": {
            "image/png": "[encoded data removed]",
            "text/plain": [
              "<Figure size 432x288 with 1 Axes>"
            ]
          },
          "metadata": {
            "tags": [],
            "needs_background": "light"
          }
        }
      ]
    },
    {
      "cell_type": "code",
      "metadata": {
        "id": "2QuNEoOTdZqt",
        "colab_type": "code",
        "outputId": "1f2864f4-ba63-4938-89b6-e3fd40280744",
        "colab": {
          "base_uri": "https://localhost:8080/",
          "height": 296
        }
      },
      "source": [
        "# Checking for the split of detailed classifications in the training set\n",
        "sns.countplot(x='class',data=df)\n"
      ],
      "execution_count": 34,
      "outputs": [
        {
          "output_type": "execute_result",
          "data": {
            "text/plain": [
              "<matplotlib.axes._subplots.AxesSubplot at 0x7fa5add62518>"
            ]
          },
          "metadata": {
            "tags": []
          },
          "execution_count": 34
        },
        {
          "output_type": "display_data",
          "data": {
            "image/png": "[encoded data removed]",
            "text/plain": [
              "<Figure size 432x288 with 1 Axes>"
            ]
          },
          "metadata": {
            "tags": [],
            "needs_background": "light"
          }
        }
      ]
    },
    {
      "cell_type": "markdown",
      "metadata": {
        "id": "Mzth-yC2kq7e",
        "colab_type": "text"
      },
      "source": [
        "The number of patients who show no concusive signs of pneumonia ,but have some abnormalities in the x-rays is more in the dataset. Conclusive pneumonia and non-pneumonia patients are almost equal in the set\n"
      ]
    },
    {
      "cell_type": "code",
      "metadata": {
        "id": "8TKAGy2LkwKd",
        "colab_type": "code",
        "colab": {
          "base_uri": "https://localhost:8080/",
          "height": 296
        },
        "outputId": "862f0214-4cb9-441f-ec52-f55235543b03"
      },
      "source": [
        "# Checking for the split of pneumonia Positive and negative cases in the dataset\n",
        "\n",
        "sns.countplot(x='Target',data=df)"
      ],
      "execution_count": 36,
      "outputs": [
        {
          "output_type": "execute_result",
          "data": {
            "text/plain": [
              "<matplotlib.axes._subplots.AxesSubplot at 0x7fa5ad896668>"
            ]
          },
          "metadata": {
            "tags": []
          },
          "execution_count": 36
        },
        {
          "output_type": "display_data",
          "data": {
            "image/png": "[encoded data removed]",
            "text/plain": [
              "<Figure size 432x288 with 1 Axes>"
            ]
          },
          "metadata": {
            "tags": [],
            "needs_background": "light"
          }
        }
      ]
    },
    {
      "cell_type": "markdown",
      "metadata": {
        "id": "7RzHUlwqlqPb",
        "colab_type": "text"
      },
      "source": [
        "Almost 1/3rd of the samples is of Pneumonia positive patients and 2/3rd are pneumonia negative patients"
      ]
    }
  ]
}