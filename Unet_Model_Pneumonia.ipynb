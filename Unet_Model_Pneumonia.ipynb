{
  "nbformat": 4,
  "nbformat_minor": 0,
  "metadata": {
    "colab": {
      "name": "Unet_Model_Pneumonia.ipynb",
      "provenance": [],
      "collapsed_sections": []
    },
    "kernelspec": {
      "name": "python3",
      "display_name": "Python 3"
    },
    "accelerator": "TPU"
  },
  "cells": [
    {
      "cell_type": "markdown",
      "metadata": {
        "id": "o7SL0K5m5e9Z",
        "colab_type": "text"
      },
      "source": [
        "### Mount Google Drive"
      ]
    },
    {
      "cell_type": "code",
      "metadata": {
        "id": "cViY1pf-lIp8",
        "colab_type": "code",
        "outputId": "9f8f963a-a1a9-405b-c850-44d0d40c8c59",
        "colab": {
          "base_uri": "https://localhost:8080/",
          "height": 34
        }
      },
      "source": [
        "from google.colab import drive\n",
        "drive.mount('/content/drive/')"
      ],
      "execution_count": 0,
      "outputs": [
        {
          "output_type": "stream",
          "text": [
            "Drive already mounted at /content/drive/; to attempt to forcibly remount, call drive.mount(\"/content/drive/\", force_remount=True).\n"
          ],
          "name": "stdout"
        }
      ]
    },
    {
      "cell_type": "markdown",
      "metadata": {
        "id": "BCsKXexX5iHk",
        "colab_type": "text"
      },
      "source": [
        "### Load necessary libraries"
      ]
    },
    {
      "cell_type": "code",
      "metadata": {
        "id": "Ykocojv_ePbL",
        "colab_type": "code",
        "colab": {}
      },
      "source": [
        "import numpy as np\n",
        "import pandas as pd\n",
        "from PIL import Image\n",
        "import os\n",
        "from keras.utils.data_utils import Sequence\n",
        "from tensorflow.python.keras.utils import data_utils\n",
        "from sklearn.model_selection import train_test_split\n",
        "from google.colab import drive\n",
        "import matplotlib.pyplot as plt\n",
        "from tqdm import tqdm\n",
        "from matplotlib import pyplot\n",
        "import tensorflow as tf\n",
        "import cv2\n",
        "from tensorflow.keras.applications.mobilenet import preprocess_input\n",
        "import pickle\n",
        "import feather\n",
        "from sklearn.metrics import accuracy_score\n",
        "%matplotlib inline"
      ],
      "execution_count": 0,
      "outputs": []
    },
    {
      "cell_type": "markdown",
      "metadata": {
        "id": "dn-vcjHX5k0p",
        "colab_type": "text"
      },
      "source": [
        "# Set working directory"
      ]
    },
    {
      "cell_type": "code",
      "metadata": {
        "id": "0VxFbCze-X00",
        "colab_type": "code",
        "colab": {}
      },
      "source": [
        "path = '/content/drive/My Drive/Capstone/data/'\n",
        "os.chdir(path) #changing the current directory path to the project direcotry where the dataset is available\n",
        "path = os.getcwd() # directory path of all the images"
      ],
      "execution_count": 0,
      "outputs": []
    },
    {
      "cell_type": "code",
      "metadata": {
        "id": "aBqLYOvy-ZT_",
        "colab_type": "code",
        "outputId": "8a164c1b-63b9-410b-8cdc-f38208f17ade",
        "colab": {
          "base_uri": "https://localhost:8080/",
          "height": 34
        }
      },
      "source": [
        "!ls"
      ],
      "execution_count": 0,
      "outputs": [
        {
          "output_type": "stream",
          "text": [
            "images\tmasks\n"
          ],
          "name": "stdout"
        }
      ]
    },
    {
      "cell_type": "markdown",
      "metadata": {
        "id": "LcQlooat5pYJ",
        "colab_type": "text"
      },
      "source": [
        "### Set the path to X-ray images and annotation masks"
      ]
    },
    {
      "cell_type": "code",
      "metadata": {
        "id": "kGCKyiQ7_WWQ",
        "colab_type": "code",
        "outputId": "2419e705-4cdd-457d-912e-8451edbe0d12",
        "colab": {
          "base_uri": "https://localhost:8080/",
          "height": 51
        }
      },
      "source": [
        "im_path = '/content/drive/My Drive/Capstone/data/images/'\n",
        "mask_path = '/content/drive/My Drive/Capstone/data/masks/'\n",
        "train_list = os.listdir(im_path)\n",
        "mask_list = os.listdir(mask_path)\n",
        "print(len(train_list))\n",
        "print(len(mask_list))"
      ],
      "execution_count": 0,
      "outputs": [
        {
          "output_type": "stream",
          "text": [
            "26684\n",
            "26684\n"
          ],
          "name": "stdout"
        }
      ]
    },
    {
      "cell_type": "markdown",
      "metadata": {
        "id": "Uc5sFtZc54Zh",
        "colab_type": "text"
      },
      "source": [
        "### Split dataset into train, test and validation sets"
      ]
    },
    {
      "cell_type": "code",
      "metadata": {
        "id": "UVqGkzGflX7J",
        "colab_type": "code",
        "colab": {}
      },
      "source": [
        "X_train, X_test = train_test_split(train_list, test_size=0.2, random_state=42)\n",
        "X_train, X_val = train_test_split(X_train, test_size=0.25, random_state=53)\n",
        "y_train = X_train\n",
        "y_test = X_test\n",
        "y_val = X_val"
      ],
      "execution_count": 0,
      "outputs": []
    },
    {
      "cell_type": "markdown",
      "metadata": {
        "id": "S6zLvCdQ5_GH",
        "colab_type": "text"
      },
      "source": [
        "### Data generator to resize images for 'n' batch size"
      ]
    },
    {
      "cell_type": "code",
      "metadata": {
        "id": "jRhCgkOJ_Q7e",
        "colab_type": "code",
        "colab": {}
      },
      "source": [
        "class DataGenerator(data_utils.Sequence):\n",
        "    \"\"\"Generates data for Keras\n",
        "    Sequence based data generator. Suitable for building data generator for training and prediction.\n",
        "    \"\"\"\n",
        "    def __init__(self, list_IDs, image_path, mask_path, batch_size=32, dim=(1024, 1024),n_channels=1, shuffle=True,resize=False):\n",
        "        \"\"\"Initialization\n",
        "        self.list_IDs = List of all unique patient Ids\n",
        "        self.image_path = path to image folder\n",
        "        self.mask_path = path to mask folder\n",
        "        self.batch_size = batch_size\n",
        "        self.dim = dimenstion for each input image\n",
        "        self.n_channels = no.of channels per image\n",
        "        self.resize = if true, will resize the input image to self.dim\n",
        "        self.shuffle = True to shuffle label indexes after every epoch\n",
        "        \"\"\"\n",
        "        self.list_IDs = list_IDs\n",
        "        self.TempList = list_IDs\n",
        "        self.image_path = image_path\n",
        "        self.mask_path = mask_path\n",
        "        self.batch_size = batch_size\n",
        "        self.dim = dim\n",
        "        self.n_channels = n_channels\n",
        "        self.shuffle = shuffle\n",
        "        self.resize = resize\n",
        "        self.on_epoch_end()\n",
        "\n",
        "    def __len__(self):\n",
        "        \"\"\"Denotes the number of batches per epoch\n",
        "        :return: number of batches per epoch\n",
        "        \"\"\"\n",
        "        return int(np.floor(len(self.list_IDs) / self.batch_size))\n",
        "\n",
        "    def __getitem__(self, index):\n",
        "        'Generate one batch of data'\n",
        "        # Generate indexes of the batch\n",
        "        indexes = self.indexes[index*self.batch_size:(index+1)*self.batch_size]\n",
        "\n",
        "        # Find list of IDs\n",
        "        list_IDs_temp = [self.list_IDs[k] for k in indexes]\n",
        "        if len(list_IDs_temp)==0:\n",
        "          print('Trying to access an empty batch. No image left to iterate over. Try changing the batch index')\n",
        "          return None\n",
        "        else:\n",
        "          # Generate data\n",
        "          X, y = self.__pixel_generation(list_IDs_temp)\n",
        "\n",
        "          return X, y\n",
        "\n",
        "    def on_epoch_end(self):\n",
        "        \"\"\"Updates indexes after each epoch\n",
        "        \"\"\"\n",
        "        self.indexes = np.arange(len(self.list_IDs))\n",
        "        if self.shuffle == True:\n",
        "            np.random.shuffle(self.indexes)\n",
        "\n",
        "    def __pixel_generation(self, list_IDs_temp):\n",
        "        'Generates data containing batch_size samples' # X : (n_samples, *dim)\n",
        "        ''' Initialization\n",
        "         *self.dim is a variable length parameter. It can vary based on the size of image'''\n",
        "        \n",
        "        x_image = np.empty((self.batch_size, self.dim[0],self.dim[1],3))\n",
        "        x_channels = np.empty((self.dim[0],self.dim[1],3))\n",
        "        y_mask = np.empty((self.batch_size, *self.dim))\n",
        "        ID_List = []\n",
        "        # Generate data\n",
        "        for i, ID in enumerate(list_IDs_temp):\n",
        "            if self.resize == True:\n",
        "              #x_frame = Image.open(self.image_path + ID + '.png').resize((self.dim[0],self.dim[1]),Image.ANTIALIAS)\n",
        "              #y_frame = Image.open(self.mask_path + ID + '.png').resize((self.dim[0],self.dim[1]),Image.ANTIALIAS)\n",
        "              x_frame = Image.open(self.image_path + ID).resize((self.dim[0],self.dim[1]),Image.ANTIALIAS)\n",
        "              y_frame = Image.open(self.mask_path + ID).resize((self.dim[0],self.dim[1]),Image.ANTIALIAS)\n",
        "            else:\n",
        "              #x_frame = Image.open(self.image_path + ID + '.png')\n",
        "              #y_frame = Image.open(self.mask_path + ID + '.png')\n",
        "              x_frame = Image.open(self.image_path + ID)\n",
        "              y_frame = Image.open(self.mask_path + ID)\n",
        "            #print(np.array(x_frame).dtype)\n",
        "            # Store images\n",
        "            for z in range(3):\n",
        "              x_channels[:,:,z] = np.array(x_frame)\n",
        "            x_image[i,] = np.array(x_channels)\n",
        "            # Store masks           \n",
        "            y_mask[i,] = np.array(y_frame)\n",
        "            # Store ID\n",
        "        return x_image, y_mask"
      ],
      "execution_count": 0,
      "outputs": []
    },
    {
      "cell_type": "markdown",
      "metadata": {
        "id": "w39Oxkf96KdC",
        "colab_type": "text"
      },
      "source": [
        " ### Create data generator instances for train, test and validation sets"
      ]
    },
    {
      "cell_type": "code",
      "metadata": {
        "id": "mLM9r37i_ZKa",
        "colab_type": "code",
        "colab": {}
      },
      "source": [
        "len(train_list)\n",
        "train_images = list(map(lambda x: str(x).replace('.png',''),train_list))\n",
        "X_train_gen = DataGenerator(list_IDs=X_train , image_path = im_path, mask_path=mask_path,dim=(224,224),batch_size=8,resize=True)\n",
        "X_Val_gen = DataGenerator(list_IDs=X_val , image_path = im_path, mask_path=mask_path,dim=(224,224),batch_size=8,resize=True)\n",
        "X_test_gen = DataGenerator(list_IDs=X_test , image_path = im_path, mask_path=mask_path,dim=(224,224),batch_size=8,resize=True)"
      ],
      "execution_count": 0,
      "outputs": []
    },
    {
      "cell_type": "markdown",
      "metadata": {
        "id": "CfaWLNM06TJ-",
        "colab_type": "text"
      },
      "source": [
        "### Sample from the training data generator"
      ]
    },
    {
      "cell_type": "code",
      "metadata": {
        "id": "_4aWjmZhyGfb",
        "colab_type": "code",
        "outputId": "efec006b-bf3e-4758-b8c2-5bc6ea012169",
        "colab": {
          "base_uri": "https://localhost:8080/",
          "height": 34
        }
      },
      "source": [
        "X_train_gen[0][0][0].shape"
      ],
      "execution_count": 0,
      "outputs": [
        {
          "output_type": "execute_result",
          "data": {
            "text/plain": [
              "(224, 224, 3)"
            ]
          },
          "metadata": {
            "tags": []
          },
          "execution_count": 21
        }
      ]
    },
    {
      "cell_type": "code",
      "metadata": {
        "id": "ucTWQsVhwt0J",
        "colab_type": "code",
        "outputId": "e313845f-63ec-434a-a995-1e18403a69f3",
        "colab": {
          "base_uri": "https://localhost:8080/",
          "height": 221
        }
      },
      "source": [
        "n = 1\n",
        "f, axarr = plt.subplots(1,2)\n",
        "axarr[0].imshow(X_train_gen[n][0][0][:,:,0])\n",
        "axarr[1].imshow(X_train_gen[n][1][0])"
      ],
      "execution_count": 0,
      "outputs": [
        {
          "output_type": "execute_result",
          "data": {
            "text/plain": [
              "<matplotlib.image.AxesImage at 0x7f75790c8d68>"
            ]
          },
          "metadata": {
            "tags": []
          },
          "execution_count": 64
        },
        {
          "output_type": "display_data",
          "data": {
            "image/png": "[encoded data removed]",
            "text/plain": [
              "<Figure size 432x288 with 2 Axes>"
            ]
          },
          "metadata": {
            "tags": [],
            "needs_background": "light"
          }
        }
      ]
    },
    {
      "cell_type": "markdown",
      "metadata": {
        "id": "jnDTUuT26Zuj",
        "colab_type": "text"
      },
      "source": [
        "### Set Parameters for the model"
      ]
    },
    {
      "cell_type": "code",
      "metadata": {
        "id": "iEPigRriao0E",
        "colab_type": "code",
        "colab": {}
      },
      "source": [
        "IMAGE_HEIGHT = 224\n",
        "IMAGE_WIDTH = 224"
      ],
      "execution_count": 0,
      "outputs": []
    },
    {
      "cell_type": "code",
      "metadata": {
        "id": "C6Vfs23nHGSE",
        "colab_type": "code",
        "outputId": "af3bc557-ed98-46c4-b1d2-a87a80c2b58e",
        "colab": {
          "base_uri": "https://localhost:8080/",
          "height": 34
        }
      },
      "source": [
        "include_top = False\n",
        "ALPHA = 1 # Width hyper parameter for MobileNet (0.25, 0.5, 0.75, 1.0). Higher width means more accurate but slower\n",
        "weights = \"imagenet\"\n",
        "IMAGE_HEIGHT"
      ],
      "execution_count": 0,
      "outputs": [
        {
          "output_type": "execute_result",
          "data": {
            "text/plain": [
              "224"
            ]
          },
          "metadata": {
            "tags": []
          },
          "execution_count": 19
        }
      ]
    },
    {
      "cell_type": "markdown",
      "metadata": {
        "id": "UgvdSsBv6cYh",
        "colab_type": "text"
      },
      "source": [
        "### Mobilenet based Unet model with encoder level 4 i.e. encoder upto depthwise block 11 "
      ]
    },
    {
      "cell_type": "code",
      "metadata": {
        "id": "uAFld1Pc_c-5",
        "colab_type": "code",
        "colab": {}
      },
      "source": [
        "from tensorflow.keras.applications.mobilenet import MobileNet\n",
        "from tensorflow.keras.layers import Concatenate, UpSampling2D, Conv2D, Reshape\n",
        "from tensorflow.keras.models import Model"
      ],
      "execution_count": 0,
      "outputs": []
    },
    {
      "cell_type": "code",
      "metadata": {
        "id": "EnlsIShqPKlW",
        "colab_type": "code",
        "colab": {}
      },
      "source": [
        "\n",
        "def create_model(trainable=True):\n",
        "    model = MobileNet(input_shape=(IMAGE_HEIGHT, IMAGE_WIDTH, 3), include_top=include_top, alpha=ALPHA, weights=weights)\n",
        "    for layer in model.layers:\n",
        "        layer.trainable = trainable\n",
        "        # Add all the UNET layers here\n",
        "        relu_1 = model.get_layer(\"conv_pw_1_relu\").output\n",
        "        relu_3 = model.get_layer(\"conv_pw_3_relu\").output\n",
        "        relu_5 = model.get_layer(\"conv_pw_5_relu\").output\n",
        "        relu_11 = model.get_layer(\"conv_pw_11_relu\").output\n",
        "        #relu_13 = model.get_layer(\"conv_pw_13_relu\").output\n",
        "\n",
        "        x = Concatenate()([UpSampling2D()(relu_11), relu_5])\n",
        "        #x = Concatenate()([UpSampling2D()(x), relu_5])\n",
        "        x = Concatenate()([UpSampling2D()(x), relu_3])\n",
        "        x = Concatenate()([UpSampling2D()(x), relu_1])\n",
        "        x = UpSampling2D()(x)\n",
        "        #Used Relu 13,11,5,3,1 and upsamplings to get back 224*224 size\n",
        "        x = Conv2D(1, kernel_size=1, activation=\"sigmoid\")(x)\n",
        "        x = Reshape((IMAGE_HEIGHT, IMAGE_WIDTH))(x)\n",
        "\n",
        "    return Model(inputs=model.input, outputs=x)"
      ],
      "execution_count": 0,
      "outputs": []
    },
    {
      "cell_type": "markdown",
      "metadata": {
        "id": "2EyQ-aVT6s4x",
        "colab_type": "text"
      },
      "source": [
        "### Create the model"
      ]
    },
    {
      "cell_type": "code",
      "metadata": {
        "id": "gS0Y0gIyPXeB",
        "colab_type": "code",
        "outputId": "ac41a939-35d0-411d-9e02-a9694381db72",
        "colab": {
          "base_uri": "https://localhost:8080/",
          "height": 1000
        }
      },
      "source": [
        "# Give trainable=False as argument, if you want to freeze lower layers for fast training (but low accuracy)\n",
        "#model = create_model()\n",
        "# Print summary\n",
        "model = create_model()\n",
        "model.summary()"
      ],
      "execution_count": 0,
      "outputs": [
        {
          "output_type": "stream",
          "text": [
            "Downloading data from https://storage.googleapis.com/tensorflow/keras-applications/mobilenet/mobilenet_1_0_224_tf_no_top.h5\n",
            "17227776/17225924 [==============================] - 0s 0us/step\n",
            "Model: \"model\"\n",
            "__________________________________________________________________________________________________\n",
            "Layer (type)                    Output Shape         Param #     Connected to                     \n",
            "==================================================================================================\n",
            "input_1 (InputLayer)            [(None, 224, 224, 3) 0                                            \n",
            "__________________________________________________________________________________________________\n",
            "conv1_pad (ZeroPadding2D)       (None, 225, 225, 3)  0           input_1[0][0]                    \n",
            "__________________________________________________________________________________________________\n",
            "conv1 (Conv2D)                  (None, 112, 112, 32) 864         conv1_pad[0][0]                  \n",
            "__________________________________________________________________________________________________\n",
            "conv1_bn (BatchNormalization)   (None, 112, 112, 32) 128         conv1[0][0]                      \n",
            "__________________________________________________________________________________________________\n",
            "conv1_relu (ReLU)               (None, 112, 112, 32) 0           conv1_bn[0][0]                   \n",
            "__________________________________________________________________________________________________\n",
            "conv_dw_1 (DepthwiseConv2D)     (None, 112, 112, 32) 288         conv1_relu[0][0]                 \n",
            "__________________________________________________________________________________________________\n",
            "conv_dw_1_bn (BatchNormalizatio (None, 112, 112, 32) 128         conv_dw_1[0][0]                  \n",
            "__________________________________________________________________________________________________\n",
            "conv_dw_1_relu (ReLU)           (None, 112, 112, 32) 0           conv_dw_1_bn[0][0]               \n",
            "__________________________________________________________________________________________________\n",
            "conv_pw_1 (Conv2D)              (None, 112, 112, 64) 2048        conv_dw_1_relu[0][0]             \n",
            "__________________________________________________________________________________________________\n",
            "conv_pw_1_bn (BatchNormalizatio (None, 112, 112, 64) 256         conv_pw_1[0][0]                  \n",
            "__________________________________________________________________________________________________\n",
            "conv_pw_1_relu (ReLU)           (None, 112, 112, 64) 0           conv_pw_1_bn[0][0]               \n",
            "__________________________________________________________________________________________________\n",
            "conv_pad_2 (ZeroPadding2D)      (None, 113, 113, 64) 0           conv_pw_1_relu[0][0]             \n",
            "__________________________________________________________________________________________________\n",
            "conv_dw_2 (DepthwiseConv2D)     (None, 56, 56, 64)   576         conv_pad_2[0][0]                 \n",
            "__________________________________________________________________________________________________\n",
            "conv_dw_2_bn (BatchNormalizatio (None, 56, 56, 64)   256         conv_dw_2[0][0]                  \n",
            "__________________________________________________________________________________________________\n",
            "conv_dw_2_relu (ReLU)           (None, 56, 56, 64)   0           conv_dw_2_bn[0][0]               \n",
            "__________________________________________________________________________________________________\n",
            "conv_pw_2 (Conv2D)              (None, 56, 56, 128)  8192        conv_dw_2_relu[0][0]             \n",
            "__________________________________________________________________________________________________\n",
            "conv_pw_2_bn (BatchNormalizatio (None, 56, 56, 128)  512         conv_pw_2[0][0]                  \n",
            "__________________________________________________________________________________________________\n",
            "conv_pw_2_relu (ReLU)           (None, 56, 56, 128)  0           conv_pw_2_bn[0][0]               \n",
            "__________________________________________________________________________________________________\n",
            "conv_dw_3 (DepthwiseConv2D)     (None, 56, 56, 128)  1152        conv_pw_2_relu[0][0]             \n",
            "__________________________________________________________________________________________________\n",
            "conv_dw_3_bn (BatchNormalizatio (None, 56, 56, 128)  512         conv_dw_3[0][0]                  \n",
            "__________________________________________________________________________________________________\n",
            "conv_dw_3_relu (ReLU)           (None, 56, 56, 128)  0           conv_dw_3_bn[0][0]               \n",
            "__________________________________________________________________________________________________\n",
            "conv_pw_3 (Conv2D)              (None, 56, 56, 128)  16384       conv_dw_3_relu[0][0]             \n",
            "__________________________________________________________________________________________________\n",
            "conv_pw_3_bn (BatchNormalizatio (None, 56, 56, 128)  512         conv_pw_3[0][0]                  \n",
            "__________________________________________________________________________________________________\n",
            "conv_pw_3_relu (ReLU)           (None, 56, 56, 128)  0           conv_pw_3_bn[0][0]               \n",
            "__________________________________________________________________________________________________\n",
            "conv_pad_4 (ZeroPadding2D)      (None, 57, 57, 128)  0           conv_pw_3_relu[0][0]             \n",
            "__________________________________________________________________________________________________\n",
            "conv_dw_4 (DepthwiseConv2D)     (None, 28, 28, 128)  1152        conv_pad_4[0][0]                 \n",
            "__________________________________________________________________________________________________\n",
            "conv_dw_4_bn (BatchNormalizatio (None, 28, 28, 128)  512         conv_dw_4[0][0]                  \n",
            "__________________________________________________________________________________________________\n",
            "conv_dw_4_relu (ReLU)           (None, 28, 28, 128)  0           conv_dw_4_bn[0][0]               \n",
            "__________________________________________________________________________________________________\n",
            "conv_pw_4 (Conv2D)              (None, 28, 28, 256)  32768       conv_dw_4_relu[0][0]             \n",
            "__________________________________________________________________________________________________\n",
            "conv_pw_4_bn (BatchNormalizatio (None, 28, 28, 256)  1024        conv_pw_4[0][0]                  \n",
            "__________________________________________________________________________________________________\n",
            "conv_pw_4_relu (ReLU)           (None, 28, 28, 256)  0           conv_pw_4_bn[0][0]               \n",
            "__________________________________________________________________________________________________\n",
            "conv_dw_5 (DepthwiseConv2D)     (None, 28, 28, 256)  2304        conv_pw_4_relu[0][0]             \n",
            "__________________________________________________________________________________________________\n",
            "conv_dw_5_bn (BatchNormalizatio (None, 28, 28, 256)  1024        conv_dw_5[0][0]                  \n",
            "__________________________________________________________________________________________________\n",
            "conv_dw_5_relu (ReLU)           (None, 28, 28, 256)  0           conv_dw_5_bn[0][0]               \n",
            "__________________________________________________________________________________________________\n",
            "conv_pw_5 (Conv2D)              (None, 28, 28, 256)  65536       conv_dw_5_relu[0][0]             \n",
            "__________________________________________________________________________________________________\n",
            "conv_pw_5_bn (BatchNormalizatio (None, 28, 28, 256)  1024        conv_pw_5[0][0]                  \n",
            "__________________________________________________________________________________________________\n",
            "conv_pw_5_relu (ReLU)           (None, 28, 28, 256)  0           conv_pw_5_bn[0][0]               \n",
            "__________________________________________________________________________________________________\n",
            "conv_pad_6 (ZeroPadding2D)      (None, 29, 29, 256)  0           conv_pw_5_relu[0][0]             \n",
            "__________________________________________________________________________________________________\n",
            "conv_dw_6 (DepthwiseConv2D)     (None, 14, 14, 256)  2304        conv_pad_6[0][0]                 \n",
            "__________________________________________________________________________________________________\n",
            "conv_dw_6_bn (BatchNormalizatio (None, 14, 14, 256)  1024        conv_dw_6[0][0]                  \n",
            "__________________________________________________________________________________________________\n",
            "conv_dw_6_relu (ReLU)           (None, 14, 14, 256)  0           conv_dw_6_bn[0][0]               \n",
            "__________________________________________________________________________________________________\n",
            "conv_pw_6 (Conv2D)              (None, 14, 14, 512)  131072      conv_dw_6_relu[0][0]             \n",
            "__________________________________________________________________________________________________\n",
            "conv_pw_6_bn (BatchNormalizatio (None, 14, 14, 512)  2048        conv_pw_6[0][0]                  \n",
            "__________________________________________________________________________________________________\n",
            "conv_pw_6_relu (ReLU)           (None, 14, 14, 512)  0           conv_pw_6_bn[0][0]               \n",
            "__________________________________________________________________________________________________\n",
            "conv_dw_7 (DepthwiseConv2D)     (None, 14, 14, 512)  4608        conv_pw_6_relu[0][0]             \n",
            "__________________________________________________________________________________________________\n",
            "conv_dw_7_bn (BatchNormalizatio (None, 14, 14, 512)  2048        conv_dw_7[0][0]                  \n",
            "__________________________________________________________________________________________________\n",
            "conv_dw_7_relu (ReLU)           (None, 14, 14, 512)  0           conv_dw_7_bn[0][0]               \n",
            "__________________________________________________________________________________________________\n",
            "conv_pw_7 (Conv2D)              (None, 14, 14, 512)  262144      conv_dw_7_relu[0][0]             \n",
            "__________________________________________________________________________________________________\n",
            "conv_pw_7_bn (BatchNormalizatio (None, 14, 14, 512)  2048        conv_pw_7[0][0]                  \n",
            "__________________________________________________________________________________________________\n",
            "conv_pw_7_relu (ReLU)           (None, 14, 14, 512)  0           conv_pw_7_bn[0][0]               \n",
            "__________________________________________________________________________________________________\n",
            "conv_dw_8 (DepthwiseConv2D)     (None, 14, 14, 512)  4608        conv_pw_7_relu[0][0]             \n",
            "__________________________________________________________________________________________________\n",
            "conv_dw_8_bn (BatchNormalizatio (None, 14, 14, 512)  2048        conv_dw_8[0][0]                  \n",
            "__________________________________________________________________________________________________\n",
            "conv_dw_8_relu (ReLU)           (None, 14, 14, 512)  0           conv_dw_8_bn[0][0]               \n",
            "__________________________________________________________________________________________________\n",
            "conv_pw_8 (Conv2D)              (None, 14, 14, 512)  262144      conv_dw_8_relu[0][0]             \n",
            "__________________________________________________________________________________________________\n",
            "conv_pw_8_bn (BatchNormalizatio (None, 14, 14, 512)  2048        conv_pw_8[0][0]                  \n",
            "__________________________________________________________________________________________________\n",
            "conv_pw_8_relu (ReLU)           (None, 14, 14, 512)  0           conv_pw_8_bn[0][0]               \n",
            "__________________________________________________________________________________________________\n",
            "conv_dw_9 (DepthwiseConv2D)     (None, 14, 14, 512)  4608        conv_pw_8_relu[0][0]             \n",
            "__________________________________________________________________________________________________\n",
            "conv_dw_9_bn (BatchNormalizatio (None, 14, 14, 512)  2048        conv_dw_9[0][0]                  \n",
            "__________________________________________________________________________________________________\n",
            "conv_dw_9_relu (ReLU)           (None, 14, 14, 512)  0           conv_dw_9_bn[0][0]               \n",
            "__________________________________________________________________________________________________\n",
            "conv_pw_9 (Conv2D)              (None, 14, 14, 512)  262144      conv_dw_9_relu[0][0]             \n",
            "__________________________________________________________________________________________________\n",
            "conv_pw_9_bn (BatchNormalizatio (None, 14, 14, 512)  2048        conv_pw_9[0][0]                  \n",
            "__________________________________________________________________________________________________\n",
            "conv_pw_9_relu (ReLU)           (None, 14, 14, 512)  0           conv_pw_9_bn[0][0]               \n",
            "__________________________________________________________________________________________________\n",
            "conv_dw_10 (DepthwiseConv2D)    (None, 14, 14, 512)  4608        conv_pw_9_relu[0][0]             \n",
            "__________________________________________________________________________________________________\n",
            "conv_dw_10_bn (BatchNormalizati (None, 14, 14, 512)  2048        conv_dw_10[0][0]                 \n",
            "__________________________________________________________________________________________________\n",
            "conv_dw_10_relu (ReLU)          (None, 14, 14, 512)  0           conv_dw_10_bn[0][0]              \n",
            "__________________________________________________________________________________________________\n",
            "conv_pw_10 (Conv2D)             (None, 14, 14, 512)  262144      conv_dw_10_relu[0][0]            \n",
            "__________________________________________________________________________________________________\n",
            "conv_pw_10_bn (BatchNormalizati (None, 14, 14, 512)  2048        conv_pw_10[0][0]                 \n",
            "__________________________________________________________________________________________________\n",
            "conv_pw_10_relu (ReLU)          (None, 14, 14, 512)  0           conv_pw_10_bn[0][0]              \n",
            "__________________________________________________________________________________________________\n",
            "conv_dw_11 (DepthwiseConv2D)    (None, 14, 14, 512)  4608        conv_pw_10_relu[0][0]            \n",
            "__________________________________________________________________________________________________\n",
            "conv_dw_11_bn (BatchNormalizati (None, 14, 14, 512)  2048        conv_dw_11[0][0]                 \n",
            "__________________________________________________________________________________________________\n",
            "conv_dw_11_relu (ReLU)          (None, 14, 14, 512)  0           conv_dw_11_bn[0][0]              \n",
            "__________________________________________________________________________________________________\n",
            "conv_pw_11 (Conv2D)             (None, 14, 14, 512)  262144      conv_dw_11_relu[0][0]            \n",
            "__________________________________________________________________________________________________\n",
            "conv_pw_11_bn (BatchNormalizati (None, 14, 14, 512)  2048        conv_pw_11[0][0]                 \n",
            "__________________________________________________________________________________________________\n",
            "conv_pw_11_relu (ReLU)          (None, 14, 14, 512)  0           conv_pw_11_bn[0][0]              \n",
            "__________________________________________________________________________________________________\n",
            "up_sampling2d_344 (UpSampling2D (None, 28, 28, 512)  0           conv_pw_11_relu[0][0]            \n",
            "__________________________________________________________________________________________________\n",
            "concatenate_258 (Concatenate)   (None, 28, 28, 768)  0           up_sampling2d_344[0][0]          \n",
            "                                                                 conv_pw_5_relu[0][0]             \n",
            "__________________________________________________________________________________________________\n",
            "up_sampling2d_345 (UpSampling2D (None, 56, 56, 768)  0           concatenate_258[0][0]            \n",
            "__________________________________________________________________________________________________\n",
            "concatenate_259 (Concatenate)   (None, 56, 56, 896)  0           up_sampling2d_345[0][0]          \n",
            "                                                                 conv_pw_3_relu[0][0]             \n",
            "__________________________________________________________________________________________________\n",
            "up_sampling2d_346 (UpSampling2D (None, 112, 112, 896 0           concatenate_259[0][0]            \n",
            "__________________________________________________________________________________________________\n",
            "concatenate_260 (Concatenate)   (None, 112, 112, 960 0           up_sampling2d_346[0][0]          \n",
            "                                                                 conv_pw_1_relu[0][0]             \n",
            "__________________________________________________________________________________________________\n",
            "up_sampling2d_347 (UpSampling2D (None, 224, 224, 960 0           concatenate_260[0][0]            \n",
            "__________________________________________________________________________________________________\n",
            "conv2d_86 (Conv2D)              (None, 224, 224, 1)  961         up_sampling2d_347[0][0]          \n",
            "__________________________________________________________________________________________________\n",
            "reshape_86 (Reshape)            (None, 224, 224)     0           conv2d_86[0][0]                  \n",
            "==================================================================================================\n",
            "Total params: 1,628,801\n",
            "Trainable params: 1,614,081\n",
            "Non-trainable params: 14,720\n",
            "__________________________________________________________________________________________________\n"
          ],
          "name": "stdout"
        }
      ]
    },
    {
      "cell_type": "markdown",
      "metadata": {
        "id": "IF-k4Yxp6wjQ",
        "colab_type": "text"
      },
      "source": [
        "### Define loss, optimizers, metrics and checkpoint"
      ]
    },
    {
      "cell_type": "code",
      "metadata": {
        "id": "OW6cB2PNPbaJ",
        "colab_type": "code",
        "colab": {}
      },
      "source": [
        "def dice_coefficient(y_true, y_pred):\n",
        "    #### Add your code here ####\n",
        "    numerator = 2 * tf.reduce_sum(y_true * y_pred)\n",
        "    denominator = tf.reduce_sum(y_true + y_pred)\n",
        "    return numerator / (denominator + tf.keras.backend.epsilon())#### Add your code here ####"
      ],
      "execution_count": 0,
      "outputs": []
    },
    {
      "cell_type": "code",
      "metadata": {
        "id": "1AJ00R8xP1BO",
        "colab_type": "code",
        "colab": {}
      },
      "source": [
        "from tensorflow.keras.losses import binary_crossentropy\n",
        "from tensorflow.keras.backend import log, epsilon\n",
        "def loss(y_true, y_pred):\n",
        "    return binary_crossentropy(y_true, y_pred) - log(dice_coefficient(y_true, y_pred) + epsilon())"
      ],
      "execution_count": 0,
      "outputs": []
    },
    {
      "cell_type": "code",
      "metadata": {
        "id": "wj15mt40P2_D",
        "colab_type": "code",
        "colab": {}
      },
      "source": [
        "#### Add your code here ####\n",
        "from tensorflow.keras.optimizers import Adam\n",
        "optimizer = Adam(lr=1e-4, beta_1=0.9, beta_2=0.999, epsilon=None, decay=0.0, amsgrad=False)\n",
        "model.compile(loss=loss, optimizer=optimizer, metrics=[dice_coefficient])"
      ],
      "execution_count": 0,
      "outputs": []
    },
    {
      "cell_type": "code",
      "metadata": {
        "id": "cXfU4ttZP5XM",
        "colab_type": "code",
        "outputId": "1740ea23-560d-49f0-e2e1-013e1737a622",
        "colab": {
          "base_uri": "https://localhost:8080/",
          "height": 34
        }
      },
      "source": [
        "from tensorflow.keras.callbacks import ModelCheckpoint, EarlyStopping, ReduceLROnPlateau\n",
        "checkpoint = ModelCheckpoint(\"model-{loss:.2f}.h5\", monitor=\"loss\", verbose=1, save_best_only=True,\n",
        "                             save_weights_only=True, mode=\"min\", period=1)\n",
        "stop = EarlyStopping(monitor=\"loss\", patience=5, mode=\"min\")\n",
        "reduce_lr = ReduceLROnPlateau(monitor=\"loss\", factor=0.2, patience=5, min_lr=1e-6, verbose=1, mode=\"min\")"
      ],
      "execution_count": 0,
      "outputs": [
        {
          "output_type": "stream",
          "text": [
            "WARNING:tensorflow:`period` argument is deprecated. Please use `save_freq` to specify the frequency in number of batches seen.\n"
          ],
          "name": "stdout"
        }
      ]
    },
    {
      "cell_type": "markdown",
      "metadata": {
        "id": "S02te4uT67Aa",
        "colab_type": "text"
      },
      "source": [
        "### Train the model on the training dataset"
      ]
    },
    {
      "cell_type": "code",
      "metadata": {
        "id": "hVFjoI3yEPcK",
        "colab_type": "code",
        "outputId": "92825f18-d154-4ab3-c08c-fc93d1001b0e",
        "colab": {
          "base_uri": "https://localhost:8080/",
          "height": 544
        }
      },
      "source": [
        "batch_size = 8\n",
        "model.fit_generator(X_train_gen,\n",
        "                    epochs=10,\n",
        "                    steps_per_epoch = len(X_train_gen)/batch_size,\n",
        "                    validation_data=X_Val_gen,\n",
        "                    validation_steps = len(X_train_gen)/batch_size*2,\n",
        "                    callbacks=[checkpoint, reduce_lr, stop])"
      ],
      "execution_count": 0,
      "outputs": [
        {
          "output_type": "stream",
          "text": [
            "Epoch 1/10\n",
            "251/250 [==============================] - ETA: -4s - loss: -77.2638 - dice_coefficient: 1.4590\n",
            "Epoch 00001: loss improved from inf to -77.26376, saving model to model--77.26.h5\n",
            "251/250 [==============================] - 4321s 17s/step - loss: -77.2638 - dice_coefficient: 1.4590 - val_loss: -91.9933 - val_dice_coefficient: 1.5246 - lr: 1.0000e-04\n",
            "Epoch 2/10\n",
            "251/250 [==============================] - ETA: -4s - loss: -100.1060 - dice_coefficient: 1.4808\n",
            "Epoch 00002: loss improved from -77.26376 to -100.10599, saving model to model--100.11.h5\n",
            "251/250 [==============================] - 2426s 10s/step - loss: -100.1060 - dice_coefficient: 1.4808 - val_loss: -97.8096 - val_dice_coefficient: 1.5213 - lr: 1.0000e-04\n",
            "Epoch 3/10\n",
            "251/250 [==============================] - ETA: -4s - loss: -91.7402 - dice_coefficient: 1.5029\n",
            "Epoch 00003: loss did not improve from -100.10599\n",
            "251/250 [==============================] - 1953s 8s/step - loss: -91.7402 - dice_coefficient: 1.5029 - val_loss: -98.4721 - val_dice_coefficient: 1.5723 - lr: 1.0000e-04\n",
            "Epoch 4/10\n",
            "251/250 [==============================] - ETA: -4s - loss: -93.4161 - dice_coefficient: 1.6051\n",
            "Epoch 00004: loss did not improve from -100.10599\n",
            "251/250 [==============================] - 1871s 7s/step - loss: -93.4161 - dice_coefficient: 1.6051 - val_loss: -102.8023 - val_dice_coefficient: 1.5629 - lr: 1.0000e-04\n",
            "Epoch 5/10\n",
            "251/250 [==============================] - ETA: -4s - loss: -91.7432 - dice_coefficient: 1.5014\n",
            "Epoch 00005: loss did not improve from -100.10599\n",
            "251/250 [==============================] - 1855s 7s/step - loss: -91.7432 - dice_coefficient: 1.5014 - val_loss: -99.0783 - val_dice_coefficient: 1.5861 - lr: 1.0000e-04\n",
            "Epoch 6/10\n",
            "251/250 [==============================] - ETA: -4s - loss: -87.0560 - dice_coefficient: 1.5296\n",
            "Epoch 00006: loss did not improve from -100.10599\n",
            "251/250 [==============================] - 1853s 7s/step - loss: -87.0560 - dice_coefficient: 1.5296 - val_loss: -101.9807 - val_dice_coefficient: 1.5718 - lr: 1.0000e-04\n",
            "Epoch 7/10\n",
            "251/250 [==============================] - ETA: -4s - loss: -97.5736 - dice_coefficient: 1.6406\n",
            "Epoch 00007: loss did not improve from -100.10599\n",
            "\n",
            "Epoch 00007: ReduceLROnPlateau reducing learning rate to 1.9999999494757503e-05.\n",
            "251/250 [==============================] - 1854s 7s/step - loss: -97.5736 - dice_coefficient: 1.6406 - val_loss: -98.5844 - val_dice_coefficient: 1.6130 - lr: 1.0000e-04\n"
          ],
          "name": "stdout"
        },
        {
          "output_type": "execute_result",
          "data": {
            "text/plain": [
              "<tensorflow.python.keras.callbacks.History at 0x7f596416cd30>"
            ]
          },
          "metadata": {
            "tags": []
          },
          "execution_count": 28
        }
      ]
    }
  ]
}