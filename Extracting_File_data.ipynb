{
  "nbformat": 4,
  "nbformat_minor": 0,
  "metadata": {
    "kernelspec": {
      "display_name": "Python 3",
      "language": "python",
      "name": "python3"
    },
    "language_info": {
      "codemirror_mode": {
        "name": "ipython",
        "version": 3
      },
      "file_extension": ".py",
      "mimetype": "text/x-python",
      "name": "python",
      "nbconvert_exporter": "python",
      "pygments_lexer": "ipython3",
      "version": "3.6.8"
    },
    "colab": {
      "name": "Extracting_File_data.ipynb",
      "provenance": [],
      "collapsed_sections": []
    }
  },
  "cells": [
    {
      "cell_type": "code",
      "metadata": {
        "id": "gEWwRzLtKFP_",
        "colab_type": "code",
        "colab": {}
      },
      "source": [
        "from pydicom.data import get_testdata_files\n",
        "import pydicom\n",
        "import os\n",
        "import csv\n",
        "from google.colab import drive"
      ],
      "execution_count": 0,
      "outputs": []
    },
    {
      "cell_type": "code",
      "metadata": {
        "id": "x7V9K3N5KFQP",
        "colab_type": "code",
        "colab": {
          "base_uri": "https://localhost:8080/",
          "height": 34
        },
        "outputId": "477b63dd-5212-4e15-97a7-2f8f07735cec"
      },
      "source": [
        "drive.mount('/content/drive') #mouting drive"
      ],
      "execution_count": 2,
      "outputs": [
        {
          "output_type": "stream",
          "text": [
            "Drive already mounted at /content/drive; to attempt to forcibly remount, call drive.mount(\"/content/drive\", force_remount=True).\n"
          ],
          "name": "stdout"
        }
      ]
    },
    {
      "cell_type": "code",
      "metadata": {
        "id": "bUUzVKFKKFQT",
        "colab_type": "code",
        "colab": {}
      },
      "source": [
        "os.chdir('drive/My Drive/Capstone/') #changing the current directory path to the project direcotry where the dataset is available"
      ],
      "execution_count": 0,
      "outputs": []
    },
    {
      "cell_type": "code",
      "metadata": {
        "scrolled": true,
        "id": "S5OIaWCqKFQb",
        "colab_type": "code",
        "colab": {}
      },
      "source": [
        "# unzipping the dataset\n",
        "from zipfile import ZipFile\n",
        "with ZipFile('stage_2_train_images.zip','r') as unzip:\n",
        "    unzip.extractall()"
      ],
      "execution_count": 0,
      "outputs": []
    },
    {
      "cell_type": "code",
      "metadata": {
        "id": "AXJv0R-SO0As",
        "colab_type": "code",
        "colab": {}
      },
      "source": [
        "os.chdir('stage_2_train_images/')\n",
        "path = os.getcwd() # directory path of all the images\n"
      ],
      "execution_count": 0,
      "outputs": []
    },
    {
      "cell_type": "code",
      "metadata": {
        "id": "Fp9-QRrAKFQk",
        "colab_type": "code",
        "colab": {
          "base_uri": "https://localhost:8080/",
          "height": 34
        },
        "outputId": "ed41593f-9aff-409a-dc9b-d9472af578ad"
      },
      "source": [
        "path"
      ],
      "execution_count": 7,
      "outputs": [
        {
          "output_type": "execute_result",
          "data": {
            "text/plain": [
              "'/content/drive/My Drive/Capstone/stage_2_train_images'"
            ]
          },
          "metadata": {
            "tags": []
          },
          "execution_count": 7
        }
      ]
    },
    {
      "cell_type": "code",
      "metadata": {
        "id": "Q7zzBZ76KFQ-",
        "colab_type": "code",
        "colab": {}
      },
      "source": [
        "fields= [\"patientID\",\"Patient's Sex\",\"Patient's Age\",\"Body Part Examined\",\"View Position\"] # metadata related to all the dicom pictures which can be used for any kind of analysis"
      ],
      "execution_count": 0,
      "outputs": []
    },
    {
      "cell_type": "code",
      "metadata": {
        "id": "DhelLYmoKFRC",
        "colab_type": "code",
        "colab": {}
      },
      "source": [
        "with open('../metafile.csv','w') as metafile: # Final csv file having metadata of all the dicom pictures\n",
        "    wr = csv.writer(metafile,delimiter=',')\n",
        "    wr.writerow(fields)\n",
        "    for dir_name,subdir,filelist in os.walk(path):\n",
        "        row = []\n",
        "        for i in filelist:\n",
        "            im = pydicom.dcmread(dir_name+'/'+i)\n",
        "            wr.writerow([im.PatientID,im.PatientSex,im.PatientAge,im.BodyPartExamined,im.ViewPosition])\n",
        "                        \n",
        "            \n",
        "    \n",
        "    "
      ],
      "execution_count": 0,
      "outputs": []
    },
    {
      "cell_type": "code",
      "metadata": {
        "id": "WRckSDI0OxzA",
        "colab_type": "code",
        "colab": {
          "base_uri": "https://localhost:8080/",
          "height": 34
        },
        "outputId": "e79d9adc-30b0-4be9-ca55-7d90101d48bb"
      },
      "source": [
        "!ls"
      ],
      "execution_count": 14,
      "outputs": [
        {
          "output_type": "stream",
          "text": [
            "metafile.csv  stage_2_train_images  stage_2_train_images.zip\n"
          ],
          "name": "stdout"
        }
      ]
    }
  ]
}