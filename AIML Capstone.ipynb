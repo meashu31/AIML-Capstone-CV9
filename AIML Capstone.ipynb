{
 "cells": [
  {
   "cell_type": "markdown",
   "metadata": {},
   "source": [
    "### Importing all the python Libraries"
   ]
  },
  {
   "cell_type": "code",
   "execution_count": 243,
   "metadata": {},
   "outputs": [],
   "source": [
    "import numpy as np\n",
    "import pandas as pd\n",
    "import os\n",
    "import sys\n",
    "import math\n",
    "import cv2\n",
    "import seaborn as sns\n",
    "import tensorflow as tf\n",
    "\n",
    "# To calculate accuracy measures and confusion matrix\n",
    "from sklearn import metrics\n",
    "# To get Recall and precision values\n",
    "from sklearn.metrics import classification_report\n",
    "\n",
    "# !pip install -q pydicom\n",
    "# After installing pydicom. This is needed to load .dcm files\n",
    "import pydicom\n",
    "import pydicom as dcm\n",
    "from pydicom import dcmread\n",
    "\n",
    "from matplotlib import pyplot\n",
    "import matplotlib.patches as patches\n",
    "\n",
    "from skimage import measure\n",
    "from skimage.transform import resize\n",
    "\n",
    "import tensorflow.keras.utils as pltUtil\n",
    "from tensorflow.keras.utils import Sequence\n",
    "\n",
    "from tensorflow.keras.layers import Layer\n",
    "from tensorflow.keras.layers import Concatenate, UpSampling2D, Conv2D, Reshape, BatchNormalization, Activation\n",
    "from tensorflow.keras.models import Model\n",
    "\n",
    "from tensorflow.keras.applications.mobilenet import MobileNet\n",
    "from tensorflow.keras.applications.mobilenet import preprocess_input \n",
    "\n",
    "from tensorflow.keras.optimizers import Adam\n",
    "from tensorflow.keras.callbacks import ModelCheckpoint, EarlyStopping, ReduceLROnPlateau\n",
    "\n",
    "from tensorflow.keras.applications.resnet import ResNet50\n",
    "from tensorflow.keras.applications.resnet import preprocess_input as resnetProcess_input\n"
   ]
  },
  {
   "cell_type": "markdown",
   "metadata": {},
   "source": [
    "#### Setting up project path"
   ]
  },
  {
   "cell_type": "code",
   "execution_count": 292,
   "metadata": {},
   "outputs": [],
   "source": [
    "# Load train set image metadata\n",
    "dataDirPath = 'C:/Users/ashu/Downloads/rsna-pneumonia-detection-challenge/'\n",
    "\n",
    "Train_Image_path = dataDirPath + 'stage_2_train_images'\n",
    "\n",
    "SAVED_FILES_ROOT = 'C:/Users/ashu/Downloads/rsna-pneumonia-detection-challenge/input/reportfiles/'"
   ]
  },
  {
   "cell_type": "markdown",
   "metadata": {},
   "source": [
    "### Function definations"
   ]
  },
  {
   "cell_type": "markdown",
   "metadata": {},
   "source": [
    "#### Function to load the metadata from images"
   ]
  },
  {
   "cell_type": "code",
   "execution_count": 245,
   "metadata": {},
   "outputs": [],
   "source": [
    "class ImageMetadata():\n",
    "    \"\"\"Structure to hold image metadata\n",
    "\n",
    "    Arguments:\n",
    "        setName -- name of the data set\n",
    "\n",
    "        file -- file name\n",
    "    \"\"\"\n",
    "    \n",
    "    def __init__(self, setName, file):\n",
    "        # print(name, file)\n",
    "        # dataset name(train or test)\n",
    "        self.setName = setName\n",
    "        # image file name\n",
    "        self.file = file\n",
    "\n",
    "    def __repr__(self):\n",
    "        return self.imagePath()\n",
    "\n",
    "    def imagePath(self):\n",
    "        return os.path.join(self.setName, self.file) \n",
    "    \n",
    "\n",
    "# function to load image metadada   \n",
    "def loadImageMetadata(dataSetName):\n",
    "    \"\"\"Load image file names from the images from dataset\n",
    "\n",
    "    Arguments:\n",
    "        dataSetName -- path of the data set folder\n",
    "    \"\"\"\n",
    "    imageMetadata = []\n",
    "    for f in os.listdir(dataSetName):\n",
    "        # Check file extension. Allow only .dcm files.\n",
    "        ext = os.path.splitext(f)[1]\n",
    "        if ext == '.dcm' :\n",
    "            imageMetadata.append(ImageMetadata(dataSetName, f))\n",
    "            \n",
    "    # Return an array of filenames\n",
    "    return np.array(imageMetadata)"
   ]
  },
  {
   "cell_type": "markdown",
   "metadata": {},
   "source": [
    "#### Functions to load image and patientId(file name) from the given path"
   ]
  },
  {
   "cell_type": "code",
   "execution_count": 246,
   "metadata": {},
   "outputs": [],
   "source": [
    "def loadImage(path):\n",
    "    \"\"\"Load image from the path \n",
    "\n",
    "    Arguments:\n",
    "        path -- path of the image\n",
    "    \"\"\"\n",
    "    img = pydicom.dcmread(path)\n",
    "    \n",
    "    # Return image\n",
    "    return img\n",
    "\n",
    "\n",
    "def getImgId(imgPath) :\n",
    "    \"\"\"Get image name which is patientId from the given image path \n",
    "\n",
    "    Arguments:\n",
    "        imgPath -- path of the image\n",
    "    \"\"\"\n",
    "    head, tail = os.path.split(str(imgPath))\n",
    "    \n",
    "    \n",
    "    arrOfStr = str(tail.split(\".dcm\")[0].split(\"/\")) \n",
    "    arrOfStr = arrOfStr.split(); \n",
    "  \n",
    "    # String to store the resultant String \n",
    "    res =''; \n",
    "  \n",
    "    # Traverse the words and \n",
    "    # remove the first and last letter \n",
    "    for a in arrOfStr : \n",
    "        res += a[2:len(a) - 2] ; \n",
    "   \n",
    "    # Return patientId \n",
    "    return str(res).replace(\" \", \"\")"
   ]
  },
  {
   "cell_type": "markdown",
   "metadata": {},
   "source": [
    "#### Getting Metadata Information"
   ]
  },
  {
   "cell_type": "code",
   "execution_count": 247,
   "metadata": {},
   "outputs": [
    {
     "name": "stdout",
     "output_type": "stream",
     "text": [
      "trainSetImageMetadata.shape :  (26684,)\n",
      "Sample image path :  C:/Users/ashu/Downloads/rsna-pneumonia-detection-challenge/stage_2_train_images\\0004cfab-14fd-4e49-80ba-63a80b6bddd6.dcm\n"
     ]
    },
    {
     "data": {
      "text/plain": [
       "array([C:/Users/ashu/Downloads/rsna-pneumonia-detection-challenge/stage_2_train_images\\0004cfab-14fd-4e49-80ba-63a80b6bddd6.dcm,\n",
       "       C:/Users/ashu/Downloads/rsna-pneumonia-detection-challenge/stage_2_train_images\\000924cf-0f8d-42bd-9158-1af53881a557.dcm,\n",
       "       C:/Users/ashu/Downloads/rsna-pneumonia-detection-challenge/stage_2_train_images\\000db696-cf54-4385-b10b-6b16fbb3f985.dcm,\n",
       "       ...,\n",
       "       C:/Users/ashu/Downloads/rsna-pneumonia-detection-challenge/stage_2_train_images\\fffc95b5-605b-4226-80ab-62caec682b22.dcm,\n",
       "       C:/Users/ashu/Downloads/rsna-pneumonia-detection-challenge/stage_2_train_images\\fffcff11-d018-4414-971a-a7cefa327795.dcm,\n",
       "       C:/Users/ashu/Downloads/rsna-pneumonia-detection-challenge/stage_2_train_images\\fffec09e-8a4a-48b1-b33e-ab4890ccd136.dcm],\n",
       "      dtype=object)"
      ]
     },
     "execution_count": 247,
     "metadata": {},
     "output_type": "execute_result"
    }
   ],
   "source": [
    "trainSetImageMetadata = loadImageMetadata(Train_Image_path)\n",
    "\n",
    "print(\"trainSetImageMetadata.shape : \", trainSetImageMetadata.shape)\n",
    "\n",
    "print(\"Sample image path : \", trainSetImageMetadata[0])\n",
    "trainSetImageMetadata"
   ]
  },
  {
   "cell_type": "markdown",
   "metadata": {},
   "source": [
    "#### Insights from Metadata\n",
    "\n",
    "There are 26684 images in the Training data\n",
    "These are DICOM Images which has pixel information as well as several tags added to it like patientid, age,gender etc."
   ]
  },
  {
   "cell_type": "markdown",
   "metadata": {},
   "source": [
    "#### Loaging a sample Image"
   ]
  },
  {
   "cell_type": "code",
   "execution_count": 248,
   "metadata": {},
   "outputs": [
    {
     "data": {
      "text/plain": [
       "<matplotlib.image.AxesImage at 0x203be27c508>"
      ]
     },
     "execution_count": 248,
     "metadata": {},
     "output_type": "execute_result"
    },
    {
     "data": {
      "image/png": "[encoded data removed]",
      "text/plain": [
       "<Figure size 432x288 with 1 Axes>"
      ]
     },
     "metadata": {
      "needs_background": "light"
     },
     "output_type": "display_data"
    }
   ],
   "source": [
    "# with given index\n",
    "import pydicom as dicom\n",
    "import matplotlib.pylab as plt\n",
    "imgIndex = 4\n",
    "imgPath = trainSetImageMetadata[imgIndex]\n",
    "imgPath = imgPath.imagePath()\n",
    "ds = dicom.dcmread(imgPath)\n",
    "plt.imshow(ds.pixel_array)"
   ]
  },
  {
   "cell_type": "markdown",
   "metadata": {},
   "source": [
    "#### Preparing Dataset with patient id and respective image paths"
   ]
  },
  {
   "cell_type": "code",
   "execution_count": 249,
   "metadata": {},
   "outputs": [
    {
     "name": "stdout",
     "output_type": "stream",
     "text": [
      "imageIdPaths (26684, 2)\n",
      "C:/Users/ashu/Downloads/rsna-pneumonia-detection-challenge/stage_2_train_images\\000db696-cf54-4385-b10b-6b16fbb3f985.dcm\n",
      "000db696-cf54-4385-b10b-6b16fbb3f985\n"
     ]
    }
   ],
   "source": [
    "from pandas.compat import StringIO\n",
    "trainSetImageMetadata_df = pd.DataFrame(trainSetImageMetadata, columns=[\"Path\"])\n",
    "trainSetImageMetadata_df.head(2)\n",
    "\n",
    "imageIdPaths = pd.DataFrame(columns=[\"patientId\", \"imgPath\"])\n",
    "imageIdPaths[\"patientId\"] = trainSetImageMetadata_df[\"Path\"].apply(getImgId)\n",
    "imageIdPaths[\"imgPath\"] = trainSetImageMetadata_df[\"Path\"]\n",
    "\n",
    "print(\"imageIdPaths\", imageIdPaths.shape)\n",
    "imageIdPaths.head(2)\n",
    "print(imageIdPaths[\"imgPath\"][2])\n",
    "print((imageIdPaths[\"patientId\"][2]))"
   ]
  },
  {
   "cell_type": "markdown",
   "metadata": {},
   "source": [
    "# Exploratory Data Analysis on Train Labels and Detail Info CSV data sets"
   ]
  },
  {
   "cell_type": "markdown",
   "metadata": {},
   "source": [
    "**Analyzing Detailed Classes CSV file**"
   ]
  },
  {
   "cell_type": "markdown",
   "metadata": {},
   "source": [
    "Step 1 -> Define and read the Detail_Info CSV File "
   ]
  },
  {
   "cell_type": "code",
   "execution_count": 250,
   "metadata": {},
   "outputs": [
    {
     "data": {
      "text/html": [
       "<div>\n",
       "<style scoped>\n",
       "    .dataframe tbody tr th:only-of-type {\n",
       "        vertical-align: middle;\n",
       "    }\n",
       "\n",
       "    .dataframe tbody tr th {\n",
       "        vertical-align: top;\n",
       "    }\n",
       "\n",
       "    .dataframe thead th {\n",
       "        text-align: right;\n",
       "    }\n",
       "</style>\n",
       "<table border=\"1\" class=\"dataframe\">\n",
       "  <thead>\n",
       "    <tr style=\"text-align: right;\">\n",
       "      <th></th>\n",
       "      <th>patientId</th>\n",
       "      <th>class</th>\n",
       "    </tr>\n",
       "  </thead>\n",
       "  <tbody>\n",
       "    <tr>\n",
       "      <th>0</th>\n",
       "      <td>0004cfab-14fd-4e49-80ba-63a80b6bddd6</td>\n",
       "      <td>No Lung Opacity / Not Normal</td>\n",
       "    </tr>\n",
       "    <tr>\n",
       "      <th>1</th>\n",
       "      <td>00313ee0-9eaa-42f4-b0ab-c148ed3241cd</td>\n",
       "      <td>No Lung Opacity / Not Normal</td>\n",
       "    </tr>\n",
       "  </tbody>\n",
       "</table>\n",
       "</div>"
      ],
      "text/plain": [
       "                              patientId                         class\n",
       "0  0004cfab-14fd-4e49-80ba-63a80b6bddd6  No Lung Opacity / Not Normal\n",
       "1  00313ee0-9eaa-42f4-b0ab-c148ed3241cd  No Lung Opacity / Not Normal"
      ]
     },
     "execution_count": 250,
     "metadata": {},
     "output_type": "execute_result"
    }
   ],
   "source": [
    "classesPath =  dataDirPath + 'stage_2_detailed_class_info.csv'\n",
    "\n",
    "detailedClasses = pd.read_csv(classesPath)\n",
    "\n",
    "detailedClasses.head(2)"
   ]
  },
  {
   "cell_type": "markdown",
   "metadata": {},
   "source": [
    "Step 2 -> Check for Missing Values\n"
   ]
  },
  {
   "cell_type": "code",
   "execution_count": 251,
   "metadata": {},
   "outputs": [
    {
     "data": {
      "text/html": [
       "<div>\n",
       "<style scoped>\n",
       "    .dataframe tbody tr th:only-of-type {\n",
       "        vertical-align: middle;\n",
       "    }\n",
       "\n",
       "    .dataframe tbody tr th {\n",
       "        vertical-align: top;\n",
       "    }\n",
       "\n",
       "    .dataframe thead th {\n",
       "        text-align: right;\n",
       "    }\n",
       "</style>\n",
       "<table border=\"1\" class=\"dataframe\">\n",
       "  <thead>\n",
       "    <tr style=\"text-align: right;\">\n",
       "      <th></th>\n",
       "      <th>patientId</th>\n",
       "      <th>class</th>\n",
       "    </tr>\n",
       "  </thead>\n",
       "  <tbody>\n",
       "    <tr>\n",
       "      <th>False</th>\n",
       "      <td>30227</td>\n",
       "      <td>30227</td>\n",
       "    </tr>\n",
       "  </tbody>\n",
       "</table>\n",
       "</div>"
      ],
      "text/plain": [
       "       patientId  class\n",
       "False      30227  30227"
      ]
     },
     "execution_count": 251,
     "metadata": {},
     "output_type": "execute_result"
    }
   ],
   "source": [
    "detailedClasses.isna().apply(pd.value_counts)"
   ]
  },
  {
   "cell_type": "markdown",
   "metadata": {},
   "source": [
    "No Missing Values found"
   ]
  },
  {
   "cell_type": "markdown",
   "metadata": {},
   "source": [
    "Step 3 -> Checking the shape of data frame"
   ]
  },
  {
   "cell_type": "code",
   "execution_count": 252,
   "metadata": {},
   "outputs": [
    {
     "name": "stdout",
     "output_type": "stream",
     "text": [
      "detailedClasses.shape :  (30227, 2)\n"
     ]
    }
   ],
   "source": [
    "print(\"detailedClasses.shape : \", detailedClasses.shape)\n",
    "\n",
    "# File has 30227 rows and 2 columns - PatientID & Class"
   ]
  },
  {
   "cell_type": "markdown",
   "metadata": {},
   "source": [
    "Step 3 -> Checking Unique Patients"
   ]
  },
  {
   "cell_type": "code",
   "execution_count": 253,
   "metadata": {},
   "outputs": [
    {
     "name": "stdout",
     "output_type": "stream",
     "text": [
      "Unique patientIds :  26684\n"
     ]
    }
   ],
   "source": [
    "print(\"Unique patientIds : \", detailedClasses['patientId'].nunique())"
   ]
  },
  {
   "cell_type": "markdown",
   "metadata": {},
   "source": [
    "Total number of unique patients in data - 26684\n",
    "\n",
    "**Observation - As we have total 30227 records and out of that 26684 are unique records, this shows presence of multiple records for some patients**"
   ]
  },
  {
   "cell_type": "markdown",
   "metadata": {},
   "source": [
    "Step 4 -> Checking unique Classes"
   ]
  },
  {
   "cell_type": "code",
   "execution_count": 254,
   "metadata": {},
   "outputs": [
    {
     "name": "stdout",
     "output_type": "stream",
     "text": [
      "Unique patientIds :  3\n",
      "<bound method Series.unique of 0        No Lung Opacity / Not Normal\n",
      "1        No Lung Opacity / Not Normal\n",
      "2        No Lung Opacity / Not Normal\n",
      "3                              Normal\n",
      "4                        Lung Opacity\n",
      "5                        Lung Opacity\n",
      "6        No Lung Opacity / Not Normal\n",
      "7        No Lung Opacity / Not Normal\n",
      "8                        Lung Opacity\n",
      "9                        Lung Opacity\n",
      "10       No Lung Opacity / Not Normal\n",
      "11                             Normal\n",
      "12                             Normal\n",
      "13                             Normal\n",
      "14                       Lung Opacity\n",
      "15                       Lung Opacity\n",
      "16                       Lung Opacity\n",
      "17                       Lung Opacity\n",
      "18       No Lung Opacity / Not Normal\n",
      "19                       Lung Opacity\n",
      "20                       Lung Opacity\n",
      "21                             Normal\n",
      "22                       Lung Opacity\n",
      "23                             Normal\n",
      "24                       Lung Opacity\n",
      "25                       Lung Opacity\n",
      "26       No Lung Opacity / Not Normal\n",
      "27                       Lung Opacity\n",
      "28                       Lung Opacity\n",
      "29       No Lung Opacity / Not Normal\n",
      "                     ...             \n",
      "30197                    Lung Opacity\n",
      "30198                    Lung Opacity\n",
      "30199                    Lung Opacity\n",
      "30200                    Lung Opacity\n",
      "30201                    Lung Opacity\n",
      "30202                    Lung Opacity\n",
      "30203                    Lung Opacity\n",
      "30204                          Normal\n",
      "30205                    Lung Opacity\n",
      "30206    No Lung Opacity / Not Normal\n",
      "30207    No Lung Opacity / Not Normal\n",
      "30208                    Lung Opacity\n",
      "30209                    Lung Opacity\n",
      "30210                          Normal\n",
      "30211                          Normal\n",
      "30212                          Normal\n",
      "30213                          Normal\n",
      "30214                    Lung Opacity\n",
      "30215                    Lung Opacity\n",
      "30216                          Normal\n",
      "30217    No Lung Opacity / Not Normal\n",
      "30218                          Normal\n",
      "30219                    Lung Opacity\n",
      "30220                    Lung Opacity\n",
      "30221                    Lung Opacity\n",
      "30222                    Lung Opacity\n",
      "30223                          Normal\n",
      "30224                          Normal\n",
      "30225                    Lung Opacity\n",
      "30226                    Lung Opacity\n",
      "Name: class, Length: 30227, dtype: object>\n"
     ]
    }
   ],
   "source": [
    "print(\"Unique patientIds : \", detailedClasses['class'].nunique(), )\n",
    "\n",
    "print(detailedClasses['class'].unique)"
   ]
  },
  {
   "cell_type": "markdown",
   "metadata": {},
   "source": [
    "3 Unique classes observed \n",
    "1 - No Lung Opacity/Not Normal,\n",
    "2 - Normal,\n",
    "3 - Lung Opacity"
   ]
  },
  {
   "cell_type": "code",
   "execution_count": 255,
   "metadata": {},
   "outputs": [
    {
     "data": {
      "text/plain": [
       "<matplotlib.axes._subplots.AxesSubplot at 0x203c3889588>"
      ]
     },
     "execution_count": 255,
     "metadata": {},
     "output_type": "execute_result"
    },
    {
     "data": {
      "image/png": "[encoded data removed]",
      "text/plain": [
       "<Figure size 432x288 with 1 Axes>"
      ]
     },
     "metadata": {
      "needs_background": "light"
     },
     "output_type": "display_data"
    }
   ],
   "source": [
    "sns.countplot(x=\"class\",hue=\"class\",data=detailedClasses)"
   ]
  },
  {
   "cell_type": "markdown",
   "metadata": {},
   "source": [
    "#### Analyzing Train Lables Dataset"
   ]
  },
  {
   "cell_type": "markdown",
   "metadata": {},
   "source": [
    "Step 1 -> Reading the data "
   ]
  },
  {
   "cell_type": "code",
   "execution_count": 256,
   "metadata": {},
   "outputs": [
    {
     "data": {
      "text/html": [
       "<div>\n",
       "<style scoped>\n",
       "    .dataframe tbody tr th:only-of-type {\n",
       "        vertical-align: middle;\n",
       "    }\n",
       "\n",
       "    .dataframe tbody tr th {\n",
       "        vertical-align: top;\n",
       "    }\n",
       "\n",
       "    .dataframe thead th {\n",
       "        text-align: right;\n",
       "    }\n",
       "</style>\n",
       "<table border=\"1\" class=\"dataframe\">\n",
       "  <thead>\n",
       "    <tr style=\"text-align: right;\">\n",
       "      <th></th>\n",
       "      <th>patientId</th>\n",
       "      <th>x</th>\n",
       "      <th>y</th>\n",
       "      <th>width</th>\n",
       "      <th>height</th>\n",
       "      <th>Target</th>\n",
       "    </tr>\n",
       "  </thead>\n",
       "  <tbody>\n",
       "    <tr>\n",
       "      <th>0</th>\n",
       "      <td>0004cfab-14fd-4e49-80ba-63a80b6bddd6</td>\n",
       "      <td>NaN</td>\n",
       "      <td>NaN</td>\n",
       "      <td>NaN</td>\n",
       "      <td>NaN</td>\n",
       "      <td>0</td>\n",
       "    </tr>\n",
       "    <tr>\n",
       "      <th>1</th>\n",
       "      <td>00313ee0-9eaa-42f4-b0ab-c148ed3241cd</td>\n",
       "      <td>NaN</td>\n",
       "      <td>NaN</td>\n",
       "      <td>NaN</td>\n",
       "      <td>NaN</td>\n",
       "      <td>0</td>\n",
       "    </tr>\n",
       "  </tbody>\n",
       "</table>\n",
       "</div>"
      ],
      "text/plain": [
       "                              patientId   x   y  width  height  Target\n",
       "0  0004cfab-14fd-4e49-80ba-63a80b6bddd6 NaN NaN    NaN     NaN       0\n",
       "1  00313ee0-9eaa-42f4-b0ab-c148ed3241cd NaN NaN    NaN     NaN       0"
      ]
     },
     "execution_count": 256,
     "metadata": {},
     "output_type": "execute_result"
    }
   ],
   "source": [
    "labelsPath = dataDirPath + 'stage_2_train_labels.csv'\n",
    "\n",
    "trainLabels = pd.read_csv(labelsPath)\n",
    "\n",
    "trainLabels.head(2)"
   ]
  },
  {
   "cell_type": "markdown",
   "metadata": {},
   "source": [
    "Step 2 -> Checking the missing values if any"
   ]
  },
  {
   "cell_type": "code",
   "execution_count": 257,
   "metadata": {},
   "outputs": [
    {
     "data": {
      "text/html": [
       "<div>\n",
       "<style scoped>\n",
       "    .dataframe tbody tr th:only-of-type {\n",
       "        vertical-align: middle;\n",
       "    }\n",
       "\n",
       "    .dataframe tbody tr th {\n",
       "        vertical-align: top;\n",
       "    }\n",
       "\n",
       "    .dataframe thead th {\n",
       "        text-align: right;\n",
       "    }\n",
       "</style>\n",
       "<table border=\"1\" class=\"dataframe\">\n",
       "  <thead>\n",
       "    <tr style=\"text-align: right;\">\n",
       "      <th></th>\n",
       "      <th>patientId</th>\n",
       "      <th>x</th>\n",
       "      <th>y</th>\n",
       "      <th>width</th>\n",
       "      <th>height</th>\n",
       "      <th>Target</th>\n",
       "    </tr>\n",
       "  </thead>\n",
       "  <tbody>\n",
       "    <tr>\n",
       "      <th>False</th>\n",
       "      <td>30227.0</td>\n",
       "      <td>9555</td>\n",
       "      <td>9555</td>\n",
       "      <td>9555</td>\n",
       "      <td>9555</td>\n",
       "      <td>30227.0</td>\n",
       "    </tr>\n",
       "    <tr>\n",
       "      <th>True</th>\n",
       "      <td>NaN</td>\n",
       "      <td>20672</td>\n",
       "      <td>20672</td>\n",
       "      <td>20672</td>\n",
       "      <td>20672</td>\n",
       "      <td>NaN</td>\n",
       "    </tr>\n",
       "  </tbody>\n",
       "</table>\n",
       "</div>"
      ],
      "text/plain": [
       "       patientId      x      y  width  height   Target\n",
       "False    30227.0   9555   9555   9555    9555  30227.0\n",
       "True         NaN  20672  20672  20672   20672      NaN"
      ]
     },
     "execution_count": 257,
     "metadata": {},
     "output_type": "execute_result"
    }
   ],
   "source": [
    "trainLabels.isna().apply(pd.value_counts)"
   ]
  },
  {
   "cell_type": "markdown",
   "metadata": {},
   "source": [
    "#### Observation - For around 20672 patients Bounding box cordinates not available where as for 9555 patients its avaialable"
   ]
  },
  {
   "cell_type": "code",
   "execution_count": 258,
   "metadata": {},
   "outputs": [
    {
     "data": {
      "text/html": [
       "<div>\n",
       "<style scoped>\n",
       "    .dataframe tbody tr th:only-of-type {\n",
       "        vertical-align: middle;\n",
       "    }\n",
       "\n",
       "    .dataframe tbody tr th {\n",
       "        vertical-align: top;\n",
       "    }\n",
       "\n",
       "    .dataframe thead th {\n",
       "        text-align: right;\n",
       "    }\n",
       "</style>\n",
       "<table border=\"1\" class=\"dataframe\">\n",
       "  <thead>\n",
       "    <tr style=\"text-align: right;\">\n",
       "      <th></th>\n",
       "      <th>patientId</th>\n",
       "      <th>x</th>\n",
       "      <th>y</th>\n",
       "      <th>width</th>\n",
       "      <th>height</th>\n",
       "      <th>Target</th>\n",
       "    </tr>\n",
       "  </thead>\n",
       "  <tbody>\n",
       "    <tr>\n",
       "      <th>0</th>\n",
       "      <td>0004cfab-14fd-4e49-80ba-63a80b6bddd6</td>\n",
       "      <td>NaN</td>\n",
       "      <td>NaN</td>\n",
       "      <td>NaN</td>\n",
       "      <td>NaN</td>\n",
       "      <td>0</td>\n",
       "    </tr>\n",
       "    <tr>\n",
       "      <th>1</th>\n",
       "      <td>00313ee0-9eaa-42f4-b0ab-c148ed3241cd</td>\n",
       "      <td>NaN</td>\n",
       "      <td>NaN</td>\n",
       "      <td>NaN</td>\n",
       "      <td>NaN</td>\n",
       "      <td>0</td>\n",
       "    </tr>\n",
       "  </tbody>\n",
       "</table>\n",
       "</div>"
      ],
      "text/plain": [
       "                              patientId   x   y  width  height  Target\n",
       "0  0004cfab-14fd-4e49-80ba-63a80b6bddd6 NaN NaN    NaN     NaN       0\n",
       "1  00313ee0-9eaa-42f4-b0ab-c148ed3241cd NaN NaN    NaN     NaN       0"
      ]
     },
     "execution_count": 258,
     "metadata": {},
     "output_type": "execute_result"
    }
   ],
   "source": [
    "trainLabels[trainLabels['Target']==0].head(2)"
   ]
  },
  {
   "cell_type": "markdown",
   "metadata": {},
   "source": [
    "Few records have observed with missing values in **x, y, width** and **height** coulmn, but no missing values observed in **patientId** and **Target**.\n",
    "\n",
    "Also this is observed such missing columns are present for those records with **Target** as '0'.\n",
    "\n",
    "**x, y, width** and **height** columns have the information for bounding boxes in Images where Penumonia is detected.\n",
    "\n",
    "**Explaination on missing values - These are not the missing values instead it is expected not to have Bounding Box co-ordinates for those images where Pneumonia is not detected (Target - '0')**\n",
    "\n",
    "Hence concluding there are no missing values in this dataset as well"
   ]
  },
  {
   "cell_type": "markdown",
   "metadata": {},
   "source": [
    "Step 3 -> Checking unique Patients"
   ]
  },
  {
   "cell_type": "code",
   "execution_count": 259,
   "metadata": {},
   "outputs": [
    {
     "name": "stdout",
     "output_type": "stream",
     "text": [
      "Unique patientIds :  26684\n"
     ]
    }
   ],
   "source": [
    "print(\"Unique patientIds : \", trainLabels['patientId'].nunique(), )"
   ]
  },
  {
   "cell_type": "markdown",
   "metadata": {},
   "source": [
    "Total Unique patients found - 26684\n",
    "\n",
    "This is same as the number of patients in Detailed CSV sheet hence both sheets share the information for same patients"
   ]
  },
  {
   "cell_type": "markdown",
   "metadata": {},
   "source": [
    "Step 4 -> Checkin unqiue Targets"
   ]
  },
  {
   "cell_type": "code",
   "execution_count": 260,
   "metadata": {},
   "outputs": [
    {
     "name": "stdout",
     "output_type": "stream",
     "text": [
      "Unique patientIds :  2\n",
      "Unique patientIds :  [0 1]\n"
     ]
    }
   ],
   "source": [
    "print(\"Unique patientIds : \", trainLabels['Target'].nunique(), )\n",
    "\n",
    "print(\"Unique patientIds : \", trainLabels['Target'].unique(), )"
   ]
  },
  {
   "cell_type": "markdown",
   "metadata": {},
   "source": [
    "Trail label has only 2 target variables [0 & 1] \n",
    "\n",
    "**Conclusion - In Train labels only two target variables are present 0 & 1, where as in Detailed_Info sheet we have 3 classes.**"
   ]
  },
  {
   "cell_type": "markdown",
   "metadata": {},
   "source": [
    "**As we have 3 Classes in Detailed_Info dataset and 2 Target Variables in Train_Labels, concatenating to get better insight into the data**"
   ]
  },
  {
   "cell_type": "markdown",
   "metadata": {},
   "source": [
    "Step 1 -> Sorting both the datasets based on patientId"
   ]
  },
  {
   "cell_type": "code",
   "execution_count": 261,
   "metadata": {},
   "outputs": [],
   "source": [
    "trainLabels.sort_values(\"patientId\", inplace=True)\n",
    "detailedClasses.sort_values(\"patientId\", inplace=True)"
   ]
  },
  {
   "cell_type": "markdown",
   "metadata": {},
   "source": [
    "Step 2 -> Concatenating the data\n",
    "\n",
    "* To get the Target and classes into one dataframe"
   ]
  },
  {
   "cell_type": "code",
   "execution_count": 262,
   "metadata": {},
   "outputs": [
    {
     "data": {
      "text/html": [
       "<div>\n",
       "<style scoped>\n",
       "    .dataframe tbody tr th:only-of-type {\n",
       "        vertical-align: middle;\n",
       "    }\n",
       "\n",
       "    .dataframe tbody tr th {\n",
       "        vertical-align: top;\n",
       "    }\n",
       "\n",
       "    .dataframe thead th {\n",
       "        text-align: right;\n",
       "    }\n",
       "</style>\n",
       "<table border=\"1\" class=\"dataframe\">\n",
       "  <thead>\n",
       "    <tr style=\"text-align: right;\">\n",
       "      <th></th>\n",
       "      <th>patientId</th>\n",
       "      <th>x</th>\n",
       "      <th>y</th>\n",
       "      <th>width</th>\n",
       "      <th>height</th>\n",
       "      <th>Target</th>\n",
       "      <th>class</th>\n",
       "    </tr>\n",
       "  </thead>\n",
       "  <tbody>\n",
       "    <tr>\n",
       "      <th>0</th>\n",
       "      <td>0004cfab-14fd-4e49-80ba-63a80b6bddd6</td>\n",
       "      <td>NaN</td>\n",
       "      <td>NaN</td>\n",
       "      <td>NaN</td>\n",
       "      <td>NaN</td>\n",
       "      <td>0</td>\n",
       "      <td>No Lung Opacity / Not Normal</td>\n",
       "    </tr>\n",
       "    <tr>\n",
       "      <th>28989</th>\n",
       "      <td>000924cf-0f8d-42bd-9158-1af53881a557</td>\n",
       "      <td>NaN</td>\n",
       "      <td>NaN</td>\n",
       "      <td>NaN</td>\n",
       "      <td>NaN</td>\n",
       "      <td>0</td>\n",
       "      <td>Normal</td>\n",
       "    </tr>\n",
       "    <tr>\n",
       "      <th>28990</th>\n",
       "      <td>000db696-cf54-4385-b10b-6b16fbb3f985</td>\n",
       "      <td>316.0</td>\n",
       "      <td>318.0</td>\n",
       "      <td>170.0</td>\n",
       "      <td>478.0</td>\n",
       "      <td>1</td>\n",
       "      <td>Lung Opacity</td>\n",
       "    </tr>\n",
       "  </tbody>\n",
       "</table>\n",
       "</div>"
      ],
      "text/plain": [
       "                                  patientId      x      y  width  height  \\\n",
       "0      0004cfab-14fd-4e49-80ba-63a80b6bddd6    NaN    NaN    NaN     NaN   \n",
       "28989  000924cf-0f8d-42bd-9158-1af53881a557    NaN    NaN    NaN     NaN   \n",
       "28990  000db696-cf54-4385-b10b-6b16fbb3f985  316.0  318.0  170.0   478.0   \n",
       "\n",
       "       Target                         class  \n",
       "0           0  No Lung Opacity / Not Normal  \n",
       "28989       0                        Normal  \n",
       "28990       1                  Lung Opacity  "
      ]
     },
     "execution_count": 262,
     "metadata": {},
     "output_type": "execute_result"
    }
   ],
   "source": [
    "Combined_Data = pd.concat([trainLabels, detailedClasses[\"class\"]], axis=1, sort=False)\n",
    "Combined_Data.head(3)"
   ]
  },
  {
   "cell_type": "markdown",
   "metadata": {},
   "source": [
    "**Validating the concatenation results**"
   ]
  },
  {
   "cell_type": "code",
   "execution_count": 263,
   "metadata": {},
   "outputs": [
    {
     "data": {
      "text/plain": [
       "(30227, 7)"
      ]
     },
     "execution_count": 263,
     "metadata": {},
     "output_type": "execute_result"
    }
   ],
   "source": [
    "Combined_Data.shape"
   ]
  },
  {
   "cell_type": "code",
   "execution_count": 264,
   "metadata": {},
   "outputs": [
    {
     "data": {
      "text/html": [
       "<div>\n",
       "<style scoped>\n",
       "    .dataframe tbody tr th:only-of-type {\n",
       "        vertical-align: middle;\n",
       "    }\n",
       "\n",
       "    .dataframe tbody tr th {\n",
       "        vertical-align: top;\n",
       "    }\n",
       "\n",
       "    .dataframe thead th {\n",
       "        text-align: right;\n",
       "    }\n",
       "</style>\n",
       "<table border=\"1\" class=\"dataframe\">\n",
       "  <thead>\n",
       "    <tr style=\"text-align: right;\">\n",
       "      <th></th>\n",
       "      <th>patientId</th>\n",
       "      <th>x</th>\n",
       "      <th>y</th>\n",
       "      <th>width</th>\n",
       "      <th>height</th>\n",
       "      <th>Target</th>\n",
       "      <th>class</th>\n",
       "    </tr>\n",
       "  </thead>\n",
       "  <tbody>\n",
       "    <tr>\n",
       "      <th>False</th>\n",
       "      <td>30227.0</td>\n",
       "      <td>9555</td>\n",
       "      <td>9555</td>\n",
       "      <td>9555</td>\n",
       "      <td>9555</td>\n",
       "      <td>30227.0</td>\n",
       "      <td>30227.0</td>\n",
       "    </tr>\n",
       "    <tr>\n",
       "      <th>True</th>\n",
       "      <td>NaN</td>\n",
       "      <td>20672</td>\n",
       "      <td>20672</td>\n",
       "      <td>20672</td>\n",
       "      <td>20672</td>\n",
       "      <td>NaN</td>\n",
       "      <td>NaN</td>\n",
       "    </tr>\n",
       "  </tbody>\n",
       "</table>\n",
       "</div>"
      ],
      "text/plain": [
       "       patientId      x      y  width  height   Target    class\n",
       "False    30227.0   9555   9555   9555    9555  30227.0  30227.0\n",
       "True         NaN  20672  20672  20672   20672      NaN      NaN"
      ]
     },
     "execution_count": 264,
     "metadata": {},
     "output_type": "execute_result"
    }
   ],
   "source": [
    "Combined_Data.isna().apply(pd.value_counts)"
   ]
  },
  {
   "cell_type": "code",
   "execution_count": 265,
   "metadata": {},
   "outputs": [
    {
     "data": {
      "text/html": [
       "<div>\n",
       "<style scoped>\n",
       "    .dataframe tbody tr th:only-of-type {\n",
       "        vertical-align: middle;\n",
       "    }\n",
       "\n",
       "    .dataframe tbody tr th {\n",
       "        vertical-align: top;\n",
       "    }\n",
       "\n",
       "    .dataframe thead th {\n",
       "        text-align: right;\n",
       "    }\n",
       "</style>\n",
       "<table border=\"1\" class=\"dataframe\">\n",
       "  <thead>\n",
       "    <tr style=\"text-align: right;\">\n",
       "      <th></th>\n",
       "      <th>patientId</th>\n",
       "      <th>x</th>\n",
       "      <th>y</th>\n",
       "      <th>width</th>\n",
       "      <th>height</th>\n",
       "      <th>Target</th>\n",
       "      <th>class</th>\n",
       "    </tr>\n",
       "  </thead>\n",
       "  <tbody>\n",
       "    <tr>\n",
       "      <th>False</th>\n",
       "      <td>9555</td>\n",
       "      <td>9555</td>\n",
       "      <td>9555</td>\n",
       "      <td>9555</td>\n",
       "      <td>9555</td>\n",
       "      <td>9555</td>\n",
       "      <td>9555</td>\n",
       "    </tr>\n",
       "  </tbody>\n",
       "</table>\n",
       "</div>"
      ],
      "text/plain": [
       "       patientId     x     y  width  height  Target  class\n",
       "False       9555  9555  9555   9555    9555    9555   9555"
      ]
     },
     "execution_count": 265,
     "metadata": {},
     "output_type": "execute_result"
    }
   ],
   "source": [
    "Combined_Data[Combined_Data[\"Target\"] == 1].isna().apply(pd.value_counts)"
   ]
  },
  {
   "cell_type": "code",
   "execution_count": 266,
   "metadata": {},
   "outputs": [
    {
     "data": {
      "text/html": [
       "<div>\n",
       "<style scoped>\n",
       "    .dataframe tbody tr th:only-of-type {\n",
       "        vertical-align: middle;\n",
       "    }\n",
       "\n",
       "    .dataframe tbody tr th {\n",
       "        vertical-align: top;\n",
       "    }\n",
       "\n",
       "    .dataframe thead th {\n",
       "        text-align: right;\n",
       "    }\n",
       "</style>\n",
       "<table border=\"1\" class=\"dataframe\">\n",
       "  <thead>\n",
       "    <tr style=\"text-align: right;\">\n",
       "      <th></th>\n",
       "      <th>patientId</th>\n",
       "      <th>x</th>\n",
       "      <th>y</th>\n",
       "      <th>width</th>\n",
       "      <th>height</th>\n",
       "      <th>Target</th>\n",
       "      <th>class</th>\n",
       "    </tr>\n",
       "  </thead>\n",
       "  <tbody>\n",
       "    <tr>\n",
       "      <th>False</th>\n",
       "      <td>20672.0</td>\n",
       "      <td>NaN</td>\n",
       "      <td>NaN</td>\n",
       "      <td>NaN</td>\n",
       "      <td>NaN</td>\n",
       "      <td>20672.0</td>\n",
       "      <td>20672.0</td>\n",
       "    </tr>\n",
       "    <tr>\n",
       "      <th>True</th>\n",
       "      <td>NaN</td>\n",
       "      <td>20672.0</td>\n",
       "      <td>20672.0</td>\n",
       "      <td>20672.0</td>\n",
       "      <td>20672.0</td>\n",
       "      <td>NaN</td>\n",
       "      <td>NaN</td>\n",
       "    </tr>\n",
       "  </tbody>\n",
       "</table>\n",
       "</div>"
      ],
      "text/plain": [
       "       patientId        x        y    width   height   Target    class\n",
       "False    20672.0      NaN      NaN      NaN      NaN  20672.0  20672.0\n",
       "True         NaN  20672.0  20672.0  20672.0  20672.0      NaN      NaN"
      ]
     },
     "execution_count": 266,
     "metadata": {},
     "output_type": "execute_result"
    }
   ],
   "source": [
    "Combined_Data[Combined_Data[\"Target\"] == 0].isna().apply(pd.value_counts)"
   ]
  },
  {
   "cell_type": "code",
   "execution_count": 267,
   "metadata": {},
   "outputs": [
    {
     "data": {
      "text/html": [
       "<div>\n",
       "<style scoped>\n",
       "    .dataframe tbody tr th:only-of-type {\n",
       "        vertical-align: middle;\n",
       "    }\n",
       "\n",
       "    .dataframe tbody tr th {\n",
       "        vertical-align: top;\n",
       "    }\n",
       "\n",
       "    .dataframe thead th {\n",
       "        text-align: right;\n",
       "    }\n",
       "</style>\n",
       "<table border=\"1\" class=\"dataframe\">\n",
       "  <thead>\n",
       "    <tr style=\"text-align: right;\">\n",
       "      <th></th>\n",
       "      <th>patientId</th>\n",
       "      <th>x</th>\n",
       "      <th>y</th>\n",
       "      <th>width</th>\n",
       "      <th>height</th>\n",
       "      <th>Target</th>\n",
       "      <th>class</th>\n",
       "    </tr>\n",
       "  </thead>\n",
       "  <tbody>\n",
       "    <tr>\n",
       "      <th>False</th>\n",
       "      <td>9555</td>\n",
       "      <td>9555</td>\n",
       "      <td>9555</td>\n",
       "      <td>9555</td>\n",
       "      <td>9555</td>\n",
       "      <td>9555</td>\n",
       "      <td>9555</td>\n",
       "    </tr>\n",
       "  </tbody>\n",
       "</table>\n",
       "</div>"
      ],
      "text/plain": [
       "       patientId     x     y  width  height  Target  class\n",
       "False       9555  9555  9555   9555    9555    9555   9555"
      ]
     },
     "execution_count": 267,
     "metadata": {},
     "output_type": "execute_result"
    }
   ],
   "source": [
    "Combined_Data[Combined_Data[\"class\"] == \"Lung Opacity\"].isna().apply(pd.value_counts)"
   ]
  },
  {
   "cell_type": "markdown",
   "metadata": {},
   "source": [
    "From Above Analysis our concatenated data is correct"
   ]
  },
  {
   "cell_type": "markdown",
   "metadata": {},
   "source": [
    "## Prepare data for training\n",
    "\n",
    "\n",
    "Step 1 -> \n",
    "* Convert data to only two classes, 'Normal' and 'Lung Opacity'\n",
    "* Splitting the data in three parts, train, validation and test sets.\n",
    "* Replace all 'NaN' values to zero(0)\n"
   ]
  },
  {
   "cell_type": "code",
   "execution_count": 268,
   "metadata": {},
   "outputs": [
    {
     "data": {
      "text/html": [
       "<div>\n",
       "<style scoped>\n",
       "    .dataframe tbody tr th:only-of-type {\n",
       "        vertical-align: middle;\n",
       "    }\n",
       "\n",
       "    .dataframe tbody tr th {\n",
       "        vertical-align: top;\n",
       "    }\n",
       "\n",
       "    .dataframe thead th {\n",
       "        text-align: right;\n",
       "    }\n",
       "</style>\n",
       "<table border=\"1\" class=\"dataframe\">\n",
       "  <thead>\n",
       "    <tr style=\"text-align: right;\">\n",
       "      <th></th>\n",
       "      <th>patientId</th>\n",
       "      <th>x</th>\n",
       "      <th>y</th>\n",
       "      <th>width</th>\n",
       "      <th>height</th>\n",
       "      <th>Target</th>\n",
       "      <th>class</th>\n",
       "    </tr>\n",
       "  </thead>\n",
       "  <tbody>\n",
       "    <tr>\n",
       "      <th>0</th>\n",
       "      <td>0004cfab-14fd-4e49-80ba-63a80b6bddd6</td>\n",
       "      <td>NaN</td>\n",
       "      <td>NaN</td>\n",
       "      <td>NaN</td>\n",
       "      <td>NaN</td>\n",
       "      <td>0</td>\n",
       "      <td>Normal</td>\n",
       "    </tr>\n",
       "    <tr>\n",
       "      <th>28989</th>\n",
       "      <td>000924cf-0f8d-42bd-9158-1af53881a557</td>\n",
       "      <td>NaN</td>\n",
       "      <td>NaN</td>\n",
       "      <td>NaN</td>\n",
       "      <td>NaN</td>\n",
       "      <td>0</td>\n",
       "      <td>Normal</td>\n",
       "    </tr>\n",
       "    <tr>\n",
       "      <th>28990</th>\n",
       "      <td>000db696-cf54-4385-b10b-6b16fbb3f985</td>\n",
       "      <td>316.0</td>\n",
       "      <td>318.0</td>\n",
       "      <td>170.0</td>\n",
       "      <td>478.0</td>\n",
       "      <td>1</td>\n",
       "      <td>Lung Opacity</td>\n",
       "    </tr>\n",
       "  </tbody>\n",
       "</table>\n",
       "</div>"
      ],
      "text/plain": [
       "                                  patientId      x      y  width  height  \\\n",
       "0      0004cfab-14fd-4e49-80ba-63a80b6bddd6    NaN    NaN    NaN     NaN   \n",
       "28989  000924cf-0f8d-42bd-9158-1af53881a557    NaN    NaN    NaN     NaN   \n",
       "28990  000db696-cf54-4385-b10b-6b16fbb3f985  316.0  318.0  170.0   478.0   \n",
       "\n",
       "       Target         class  \n",
       "0           0        Normal  \n",
       "28989       0        Normal  \n",
       "28990       1  Lung Opacity  "
      ]
     },
     "execution_count": 268,
     "metadata": {},
     "output_type": "execute_result"
    }
   ],
   "source": [
    "# Conver data to only two classes, 'Normal' and 'Lung Opacity'\n",
    "Combined_Data[\"class\"].replace(\"No Lung Opacity / Not Normal\", \"Normal\", inplace=True)\n",
    "Combined_Data.head(3)"
   ]
  },
  {
   "cell_type": "code",
   "execution_count": 269,
   "metadata": {},
   "outputs": [
    {
     "name": "stdout",
     "output_type": "stream",
     "text": [
      "train_CombinedData.shape :  (15000, 7)\n",
      "validate_CombinedData.shape :  (10000, 7)\n",
      "test_CombinedData.shape :  (5227, 7)\n",
      "\n",
      "unique train patients :  13163\n",
      "unique validate patients :  8601\n",
      "unique test patients :  4920\n",
      "\n",
      "Total unique patients :  26684\n",
      "Total of unique train and test :  26684\n",
      "\n",
      "Last from train set :  8a545321-245d-4e23-a4ca-634a90c5ba89\n",
      "First from validate set :  8a546535-613f-49b1-897c-a0933c53cb84\n",
      "\n",
      "Last from validate set :  d5cbd64c-322b-4460-ad0e-c9a23e781f3e\n",
      "First from test set :  d5d0be71-4579-411a-9218-0f45a80df505\n"
     ]
    },
    {
     "name": "stderr",
     "output_type": "stream",
     "text": [
      "C:\\Users\\ashu\\AppData\\Roaming\\Python\\Python37\\site-packages\\pandas\\core\\frame.py:4034: SettingWithCopyWarning: \n",
      "A value is trying to be set on a copy of a slice from a DataFrame\n",
      "\n",
      "See the caveats in the documentation: http://pandas.pydata.org/pandas-docs/stable/indexing.html#indexing-view-versus-copy\n",
      "  downcast=downcast, **kwargs)\n"
     ]
    }
   ],
   "source": [
    "\n",
    "train_CombinedData = Combined_Data[0:15000]\n",
    "validate_CombinedData = Combined_Data[15000:25000]\n",
    "test_CombinedData = Combined_Data[25000:30227]\n",
    "\n",
    "print(\"train_CombinedData.shape : \", train_CombinedData.shape)\n",
    "print(\"validate_CombinedData.shape : \", validate_CombinedData.shape)\n",
    "print(\"test_CombinedData.shape : \", test_CombinedData.shape)\n",
    "\n",
    "print(\"\\nunique train patients : \", train_CombinedData[\"patientId\"].nunique())\n",
    "print(\"unique validate patients : \", validate_CombinedData[\"patientId\"].nunique())\n",
    "print(\"unique test patients : \", test_CombinedData[\"patientId\"].nunique())\n",
    "\n",
    "print(\"\\nTotal unique patients : \", imageIdPaths[\"patientId\"].nunique())\n",
    "print(\"Total of unique train and test : \", train_CombinedData[\"patientId\"].nunique() + validate_CombinedData[\"patientId\"].nunique() + test_CombinedData[\"patientId\"].nunique())\n",
    "\n",
    "print(\"\\nLast from train set : \", train_CombinedData.iloc[14999][\"patientId\"])\n",
    "print(\"First from validate set : \", validate_CombinedData.iloc[0][\"patientId\"])\n",
    "print(\"\\nLast from validate set : \", validate_CombinedData.iloc[9999][\"patientId\"])\n",
    "print(\"First from test set : \", test_CombinedData.iloc[0][\"patientId\"])\n",
    "\n",
    "# Set all NaN values to 0 in train and test data sets. While training NaN will not have any meaning.\n",
    "#    * x, y, width and hight values as zero(0) means no bounding box.\n",
    "train_CombinedData.fillna(0, inplace=True)\n",
    "validate_CombinedData.fillna(0, inplace=True)\n",
    "test_CombinedData.fillna(0, inplace=True)"
   ]
  },
  {
   "cell_type": "code",
   "execution_count": 270,
   "metadata": {},
   "outputs": [
    {
     "name": "stdout",
     "output_type": "stream",
     "text": [
      "train_imageIdPaths.shape :  (13163, 2)\n",
      "validate_imageIdPaths.shape :  (8601, 2)\n",
      "test_imageIdPaths.shape :  (4920, 2)\n",
      "\n",
      "unique train patients :  13163\n",
      "unique validate patients :  8601\n",
      "unique test patients :  4920\n",
      "\n",
      "Total unique patients :  26684\n",
      "Total of unique train and test :  26684\n",
      "\n",
      "Last from train set :  8a545321-245d-4e23-a4ca-634a90c5ba89\n",
      "First from validate set :  8a546535-613f-49b1-897c-a0933c53cb84\n",
      "Last from validate set :  d5cbd64c-322b-4460-ad0e-c9a23e781f3e\n",
      "First from test set :  d5d0be71-4579-411a-9218-0f45a80df505\n"
     ]
    }
   ],
   "source": [
    "imageIdPaths.sort_values(\"patientId\", inplace=True)\n",
    "\n",
    "train_imageIdPaths = imageIdPaths[0:13163]\n",
    "validate_imageIdPaths = imageIdPaths[13163:21764]\n",
    "test_imageIdPaths = imageIdPaths[21764:26684]\n",
    "\n",
    "print(\"train_imageIdPaths.shape : \", train_imageIdPaths.shape)\n",
    "print(\"validate_imageIdPaths.shape : \", validate_imageIdPaths.shape)\n",
    "print(\"test_imageIdPaths.shape : \", test_imageIdPaths.shape)\n",
    "\n",
    "print(\"\\nunique train patients : \", train_imageIdPaths[\"patientId\"].nunique())\n",
    "print(\"unique validate patients : \", validate_imageIdPaths[\"patientId\"].nunique())\n",
    "print(\"unique test patients : \", test_imageIdPaths[\"patientId\"].nunique())\n",
    "\n",
    "print(\"\\nTotal unique patients : \", imageIdPaths[\"patientId\"].nunique())\n",
    "print(\"Total of unique train and test : \", train_imageIdPaths[\"patientId\"].nunique() + validate_imageIdPaths[\"patientId\"].nunique() + test_imageIdPaths[\"patientId\"].nunique())\n",
    "\n",
    "print(\"\\nLast from train set : \", train_imageIdPaths.iloc[13162][\"patientId\"])\n",
    "print(\"First from validate set : \", validate_imageIdPaths.iloc[0][\"patientId\"])\n",
    "print(\"Last from validate set : \", validate_imageIdPaths.iloc[8600][\"patientId\"])\n",
    "print(\"First from test set : \", test_imageIdPaths.iloc[0][\"patientId\"])"
   ]
  },
  {
   "cell_type": "code",
   "execution_count": 271,
   "metadata": {},
   "outputs": [
    {
     "data": {
      "text/plain": [
       "<matplotlib.axes._subplots.AxesSubplot at 0x203bebb7148>"
      ]
     },
     "execution_count": 271,
     "metadata": {},
     "output_type": "execute_result"
    },
    {
     "data": {
      "image/png": "[encoded data removed]",
      "text/plain": [
       "<Figure size 432x288 with 1 Axes>"
      ]
     },
     "metadata": {
      "needs_background": "light"
     },
     "output_type": "display_data"
    }
   ],
   "source": [
    "sns.countplot(x=\"Target\",hue=\"class\",data=train_CombinedData)"
   ]
  },
  {
   "cell_type": "code",
   "execution_count": 272,
   "metadata": {},
   "outputs": [
    {
     "data": {
      "text/plain": [
       "<matplotlib.axes._subplots.AxesSubplot at 0x203c3b7bc08>"
      ]
     },
     "execution_count": 272,
     "metadata": {},
     "output_type": "execute_result"
    },
    {
     "data": {
      "image/png": "[encoded data removed]",
      "text/plain": [
       "<Figure size 432x288 with 1 Axes>"
      ]
     },
     "metadata": {
      "needs_background": "light"
     },
     "output_type": "display_data"
    }
   ],
   "source": [
    "sns.countplot(x=\"Target\",hue=\"class\",data=validate_CombinedData)"
   ]
  },
  {
   "cell_type": "code",
   "execution_count": 273,
   "metadata": {},
   "outputs": [
    {
     "data": {
      "text/plain": [
       "<matplotlib.axes._subplots.AxesSubplot at 0x203bc52dc08>"
      ]
     },
     "execution_count": 273,
     "metadata": {},
     "output_type": "execute_result"
    },
    {
     "data": {
      "image/png": "[encoded data removed]",
      "text/plain": [
       "<Figure size 432x288 with 1 Axes>"
      ]
     },
     "metadata": {
      "needs_background": "light"
     },
     "output_type": "display_data"
    }
   ],
   "source": [
    "sns.countplot(x=\"Target\",hue=\"class\",data=test_CombinedData)"
   ]
  },
  {
   "cell_type": "markdown",
   "metadata": {},
   "source": [
    "* Observation\n",
    "    * train, validation and test sets are not well balanced. \n",
    "    * Images with 'Lung Opacity' are less in proportion in all these sets."
   ]
  },
  {
   "cell_type": "markdown",
   "metadata": {},
   "source": [
    "# Build UNet"
   ]
  },
  {
   "cell_type": "markdown",
   "metadata": {},
   "source": [
    "### Constants"
   ]
  },
  {
   "cell_type": "code",
   "execution_count": 274,
   "metadata": {},
   "outputs": [],
   "source": [
    "IMAGE_SIZE = 224\n",
    "\n",
    "IMG_WIDTH = 1024\n",
    "IMG_HEIGHT = 1024\n",
    "\n",
    "TRAIN_BATCH_SIZE = 10\n",
    "TEST_BATCH_SIZE = 10\n",
    "\n",
    "ALPHA = 1.0"
   ]
  },
  {
   "cell_type": "markdown",
   "metadata": {},
   "source": [
    "### Function and Class definations"
   ]
  },
  {
   "cell_type": "code",
   "execution_count": 275,
   "metadata": {},
   "outputs": [],
   "source": [
    "# define iou or jaccard loss function\n",
    "def iou_loss(y_true, y_pred):\n",
    "    \"\"\"Get Intersection over Union(IoU) ratio from ground truth and predicted masks.\n",
    "    Arguments:\n",
    "        y_true -- ground truth mask\n",
    "        \n",
    "        y_pred -- predicted mask\n",
    "    \"\"\"\n",
    "    y_true = tf.reshape(y_true, [-1])\n",
    "    y_pred = tf.reshape(y_pred, [-1])\n",
    "    intersection = tf.reduce_sum(y_true * y_pred)\n",
    "    score = (intersection + 1.) / (tf.reduce_sum(y_true) + tf.reduce_sum(y_pred) - intersection + 1.)\n",
    "    return 1 - score\n",
    "\n",
    "# mean iou as a metric\n",
    "def mean_iou(y_true, y_pred):\n",
    "    \"\"\"Get mean Intersection over Union(IoU) ratio from ground truth and predicted masks.\n",
    "    Arguments:\n",
    "        y_true -- ground truth mask\n",
    "        \n",
    "        y_pred -- predicted mask\n",
    "    \"\"\"\n",
    "    y_pred = tf.round(y_pred)    \n",
    "    intersect = tf.reduce_sum(y_true * y_pred, axis=[1]) \n",
    "    union = tf.reduce_sum(y_true, axis=[1]) + tf.reduce_sum(y_pred, axis=[1])\n",
    "    smooth = tf.ones(tf.shape(intersect))\n",
    "    return tf.reduce_mean((intersect + smooth) / (union - intersect + smooth))"
   ]
  },
  {
   "cell_type": "code",
   "execution_count": 276,
   "metadata": {},
   "outputs": [],
   "source": [
    "def iouFromCoords(boxA, boxB) :\n",
    "    \"\"\"Get Intersection over Union(IoU) ratio from ground truth and predicted box coordinates.\n",
    "    Arguments:\n",
    "        boxA -- ground truth mask\n",
    "        \n",
    "        boxB -- predicted mask\n",
    "    \"\"\"\n",
    "    # determine the (x, y)-coordinates of the intersection rectangle\n",
    "    xA = max(boxA[0], boxB[0])\n",
    "    yA = max(boxA[1], boxB[1])\n",
    "    xB = min(boxA[2], boxB[2])\n",
    "    yB = min(boxA[3], boxB[3])\n",
    "\n",
    "    # compute the area of intersection rectangle\n",
    "    interArea = abs(max((xB - xA, 0)) * max((yB - yA), 0))\n",
    "    if interArea == 0:\n",
    "        return 0\n",
    "    # compute the area of both the prediction and ground-truth\n",
    "    # rectangles\n",
    "    boxAArea = abs((boxA[2] - boxA[0]) * (boxA[3] - boxA[1]))\n",
    "    boxBArea = abs((boxB[2] - boxB[0]) * (boxB[3] - boxB[1]))\n",
    "\n",
    "    # compute the intersection over union by taking the intersection\n",
    "    # area and dividing it by the sum of prediction + ground-truth\n",
    "    # areas - the interesection area\n",
    "    iou = interArea / float(boxAArea + boxBArea - interArea)\n",
    "\n",
    "    # return the intersection over union value\n",
    "    return iou"
   ]
  },
  {
   "cell_type": "code",
   "execution_count": 277,
   "metadata": {},
   "outputs": [],
   "source": [
    "\n",
    "def showMaskedImage(_imageSet, _maskSet, _index) :\n",
    "    \"\"\"To show image with imposing mask on it for the given index, form the given sets of images and masks.\n",
    "    Arguments:\n",
    "        _imageSet -- set of images\n",
    "        \n",
    "        _maskSet -- set of masks\n",
    "        \n",
    "        _index -- index of a set/collection\n",
    "    \"\"\"\n",
    "    maskImage = _imageSet[_index]\n",
    "\n",
    "    #pyplot.imshow(maskImage[:,:,0], cmap=pyplot.cm.bone)\n",
    "    maskImage[:,:,0] = _maskSet[_index] * _imageSet[_index][:,:,0]\n",
    "    maskImage[:,:,1] = _maskSet[_index] * _imageSet[_index][:,:,1]\n",
    "    maskImage[:,:,2] = _maskSet[_index] * _imageSet[_index][:,:,2]\n",
    "\n",
    "    pyplot.imshow(maskImage[:,:,0], cmap=pyplot.cm.bone)\n"
   ]
  },
  {
   "cell_type": "code",
   "execution_count": 278,
   "metadata": {},
   "outputs": [],
   "source": [
    "\n",
    "class UNetTrainGenerator(Sequence):\n",
    "    \"\"\"Generator class to get data batches for training model. Extends Sequence class.\n",
    "        \n",
    "    Arguments:\n",
    "        _imageIdPaths -- dataframe having patientId and image paths to load image for the patientId\n",
    "        \n",
    "        _CombinedData -- dataframe having patientId, image labels, target and class values combined together\n",
    "        \n",
    "        idx -- index of a batch\n",
    "    \"\"\"\n",
    "    def __init__(self, _imageIdPaths, _CombinedData):       \n",
    "        self.pids = _CombinedData[\"patientId\"].to_numpy()\n",
    "        self.imgIdPaths = _imageIdPaths\n",
    "        self.coords = _CombinedData[[\"x\", \"y\", \"width\", \"height\"]].to_numpy()\n",
    "        # Resize Bounding box\n",
    "        self.coords = self.coords * IMAGE_SIZE / IMG_WIDTH\n",
    "        \n",
    "\n",
    "    def __len__(self):\n",
    "        return math.ceil(len(self.coords) / TRAIN_BATCH_SIZE)\n",
    "    \n",
    "\n",
    "    def __getitem__(self, idx): # Get a batch\n",
    "        batch_coords = self.coords[idx * TRAIN_BATCH_SIZE:(idx + 1) * TRAIN_BATCH_SIZE] # Image coords\n",
    "        batch_pids = self.pids[idx * TRAIN_BATCH_SIZE:(idx + 1) * TRAIN_BATCH_SIZE] # Image pids    \n",
    "        \n",
    "        batch_images = np.zeros((len(batch_pids), IMAGE_SIZE, IMAGE_SIZE, 3), dtype=np.float32)\n",
    "        batch_masks = np.zeros((len(batch_pids), IMAGE_SIZE, IMAGE_SIZE))\n",
    "        for _indx, _pid in enumerate(batch_pids):\n",
    "            _path = self.imgIdPaths[self.imgIdPaths[\"patientId\"] == _pid][\"imgPath\"].array[0]\n",
    "            _imgData = loadImage(str(_path)) # Read image\n",
    "            img = _imgData.pixel_array \n",
    "            \n",
    "            # Resize image\n",
    "            resized_img = cv2.resize(img, (IMAGE_SIZE, IMAGE_SIZE), interpolation=cv2.INTER_AREA)\n",
    "    \n",
    "            #print(\"batch_images[_indx] shape :\", batch_images[_indx][:,:,0].shape)\n",
    "            # preprocess image for the batch\n",
    "            batch_images[_indx][:,:,0] = preprocess_input(np.array(resized_img[:,:], dtype=np.float32)) # Convert to float32 array\n",
    "            batch_images[_indx][:,:,1] = preprocess_input(np.array(resized_img[:,:], dtype=np.float32)) # Convert to float32 array\n",
    "            batch_images[_indx][:,:,2] = preprocess_input(np.array(resized_img[:,:], dtype=np.float32)) # Convert to float32 array  \n",
    "            \n",
    "            x = int(batch_coords[_indx, 0])\n",
    "            y = int(batch_coords[_indx, 1])\n",
    "            width = int(batch_coords[_indx, 2])\n",
    "            height = int(batch_coords[_indx, 3])\n",
    "            \n",
    "            batch_masks[_indx][y:y+height, x:x+width] = 1\n",
    "            \n",
    "        # Returns images and ground truth masks for training\n",
    "        return batch_images, batch_masks"
   ]
  },
  {
   "cell_type": "code",
   "execution_count": 279,
   "metadata": {},
   "outputs": [],
   "source": [
    "# Generator for Predicting/Testing model\n",
    "class UNetTestGenerator(Sequence):\n",
    "    \"\"\"Generator class to get data batches for testing model. Used to get batches of test data used for getting predictions.\n",
    "        \n",
    "    Arguments:\n",
    "        _imageIdPaths -- dataframe having patientId and image paths to load image for the patientId\n",
    "        \n",
    "        _CombinedData -- dataframe having patientId, image labels, target and class values combined together\n",
    "        \n",
    "        idx -- index of a batch\n",
    "    \"\"\"\n",
    "    def __init__(self, _imageIdPaths, _CombinedData):       \n",
    "        self.pids = _CombinedData[\"patientId\"].to_numpy()\n",
    "        self.imgIdPaths = _imageIdPaths\n",
    "        self.coords = _CombinedData[[\"x\", \"y\", \"width\", \"height\", \"Target\"]].to_numpy() #for (1024, 1024)\n",
    "        self.classes = _CombinedData[\"class\"]\n",
    "        # Resize Bounding box\n",
    "        self.coordsOrig = self.coords #for (1024, 1024)\n",
    "        self.coords = self.coords * IMAGE_SIZE / IMG_WIDTH   #for (224, 224)\n",
    "        \n",
    "\n",
    "    def __len__(self):\n",
    "        # Returns total number of batches\n",
    "        return math.ceil(len(self.coords) / TEST_BATCH_SIZE)\n",
    "    \n",
    "\n",
    "    def __getitem__(self, idx): # Get a batch\n",
    "        batch_coords = self.coords[idx * TEST_BATCH_SIZE:(idx + 1) * TEST_BATCH_SIZE] # Image coords for (224, 224)\n",
    "        batch_coordsOrig = self.coordsOrig[idx * TEST_BATCH_SIZE:(idx + 1) * TEST_BATCH_SIZE] # Image coords for (1024, 1024)\n",
    "        batch_pids = self.pids[idx * TEST_BATCH_SIZE:(idx + 1) * TEST_BATCH_SIZE] # Image pids    \n",
    "        batch_classes = self.classes[idx * TEST_BATCH_SIZE:(idx + 1) * TEST_BATCH_SIZE] # Image classes           \n",
    "        \n",
    "        batch_images = np.zeros((len(batch_pids), IMAGE_SIZE, IMAGE_SIZE, 3), dtype=np.float32)\n",
    "        batch_masks = np.zeros((len(batch_pids), IMAGE_SIZE, IMAGE_SIZE))\n",
    "        for _indx, _pid in enumerate(batch_pids):\n",
    "            _path = self.imgIdPaths[self.imgIdPaths[\"patientId\"] == _pid][\"imgPath\"].array[0]\n",
    "            _imgData = loadImage(str(_path)) # Read image\n",
    "            img = _imgData.pixel_array \n",
    "            \n",
    "            # Resize image\n",
    "            resized_img = cv2.resize(img, (IMAGE_SIZE, IMAGE_SIZE), interpolation=cv2.INTER_AREA) #(224, 224)\n",
    "            #resized_img = cv2.resize(img[200:824, 200:824], dsize=(IMAGE_SIZE, IMAGE_SIZE), interpolation=cv2.INTER_AREA)\n",
    "    \n",
    "            #print(\"batch_images[_indx] shape :\", batch_images[_indx][:,:,0].shape)\n",
    "            # preprocess image for the batch\n",
    "            batch_images[_indx][:,:,0] = preprocess_input(np.array(resized_img[:,:], dtype=np.float32)) # Convert to float32 array\n",
    "            batch_images[_indx][:,:,1] = preprocess_input(np.array(resized_img[:,:], dtype=np.float32)) # Convert to float32 array\n",
    "            batch_images[_indx][:,:,2] = preprocess_input(np.array(resized_img[:,:], dtype=np.float32)) # Convert to float32 array  \n",
    "            \n",
    "            x = int(batch_coords[_indx, 0])\n",
    "            y = int(batch_coords[_indx, 1])\n",
    "            width = int(batch_coords[_indx, 2])\n",
    "            height = int(batch_coords[_indx, 3])\n",
    "            target = int(batch_coords[_indx, 4])\n",
    "            \n",
    "            batch_coords[_indx, 0] = x\n",
    "            batch_coords[_indx, 1] = y \n",
    "            batch_coords[_indx, 2] = width \n",
    "            batch_coords[_indx, 3] = height    \n",
    "            batch_coords[_indx, 4] = target \n",
    "            \n",
    "            batch_masks[_indx][y:y+height, x:x+width] = 1\n",
    "\n",
    "        # Returns images, ground truth masks, patientIds, resized-coordinates, class targets and ground truth coordinates/lables.   \n",
    "        return batch_images, batch_masks, batch_pids, batch_coords, batch_classes, batch_coordsOrig  #for (224, 224) and (1024, 1024)"
   ]
  },
  {
   "cell_type": "code",
   "execution_count": 280,
   "metadata": {},
   "outputs": [],
   "source": [
    "\n",
    "def create_UNetModel(trainable=True):\n",
    "    \"\"\"Function to create UNet architecture with MobileNet.\n",
    "        \n",
    "    Arguments:\n",
    "        trainable -- Flag to make layers trainable. Default value is 'True'.\n",
    "    \"\"\"\n",
    "    # Get all layers with 'imagenet' weights\n",
    "    model = MobileNet(input_shape=(IMAGE_SIZE, IMAGE_SIZE, 3), include_top=False, alpha=ALPHA, weights=\"imagenet\") \n",
    "    # Top layer is last layer of the model\n",
    "    \n",
    "    # Make all layers trainable\n",
    "    for layer in model.layers:\n",
    "        layer.trainable = trainable\n",
    "\n",
    "    # Add all the UNET layers here\n",
    "    convLayer_112by112 = model.get_layer(\"conv_pw_1_relu\").output\n",
    "    convLayer_56by56 = model.get_layer(\"conv_pw_3_relu\").output\n",
    "    convLayer_28by28 = model.get_layer(\"conv_pw_5_relu\").output\n",
    "    convLayer_14by14 = model.get_layer(\"conv_pw_11_relu\").output\n",
    "    convLayer_7by7 = model.get_layer(\"conv_pw_13_relu\").output\n",
    "    # The last layer of mobilenet model is of dimensions (7x7x1024)\n",
    "\n",
    "    # Start upsampling from 7x7 to 14x14 ...up to 224x224 to form UNET\n",
    "    # concatinate with the original image layer of the same size from MobileNet\n",
    "    x = Concatenate()([UpSampling2D()(convLayer_7by7), convLayer_14by14])\n",
    "    x = Concatenate()([UpSampling2D()(x), convLayer_28by28])\n",
    "    x = Concatenate()([UpSampling2D()(x), convLayer_56by56])\n",
    "    x = Concatenate()([UpSampling2D()(x), convLayer_112by112])\n",
    "    x = UpSampling2D(name=\"unet_last\")(x) # upsample to 224x224\n",
    "\n",
    "    # Add classification layer\n",
    "    x = Conv2D(1, kernel_size=1, activation=\"sigmoid\", name=\"masks\")(x)\n",
    "    x = Reshape((IMAGE_SIZE, IMAGE_SIZE))(x) \n",
    "\n",
    "    return Model(inputs=model.input, outputs=x)"
   ]
  },
  {
   "cell_type": "markdown",
   "metadata": {},
   "source": [
    "### Create Generator instances for Train and Validation datasets\n",
    "\n",
    "* These are further used in fit() method while training the model."
   ]
  },
  {
   "cell_type": "code",
   "execution_count": 287,
   "metadata": {},
   "outputs": [
    {
     "name": "stdout",
     "output_type": "stream",
     "text": [
      "                              patientId  \\\n",
      "0  0004cfab-14fd-4e49-80ba-63a80b6bddd6   \n",
      "1  000924cf-0f8d-42bd-9158-1af53881a557   \n",
      "2  000db696-cf54-4385-b10b-6b16fbb3f985   \n",
      "3  000fe35a-2649-43d4-b027-e67796d412e0   \n",
      "4  001031d9-f904-4a23-b3e5-2c088acd19c6   \n",
      "\n",
      "                                             imgPath  \n",
      "0  C:/Users/ashu/Downloads/rsna-pneumonia-detecti...  \n",
      "1  C:/Users/ashu/Downloads/rsna-pneumonia-detecti...  \n",
      "2  C:/Users/ashu/Downloads/rsna-pneumonia-detecti...  \n",
      "3  C:/Users/ashu/Downloads/rsna-pneumonia-detecti...  \n",
      "4  C:/Users/ashu/Downloads/rsna-pneumonia-detecti...  \n",
      "                                  patientId      x      y  width  height  \\\n",
      "0      0004cfab-14fd-4e49-80ba-63a80b6bddd6    0.0    0.0    0.0     0.0   \n",
      "28989  000924cf-0f8d-42bd-9158-1af53881a557    0.0    0.0    0.0     0.0   \n",
      "28990  000db696-cf54-4385-b10b-6b16fbb3f985  316.0  318.0  170.0   478.0   \n",
      "28991  000db696-cf54-4385-b10b-6b16fbb3f985  660.0  375.0  146.0   402.0   \n",
      "28992  000fe35a-2649-43d4-b027-e67796d412e0  570.0  282.0  269.0   409.0   \n",
      "\n",
      "       Target         class  \n",
      "0           0        Normal  \n",
      "28989       0        Normal  \n",
      "28990       1  Lung Opacity  \n",
      "28991       1  Lung Opacity  \n",
      "28992       1  Lung Opacity  \n"
     ]
    }
   ],
   "source": [
    "print(train_imageIdPaths.head())\n",
    "print(train_CombinedData.head())"
   ]
  },
  {
   "cell_type": "markdown",
   "metadata": {},
   "source": [
    "#### visualize sample image with a mask to verify train generator instance "
   ]
  },
  {
   "cell_type": "code",
   "execution_count": 302,
   "metadata": {},
   "outputs": [
    {
     "name": "stdout",
     "output_type": "stream",
     "text": [
      "<__main__.UNetTrainGenerator object at 0x00000203BC5BAB88>\n"
     ]
    },
    {
     "data": {
      "image/png": "[encoded data removed]",
      "text/plain": [
       "<Figure size 432x288 with 1 Axes>"
      ]
     },
     "metadata": {
      "needs_background": "light"
     },
     "output_type": "display_data"
    }
   ],
   "source": [
    "print(trainUNetDataGen)\n",
    "trainUNetDataGen = UNetTrainGenerator(train_imageIdPaths, train_CombinedData)\n",
    "validateUNetDataGen = UNetTrainGenerator(validate_imageIdPaths, validate_CombinedData)\n",
    "imageSet0 = trainUNetDataGen[0][0]\n",
    "maskSet0 = trainUNetDataGen[0][1]    \n",
    "showMaskedImage(imageSet0, maskSet0, 5)"
   ]
  },
  {
   "cell_type": "markdown",
   "metadata": {},
   "source": [
    "## Build UNet with MobileNet\n",
    "\n",
    "* We start with a simple UNet architecture using MobileNet layers pretrained with 'imagenet' weights."
   ]
  },
  {
   "cell_type": "markdown",
   "metadata": {},
   "source": [
    "#### Train the Model"
   ]
  },
  {
   "cell_type": "code",
   "execution_count": 309,
   "metadata": {},
   "outputs": [
    {
     "name": "stdout",
     "output_type": "stream",
     "text": [
      "WARNING:tensorflow:`period` argument is deprecated. Please use `save_freq` to specify the frequency in number of samples seen.\n"
     ]
    },
    {
     "ename": "ValueError",
     "evalue": "You are trying to load a weight file containing 15 layers into a model with 55 layers.",
     "output_type": "error",
     "traceback": [
      "\u001b[1;31m---------------------------------------------------------------------------\u001b[0m",
      "\u001b[1;31mValueError\u001b[0m                                Traceback (most recent call last)",
      "\u001b[1;32m<ipython-input-309-d0b129ca2249>\u001b[0m in \u001b[0;36m<module>\u001b[1;34m()\u001b[0m\n\u001b[0;32m     13\u001b[0m \u001b[0mUNetModel\u001b[0m\u001b[1;33m.\u001b[0m\u001b[0mcompile\u001b[0m\u001b[1;33m(\u001b[0m\u001b[0mloss\u001b[0m\u001b[1;33m=\u001b[0m\u001b[0miou_loss\u001b[0m\u001b[1;33m,\u001b[0m \u001b[0moptimizer\u001b[0m\u001b[1;33m=\u001b[0m\u001b[0madamOptimizer\u001b[0m\u001b[1;33m,\u001b[0m \u001b[0mmetrics\u001b[0m\u001b[1;33m=\u001b[0m\u001b[1;33m[\u001b[0m\u001b[0mmean_iou\u001b[0m\u001b[1;33m]\u001b[0m\u001b[1;33m)\u001b[0m\u001b[1;33m\u001b[0m\u001b[1;33m\u001b[0m\u001b[0m\n\u001b[0;32m     14\u001b[0m \u001b[1;33m\u001b[0m\u001b[0m\n\u001b[1;32m---> 15\u001b[1;33m \u001b[0mUNetModel\u001b[0m\u001b[1;33m.\u001b[0m\u001b[0mload_weights\u001b[0m\u001b[1;33m(\u001b[0m\u001b[0mWEIGHTS_FILE\u001b[0m\u001b[1;33m)\u001b[0m \u001b[1;31m# train with saved weights\u001b[0m\u001b[1;33m\u001b[0m\u001b[1;33m\u001b[0m\u001b[0m\n\u001b[0m\u001b[0;32m     16\u001b[0m \u001b[1;33m\u001b[0m\u001b[0m\n\u001b[0;32m     17\u001b[0m \u001b[1;32mif\u001b[0m \u001b[0mtrainUnetModel\u001b[0m\u001b[1;33m==\u001b[0m\u001b[1;32mTrue\u001b[0m \u001b[1;33m:\u001b[0m\u001b[1;33m\u001b[0m\u001b[1;33m\u001b[0m\u001b[0m\n",
      "\u001b[1;32mC:\\Users\\ashu\\AppData\\Local\\Programs\\Python\\Python37\\lib\\site-packages\\tensorflow_core\\python\\keras\\engine\\training.py\u001b[0m in \u001b[0;36mload_weights\u001b[1;34m(self, filepath, by_name)\u001b[0m\n\u001b[0;32m    180\u001b[0m         raise ValueError('Load weights is not yet supported with TPUStrategy '\n\u001b[0;32m    181\u001b[0m                          'with steps_per_run greater than 1.')\n\u001b[1;32m--> 182\u001b[1;33m     \u001b[1;32mreturn\u001b[0m \u001b[0msuper\u001b[0m\u001b[1;33m(\u001b[0m\u001b[0mModel\u001b[0m\u001b[1;33m,\u001b[0m \u001b[0mself\u001b[0m\u001b[1;33m)\u001b[0m\u001b[1;33m.\u001b[0m\u001b[0mload_weights\u001b[0m\u001b[1;33m(\u001b[0m\u001b[0mfilepath\u001b[0m\u001b[1;33m,\u001b[0m \u001b[0mby_name\u001b[0m\u001b[1;33m)\u001b[0m\u001b[1;33m\u001b[0m\u001b[1;33m\u001b[0m\u001b[0m\n\u001b[0m\u001b[0;32m    183\u001b[0m \u001b[1;33m\u001b[0m\u001b[0m\n\u001b[0;32m    184\u001b[0m   \u001b[1;33m@\u001b[0m\u001b[0mtrackable\u001b[0m\u001b[1;33m.\u001b[0m\u001b[0mno_automatic_dependency_tracking\u001b[0m\u001b[1;33m\u001b[0m\u001b[1;33m\u001b[0m\u001b[0m\n",
      "\u001b[1;32mC:\\Users\\ashu\\AppData\\Local\\Programs\\Python\\Python37\\lib\\site-packages\\tensorflow_core\\python\\keras\\engine\\network.py\u001b[0m in \u001b[0;36mload_weights\u001b[1;34m(self, filepath, by_name)\u001b[0m\n\u001b[0;32m   1371\u001b[0m         \u001b[0msaving\u001b[0m\u001b[1;33m.\u001b[0m\u001b[0mload_weights_from_hdf5_group_by_name\u001b[0m\u001b[1;33m(\u001b[0m\u001b[0mf\u001b[0m\u001b[1;33m,\u001b[0m \u001b[0mself\u001b[0m\u001b[1;33m.\u001b[0m\u001b[0mlayers\u001b[0m\u001b[1;33m)\u001b[0m\u001b[1;33m\u001b[0m\u001b[1;33m\u001b[0m\u001b[0m\n\u001b[0;32m   1372\u001b[0m       \u001b[1;32melse\u001b[0m\u001b[1;33m:\u001b[0m\u001b[1;33m\u001b[0m\u001b[1;33m\u001b[0m\u001b[0m\n\u001b[1;32m-> 1373\u001b[1;33m         \u001b[0msaving\u001b[0m\u001b[1;33m.\u001b[0m\u001b[0mload_weights_from_hdf5_group\u001b[0m\u001b[1;33m(\u001b[0m\u001b[0mf\u001b[0m\u001b[1;33m,\u001b[0m \u001b[0mself\u001b[0m\u001b[1;33m.\u001b[0m\u001b[0mlayers\u001b[0m\u001b[1;33m)\u001b[0m\u001b[1;33m\u001b[0m\u001b[1;33m\u001b[0m\u001b[0m\n\u001b[0m\u001b[0;32m   1374\u001b[0m \u001b[1;33m\u001b[0m\u001b[0m\n\u001b[0;32m   1375\u001b[0m   \u001b[1;32mdef\u001b[0m \u001b[0m_updated_config\u001b[0m\u001b[1;33m(\u001b[0m\u001b[0mself\u001b[0m\u001b[1;33m)\u001b[0m\u001b[1;33m:\u001b[0m\u001b[1;33m\u001b[0m\u001b[1;33m\u001b[0m\u001b[0m\n",
      "\u001b[1;32mC:\\Users\\ashu\\AppData\\Local\\Programs\\Python\\Python37\\lib\\site-packages\\tensorflow_core\\python\\keras\\saving\\hdf5_format.py\u001b[0m in \u001b[0;36mload_weights_from_hdf5_group\u001b[1;34m(f, layers)\u001b[0m\n\u001b[0;32m    669\u001b[0m                      \u001b[1;34m'containing '\u001b[0m \u001b[1;33m+\u001b[0m \u001b[0mstr\u001b[0m\u001b[1;33m(\u001b[0m\u001b[0mlen\u001b[0m\u001b[1;33m(\u001b[0m\u001b[0mlayer_names\u001b[0m\u001b[1;33m)\u001b[0m\u001b[1;33m)\u001b[0m \u001b[1;33m+\u001b[0m\u001b[1;33m\u001b[0m\u001b[1;33m\u001b[0m\u001b[0m\n\u001b[0;32m    670\u001b[0m                      \u001b[1;34m' layers into a model with '\u001b[0m \u001b[1;33m+\u001b[0m \u001b[0mstr\u001b[0m\u001b[1;33m(\u001b[0m\u001b[0mlen\u001b[0m\u001b[1;33m(\u001b[0m\u001b[0mfiltered_layers\u001b[0m\u001b[1;33m)\u001b[0m\u001b[1;33m)\u001b[0m \u001b[1;33m+\u001b[0m\u001b[1;33m\u001b[0m\u001b[1;33m\u001b[0m\u001b[0m\n\u001b[1;32m--> 671\u001b[1;33m                      ' layers.')\n\u001b[0m\u001b[0;32m    672\u001b[0m \u001b[1;33m\u001b[0m\u001b[0m\n\u001b[0;32m    673\u001b[0m   \u001b[1;31m# We batch weight value assignments in a single backend call\u001b[0m\u001b[1;33m\u001b[0m\u001b[1;33m\u001b[0m\u001b[1;33m\u001b[0m\u001b[0m\n",
      "\u001b[1;31mValueError\u001b[0m: You are trying to load a weight file containing 15 layers into a model with 55 layers."
     ]
    }
   ],
   "source": [
    "trainUnetModel = False\n",
    "\n",
    "EPOCHS = 3\n",
    "WEIGHTS_FILE = SAVED_FILES_ROOT + \"UNetModel.h5\"\n",
    "\n",
    "adamOptimizer = Adam(lr=1e-4, beta_1=0.9, beta_2=0.999, epsilon=None, decay=0.0, amsgrad=False)\n",
    "checkpoint = ModelCheckpoint(\"unetModel-{loss:.2f}.h5\", monitor=\"loss\", verbose=1, save_best_only=True,\n",
    "                             save_weights_only=True, mode=\"min\", period=1)\n",
    "stop = EarlyStopping( monitor=\"loss\", patience=5, mode=\"min\")\n",
    "reduce_lr = ReduceLROnPlateau(monitor=\"loss\", factor=0.2, patience=5, min_lr=1e-6, verbose=1, mode=\"min\")\n",
    "\n",
    "UNetModel = create_UNetModel()\n",
    "UNetModel.compile(loss=iou_loss, optimizer=adamOptimizer, metrics=[mean_iou]) \n",
    "\n",
    "UNetModel.load_weights(WEIGHTS_FILE) # train with saved weights\n",
    "\n",
    "if trainUnetModel==True :\n",
    "    # Make layers trainable\n",
    "    for layer in UNetModel.layers:\n",
    "        layer.trainable = True\n",
    "\n",
    "    hist = UNetModel.fit_generator(generator=trainUNetDataGen,\n",
    "                        epochs=EPOCHS,\n",
    "                        validation_data=validateUNetDataGen,\n",
    "                        callbacks=[checkpoint, reduce_lr, stop],\n",
    "                        shuffle=True,\n",
    "                        verbose=1)\n",
    "    \n",
    "    unet_history = np.array(hist.history)\n",
    "    np.save(\"unetTrainHist-3\", unet_history, allow_pickle=True)\n",
    "    "
   ]
  },
  {
   "cell_type": "markdown",
   "metadata": {},
   "source": [
    "#### Plot training history curves"
   ]
  },
  {
   "cell_type": "markdown",
   "metadata": {},
   "source": [
    "#### Visualize the UNet architecture"
   ]
  },
  {
   "cell_type": "code",
   "execution_count": 304,
   "metadata": {},
   "outputs": [
    {
     "name": "stdout",
     "output_type": "stream",
     "text": [
      "Ground Truth Box/Mask\n"
     ]
    },
    {
     "data": {
      "image/png": "[encoded data removed]",
      "text/plain": [
       "<Figure size 432x288 with 1 Axes>"
      ]
     },
     "metadata": {
      "needs_background": "light"
     },
     "output_type": "display_data"
    }
   ],
   "source": [
    "# Check sample ground truth masked image and predicted masked image \n",
    "imageSet0 = trainUNetDataGen[0][0]\n",
    "maskSet0 = trainUNetDataGen[0][1]\n",
    "print(\"Ground Truth Box/Mask\")\n",
    "showMaskedImage(imageSet0, maskSet0, 5)"
   ]
  },
  {
   "cell_type": "code",
   "execution_count": 305,
   "metadata": {},
   "outputs": [
    {
     "name": "stdout",
     "output_type": "stream",
     "text": [
      "Predicted Box/Mask\n"
     ]
    },
    {
     "data": {
      "image/png": "[encoded data removed]",
      "text/plain": [
       "<Figure size 432x288 with 1 Axes>"
      ]
     },
     "metadata": {
      "needs_background": "light"
     },
     "output_type": "display_data"
    }
   ],
   "source": [
    "predMasks = UNetModel.predict(imageSet0)\n",
    "print(\"Predicted Box/Mask\")\n",
    "showMaskedImage(imageSet0, predMasks, 5)"
   ]
  },
  {
   "cell_type": "markdown",
   "metadata": {},
   "source": [
    "#### Predict the Test data set"
   ]
  },
  {
   "cell_type": "code",
   "execution_count": 308,
   "metadata": {},
   "outputs": [],
   "source": [
    "predictUnetModel = False\n",
    "\n",
    "if predictUnetModel == True :\n",
    "    y_test, y_predicted = predictBatches(test_CombinedData, test_imageIdPaths, UNetModel)"
   ]
  },
  {
   "cell_type": "code",
   "execution_count": null,
   "metadata": {},
   "outputs": [],
   "source": []
  }
 ],
 "metadata": {
  "kernelspec": {
   "display_name": "Python 3.7.6 64-bit",
   "language": "python",
   "name": "python37664bit75bacb97a91248758a5dc6a56d15c2c0"
  },
  "language_info": {
   "codemirror_mode": {
    "name": "ipython",
    "version": 3
   },
   "file_extension": ".py",
   "mimetype": "text/x-python",
   "name": "python",
   "nbconvert_exporter": "python",
   "pygments_lexer": "ipython3",
   "version": "3.7.6"
  }
 },
 "nbformat": 4,
 "nbformat_minor": 4
}
