{
  "nbformat": 4,
  "nbformat_minor": 0,
  "metadata": {
    "colab": {
      "name": "Colab-CUDA_GPU-server.ipynb",
      "provenance": [],
      "collapsed_sections": [],
      "toc_visible": true
    },
    "kernelspec": {
      "name": "python3",
      "display_name": "Python 3"
    },
    "accelerator": "GPU"
  },
  "cells": [
    {
      "cell_type": "markdown",
      "metadata": {
        "id": "7KYvm7elVabs",
        "colab_type": "text"
      },
      "source": [
        "# Check GPU status\n",
        "\n",
        "Make surre to use : GPU runtime mode (Runtime->Change Runtime type -> python3 + GPU\n",
        ")\n",
        "\n"
      ]
    },
    {
      "cell_type": "code",
      "metadata": {
        "id": "-nwY1_gYVcpc",
        "colab_type": "code",
        "outputId": "50178cf0-36fb-4372-9f52-89d4d00a6c7c",
        "colab": {
          "base_uri": "https://localhost:8080/",
          "height": 394
        }
      },
      "source": [
        "# Check nvidia and nvcc cuda compiler\n",
        "\n",
        "!nvidia-smi\n",
        "!/usr/local/cuda/bin/nvcc --version"
      ],
      "execution_count": 1,
      "outputs": [
        {
          "output_type": "stream",
          "text": [
            "Sun Jun  7 09:27:10 2020       \n",
            "+-----------------------------------------------------------------------------+\n",
            "| NVIDIA-SMI 440.82       Driver Version: 418.67       CUDA Version: 10.1     |\n",
            "|-------------------------------+----------------------+----------------------+\n",
            "| GPU  Name        Persistence-M| Bus-Id        Disp.A | Volatile Uncorr. ECC |\n",
            "| Fan  Temp  Perf  Pwr:Usage/Cap|         Memory-Usage | GPU-Util  Compute M. |\n",
            "|===============================+======================+======================|\n",
            "|   0  Tesla P100-PCIE...  Off  | 00000000:00:04.0 Off |                    0 |\n",
            "| N/A   35C    P0    28W / 250W |      0MiB / 16280MiB |      0%      Default |\n",
            "+-------------------------------+----------------------+----------------------+\n",
            "                                                                               \n",
            "+-----------------------------------------------------------------------------+\n",
            "| Processes:                                                       GPU Memory |\n",
            "|  GPU       PID   Type   Process name                             Usage      |\n",
            "|=============================================================================|\n",
            "|  No running processes found                                                 |\n",
            "+-----------------------------------------------------------------------------+\n",
            "nvcc: NVIDIA (R) Cuda compiler driver\n",
            "Copyright (c) 2005-2019 NVIDIA Corporation\n",
            "Built on Sun_Jul_28_19:07:16_PDT_2019\n",
            "Cuda compilation tools, release 10.1, V10.1.243\n"
          ],
          "name": "stdout"
        }
      ]
    },
    {
      "cell_type": "markdown",
      "metadata": {
        "id": "FT66Rd6yV3ib",
        "colab_type": "text"
      },
      "source": [
        "#Mount Goolge Drive"
      ]
    },
    {
      "cell_type": "code",
      "metadata": {
        "id": "tUCE2A_DVeMe",
        "colab_type": "code",
        "outputId": "e5672c32-d6fb-45f1-a69f-20d737b2c22a",
        "colab": {
          "base_uri": "https://localhost:8080/",
          "height": 122
        }
      },
      "source": [
        "# link to google drive\n",
        "\n",
        "from google.colab import drive\n",
        "drive.mount('/content/gdrive/')\n"
      ],
      "execution_count": 2,
      "outputs": [
        {
          "output_type": "stream",
          "text": [
            "Go to this URL in a browser: https://accounts.google.com/o/oauth2/auth?client_id=947318989803-6bn6qk8qdgf4n4g3pfee6491hc0brc4i.apps.googleusercontent.com&redirect_uri=urn%3aietf%3awg%3aoauth%3a2.0%3aoob&response_type=code&scope=email%20https%3a%2f%2fwww.googleapis.com%2fauth%2fdocs.test%20https%3a%2f%2fwww.googleapis.com%2fauth%2fdrive%20https%3a%2f%2fwww.googleapis.com%2fauth%2fdrive.photos.readonly%20https%3a%2f%2fwww.googleapis.com%2fauth%2fpeopleapi.readonly\n",
            "\n",
            "Enter your authorization code:\n",
            "··········\n",
            "Mounted at /content/gdrive/\n"
          ],
          "name": "stdout"
        }
      ]
    },
    {
      "cell_type": "code",
      "metadata": {
        "id": "7j2NLxcrV9hj",
        "colab_type": "code",
        "outputId": "a370d309-31b8-4926-9952-e1c8a37cf585",
        "colab": {
          "base_uri": "https://localhost:8080/",
          "height": 187
        }
      },
      "source": [
        "#check that Gdrive is mounted\n",
        "\n",
        "!ls '/content/gdrive/My Drive/great learning/'"
      ],
      "execution_count": 3,
      "outputs": [
        {
          "output_type": "stream",
          "text": [
            "'capstone project'   model-1.11.h5\n",
            " glove.6B.100d.txt   model-1.17.h5\n",
            " glove.6B.200d.txt   model-1.32.h5\n",
            " glove.6B.300d.txt   model-1.56.h5\n",
            " glove.6B.50d.txt    model-2.06.h5\n",
            " glove.6B.zip\t     model-2.22.h5\n",
            " images.npy\t     News-Headlines-Dataset-For-Sarcasm-Detection\n",
            " model-0.93.h5\t     SVHN_single_grey1.h5\n",
            " model-0.96.h5\t     vgg_face\n",
            " model-1.06.h5\n"
          ],
          "name": "stdout"
        }
      ]
    },
    {
      "cell_type": "markdown",
      "metadata": {
        "id": "Ftyme-AIYFgK",
        "colab_type": "text"
      },
      "source": [
        "#Setup SSH port forwarding"
      ]
    },
    {
      "cell_type": "code",
      "metadata": {
        "id": "C0t3EVVaWbUJ",
        "colab_type": "code",
        "outputId": "a992efb3-1e59-4606-ff65-150f504df771",
        "colab": {
          "base_uri": "https://localhost:8080/",
          "height": 275
        }
      },
      "source": [
        "#1 - setup ssh/user \n",
        "\n",
        "\n",
        "#Generate a random root password\n",
        "import random, string\n",
        "password = ''.join(random.choice(string.ascii_letters + string.digits) for i in range(30))\n",
        "\n",
        "\n",
        "#Setup sshd\n",
        "! apt-get install -qq -o=Dpkg::Use-Pty=0 openssh-server pwgen > /dev/null\n",
        "\n",
        "#Set root password\n",
        "! echo root:$password | chpasswd\n",
        "! mkdir -p /var/run/sshd\n",
        "! echo \"PermitRootLogin yes\" >> /etc/ssh/sshd_config\n",
        "! echo \"PasswordAuthentication yes\" >> /etc/ssh/sshd_config\n",
        "! echo “LD_LIBRARY_PATH=/usr/lib64-nvidia” >> /root/.bashrc\n",
        "! echo “export LD_LIBRARY_PATH” >> /root/.bashrc\n",
        "\n",
        "print(\"username: root\")\n",
        "print(\"password: \", password)\n",
        "\n",
        "#Run sshd\n",
        "get_ipython().system_raw('/usr/sbin/sshd -D &')"
      ],
      "execution_count": 4,
      "outputs": [
        {
          "output_type": "stream",
          "text": [
            "\n",
            "Creating config file /etc/ssh/sshd_config with new version\n",
            "Creating SSH2 RSA key; this may take some time ...\n",
            "2048 SHA256:pfdOVzvl4QAh2GjIXJwXL8wFMnrF2AVDVpL2ZBU6gOU root@e4f8a7aa92be (RSA)\n",
            "Creating SSH2 ECDSA key; this may take some time ...\n",
            "256 SHA256:1U/WnPddL3r3ff5M57wNf+Eqw78tC17V3CR//UIQz50 root@e4f8a7aa92be (ECDSA)\n",
            "Creating SSH2 ED25519 key; this may take some time ...\n",
            "256 SHA256:LOegy6EF99+AWeuYfnILo+nemlSsI4I+ghK/s/dgLsE root@e4f8a7aa92be (ED25519)\n",
            "Created symlink /etc/systemd/system/sshd.service → /lib/systemd/system/ssh.service.\n",
            "Created symlink /etc/systemd/system/multi-user.target.wants/ssh.service → /lib/systemd/system/ssh.service.\n",
            "invoke-rc.d: could not determine current runlevel\n",
            "invoke-rc.d: policy-rc.d denied execution of start.\n",
            "username: root\n",
            "password:  iJ3qr0Xq9sfXYTB3U75UxTiW5RTvcn\n"
          ],
          "name": "stdout"
        }
      ]
    },
    {
      "cell_type": "code",
      "metadata": {
        "id": "H_1iQGAtYvCq",
        "colab_type": "code",
        "colab": {}
      },
      "source": [
        "# 2 - Download Ngrok\n",
        "\n",
        "! wget -q -c -nc https://bin.equinox.io/c/4VmDzA7iaHb/ngrok-stable-linux-amd64.zip\n",
        "! unzip -qq -n ngrok-stable-linux-amd64.zip"
      ],
      "execution_count": 0,
      "outputs": []
    },
    {
      "cell_type": "code",
      "metadata": {
        "id": "68P192JwZBtF",
        "colab_type": "code",
        "outputId": "f5b6e974-7b4e-4734-ff05-78c34370b5c9",
        "colab": {
          "base_uri": "https://localhost:8080/",
          "height": 51
        }
      },
      "source": [
        "# 3 - setup Ngrok - authtoken\n",
        "\n",
        "#Ask token\n",
        "print(\"Get your authtoken from https://dashboard.ngrok.com/auth\")\n",
        "import getpass\n",
        "authtoken = getpass.getpass()\n",
        "\n",
        "#Create tunnel\n",
        "get_ipython().system_raw('./ngrok authtoken $authtoken && ./ngrok tcp 22 &')"
      ],
      "execution_count": 6,
      "outputs": [
        {
          "output_type": "stream",
          "text": [
            "Get your authtoken from https://dashboard.ngrok.com/auth\n",
            "··········\n"
          ],
          "name": "stdout"
        }
      ]
    },
    {
      "cell_type": "code",
      "metadata": {
        "id": "JvFp6ynxIqH8",
        "colab_type": "code",
        "colab": {
          "base_uri": "https://localhost:8080/",
          "height": 34
        },
        "outputId": "871e3a72-69e8-4372-c012-91666eb0a1d3"
      },
      "source": [
        "print(\"Root password: {}\".format(password))"
      ],
      "execution_count": 9,
      "outputs": [
        {
          "output_type": "stream",
          "text": [
            "Root password: iJ3qr0Xq9sfXYTB3U75UxTiW5RTvcn\n"
          ],
          "name": "stdout"
        }
      ]
    },
    {
      "cell_type": "code",
      "metadata": {
        "id": "8ZsDDKkkJCEe",
        "colab_type": "code",
        "colab": {
          "base_uri": "https://localhost:8080/",
          "height": 34
        },
        "outputId": "602f73b7-4baa-4b12-f991-c11781352012"
      },
      "source": [
        "! curl -s http://localhost:4040/api/tunnels | python3 -c \\\n",
        "\"import sys, json; print(json.load(sys.stdin)['tunnels'][0]['public_url'])\""
      ],
      "execution_count": 11,
      "outputs": [
        {
          "output_type": "stream",
          "text": [
            "tcp://0.tcp.ngrok.io:19797\n"
          ],
          "name": "stdout"
        }
      ]
    },
    {
      "cell_type": "markdown",
      "metadata": {
        "id": "N5sGgljXaTjL",
        "colab_type": "text"
      },
      "source": [
        "\n",
        "\n",
        "```\n",
        "# This is formatted as code\n",
        "```\n",
        "\n",
        "You are ready to go. \n",
        "On Ngrok interface https://dashboard.ngrok.com/status you'll find the tcp address and the port \n",
        "\n",
        "connect using the following : \n",
        "\n",
        "```\n",
        "ssh root@0.tcp.ngrok.io -p [ngrok_port]\n",
        "\n",
        "> then enter the password generated previously\n",
        "\n",
        "```"
      ]
    },
    {
      "cell_type": "markdown",
      "metadata": {
        "id": "62PQz-3mL23X",
        "colab_type": "text"
      },
      "source": [
        "# Install SSH extension in VS Code.\n",
        "\n",
        "\n",
        "# Open Command Palette (Ctrl + Shift + P) and Select Remote-SSH - Connect to Host\n",
        "# Enter the address to the server. Example: root@0.tcp.ngrok.io:19797\n",
        "# Enter the password generated above\n",
        "# You will now be connected to the server\n",
        "\n",
        "# Open Command terminal in VS Code (Ctrl + ~)\n",
        "# type **export LD_PRELOAD=/usr/lib64-nvidia/libnvidia-ml.so** to link the GPU\n",
        "# type **nvidia-smi** to check the available GPU\n",
        "# Install tmux by using following command:\n",
        "# **sudo apt-get install tmux**\n",
        "\n",
        "# Before running any Python file just initiate the tmux session by typing tmux in command terminal\n",
        "# Read more about tmux usage: https://www.hamvocke.com/blog/a-quick-and-easy-guide-to-tmux/\n",
        "\n",
        "# You can access your drive by changing your work directory to /content/drive/\n",
        "\n",
        "# You can also navigate via VS code folder explorer GUI \n",
        "\n",
        "# Using git commands or VS code git extension pull and push the git repos\n",
        "\n",
        "# The colab sessions lasts only 12 hours. So save checkpoints to models.\n"
      ]
    },
    {
      "cell_type": "code",
      "metadata": {
        "id": "ACzGZ2_MaSQi",
        "colab_type": "code",
        "colab": {}
      },
      "source": [
        "# When done, kill Ngrok\n",
        "\n",
        "!kill $(ps aux | grep './ngrok' | awk '{print $2}')"
      ],
      "execution_count": 0,
      "outputs": []
    }
  ]
}