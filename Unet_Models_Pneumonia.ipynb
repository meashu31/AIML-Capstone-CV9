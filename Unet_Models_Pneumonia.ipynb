{
  "nbformat": 4,
  "nbformat_minor": 0,
  "metadata": {
    "colab": {
      "name": "Unet_Models_Pneumonia.ipynb",
      "provenance": [],
      "collapsed_sections": [],
      "mount_file_id": "1Cbw-4DX8sTaphWllzjiDuO1bFrz7nO3T",
      "authorship_tag": "ABX9TyNc330NEpk3iTNjmtH1eHMY",
      "include_colab_link": true
    },
    "kernelspec": {
      "name": "python3",
      "display_name": "Python 3"
    },
    "widgets": {
      "application/vnd.jupyter.widget-state+json": {
        "454ce0062fd24d16af873d782d1d18e9": {
          "model_module": "@jupyter-widgets/controls",
          "model_name": "BoxModel",
          "state": {
            "_view_name": "BoxView",
            "_dom_classes": [],
            "_model_name": "BoxModel",
            "_view_module": "@jupyter-widgets/controls",
            "_model_module_version": "1.5.0",
            "_view_count": null,
            "_view_module_version": "1.5.0",
            "box_style": "",
            "layout": "IPY_MODEL_e381acfc1e414dbaa26da076c9f37b90",
            "_model_module": "@jupyter-widgets/controls",
            "children": [
              "IPY_MODEL_7e66bc5efbe44b9cbfc1d5aaf7d83e01",
              "IPY_MODEL_1b538e5dcb1e4bb9a806b0b663ae2156",
              "IPY_MODEL_c389fc52b526467a943e94ff60b82e96",
              "IPY_MODEL_5d9a71692ece41e2a75050e08d94d1cb",
              "IPY_MODEL_78a2c707ed3d48b381f4376139a2e2df"
            ]
          }
        },
        "e381acfc1e414dbaa26da076c9f37b90": {
          "model_module": "@jupyter-widgets/base",
          "model_name": "LayoutModel",
          "state": {
            "_view_name": "LayoutView",
            "grid_template_rows": null,
            "right": null,
            "justify_content": null,
            "_view_module": "@jupyter-widgets/base",
            "overflow": null,
            "_model_module_version": "1.2.0",
            "_view_count": null,
            "flex_flow": "column",
            "width": "27%",
            "min_width": null,
            "border": "solid 2px",
            "align_items": "stretch",
            "bottom": null,
            "_model_module": "@jupyter-widgets/base",
            "top": null,
            "grid_column": null,
            "overflow_y": null,
            "overflow_x": null,
            "grid_auto_flow": null,
            "grid_area": null,
            "grid_template_columns": null,
            "flex": null,
            "_model_name": "LayoutModel",
            "justify_items": null,
            "grid_row": null,
            "max_height": null,
            "align_content": null,
            "visibility": null,
            "align_self": null,
            "height": null,
            "min_height": null,
            "padding": null,
            "grid_auto_rows": null,
            "grid_gap": null,
            "max_width": null,
            "order": null,
            "_view_module_version": "1.2.0",
            "grid_template_areas": null,
            "object_position": null,
            "object_fit": null,
            "grid_auto_columns": null,
            "margin": null,
            "display": "flex",
            "left": null
          }
        },
        "7e66bc5efbe44b9cbfc1d5aaf7d83e01": {
          "model_module": "@jupyter-widgets/controls",
          "model_name": "BoxModel",
          "state": {
            "_view_name": "BoxView",
            "_dom_classes": [],
            "_model_name": "BoxModel",
            "_view_module": "@jupyter-widgets/controls",
            "_model_module_version": "1.5.0",
            "_view_count": null,
            "_view_module_version": "1.5.0",
            "box_style": "",
            "layout": "IPY_MODEL_68fe2322ebf04417ba4208ea577dce62",
            "_model_module": "@jupyter-widgets/controls",
            "children": [
              "IPY_MODEL_90706535513f474cbdc5cc330f748f13",
              "IPY_MODEL_c25bebd9371f47f5b2eed3da7459238b"
            ]
          }
        },
        "1b538e5dcb1e4bb9a806b0b663ae2156": {
          "model_module": "@jupyter-widgets/controls",
          "model_name": "BoxModel",
          "state": {
            "_view_name": "BoxView",
            "_dom_classes": [],
            "_model_name": "BoxModel",
            "_view_module": "@jupyter-widgets/controls",
            "_model_module_version": "1.5.0",
            "_view_count": null,
            "_view_module_version": "1.5.0",
            "box_style": "",
            "layout": "IPY_MODEL_68fe2322ebf04417ba4208ea577dce62",
            "_model_module": "@jupyter-widgets/controls",
            "children": [
              "IPY_MODEL_e6c45860e29e439f98452020595952be",
              "IPY_MODEL_4e931f166b864fee9a4aa7d6b7f5a550"
            ]
          }
        },
        "c389fc52b526467a943e94ff60b82e96": {
          "model_module": "@jupyter-widgets/controls",
          "model_name": "BoxModel",
          "state": {
            "_view_name": "BoxView",
            "_dom_classes": [],
            "_model_name": "BoxModel",
            "_view_module": "@jupyter-widgets/controls",
            "_model_module_version": "1.5.0",
            "_view_count": null,
            "_view_module_version": "1.5.0",
            "box_style": "",
            "layout": "IPY_MODEL_68fe2322ebf04417ba4208ea577dce62",
            "_model_module": "@jupyter-widgets/controls",
            "children": [
              "IPY_MODEL_732b3904c0a74d4daccca532199d5693",
              "IPY_MODEL_579845466f9b42e3a1ac6aa73da6b06c"
            ]
          }
        },
        "5d9a71692ece41e2a75050e08d94d1cb": {
          "model_module": "@jupyter-widgets/controls",
          "model_name": "BoxModel",
          "state": {
            "_view_name": "BoxView",
            "_dom_classes": [],
            "_model_name": "BoxModel",
            "_view_module": "@jupyter-widgets/controls",
            "_model_module_version": "1.5.0",
            "_view_count": null,
            "_view_module_version": "1.5.0",
            "box_style": "",
            "layout": "IPY_MODEL_68fe2322ebf04417ba4208ea577dce62",
            "_model_module": "@jupyter-widgets/controls",
            "children": [
              "IPY_MODEL_74971d0dce3b49808379b0de09779bab",
              "IPY_MODEL_f7304d3a5c454cd2aaf7dc2411a3c8aa"
            ]
          }
        },
        "78a2c707ed3d48b381f4376139a2e2df": {
          "model_module": "@jupyter-widgets/controls",
          "model_name": "BoxModel",
          "state": {
            "_view_name": "BoxView",
            "_dom_classes": [],
            "_model_name": "BoxModel",
            "_view_module": "@jupyter-widgets/controls",
            "_model_module_version": "1.5.0",
            "_view_count": null,
            "_view_module_version": "1.5.0",
            "box_style": "",
            "layout": "IPY_MODEL_68fe2322ebf04417ba4208ea577dce62",
            "_model_module": "@jupyter-widgets/controls",
            "children": [
              "IPY_MODEL_74315de82c5e4af888ce8b9546ea90c7",
              "IPY_MODEL_14347588579b4165ba1173616fc3f76f"
            ]
          }
        },
        "68fe2322ebf04417ba4208ea577dce62": {
          "model_module": "@jupyter-widgets/base",
          "model_name": "LayoutModel",
          "state": {
            "_view_name": "LayoutView",
            "grid_template_rows": null,
            "right": null,
            "justify_content": "space-between",
            "_view_module": "@jupyter-widgets/base",
            "overflow": null,
            "_model_module_version": "1.2.0",
            "_view_count": null,
            "flex_flow": "row",
            "width": null,
            "min_width": null,
            "border": null,
            "align_items": null,
            "bottom": null,
            "_model_module": "@jupyter-widgets/base",
            "top": null,
            "grid_column": null,
            "overflow_y": null,
            "overflow_x": null,
            "grid_auto_flow": null,
            "grid_area": null,
            "grid_template_columns": null,
            "flex": null,
            "_model_name": "LayoutModel",
            "justify_items": null,
            "grid_row": null,
            "max_height": null,
            "align_content": null,
            "visibility": null,
            "align_self": null,
            "height": null,
            "min_height": null,
            "padding": null,
            "grid_auto_rows": null,
            "grid_gap": null,
            "max_width": null,
            "order": null,
            "_view_module_version": "1.2.0",
            "grid_template_areas": null,
            "object_position": null,
            "object_fit": null,
            "grid_auto_columns": null,
            "margin": null,
            "display": "flex",
            "left": null
          }
        },
        "90706535513f474cbdc5cc330f748f13": {
          "model_module": "@jupyter-widgets/controls",
          "model_name": "LabelModel",
          "state": {
            "_view_name": "LabelView",
            "style": "IPY_MODEL_307f854adca4447c8bdfc5bcc97e5b82",
            "_dom_classes": [],
            "description": "",
            "_model_name": "LabelModel",
            "placeholder": "​",
            "_view_module": "@jupyter-widgets/controls",
            "_model_module_version": "1.5.0",
            "value": "Select Backbone",
            "_view_count": null,
            "_view_module_version": "1.5.0",
            "description_tooltip": null,
            "_model_module": "@jupyter-widgets/controls",
            "layout": "IPY_MODEL_f51d999491bd41eb953f6297e13c6ae9"
          }
        },
        "c25bebd9371f47f5b2eed3da7459238b": {
          "model_module": "@jupyter-widgets/controls",
          "model_name": "DropdownModel",
          "state": {
            "_options_labels": [
              "Select",
              "VGG-16",
              "VGG-19",
              "ResNet-18",
              "ResNet-34",
              "ResNet-50",
              "ResNet-101",
              "ResNet-152",
              "DenseNet-121",
              "DenseNet-169",
              "DenseNet-201",
              "Inception V3",
              "Inception ResNet V2",
              "MobileNet"
            ],
            "_view_name": "DropdownView",
            "style": "IPY_MODEL_f5bcef306e354126bfa1a69c68eccb0f",
            "_dom_classes": [],
            "description": "",
            "_model_name": "DropdownModel",
            "index": 0,
            "_view_module": "@jupyter-widgets/controls",
            "_model_module_version": "1.5.0",
            "_view_count": null,
            "disabled": false,
            "_view_module_version": "1.5.0",
            "description_tooltip": null,
            "_model_module": "@jupyter-widgets/controls",
            "layout": "IPY_MODEL_237997bcc4ee467782774a208e69691b"
          }
        },
        "e6c45860e29e439f98452020595952be": {
          "model_module": "@jupyter-widgets/controls",
          "model_name": "LabelModel",
          "state": {
            "_view_name": "LabelView",
            "style": "IPY_MODEL_de821c54f0b345d5a22929d7222a3adf",
            "_dom_classes": [],
            "description": "",
            "_model_name": "LabelModel",
            "placeholder": "​",
            "_view_module": "@jupyter-widgets/controls",
            "_model_module_version": "1.5.0",
            "value": "Use PreTrained Weights",
            "_view_count": null,
            "_view_module_version": "1.5.0",
            "description_tooltip": null,
            "_model_module": "@jupyter-widgets/controls",
            "layout": "IPY_MODEL_21bd5e050c914679a5d65ab8e9349985"
          }
        },
        "4e931f166b864fee9a4aa7d6b7f5a550": {
          "model_module": "@jupyter-widgets/controls",
          "model_name": "DropdownModel",
          "state": {
            "_options_labels": [
              "Yes",
              "No"
            ],
            "_view_name": "DropdownView",
            "style": "IPY_MODEL_54aa8c0c6a4d4d7b9c4b09e88fd82bfe",
            "_dom_classes": [],
            "description": "",
            "_model_name": "DropdownModel",
            "index": 0,
            "_view_module": "@jupyter-widgets/controls",
            "_model_module_version": "1.5.0",
            "_view_count": null,
            "disabled": false,
            "_view_module_version": "1.5.0",
            "description_tooltip": null,
            "_model_module": "@jupyter-widgets/controls",
            "layout": "IPY_MODEL_402719f202e04e6bab35a8034a0816b8"
          }
        },
        "732b3904c0a74d4daccca532199d5693": {
          "model_module": "@jupyter-widgets/controls",
          "model_name": "LabelModel",
          "state": {
            "_view_name": "LabelView",
            "style": "IPY_MODEL_a2d08394f4594554a2082a765b161220",
            "_dom_classes": [],
            "description": "",
            "_model_name": "LabelModel",
            "placeholder": "​",
            "_view_module": "@jupyter-widgets/controls",
            "_model_module_version": "1.5.0",
            "value": "Show Model Summary",
            "_view_count": null,
            "_view_module_version": "1.5.0",
            "description_tooltip": null,
            "_model_module": "@jupyter-widgets/controls",
            "layout": "IPY_MODEL_3648629646814381bfcd520fd7399c6c"
          }
        },
        "579845466f9b42e3a1ac6aa73da6b06c": {
          "model_module": "@jupyter-widgets/controls",
          "model_name": "DropdownModel",
          "state": {
            "_options_labels": [
              "Yes",
              "No"
            ],
            "_view_name": "DropdownView",
            "style": "IPY_MODEL_bf916de3b84348fdaa00c787507550c0",
            "_dom_classes": [],
            "description": "",
            "_model_name": "DropdownModel",
            "index": 1,
            "_view_module": "@jupyter-widgets/controls",
            "_model_module_version": "1.5.0",
            "_view_count": null,
            "disabled": false,
            "_view_module_version": "1.5.0",
            "description_tooltip": null,
            "_model_module": "@jupyter-widgets/controls",
            "layout": "IPY_MODEL_9b1d49b8e985414693c025ef024dc02f"
          }
        },
        "74971d0dce3b49808379b0de09779bab": {
          "model_module": "@jupyter-widgets/controls",
          "model_name": "LabelModel",
          "state": {
            "_view_name": "LabelView",
            "style": "IPY_MODEL_e36ac87a0d954ff6a897a166da599567",
            "_dom_classes": [],
            "description": "",
            "_model_name": "LabelModel",
            "placeholder": "​",
            "_view_module": "@jupyter-widgets/controls",
            "_model_module_version": "1.5.0",
            "value": "Train Model",
            "_view_count": null,
            "_view_module_version": "1.5.0",
            "description_tooltip": null,
            "_model_module": "@jupyter-widgets/controls",
            "layout": "IPY_MODEL_731b76053964479b9cdca12f03d4b64c"
          }
        },
        "f7304d3a5c454cd2aaf7dc2411a3c8aa": {
          "model_module": "@jupyter-widgets/controls",
          "model_name": "DropdownModel",
          "state": {
            "_options_labels": [
              "Yes",
              "No"
            ],
            "_view_name": "DropdownView",
            "style": "IPY_MODEL_62f4d5cd196149e1b110d1ff38238f65",
            "_dom_classes": [],
            "description": "",
            "_model_name": "DropdownModel",
            "index": 1,
            "_view_module": "@jupyter-widgets/controls",
            "_model_module_version": "1.5.0",
            "_view_count": null,
            "disabled": false,
            "_view_module_version": "1.5.0",
            "description_tooltip": null,
            "_model_module": "@jupyter-widgets/controls",
            "layout": "IPY_MODEL_8e33927e5a874c3a8689eb72f770f373"
          }
        },
        "74315de82c5e4af888ce8b9546ea90c7": {
          "model_module": "@jupyter-widgets/controls",
          "model_name": "LabelModel",
          "state": {
            "_view_name": "LabelView",
            "style": "IPY_MODEL_90a6e17046384d9c9707864c03685429",
            "_dom_classes": [],
            "description": "",
            "_model_name": "LabelModel",
            "placeholder": "​",
            "_view_module": "@jupyter-widgets/controls",
            "_model_module_version": "1.5.0",
            "value": "Test Model",
            "_view_count": null,
            "_view_module_version": "1.5.0",
            "description_tooltip": null,
            "_model_module": "@jupyter-widgets/controls",
            "layout": "IPY_MODEL_edd46bac1160454f9dfc18c5f7168a60"
          }
        },
        "14347588579b4165ba1173616fc3f76f": {
          "model_module": "@jupyter-widgets/controls",
          "model_name": "DropdownModel",
          "state": {
            "_options_labels": [
              "Yes",
              "No"
            ],
            "_view_name": "DropdownView",
            "style": "IPY_MODEL_586f3268410a4425993dfab512a64425",
            "_dom_classes": [],
            "description": "",
            "_model_name": "DropdownModel",
            "index": 1,
            "_view_module": "@jupyter-widgets/controls",
            "_model_module_version": "1.5.0",
            "_view_count": null,
            "disabled": false,
            "_view_module_version": "1.5.0",
            "description_tooltip": null,
            "_model_module": "@jupyter-widgets/controls",
            "layout": "IPY_MODEL_4479caa50d71489b9c417fb0e1e608a1"
          }
        },
        "307f854adca4447c8bdfc5bcc97e5b82": {
          "model_module": "@jupyter-widgets/controls",
          "model_name": "DescriptionStyleModel",
          "state": {
            "_view_name": "StyleView",
            "_model_name": "DescriptionStyleModel",
            "description_width": "",
            "_view_module": "@jupyter-widgets/base",
            "_model_module_version": "1.5.0",
            "_view_count": null,
            "_view_module_version": "1.2.0",
            "_model_module": "@jupyter-widgets/controls"
          }
        },
        "f51d999491bd41eb953f6297e13c6ae9": {
          "model_module": "@jupyter-widgets/base",
          "model_name": "LayoutModel",
          "state": {
            "_view_name": "LayoutView",
            "grid_template_rows": null,
            "right": null,
            "justify_content": null,
            "_view_module": "@jupyter-widgets/base",
            "overflow": null,
            "_model_module_version": "1.2.0",
            "_view_count": null,
            "flex_flow": null,
            "width": null,
            "min_width": null,
            "border": null,
            "align_items": null,
            "bottom": null,
            "_model_module": "@jupyter-widgets/base",
            "top": null,
            "grid_column": null,
            "overflow_y": null,
            "overflow_x": null,
            "grid_auto_flow": null,
            "grid_area": null,
            "grid_template_columns": null,
            "flex": null,
            "_model_name": "LayoutModel",
            "justify_items": null,
            "grid_row": null,
            "max_height": null,
            "align_content": null,
            "visibility": null,
            "align_self": null,
            "height": null,
            "min_height": null,
            "padding": null,
            "grid_auto_rows": null,
            "grid_gap": null,
            "max_width": null,
            "order": null,
            "_view_module_version": "1.2.0",
            "grid_template_areas": null,
            "object_position": null,
            "object_fit": null,
            "grid_auto_columns": null,
            "margin": null,
            "display": null,
            "left": null
          }
        },
        "f5bcef306e354126bfa1a69c68eccb0f": {
          "model_module": "@jupyter-widgets/controls",
          "model_name": "DescriptionStyleModel",
          "state": {
            "_view_name": "StyleView",
            "_model_name": "DescriptionStyleModel",
            "description_width": "",
            "_view_module": "@jupyter-widgets/base",
            "_model_module_version": "1.5.0",
            "_view_count": null,
            "_view_module_version": "1.2.0",
            "_model_module": "@jupyter-widgets/controls"
          }
        },
        "237997bcc4ee467782774a208e69691b": {
          "model_module": "@jupyter-widgets/base",
          "model_name": "LayoutModel",
          "state": {
            "_view_name": "LayoutView",
            "grid_template_rows": null,
            "right": null,
            "justify_content": null,
            "_view_module": "@jupyter-widgets/base",
            "overflow": null,
            "_model_module_version": "1.2.0",
            "_view_count": null,
            "flex_flow": null,
            "width": null,
            "min_width": null,
            "border": null,
            "align_items": null,
            "bottom": null,
            "_model_module": "@jupyter-widgets/base",
            "top": null,
            "grid_column": null,
            "overflow_y": null,
            "overflow_x": null,
            "grid_auto_flow": null,
            "grid_area": null,
            "grid_template_columns": null,
            "flex": null,
            "_model_name": "LayoutModel",
            "justify_items": null,
            "grid_row": null,
            "max_height": null,
            "align_content": null,
            "visibility": null,
            "align_self": null,
            "height": null,
            "min_height": null,
            "padding": null,
            "grid_auto_rows": null,
            "grid_gap": null,
            "max_width": null,
            "order": null,
            "_view_module_version": "1.2.0",
            "grid_template_areas": null,
            "object_position": null,
            "object_fit": null,
            "grid_auto_columns": null,
            "margin": null,
            "display": null,
            "left": null
          }
        },
        "de821c54f0b345d5a22929d7222a3adf": {
          "model_module": "@jupyter-widgets/controls",
          "model_name": "DescriptionStyleModel",
          "state": {
            "_view_name": "StyleView",
            "_model_name": "DescriptionStyleModel",
            "description_width": "",
            "_view_module": "@jupyter-widgets/base",
            "_model_module_version": "1.5.0",
            "_view_count": null,
            "_view_module_version": "1.2.0",
            "_model_module": "@jupyter-widgets/controls"
          }
        },
        "21bd5e050c914679a5d65ab8e9349985": {
          "model_module": "@jupyter-widgets/base",
          "model_name": "LayoutModel",
          "state": {
            "_view_name": "LayoutView",
            "grid_template_rows": null,
            "right": null,
            "justify_content": null,
            "_view_module": "@jupyter-widgets/base",
            "overflow": null,
            "_model_module_version": "1.2.0",
            "_view_count": null,
            "flex_flow": null,
            "width": null,
            "min_width": null,
            "border": null,
            "align_items": null,
            "bottom": null,
            "_model_module": "@jupyter-widgets/base",
            "top": null,
            "grid_column": null,
            "overflow_y": null,
            "overflow_x": null,
            "grid_auto_flow": null,
            "grid_area": null,
            "grid_template_columns": null,
            "flex": null,
            "_model_name": "LayoutModel",
            "justify_items": null,
            "grid_row": null,
            "max_height": null,
            "align_content": null,
            "visibility": null,
            "align_self": null,
            "height": null,
            "min_height": null,
            "padding": null,
            "grid_auto_rows": null,
            "grid_gap": null,
            "max_width": null,
            "order": null,
            "_view_module_version": "1.2.0",
            "grid_template_areas": null,
            "object_position": null,
            "object_fit": null,
            "grid_auto_columns": null,
            "margin": null,
            "display": null,
            "left": null
          }
        },
        "54aa8c0c6a4d4d7b9c4b09e88fd82bfe": {
          "model_module": "@jupyter-widgets/controls",
          "model_name": "DescriptionStyleModel",
          "state": {
            "_view_name": "StyleView",
            "_model_name": "DescriptionStyleModel",
            "description_width": "",
            "_view_module": "@jupyter-widgets/base",
            "_model_module_version": "1.5.0",
            "_view_count": null,
            "_view_module_version": "1.2.0",
            "_model_module": "@jupyter-widgets/controls"
          }
        },
        "402719f202e04e6bab35a8034a0816b8": {
          "model_module": "@jupyter-widgets/base",
          "model_name": "LayoutModel",
          "state": {
            "_view_name": "LayoutView",
            "grid_template_rows": null,
            "right": null,
            "justify_content": null,
            "_view_module": "@jupyter-widgets/base",
            "overflow": null,
            "_model_module_version": "1.2.0",
            "_view_count": null,
            "flex_flow": null,
            "width": null,
            "min_width": null,
            "border": null,
            "align_items": null,
            "bottom": null,
            "_model_module": "@jupyter-widgets/base",
            "top": null,
            "grid_column": null,
            "overflow_y": null,
            "overflow_x": null,
            "grid_auto_flow": null,
            "grid_area": null,
            "grid_template_columns": null,
            "flex": null,
            "_model_name": "LayoutModel",
            "justify_items": null,
            "grid_row": null,
            "max_height": null,
            "align_content": null,
            "visibility": null,
            "align_self": null,
            "height": null,
            "min_height": null,
            "padding": null,
            "grid_auto_rows": null,
            "grid_gap": null,
            "max_width": null,
            "order": null,
            "_view_module_version": "1.2.0",
            "grid_template_areas": null,
            "object_position": null,
            "object_fit": null,
            "grid_auto_columns": null,
            "margin": null,
            "display": null,
            "left": null
          }
        },
        "a2d08394f4594554a2082a765b161220": {
          "model_module": "@jupyter-widgets/controls",
          "model_name": "DescriptionStyleModel",
          "state": {
            "_view_name": "StyleView",
            "_model_name": "DescriptionStyleModel",
            "description_width": "",
            "_view_module": "@jupyter-widgets/base",
            "_model_module_version": "1.5.0",
            "_view_count": null,
            "_view_module_version": "1.2.0",
            "_model_module": "@jupyter-widgets/controls"
          }
        },
        "3648629646814381bfcd520fd7399c6c": {
          "model_module": "@jupyter-widgets/base",
          "model_name": "LayoutModel",
          "state": {
            "_view_name": "LayoutView",
            "grid_template_rows": null,
            "right": null,
            "justify_content": null,
            "_view_module": "@jupyter-widgets/base",
            "overflow": null,
            "_model_module_version": "1.2.0",
            "_view_count": null,
            "flex_flow": null,
            "width": null,
            "min_width": null,
            "border": null,
            "align_items": null,
            "bottom": null,
            "_model_module": "@jupyter-widgets/base",
            "top": null,
            "grid_column": null,
            "overflow_y": null,
            "overflow_x": null,
            "grid_auto_flow": null,
            "grid_area": null,
            "grid_template_columns": null,
            "flex": null,
            "_model_name": "LayoutModel",
            "justify_items": null,
            "grid_row": null,
            "max_height": null,
            "align_content": null,
            "visibility": null,
            "align_self": null,
            "height": null,
            "min_height": null,
            "padding": null,
            "grid_auto_rows": null,
            "grid_gap": null,
            "max_width": null,
            "order": null,
            "_view_module_version": "1.2.0",
            "grid_template_areas": null,
            "object_position": null,
            "object_fit": null,
            "grid_auto_columns": null,
            "margin": null,
            "display": null,
            "left": null
          }
        },
        "bf916de3b84348fdaa00c787507550c0": {
          "model_module": "@jupyter-widgets/controls",
          "model_name": "DescriptionStyleModel",
          "state": {
            "_view_name": "StyleView",
            "_model_name": "DescriptionStyleModel",
            "description_width": "",
            "_view_module": "@jupyter-widgets/base",
            "_model_module_version": "1.5.0",
            "_view_count": null,
            "_view_module_version": "1.2.0",
            "_model_module": "@jupyter-widgets/controls"
          }
        },
        "9b1d49b8e985414693c025ef024dc02f": {
          "model_module": "@jupyter-widgets/base",
          "model_name": "LayoutModel",
          "state": {
            "_view_name": "LayoutView",
            "grid_template_rows": null,
            "right": null,
            "justify_content": null,
            "_view_module": "@jupyter-widgets/base",
            "overflow": null,
            "_model_module_version": "1.2.0",
            "_view_count": null,
            "flex_flow": null,
            "width": null,
            "min_width": null,
            "border": null,
            "align_items": null,
            "bottom": null,
            "_model_module": "@jupyter-widgets/base",
            "top": null,
            "grid_column": null,
            "overflow_y": null,
            "overflow_x": null,
            "grid_auto_flow": null,
            "grid_area": null,
            "grid_template_columns": null,
            "flex": null,
            "_model_name": "LayoutModel",
            "justify_items": null,
            "grid_row": null,
            "max_height": null,
            "align_content": null,
            "visibility": null,
            "align_self": null,
            "height": null,
            "min_height": null,
            "padding": null,
            "grid_auto_rows": null,
            "grid_gap": null,
            "max_width": null,
            "order": null,
            "_view_module_version": "1.2.0",
            "grid_template_areas": null,
            "object_position": null,
            "object_fit": null,
            "grid_auto_columns": null,
            "margin": null,
            "display": null,
            "left": null
          }
        },
        "e36ac87a0d954ff6a897a166da599567": {
          "model_module": "@jupyter-widgets/controls",
          "model_name": "DescriptionStyleModel",
          "state": {
            "_view_name": "StyleView",
            "_model_name": "DescriptionStyleModel",
            "description_width": "",
            "_view_module": "@jupyter-widgets/base",
            "_model_module_version": "1.5.0",
            "_view_count": null,
            "_view_module_version": "1.2.0",
            "_model_module": "@jupyter-widgets/controls"
          }
        },
        "731b76053964479b9cdca12f03d4b64c": {
          "model_module": "@jupyter-widgets/base",
          "model_name": "LayoutModel",
          "state": {
            "_view_name": "LayoutView",
            "grid_template_rows": null,
            "right": null,
            "justify_content": null,
            "_view_module": "@jupyter-widgets/base",
            "overflow": null,
            "_model_module_version": "1.2.0",
            "_view_count": null,
            "flex_flow": null,
            "width": null,
            "min_width": null,
            "border": null,
            "align_items": null,
            "bottom": null,
            "_model_module": "@jupyter-widgets/base",
            "top": null,
            "grid_column": null,
            "overflow_y": null,
            "overflow_x": null,
            "grid_auto_flow": null,
            "grid_area": null,
            "grid_template_columns": null,
            "flex": null,
            "_model_name": "LayoutModel",
            "justify_items": null,
            "grid_row": null,
            "max_height": null,
            "align_content": null,
            "visibility": null,
            "align_self": null,
            "height": null,
            "min_height": null,
            "padding": null,
            "grid_auto_rows": null,
            "grid_gap": null,
            "max_width": null,
            "order": null,
            "_view_module_version": "1.2.0",
            "grid_template_areas": null,
            "object_position": null,
            "object_fit": null,
            "grid_auto_columns": null,
            "margin": null,
            "display": null,
            "left": null
          }
        },
        "62f4d5cd196149e1b110d1ff38238f65": {
          "model_module": "@jupyter-widgets/controls",
          "model_name": "DescriptionStyleModel",
          "state": {
            "_view_name": "StyleView",
            "_model_name": "DescriptionStyleModel",
            "description_width": "",
            "_view_module": "@jupyter-widgets/base",
            "_model_module_version": "1.5.0",
            "_view_count": null,
            "_view_module_version": "1.2.0",
            "_model_module": "@jupyter-widgets/controls"
          }
        },
        "8e33927e5a874c3a8689eb72f770f373": {
          "model_module": "@jupyter-widgets/base",
          "model_name": "LayoutModel",
          "state": {
            "_view_name": "LayoutView",
            "grid_template_rows": null,
            "right": null,
            "justify_content": null,
            "_view_module": "@jupyter-widgets/base",
            "overflow": null,
            "_model_module_version": "1.2.0",
            "_view_count": null,
            "flex_flow": null,
            "width": null,
            "min_width": null,
            "border": null,
            "align_items": null,
            "bottom": null,
            "_model_module": "@jupyter-widgets/base",
            "top": null,
            "grid_column": null,
            "overflow_y": null,
            "overflow_x": null,
            "grid_auto_flow": null,
            "grid_area": null,
            "grid_template_columns": null,
            "flex": null,
            "_model_name": "LayoutModel",
            "justify_items": null,
            "grid_row": null,
            "max_height": null,
            "align_content": null,
            "visibility": null,
            "align_self": null,
            "height": null,
            "min_height": null,
            "padding": null,
            "grid_auto_rows": null,
            "grid_gap": null,
            "max_width": null,
            "order": null,
            "_view_module_version": "1.2.0",
            "grid_template_areas": null,
            "object_position": null,
            "object_fit": null,
            "grid_auto_columns": null,
            "margin": null,
            "display": null,
            "left": null
          }
        },
        "90a6e17046384d9c9707864c03685429": {
          "model_module": "@jupyter-widgets/controls",
          "model_name": "DescriptionStyleModel",
          "state": {
            "_view_name": "StyleView",
            "_model_name": "DescriptionStyleModel",
            "description_width": "",
            "_view_module": "@jupyter-widgets/base",
            "_model_module_version": "1.5.0",
            "_view_count": null,
            "_view_module_version": "1.2.0",
            "_model_module": "@jupyter-widgets/controls"
          }
        },
        "edd46bac1160454f9dfc18c5f7168a60": {
          "model_module": "@jupyter-widgets/base",
          "model_name": "LayoutModel",
          "state": {
            "_view_name": "LayoutView",
            "grid_template_rows": null,
            "right": null,
            "justify_content": null,
            "_view_module": "@jupyter-widgets/base",
            "overflow": null,
            "_model_module_version": "1.2.0",
            "_view_count": null,
            "flex_flow": null,
            "width": null,
            "min_width": null,
            "border": null,
            "align_items": null,
            "bottom": null,
            "_model_module": "@jupyter-widgets/base",
            "top": null,
            "grid_column": null,
            "overflow_y": null,
            "overflow_x": null,
            "grid_auto_flow": null,
            "grid_area": null,
            "grid_template_columns": null,
            "flex": null,
            "_model_name": "LayoutModel",
            "justify_items": null,
            "grid_row": null,
            "max_height": null,
            "align_content": null,
            "visibility": null,
            "align_self": null,
            "height": null,
            "min_height": null,
            "padding": null,
            "grid_auto_rows": null,
            "grid_gap": null,
            "max_width": null,
            "order": null,
            "_view_module_version": "1.2.0",
            "grid_template_areas": null,
            "object_position": null,
            "object_fit": null,
            "grid_auto_columns": null,
            "margin": null,
            "display": null,
            "left": null
          }
        },
        "586f3268410a4425993dfab512a64425": {
          "model_module": "@jupyter-widgets/controls",
          "model_name": "DescriptionStyleModel",
          "state": {
            "_view_name": "StyleView",
            "_model_name": "DescriptionStyleModel",
            "description_width": "",
            "_view_module": "@jupyter-widgets/base",
            "_model_module_version": "1.5.0",
            "_view_count": null,
            "_view_module_version": "1.2.0",
            "_model_module": "@jupyter-widgets/controls"
          }
        },
        "4479caa50d71489b9c417fb0e1e608a1": {
          "model_module": "@jupyter-widgets/base",
          "model_name": "LayoutModel",
          "state": {
            "_view_name": "LayoutView",
            "grid_template_rows": null,
            "right": null,
            "justify_content": null,
            "_view_module": "@jupyter-widgets/base",
            "overflow": null,
            "_model_module_version": "1.2.0",
            "_view_count": null,
            "flex_flow": null,
            "width": null,
            "min_width": null,
            "border": null,
            "align_items": null,
            "bottom": null,
            "_model_module": "@jupyter-widgets/base",
            "top": null,
            "grid_column": null,
            "overflow_y": null,
            "overflow_x": null,
            "grid_auto_flow": null,
            "grid_area": null,
            "grid_template_columns": null,
            "flex": null,
            "_model_name": "LayoutModel",
            "justify_items": null,
            "grid_row": null,
            "max_height": null,
            "align_content": null,
            "visibility": null,
            "align_self": null,
            "height": null,
            "min_height": null,
            "padding": null,
            "grid_auto_rows": null,
            "grid_gap": null,
            "max_width": null,
            "order": null,
            "_view_module_version": "1.2.0",
            "grid_template_areas": null,
            "object_position": null,
            "object_fit": null,
            "grid_auto_columns": null,
            "margin": null,
            "display": null,
            "left": null
          }
        },
        "c287935dc9b841dda588324c08502f72": {
          "model_module": "@jupyter-widgets/output",
          "model_name": "OutputModel",
          "state": {
            "_view_name": "OutputView",
            "msg_id": "",
            "_dom_classes": [],
            "_model_name": "OutputModel",
            "outputs": [
              {
                "output_type": "stream",
                "metadata": {
                  "tags": []
                },
                "text": "\nPlease select a Backbone of your choice\n",
                "stream": "stdout"
              }
            ],
            "_view_module": "@jupyter-widgets/output",
            "_model_module_version": "1.0.0",
            "_view_count": null,
            "_view_module_version": "1.0.0",
            "layout": "IPY_MODEL_c873daa646a54121b69ea90c660bc750",
            "_model_module": "@jupyter-widgets/output"
          }
        },
        "c873daa646a54121b69ea90c660bc750": {
          "model_module": "@jupyter-widgets/base",
          "model_name": "LayoutModel",
          "state": {
            "_view_name": "LayoutView",
            "grid_template_rows": null,
            "right": null,
            "justify_content": null,
            "_view_module": "@jupyter-widgets/base",
            "overflow": null,
            "_model_module_version": "1.2.0",
            "_view_count": null,
            "flex_flow": null,
            "width": null,
            "min_width": null,
            "border": null,
            "align_items": null,
            "bottom": null,
            "_model_module": "@jupyter-widgets/base",
            "top": null,
            "grid_column": null,
            "overflow_y": null,
            "overflow_x": null,
            "grid_auto_flow": null,
            "grid_area": null,
            "grid_template_columns": null,
            "flex": null,
            "_model_name": "LayoutModel",
            "justify_items": null,
            "grid_row": null,
            "max_height": null,
            "align_content": null,
            "visibility": null,
            "align_self": null,
            "height": null,
            "min_height": null,
            "padding": null,
            "grid_auto_rows": null,
            "grid_gap": null,
            "max_width": null,
            "order": null,
            "_view_module_version": "1.2.0",
            "grid_template_areas": null,
            "object_position": null,
            "object_fit": null,
            "grid_auto_columns": null,
            "margin": null,
            "display": null,
            "left": null
          }
        }
      }
    },
    "accelerator": "GPU"
  },
  "cells": [
    {
      "cell_type": "markdown",
      "metadata": {
        "id": "view-in-github",
        "colab_type": "text"
      },
      "source": [
        "<a href=\"https://colab.research.google.com/github/meashu31/AIML-Capstone-CV9/blob/Vadhi_master/Unet_Models_Pneumonia.ipynb\" target=\"_parent\"><img src=\"https://colab.research.google.com/assets/colab-badge.svg\" alt=\"Open In Colab\"/></a>"
      ]
    },
    {
      "cell_type": "markdown",
      "metadata": {
        "id": "xDN7dCedAIXD",
        "colab_type": "text"
      },
      "source": [
        "## Mount Gogle Drive"
      ]
    },
    {
      "cell_type": "code",
      "metadata": {
        "id": "K4Yt6mOWlowf",
        "colab_type": "code",
        "colab": {
          "base_uri": "https://localhost:8080/",
          "height": 360
        },
        "outputId": "00029702-8416-4016-883b-d7e09066e7ca"
      },
      "source": [
        "pip install segmentation-models"
      ],
      "execution_count": null,
      "outputs": [
        {
          "output_type": "stream",
          "text": [
            "Requirement already satisfied: segmentation-models in /usr/local/lib/python3.6/dist-packages (1.0.1)\n",
            "Requirement already satisfied: keras-applications<=1.0.8,>=1.0.7 in /usr/local/lib/python3.6/dist-packages (from segmentation-models) (1.0.8)\n",
            "Requirement already satisfied: efficientnet==1.0.0 in /usr/local/lib/python3.6/dist-packages (from segmentation-models) (1.0.0)\n",
            "Requirement already satisfied: image-classifiers==1.0.0 in /usr/local/lib/python3.6/dist-packages (from segmentation-models) (1.0.0)\n",
            "Requirement already satisfied: numpy>=1.9.1 in /usr/local/lib/python3.6/dist-packages (from keras-applications<=1.0.8,>=1.0.7->segmentation-models) (1.18.5)\n",
            "Requirement already satisfied: h5py in /usr/local/lib/python3.6/dist-packages (from keras-applications<=1.0.8,>=1.0.7->segmentation-models) (2.10.0)\n",
            "Requirement already satisfied: scikit-image in /usr/local/lib/python3.6/dist-packages (from efficientnet==1.0.0->segmentation-models) (0.16.2)\n",
            "Requirement already satisfied: six in /usr/local/lib/python3.6/dist-packages (from h5py->keras-applications<=1.0.8,>=1.0.7->segmentation-models) (1.12.0)\n",
            "Requirement already satisfied: networkx>=2.0 in /usr/local/lib/python3.6/dist-packages (from scikit-image->efficientnet==1.0.0->segmentation-models) (2.4)\n",
            "Requirement already satisfied: matplotlib!=3.0.0,>=2.0.0 in /usr/local/lib/python3.6/dist-packages (from scikit-image->efficientnet==1.0.0->segmentation-models) (3.2.2)\n",
            "Requirement already satisfied: pillow>=4.3.0 in /usr/local/lib/python3.6/dist-packages (from scikit-image->efficientnet==1.0.0->segmentation-models) (7.0.0)\n",
            "Requirement already satisfied: PyWavelets>=0.4.0 in /usr/local/lib/python3.6/dist-packages (from scikit-image->efficientnet==1.0.0->segmentation-models) (1.1.1)\n",
            "Requirement already satisfied: scipy>=0.19.0 in /usr/local/lib/python3.6/dist-packages (from scikit-image->efficientnet==1.0.0->segmentation-models) (1.4.1)\n",
            "Requirement already satisfied: imageio>=2.3.0 in /usr/local/lib/python3.6/dist-packages (from scikit-image->efficientnet==1.0.0->segmentation-models) (2.4.1)\n",
            "Requirement already satisfied: decorator>=4.3.0 in /usr/local/lib/python3.6/dist-packages (from networkx>=2.0->scikit-image->efficientnet==1.0.0->segmentation-models) (4.4.2)\n",
            "Requirement already satisfied: kiwisolver>=1.0.1 in /usr/local/lib/python3.6/dist-packages (from matplotlib!=3.0.0,>=2.0.0->scikit-image->efficientnet==1.0.0->segmentation-models) (1.2.0)\n",
            "Requirement already satisfied: cycler>=0.10 in /usr/local/lib/python3.6/dist-packages (from matplotlib!=3.0.0,>=2.0.0->scikit-image->efficientnet==1.0.0->segmentation-models) (0.10.0)\n",
            "Requirement already satisfied: python-dateutil>=2.1 in /usr/local/lib/python3.6/dist-packages (from matplotlib!=3.0.0,>=2.0.0->scikit-image->efficientnet==1.0.0->segmentation-models) (2.8.1)\n",
            "Requirement already satisfied: pyparsing!=2.0.4,!=2.1.2,!=2.1.6,>=2.0.1 in /usr/local/lib/python3.6/dist-packages (from matplotlib!=3.0.0,>=2.0.0->scikit-image->efficientnet==1.0.0->segmentation-models) (2.4.7)\n"
          ],
          "name": "stdout"
        }
      ]
    },
    {
      "cell_type": "code",
      "metadata": {
        "id": "cViY1pf-lIp8",
        "colab_type": "code",
        "colab": {
          "base_uri": "https://localhost:8080/",
          "height": 54
        },
        "outputId": "d0c30b8c-0473-4e6d-ce33-427785695fad"
      },
      "source": [
        "from google.colab import drive\n",
        "drive.mount('/content/drive/')"
      ],
      "execution_count": null,
      "outputs": [
        {
          "output_type": "stream",
          "text": [
            "Drive already mounted at /content/drive/; to attempt to forcibly remount, call drive.mount(\"/content/drive/\", force_remount=True).\n"
          ],
          "name": "stdout"
        }
      ]
    },
    {
      "cell_type": "code",
      "metadata": {
        "id": "n2Wq2-hcmRqH",
        "colab_type": "code",
        "colab": {
          "base_uri": "https://localhost:8080/",
          "height": 51
        },
        "outputId": "90eb1df2-65ee-43a2-d39c-85608b70557b"
      },
      "source": [
        "#------------------------- Load necessary libraries -------------------------#\n",
        "####------------------------- for loading path -------------------------#\n",
        "import os\n",
        "import pickle\n",
        "from tqdm import tqdm\n",
        "####------------------------- for DataGenerator -------------------------#\n",
        "import numpy as np\n",
        "import tensorflow as tf\n",
        "import keras\n",
        "from keras.preprocessing.image import ImageDataGenerator\n",
        "####------------------------- for Plotting -------------------------#\n",
        "import matplotlib.pyplot as plt\n",
        "####------------------------- for Model -------------------------#\n",
        "from keras.utils.layer_utils import count_params\n",
        "from tabulate import tabulate\n",
        "from segmentation_models import Unet\n",
        "from segmentation_models import get_preprocessing\n",
        "from segmentation_models.losses import bce_jaccard_loss\n",
        "from segmentation_models.metrics import iou_score\n",
        "from keras.callbacks import ModelCheckpoint, EarlyStopping, ReduceLROnPlateau\n",
        "from keras.optimizers import Adam\n",
        "from keras.models import *\n",
        "from keras.layers import  *\n",
        "import tensorflow as tf\n",
        "\n",
        "#import pandas as pd\n",
        "from IPython.display import clear_output\n",
        "import matplotlib.pyplot as plt\n",
        "\n",
        "IMAGE_HEIGHT=224\n",
        "IMAGE_WIDTH=224"
      ],
      "execution_count": null,
      "outputs": [
        {
          "output_type": "stream",
          "text": [
            "Using TensorFlow backend.\n"
          ],
          "name": "stderr"
        },
        {
          "output_type": "stream",
          "text": [
            "Segmentation Models: using `keras` framework.\n"
          ],
          "name": "stdout"
        }
      ]
    },
    {
      "cell_type": "code",
      "metadata": {
        "id": "0OEYWXZa9mQw",
        "colab_type": "code",
        "colab": {}
      },
      "source": [
        "#------------------------- Declare required path -------------------------#\n",
        "ProjectPath = '/content/drive/My Drive/great learning/capstone project/rsna-pneumonia-detection/'\n",
        "CSVPath = os.path.join(ProjectPath,\"DataSet_CSV\")\n",
        "Normal = os.path.join(ProjectPath,'Balanced_Data/Normal')\n",
        "NormalImg = os.path.join(ProjectPath,'Balanced_Data/Normal/image_data/images')\n",
        "NormalMask = os.path.join(ProjectPath,'Balanced_Data/Normal/mask_data/masks')\n",
        "Pneumonia = os.path.join(ProjectPath,'Balanced_Data/Pneumonia')\n",
        "PneumoniaImg = os.path.join(ProjectPath,'Balanced_Data/Pneumonia/image_data/images')\n",
        "PneumoniaMask = os.path.join(ProjectPath,'Balanced_Data/Pneumonia/mask_data/masks')\n",
        "RawImg = os.path.join(ProjectPath,'data/image_data/images')\n",
        "RawMask = os.path.join(ProjectPath,'data/mask_data/masks')\n",
        "\n",
        "os.chdir(ProjectPath) #changing the current directory path to the project direcotry where the dataset is available\n",
        "#------------------------- Load CSV to get label info -------------------------#"
      ],
      "execution_count": null,
      "outputs": []
    },
    {
      "cell_type": "code",
      "metadata": {
        "id": "Hw2X2XRonYYm",
        "colab_type": "code",
        "colab": {}
      },
      "source": [
        "#------------------------- Run This code onlt if ID_List.pkl not available -------------------------#\n",
        "#NormalList = os.listdir(NormalImg)\n",
        "#PneumoniaList = os.listdir(PneumoniaImg)\n",
        "\n",
        "#ID_Target = pd.read_csv(os.path.join(CSVPath,\"stage_2_train_labels.csv\")).reset_index()\n",
        "#ID_Target = ID_Target.drop(['index','x','y','width','height'],axis=1)\n",
        "\n",
        "#for i in tqdm(ID_Target.index): \n",
        "#  ID = ID_Target.patientId[i]+'.png'\n",
        "#  Target = ID_Target.Target[i]\n",
        "#  if Target == 0:\n",
        "#    if not ID in NormalList:\n",
        "#      NormalList.append(ID)\n",
        "#      shutil.copy(RawImg+'/'+ID, NormalImg) #Copy Normal Image\n",
        "#      shutil.copy(RawMask+'/'+ID, NormalMask) #Copy Normal Mask\n",
        "#  else:\n",
        "#    if not ID in PneumoniaList:\n",
        "#      PneumoniaList.append(ID)\n",
        "#      shutil.copy(RawImg+'/'+ID, PneumoniaImg) #Copy Pneumonia Image\n",
        "#      shutil.copy(RawMask+'/'+ID, PneumoniaMask) #Copy Pneumonia Mask\n",
        "\n",
        "#print('NormalList',len(NormalList))\n",
        "#print('PneumoniaList',len(PneumoniaList))\n",
        "\n",
        "#with open(ProjectPath+'/ID_List.pkl', 'wb') as f:  # Python 3: open(..., 'wb')\n",
        "#    pickle.dump([NormalList, PneumoniaList], f)"
      ],
      "execution_count": null,
      "outputs": []
    },
    {
      "cell_type": "code",
      "metadata": {
        "id": "YN9avMtzmP84",
        "colab_type": "code",
        "colab": {
          "base_uri": "https://localhost:8080/",
          "height": 51
        },
        "outputId": "17e52d92-59ad-4e6d-9527-07fc3dfb1b3a"
      },
      "source": [
        "# Getting back the objects:\n",
        "with open(ProjectPath+'/ID_List.pkl', 'rb') as f:  # Python 3: open(..., 'rb')\n",
        "    NormalList, PneumoniaList = pickle.load(f)\n",
        "\n",
        "print('NormalList',len(NormalList))\n",
        "print('PneumoniaList',len(PneumoniaList))"
      ],
      "execution_count": null,
      "outputs": [
        {
          "output_type": "stream",
          "text": [
            "NormalList 20672\n",
            "PneumoniaList 6012\n"
          ],
          "name": "stdout"
        }
      ]
    },
    {
      "cell_type": "code",
      "metadata": {
        "id": "2AsKBDwGpJHx",
        "colab_type": "code",
        "colab": {
          "base_uri": "https://localhost:8080/",
          "height": 85
        },
        "outputId": "25a5aecf-1d82-4a54-ec96-2e29b787f61f"
      },
      "source": [
        "#Nom_image_gen_args = dict(validation_split=0.2,rescale=1./255)\n",
        "#Nom_mask_gen_args = dict(validation_split=0.2,rescale=1./255)\n",
        "Pne_image_gen_args = dict(featurewise_center=True,rotation_range=90,width_shift_range=0.1,height_shift_range=0.1,horizontal_flip=True,validation_split=0.2,rescale=1./255,zoom_range=0.2)\n",
        "Pne_mask_gen_args = dict(featurewise_center=True,rotation_range=90,width_shift_range=0.1,height_shift_range=0.1,horizontal_flip=True,validation_split=0.2,rescale=1./255,zoom_range=0.2)\n",
        "\n",
        "#Nom_image_datagen = ImageDataGenerator(**Nom_image_gen_args)\n",
        "#Nom_mask_datagen = ImageDataGenerator(**Nom_mask_gen_args)\n",
        "Pne_image_datagen = ImageDataGenerator(**Pne_image_gen_args)\n",
        "Pne_mask_datagen = ImageDataGenerator(**Pne_mask_gen_args)\n",
        "seed = 1\n",
        "\n",
        "#Nom_image = tf.keras.preprocessing.image.load_img(NormalImg+'/'+NormalList[0])\n",
        "#Nom_input_img = keras.preprocessing.image.img_to_array(Nom_image)\n",
        "#Nom_input_img = np.array([Nom_input_img])  # Convert single image to a batch.\n",
        "#print(\"Nominal Input image shape:\",Nom_input_img.shape)\n",
        "Pne_image = tf.keras.preprocessing.image.load_img(PneumoniaImg+'/'+PneumoniaList[0])\n",
        "Pne_input_img = keras.preprocessing.image.img_to_array(Pne_image)\n",
        "Pne_input_img = np.array([Pne_input_img])  # Convert single image to a batch.\n",
        "print(\"Pneumonia Input image shape:\",Pne_input_img.shape)\n",
        "\n",
        "#Nom_mask = tf.keras.preprocessing.image.load_img(NormalMask+'/'+NormalList[0], color_mode=\"grayscale\")\n",
        "#Nom_input_mask = keras.preprocessing.image.img_to_array(Nom_mask,)\n",
        "#Nom_input_mask = np.array([Nom_input_mask])  # Convert single image to a batch.\n",
        "#print(\"Nominal Input mask shape:\",Nom_input_mask.shape)\n",
        "Pne_mask = tf.keras.preprocessing.image.load_img(PneumoniaMask+'/'+PneumoniaList[0], color_mode=\"grayscale\")\n",
        "Pne_input_mask = keras.preprocessing.image.img_to_array(Pne_mask,)\n",
        "Pne_input_mask = np.array([Pne_input_mask])  # Convert single image to a batch.\n",
        "print(\"Input mask shape:\",Pne_input_mask.shape)\n",
        "\n",
        "#Nom_image_datagen.fit(Nom_input_img, augment=True, seed=seed)\n",
        "#Nom_mask_datagen.fit(Nom_input_mask, augment=True, seed=seed)\n",
        "#Pne_image_datagen.fit(Pne_input_img, augment=True, seed=seed)\n",
        "#Pne_mask_datagen.fit(Pne_input_mask, augment=True, seed=seed)"
      ],
      "execution_count": null,
      "outputs": [
        {
          "output_type": "stream",
          "text": [
            "Nominal Input image shape: (1, 1024, 1024, 3)\n",
            "Pneumonia Input image shape: (1, 1024, 1024, 3)\n",
            "Nominal Input mask shape: (1, 1024, 1024, 1)\n",
            "Input mask shape: (1, 1024, 1024, 1)\n"
          ],
          "name": "stdout"
        }
      ]
    },
    {
      "cell_type": "code",
      "metadata": {
        "id": "RriABZ3dqlSu",
        "colab_type": "code",
        "colab": {}
      },
      "source": [
        "#def combine_gen(*gens):\n",
        "#    while True:\n",
        "#        for g in gens:\n",
        "#            yield next(g)"
      ],
      "execution_count": null,
      "outputs": []
    },
    {
      "cell_type": "code",
      "metadata": {
        "id": "oOuPP6oyDIAm",
        "colab_type": "code",
        "colab": {
          "base_uri": "https://localhost:8080/",
          "height": 153
        },
        "outputId": "8462e695-02f8-4779-f041-b8132cee1888"
      },
      "source": [
        "#------------------------- Train DataSetGenerator -------------------------#\n",
        "#train_Nom_image_generator = Nom_image_datagen.flow_from_directory(\"Balanced_Data/Normal/image_data\",class_mode=None,color_mode=\"rgb\",target_size=(224,224),batch_size=32,shuffle=True,subset='training',seed=seed)\n",
        "#train_Nom_mask_generator = Nom_mask_datagen.flow_from_directory(\"Balanced_Data/Normal/mask_data\",class_mode=None,color_mode=\"grayscale\",target_size=(224,224),batch_size=32,shuffle=True,subset='training',seed=seed)\n",
        "\n",
        "#train_Pne_image_generator = Pne_image_datagen.flow_from_directory(\"Balanced_Data/Pneumonia/image_data\",class_mode=None,color_mode=\"rgb\",target_size=(224,224),batch_size=32,shuffle=True,subset='training',seed=seed)\n",
        "#train_Pne_mask_generator = Pne_mask_datagen.flow_from_directory(\"Balanced_Data/Pneumonia/mask_data\",class_mode=None,color_mode=\"grayscale\",target_size=(224,224),batch_size=32,shuffle=True,subset='training',seed=seed)\n",
        "#------------------------- Validation DataSetGenerator -------------------------#\n",
        "#validation_Nom_image_generator = Nom_image_datagen.flow_from_directory(\"Balanced_Data/Normal/image_data\",class_mode=None,color_mode=\"rgb\",target_size=(224,224),batch_size=32,shuffle=True,subset='validation',seed=seed)\n",
        "#validation_Nom_mask_generator = Nom_mask_datagen.flow_from_directory(\"Balanced_Data/Normal/mask_data\",class_mode=None,color_mode=\"grayscale\",target_size=(224,224),batch_size=32,shuffle=True,subset='validation',seed=seed)\n",
        "\n",
        "#validation_Pne_image_generator = Pne_image_datagen.flow_from_directory(\"Balanced_Data/Pneumonia/image_data\",class_mode=None,color_mode=\"rgb\",target_size=(224,224),batch_size=32,shuffle=True,subset='validation',seed=seed)\n",
        "#validation_Pne_mask_generator = Pne_mask_datagen.flow_from_directory(\"Balanced_Data/Pneumonia/mask_data\",class_mode=None,color_mode=\"grayscale\",target_size=(224,224),batch_size=32,shuffle=True,subset='validation',seed=seed)\n",
        "\n",
        "#----- Zip Data----"
      ],
      "execution_count": null,
      "outputs": [
        {
          "output_type": "stream",
          "text": [
            "Found 16538 images belonging to 1 classes.\n",
            "Found 16537 images belonging to 1 classes.\n",
            "Found 4810 images belonging to 2 classes.\n",
            "Found 4810 images belonging to 2 classes.\n",
            "Found 4134 images belonging to 1 classes.\n",
            "Found 4134 images belonging to 1 classes.\n",
            "Found 1202 images belonging to 2 classes.\n",
            "Found 1202 images belonging to 2 classes.\n"
          ],
          "name": "stdout"
        }
      ]
    },
    {
      "cell_type": "code",
      "metadata": {
        "id": "7EslyGzMpmAW",
        "colab_type": "code",
        "colab": {}
      },
      "source": [
        "#train_generator = zip(combine_gen(train_Nom_image_generator,train_Pne_image_generator),combine_gen(train_Nom_mask_generator,train_Pne_mask_generator))\n",
        "#validation_generator = zip(combine_gen(validation_Nom_image_generator,validation_Pne_image_generator),combine_gen(validation_Nom_mask_generator,validation_Pne_mask_generator))"
      ],
      "execution_count": null,
      "outputs": []
    },
    {
      "cell_type": "markdown",
      "metadata": {
        "id": "7ODT1cwlASER",
        "colab_type": "text"
      },
      "source": [
        "## Backboned-UNet"
      ]
    },
    {
      "cell_type": "code",
      "metadata": {
        "id": "x3C-apFRfkEk",
        "colab_type": "code",
        "colab": {}
      },
      "source": [
        "def jaccard_distance_loss(y_true, y_pred, smooth=100):\n",
        "    intersection = K.sum(K.abs(y_true * y_pred), axis=-1)\n",
        "    sum_ = K.sum(K.abs(y_true) + K.abs(y_pred), axis=-1)\n",
        "    jac = (intersection + smooth) / (sum_ - intersection + smooth)\n",
        "    return (1 - jac) * smooth\n",
        "\n",
        "def iou_loss_core(y_true, y_pred, smooth=1):\n",
        "    intersection = K.sum(K.abs(y_true * y_pred), axis=-1)\n",
        "    union = K.sum(y_true,-1) + K.sum(y_pred,-1) - intersection\n",
        "    iou = (intersection + smooth) / ( union + smooth)\n",
        "    return iou"
      ],
      "execution_count": null,
      "outputs": []
    },
    {
      "cell_type": "code",
      "metadata": {
        "id": "XFn2TZ1hlS_M",
        "colab_type": "code",
        "colab": {}
      },
      "source": [
        "def create_model(Backbone='vgg16',pretrained=True,ShowSummery=False,TrainModel=True,TestModel=True):\n",
        "  # define model\n",
        "  print(\"-------------------Generating UNet Model----------------------\")\n",
        "  model = Unet(Backbone, encoder_weights='imagenet', input_shape=(224, 224, 3))\n",
        "  ##-------------------getLast layer and add reshape----------------------\n",
        "  OneThrird = int(len(model.layers)/3)\n",
        "  for layer in model.layers[:OneThrird]:\n",
        "      layer.trainable=False\n",
        "  for layer in model.layers[OneThrird:]:\n",
        "      layer.trainable=True\n",
        "\n",
        "  # Model Overview\n",
        "  trainable_count = count_params(model.trainable_weights)\n",
        "  non_trainable_count = count_params(model.non_trainable_weights)\n",
        "  print()\n",
        "  print(tabulate([['Model', 'UNet'],\\\n",
        "                          ['BackBone', Backbone],\\\n",
        "                          ['Number of Layers', len(model.layers)],\\\n",
        "                          ['Total params', model.count_params()],\\\n",
        "                          ['Trainable params', trainable_count],\\\n",
        "                          ['Non-trainable params', non_trainable_count]],\\\n",
        "                          headers=['Header', 'Value'], tablefmt='orgtbl'))\n",
        "  print()\n",
        "  #If Choosen Show Summery\n",
        "  \n",
        "  if ShowSummery: \n",
        "    print(\"-------------------Model Summery----------------------\")\n",
        "    model.summary()\n",
        "  if TrainModel:\n",
        "    print(\"-------------------Training Model----------------------\")\n",
        "    # Compile model\n",
        "    Adam=keras.optimizers.Adam(lr=0.0001, beta_1=0.9, beta_2=0.999, epsilon=None, decay=1e-5, amsgrad=False)\n",
        "    model.compile(loss=jaccard_distance_loss, optimizer='Adam', metrics=[['accuracy',iou_loss_core]])\n",
        "    # checkpoint\n",
        "    filepath = '/content/drive/My Drive/great learning/capstone project/rsna-pneumonia-detection/UNet_Model_Weights/' + Backbone + \"/\"\n",
        "    checkpoint = ModelCheckpoint(filepath+\"model-{loss:.2f}.h5\", monitor=\"loss\", verbose=1, save_best_only=True, save_weights_only=True, mode=\"min\", period=1)\n",
        "    stop = EarlyStopping(monitor=\"loss\", patience=2, mode=\"min\")\n",
        "    batch_size = 6\n",
        "    history = model.fit_generator(train_generator,\n",
        "                    epochs=1,\n",
        "                    use_multiprocessing = True, workers = 6,\n",
        "                    steps_per_epoch = 21348//(batch_size**2),\n",
        "                    validation_data=validation_generator,\n",
        "                    validation_steps = 5336//(batch_size**2),\n",
        "                    callbacks= [checkpoint, stop])\n",
        "    #--------------------- Plot Loss and Accuracy --------------\n",
        "    fig, axs = plt.subplots(1, 3, figsize = (15, 4))\n",
        "    training_loss = history.history['loss']\n",
        "    validation_loss = history.history['val_loss']\n",
        "    training_IOU = history.history['iou_loss_core']\n",
        "    validation_IOU = history.history['val_iou_loss_core']\n",
        "    training_accuracy = history.history['accuracy']\n",
        "    validation_accuracy = history.history['val_accuracy']\n",
        "    epoch_count = range(1, len(training_IOU) + 1)\n",
        "    axs[0].plot(epoch_count, training_loss, 'r--')\n",
        "    axs[0].plot(epoch_count, validation_loss, 'b-')\n",
        "    axs[0].legend(['Training loss', 'Validation loss'])\n",
        "    axs[1].plot(epoch_count, training_IOU, 'r--')\n",
        "    axs[1].plot(epoch_count, validation_IOU, 'b-')\n",
        "    axs[1].legend(['Training iou_loss_core', 'Validation iou_loss_core'])\n",
        "    axs[2].plot(epoch_count, training_accuracy, 'r--')\n",
        "    axs[2].plot(epoch_count, validation_accuracy, 'b-')\n",
        "    axs[2].legend(['Training Accuracy', 'Validation Accuracy'])\n",
        "  #---------------- DO NOT USE TEST AS OF NOW --------------------\n",
        "  if TestModel:\n",
        "    test_list = ['0a2c130c-c536-4651-836d-95d07e9a89cf.png','0a03fbf6-3c9a-4e2e-89ce-c7629ae43a27.png']\n",
        "    test_gen = DataGenerator(list_IDs=test_list , image_path = im_path, mask_path=mask_path,dim=(224,224),batch_size=8,resize=True, preprocessinput=PreprocessInput)\n",
        "    model.compile('Adam', loss=jaccard_distance_loss, metrics=['accuracy',iou_score])\n",
        "    n = 0\n",
        "    sample_image = test_gen[n][0][0]\n",
        "    sample_image_redim = np.expand_dims(sample_image, axis=0)\n",
        "    region = model.predict(sample_image_redim)\n",
        "    f, ((ax1, ax2, ax3)) = plt.subplots(1, 3, figsize = (15, 8))\n",
        "    ax1.imshow(sample_image[:,:,0], cmap = plt.cm.bone)\n",
        "    ax1.set_title('Input Image')\n",
        "    ax1.axis('off')\n",
        "    ax2.imshow(test_gen[n][1][0], cmap = plt.cm.bone)\n",
        "    ax2.set_title('Ground Truth Mask')\n",
        "    ax2.axis('off')\n",
        "    ax3.imshow(region[0], cmap = plt.cm.bone)\n",
        "    ax3.set_title('Predicted Mask (no threshold applied)')\n",
        "    ax3.axis('off')\n",
        "    plt.show()\n",
        "  print('----------------------- I AM DONE -----------------------')"
      ],
      "execution_count": null,
      "outputs": []
    },
    {
      "cell_type": "code",
      "metadata": {
        "id": "o5TGaMOo0vHo",
        "colab_type": "code",
        "colab": {
          "base_uri": "https://localhost:8080/",
          "height": 272
        },
        "outputId": "5f38fe39-3700-447a-c531-0fa79425f97e"
      },
      "source": [
        "print(tabulate([['UNet', 'VGG-16', 67, 23752273],\\\n",
        "                ['UNet', 'VGG-19', 70, 29061969],\\\n",
        "                ['UNet', 'ResNet-18', 128, 14340570],\\\n",
        "                ['UNet', 'ResNet-34', 200, 24456154],\\\n",
        "                ['UNet', 'ResNet-50', 232, 32561114],\\\n",
        "                ['UNet', 'ResNet-101', 419, 51605466],\\\n",
        "                ['UNet', 'ResNet-152', 606, 67295194],\\\n",
        "                ['UNet', 'DenseNet-121', 469, 12144977],\\\n",
        "                ['UNet', 'DenseNet-169', 637, 19519825],\\\n",
        "                ['UNet', 'DenseNet-201', 749, 26378577],\\\n",
        "                ['UNet', 'Inception-V3', 353, 29933105],\\\n",
        "                ['UNet', 'Inception-ResNet-V2', 822, 62061553],\\\n",
        "                ['UNet', 'MobileNet', 129, 8336337]],\n",
        "                headers=['Model', 'Backbone', 'Number of Layers', 'Total Parameters'], tablefmt='orgtbl',stralign=\"center\", numalign=\"center\"))"
      ],
      "execution_count": null,
      "outputs": [
        {
          "output_type": "stream",
          "text": [
            "|  Model  |      Backbone       |  Number of Layers  |  Total Parameters  |\n",
            "|---------+---------------------+--------------------+--------------------|\n",
            "|  UNet   |       VGG-16        |         67         |      23752273      |\n",
            "|  UNet   |       VGG-19        |         70         |      29061969      |\n",
            "|  UNet   |      ResNet-18      |        128         |      14340570      |\n",
            "|  UNet   |      ResNet-34      |        200         |      24456154      |\n",
            "|  UNet   |      ResNet-50      |        232         |      32561114      |\n",
            "|  UNet   |     ResNet-101      |        419         |      51605466      |\n",
            "|  UNet   |     ResNet-152      |        606         |      67295194      |\n",
            "|  UNet   |    DenseNet-121     |        469         |      12144977      |\n",
            "|  UNet   |    DenseNet-169     |        637         |      19519825      |\n",
            "|  UNet   |    DenseNet-201     |        749         |      26378577      |\n",
            "|  UNet   |    Inception-V3     |        353         |      29933105      |\n",
            "|  UNet   | Inception-ResNet-V2 |        822         |      62061553      |\n",
            "|  UNet   |      MobileNet      |        129         |      8336337       |\n"
          ],
          "name": "stdout"
        }
      ]
    },
    {
      "cell_type": "code",
      "metadata": {
        "id": "QIbp_Q9kNoik",
        "colab_type": "code",
        "colab": {}
      },
      "source": [
        "#------------------------- Load necessary libraries -------------------------#\n",
        "from ipywidgets import widgets, Layout, Button, Box, Dropdown, Label,Output,interact, interactive_output\n",
        "from IPython.display import clear_output\n",
        "#------------------------- Load widgets -------------------------#\n",
        "BackBoneLabel = Label(value='Select Backbone')\n",
        "BackboneDrop = Dropdown(options=[('Select', \"\"),(\"VGG-16\", \"vgg16\"),(\"VGG-19\", \"vgg19\"),\n",
        "                           (\"ResNet-18\",\"resnet18\"),(\"ResNet-34\",\"resnet34\"),\n",
        "                           (\"ResNet-50\",\"resnet50\"),(\"ResNet-101\",\"resnet101\"),\n",
        "                           (\"ResNet-152\",\"resnet152\"),(\"DenseNet-121\",\"densenet121\"),\n",
        "                           (\"DenseNet-169\",\"densenet169\"),(\"DenseNet-201\",\"densenet201\"),\n",
        "                           (\"Inception V3\",\"inceptionv3\"),(\"Inception ResNet V2\",\"inceptionresnetv2\"),\n",
        "                           (\"MobileNet\",\"mobilenet\")],value='')\n",
        "PreTrainLabel = Label(value='Use PreTrained Weights')\n",
        "PreTrainedDrop = Dropdown(options=[('Yes', True),(\"No\", False)],value=True)\n",
        "SummeryLabel = Label(value='Show Model Summary')\n",
        "SummeryDrop = Dropdown(options=[('Yes', True),(\"No\", False)],value=False)\n",
        "TrainLabel = Label(value='Train Model')\n",
        "TrainModel = Dropdown(options=[('Yes', True),(\"No\", False)],value=False)\n",
        "TestLabel = Label(value='Test Model')\n",
        "TestModel = Dropdown(options=[('Yes', True),(\"No\", False)],value=False)\n",
        "GenerateModelButton = widgets.Button(description=\"Generate Model\",disabled=False,button_style='success',tooltip='Click to generate model')\n",
        "#------------------------- Function on Selection -------------------------#\n",
        "def OnSelection(BackBoneSelection,PreTrainSelection,SummerySelection,TrainSelection,TestSelection):\n",
        "  PreTrainStr = None\n",
        "  ShowSummaryStr = None\n",
        "  TrainModelStr = None\n",
        "  TestModelStr = None\n",
        "  print()\n",
        "  if BackBoneSelection == \"\":\n",
        "    print(\"Please select a Backbone of your choice\")\n",
        "  else:\n",
        "    PreTrainStr = \"Trained\" if PreTrainSelection else \"UnTrained\"\n",
        "    ShowSummaryStr = \"be\" if SummerySelection else \"not be\"\n",
        "    TrainModelStr = \"be\" if TrainSelection else \"not be\"\n",
        "    TestModelStr = \"be\" if TestSelection else \"not be\"\n",
        "    print(\"UNet Model with\",PreTrainStr,BackBoneSelection,\"backbone will be loaded, Model Summary will\",ShowSummaryStr,\"displayed, will\", TrainModelStr, \"trained and will\",TestModelStr, \"tested with new data.\")\n",
        "    print()\n",
        "    print(\"If OK with above configuration, Click Generate Model (OR) Choose required configuration from GUI\")\n",
        "    print()\n",
        "    display(GenerateModelButton)\n",
        "#------------------------- Function at Button click -------------------------#\n",
        "def on_button_clicked(b):\n",
        "  create_model(Backbone=BackboneDrop.value,pretrained=PreTrainedDrop.value,ShowSummery=SummeryDrop.value,TrainModel=TrainModel.value,TestModel=TestModel.value)\n",
        "GenerateModelButton.on_click(on_button_clicked)\n",
        "#------------------------- Make widget -------------------------#\n",
        "out = interactive_output(OnSelection, {\"BackBoneSelection\":BackboneDrop, \"PreTrainSelection\":PreTrainedDrop, \"SummerySelection\":SummeryDrop, \"TrainSelection\":TrainModel, \"TestSelection\":TestModel})\n",
        "form_item_layout = Layout(display='flex',flex_flow='row',justify_content='space-between')\n",
        "form_items = [\n",
        "    Box([BackBoneLabel,BackboneDrop], layout=form_item_layout),\n",
        "    Box([PreTrainLabel, PreTrainedDrop], layout=form_item_layout),\n",
        "    Box([SummeryLabel, SummeryDrop], layout=form_item_layout),\n",
        "    Box([TrainLabel, TrainModel], layout=form_item_layout),\n",
        "    Box([TestLabel, TestModel], layout=form_item_layout)]\n",
        "GUI = Box(form_items, layout=Layout(display='flex',flex_flow='column',border='solid 2px',align_items='stretch',width='27%'))"
      ],
      "execution_count": null,
      "outputs": []
    },
    {
      "cell_type": "code",
      "metadata": {
        "id": "CCnOMoAp8UP8",
        "colab_type": "code",
        "colab": {
          "base_uri": "https://localhost:8080/",
          "height": 215,
          "referenced_widgets": [
            "454ce0062fd24d16af873d782d1d18e9",
            "e381acfc1e414dbaa26da076c9f37b90",
            "7e66bc5efbe44b9cbfc1d5aaf7d83e01",
            "1b538e5dcb1e4bb9a806b0b663ae2156",
            "c389fc52b526467a943e94ff60b82e96",
            "5d9a71692ece41e2a75050e08d94d1cb",
            "78a2c707ed3d48b381f4376139a2e2df",
            "68fe2322ebf04417ba4208ea577dce62",
            "90706535513f474cbdc5cc330f748f13",
            "c25bebd9371f47f5b2eed3da7459238b",
            "e6c45860e29e439f98452020595952be",
            "4e931f166b864fee9a4aa7d6b7f5a550",
            "732b3904c0a74d4daccca532199d5693",
            "579845466f9b42e3a1ac6aa73da6b06c",
            "74971d0dce3b49808379b0de09779bab",
            "f7304d3a5c454cd2aaf7dc2411a3c8aa",
            "74315de82c5e4af888ce8b9546ea90c7",
            "14347588579b4165ba1173616fc3f76f",
            "307f854adca4447c8bdfc5bcc97e5b82",
            "f51d999491bd41eb953f6297e13c6ae9",
            "f5bcef306e354126bfa1a69c68eccb0f",
            "237997bcc4ee467782774a208e69691b",
            "de821c54f0b345d5a22929d7222a3adf",
            "21bd5e050c914679a5d65ab8e9349985",
            "54aa8c0c6a4d4d7b9c4b09e88fd82bfe",
            "402719f202e04e6bab35a8034a0816b8",
            "a2d08394f4594554a2082a765b161220",
            "3648629646814381bfcd520fd7399c6c",
            "bf916de3b84348fdaa00c787507550c0",
            "9b1d49b8e985414693c025ef024dc02f",
            "e36ac87a0d954ff6a897a166da599567",
            "731b76053964479b9cdca12f03d4b64c",
            "62f4d5cd196149e1b110d1ff38238f65",
            "8e33927e5a874c3a8689eb72f770f373",
            "90a6e17046384d9c9707864c03685429",
            "edd46bac1160454f9dfc18c5f7168a60",
            "586f3268410a4425993dfab512a64425",
            "4479caa50d71489b9c417fb0e1e608a1",
            "c287935dc9b841dda588324c08502f72",
            "c873daa646a54121b69ea90c660bc750"
          ]
        },
        "outputId": "31e0fde6-23bb-4c77-9702-35c48464ac6c"
      },
      "source": [
        "display(GUI, out)"
      ],
      "execution_count": null,
      "outputs": [
        {
          "output_type": "display_data",
          "data": {
            "application/vnd.jupyter.widget-view+json": {
              "model_id": "454ce0062fd24d16af873d782d1d18e9",
              "version_minor": 0,
              "version_major": 2
            },
            "text/plain": [
              "Box(children=(Box(children=(Label(value='Select Backbone'), Dropdown(options=(('Select', ''), ('VGG-16', 'vgg1…"
            ]
          },
          "metadata": {
            "tags": []
          }
        },
        {
          "output_type": "display_data",
          "data": {
            "application/vnd.jupyter.widget-view+json": {
              "model_id": "c287935dc9b841dda588324c08502f72",
              "version_minor": 0,
              "version_major": 2
            },
            "text/plain": [
              "Output()"
            ]
          },
          "metadata": {
            "tags": []
          }
        }
      ]
    },
    {
      "cell_type": "code",
      "metadata": {
        "id": "zwVt9fDzWlgI",
        "colab_type": "code",
        "colab": {
          "base_uri": "https://localhost:8080/",
          "height": 596
        },
        "outputId": "14dd9f2d-01dd-4cc9-aa2e-316ae1d8fadc"
      },
      "source": [
        "create_model(Backbone='mobilenet' ,pretrained=True,ShowSummery=False,TrainModel=True,TestModel=False)"
      ],
      "execution_count": null,
      "outputs": [
        {
          "output_type": "stream",
          "text": [
            "-------------------Generating UNet Model----------------------\n",
            "\n",
            "| Header               | Value     |\n",
            "|----------------------+-----------|\n",
            "| Model                | UNet      |\n",
            "| BackBone             | mobilenet |\n",
            "| Number of Layers     | 128       |\n",
            "| Total params         | 8336337   |\n",
            "| Trainable params     | 8044369   |\n",
            "| Non-trainable params | 291968    |\n",
            "\n",
            "-------------------Training Model----------------------\n"
          ],
          "name": "stdout"
        },
        {
          "output_type": "stream",
          "text": [
            "/usr/local/lib/python3.6/dist-packages/keras/engine/training_generator.py:49: UserWarning: Using a generator with `use_multiprocessing=True` and multiple workers may duplicate your data. Please consider using the `keras.utils.Sequence class.\n",
            "  UserWarning('Using a generator with `use_multiprocessing=True`'\n"
          ],
          "name": "stderr"
        },
        {
          "output_type": "stream",
          "text": [
            "Epoch 1/1\n",
            "593/593 [==============================] - 630s 1s/step - loss: 0.0877 - accuracy: 0.4951 - iou_loss_core: 0.9887 - val_loss: 0.0043 - val_accuracy: 0.5128 - val_iou_loss_core: 1.0006\n",
            "\n",
            "Epoch 00001: loss improved from inf to 0.08773, saving model to /content/drive/My Drive/great learning/capstone project/rsna-pneumonia-detection/UNet_Model_Weights/mobilenet/model-0.09.h5\n",
            "----------------------- I AM DONE -----------------------\n"
          ],
          "name": "stdout"
        },
        {
          "output_type": "display_data",
          "data": {
            "image/png": "[encoded data removed]",
            "text/plain": [
              "<Figure size 1080x288 with 3 Axes>"
            ]
          },
          "metadata": {
            "tags": [],
            "needs_background": "light"
          }
        }
      ]
    },
    {
      "cell_type": "code",
      "metadata": {
        "id": "Q0wpsYFV_PPX",
        "colab_type": "code",
        "colab": {}
      },
      "source": [
        "create_model(Backbone='densenet121' ,pretrained=True,ShowSummery=False,TrainModel=True,TestModel=False)"
      ],
      "execution_count": null,
      "outputs": []
    },
    {
      "cell_type": "code",
      "metadata": {
        "id": "FKRBz0fYrpwb",
        "colab_type": "code",
        "colab": {}
      },
      "source": [
        "create_model(Backbone='resnet50' ,pretrained=True,ShowSummery=False,TrainModel=True,TestModel=False)"
      ],
      "execution_count": null,
      "outputs": []
    },
    {
      "cell_type": "code",
      "metadata": {
        "id": "PthIPmtSrsUq",
        "colab_type": "code",
        "colab": {}
      },
      "source": [
        "create_model(Backbone='inceptionv3' ,pretrained=True,ShowSummery=False,TrainModel=True,TestModel=False)"
      ],
      "execution_count": null,
      "outputs": []
    },
    {
      "cell_type": "code",
      "metadata": {
        "id": "WltBwWrqGrVG",
        "colab_type": "code",
        "colab": {}
      },
      "source": [
        "create_model(Backbone='vgg19' ,pretrained=True,ShowSummery=False,TrainModel=True,TestModel=False)"
      ],
      "execution_count": null,
      "outputs": []
    },
    {
      "cell_type": "code",
      "metadata": {
        "id": "B-mstuAEKTUa",
        "colab_type": "code",
        "colab": {}
      },
      "source": [
        ""
      ],
      "execution_count": null,
      "outputs": []
    }
  ]
}