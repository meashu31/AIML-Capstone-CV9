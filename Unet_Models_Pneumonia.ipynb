{
  "nbformat": 4,
  "nbformat_minor": 0,
  "metadata": {
    "colab": {
      "name": "Unet_Models_Pneumonia.ipynb",
      "provenance": [],
      "collapsed_sections": [],
      "mount_file_id": "1Cbw-4DX8sTaphWllzjiDuO1bFrz7nO3T",
      "authorship_tag": "ABX9TyPHTKtT1Olrz21fTKlBpWiT",
      "include_colab_link": true
    },
    "kernelspec": {
      "name": "python3",
      "display_name": "Python 3"
    },
    "accelerator": "TPU",
    "widgets": {
      "application/vnd.jupyter.widget-state+json": {
        "b85f20b0b7494ecb893d076b3f9972d6": {
          "model_module": "@jupyter-widgets/controls",
          "model_name": "BoxModel",
          "state": {
            "_view_name": "BoxView",
            "_dom_classes": [],
            "_model_name": "BoxModel",
            "_view_module": "@jupyter-widgets/controls",
            "_model_module_version": "1.5.0",
            "_view_count": null,
            "_view_module_version": "1.5.0",
            "box_style": "",
            "layout": "IPY_MODEL_6994cd51334c4bc581d8bd60a1dc8b71",
            "_model_module": "@jupyter-widgets/controls",
            "children": [
              "IPY_MODEL_1016fa04df2845b2954dd98064ea126e",
              "IPY_MODEL_0b36dddf685a43df81ae54ae0547c361",
              "IPY_MODEL_100df67d03994dda929d28a1a83e418d",
              "IPY_MODEL_7fc4cea665034b0298e7220bb7f78fd4",
              "IPY_MODEL_17cc2a8afbec4af883e2c07f9e3dd49b"
            ]
          }
        },
        "6994cd51334c4bc581d8bd60a1dc8b71": {
          "model_module": "@jupyter-widgets/base",
          "model_name": "LayoutModel",
          "state": {
            "_view_name": "LayoutView",
            "grid_template_rows": null,
            "right": null,
            "justify_content": null,
            "_view_module": "@jupyter-widgets/base",
            "overflow": null,
            "_model_module_version": "1.2.0",
            "_view_count": null,
            "flex_flow": "column",
            "width": "27%",
            "min_width": null,
            "border": "solid 2px",
            "align_items": "stretch",
            "bottom": null,
            "_model_module": "@jupyter-widgets/base",
            "top": null,
            "grid_column": null,
            "overflow_y": null,
            "overflow_x": null,
            "grid_auto_flow": null,
            "grid_area": null,
            "grid_template_columns": null,
            "flex": null,
            "_model_name": "LayoutModel",
            "justify_items": null,
            "grid_row": null,
            "max_height": null,
            "align_content": null,
            "visibility": null,
            "align_self": null,
            "height": null,
            "min_height": null,
            "padding": null,
            "grid_auto_rows": null,
            "grid_gap": null,
            "max_width": null,
            "order": null,
            "_view_module_version": "1.2.0",
            "grid_template_areas": null,
            "object_position": null,
            "object_fit": null,
            "grid_auto_columns": null,
            "margin": null,
            "display": "flex",
            "left": null
          }
        },
        "1016fa04df2845b2954dd98064ea126e": {
          "model_module": "@jupyter-widgets/controls",
          "model_name": "BoxModel",
          "state": {
            "_view_name": "BoxView",
            "_dom_classes": [],
            "_model_name": "BoxModel",
            "_view_module": "@jupyter-widgets/controls",
            "_model_module_version": "1.5.0",
            "_view_count": null,
            "_view_module_version": "1.5.0",
            "box_style": "",
            "layout": "IPY_MODEL_7acfdb0e71bd4707a55fc66f9b3a9868",
            "_model_module": "@jupyter-widgets/controls",
            "children": [
              "IPY_MODEL_4a42485d86d8427da73f0c0460fa79ce",
              "IPY_MODEL_0e7960663b2f45428172359338b2be61"
            ]
          }
        },
        "0b36dddf685a43df81ae54ae0547c361": {
          "model_module": "@jupyter-widgets/controls",
          "model_name": "BoxModel",
          "state": {
            "_view_name": "BoxView",
            "_dom_classes": [],
            "_model_name": "BoxModel",
            "_view_module": "@jupyter-widgets/controls",
            "_model_module_version": "1.5.0",
            "_view_count": null,
            "_view_module_version": "1.5.0",
            "box_style": "",
            "layout": "IPY_MODEL_7acfdb0e71bd4707a55fc66f9b3a9868",
            "_model_module": "@jupyter-widgets/controls",
            "children": [
              "IPY_MODEL_70e7edcc5ce54ecd866d97347142f9ef",
              "IPY_MODEL_ca0c4abb5e2748feb8d925fd749b5a49"
            ]
          }
        },
        "100df67d03994dda929d28a1a83e418d": {
          "model_module": "@jupyter-widgets/controls",
          "model_name": "BoxModel",
          "state": {
            "_view_name": "BoxView",
            "_dom_classes": [],
            "_model_name": "BoxModel",
            "_view_module": "@jupyter-widgets/controls",
            "_model_module_version": "1.5.0",
            "_view_count": null,
            "_view_module_version": "1.5.0",
            "box_style": "",
            "layout": "IPY_MODEL_7acfdb0e71bd4707a55fc66f9b3a9868",
            "_model_module": "@jupyter-widgets/controls",
            "children": [
              "IPY_MODEL_131107cc559149aaa79cb860122b8990",
              "IPY_MODEL_0a7ef7d9f83441fab714370e5d8999e1"
            ]
          }
        },
        "7fc4cea665034b0298e7220bb7f78fd4": {
          "model_module": "@jupyter-widgets/controls",
          "model_name": "BoxModel",
          "state": {
            "_view_name": "BoxView",
            "_dom_classes": [],
            "_model_name": "BoxModel",
            "_view_module": "@jupyter-widgets/controls",
            "_model_module_version": "1.5.0",
            "_view_count": null,
            "_view_module_version": "1.5.0",
            "box_style": "",
            "layout": "IPY_MODEL_7acfdb0e71bd4707a55fc66f9b3a9868",
            "_model_module": "@jupyter-widgets/controls",
            "children": [
              "IPY_MODEL_75889c992d374d929d865eb607aed208",
              "IPY_MODEL_3abab6c488204a6aa18e360bb8f2efa4"
            ]
          }
        },
        "17cc2a8afbec4af883e2c07f9e3dd49b": {
          "model_module": "@jupyter-widgets/controls",
          "model_name": "BoxModel",
          "state": {
            "_view_name": "BoxView",
            "_dom_classes": [],
            "_model_name": "BoxModel",
            "_view_module": "@jupyter-widgets/controls",
            "_model_module_version": "1.5.0",
            "_view_count": null,
            "_view_module_version": "1.5.0",
            "box_style": "",
            "layout": "IPY_MODEL_7acfdb0e71bd4707a55fc66f9b3a9868",
            "_model_module": "@jupyter-widgets/controls",
            "children": [
              "IPY_MODEL_8a510f337ff441dc92cc9890ba75b0c5",
              "IPY_MODEL_ed63fd235f4546c894bc7d473fe9b412"
            ]
          }
        },
        "7acfdb0e71bd4707a55fc66f9b3a9868": {
          "model_module": "@jupyter-widgets/base",
          "model_name": "LayoutModel",
          "state": {
            "_view_name": "LayoutView",
            "grid_template_rows": null,
            "right": null,
            "justify_content": "space-between",
            "_view_module": "@jupyter-widgets/base",
            "overflow": null,
            "_model_module_version": "1.2.0",
            "_view_count": null,
            "flex_flow": "row",
            "width": null,
            "min_width": null,
            "border": null,
            "align_items": null,
            "bottom": null,
            "_model_module": "@jupyter-widgets/base",
            "top": null,
            "grid_column": null,
            "overflow_y": null,
            "overflow_x": null,
            "grid_auto_flow": null,
            "grid_area": null,
            "grid_template_columns": null,
            "flex": null,
            "_model_name": "LayoutModel",
            "justify_items": null,
            "grid_row": null,
            "max_height": null,
            "align_content": null,
            "visibility": null,
            "align_self": null,
            "height": null,
            "min_height": null,
            "padding": null,
            "grid_auto_rows": null,
            "grid_gap": null,
            "max_width": null,
            "order": null,
            "_view_module_version": "1.2.0",
            "grid_template_areas": null,
            "object_position": null,
            "object_fit": null,
            "grid_auto_columns": null,
            "margin": null,
            "display": "flex",
            "left": null
          }
        },
        "4a42485d86d8427da73f0c0460fa79ce": {
          "model_module": "@jupyter-widgets/controls",
          "model_name": "LabelModel",
          "state": {
            "_view_name": "LabelView",
            "style": "IPY_MODEL_8495bb5f74294aa9b2e71955a2a6da32",
            "_dom_classes": [],
            "description": "",
            "_model_name": "LabelModel",
            "placeholder": "​",
            "_view_module": "@jupyter-widgets/controls",
            "_model_module_version": "1.5.0",
            "value": "Select Backbone",
            "_view_count": null,
            "_view_module_version": "1.5.0",
            "description_tooltip": null,
            "_model_module": "@jupyter-widgets/controls",
            "layout": "IPY_MODEL_ca5627be50684e67acfe7c7313da12e1"
          }
        },
        "0e7960663b2f45428172359338b2be61": {
          "model_module": "@jupyter-widgets/controls",
          "model_name": "DropdownModel",
          "state": {
            "_options_labels": [
              "Select",
              "VGG-16",
              "VGG-19",
              "ResNet-18",
              "ResNet-34",
              "ResNet-50",
              "ResNet-101",
              "ResNet-152",
              "DenseNet-121",
              "DenseNet-169",
              "DenseNet-201",
              "Inception V3",
              "Inception ResNet V2",
              "MobileNet"
            ],
            "_view_name": "DropdownView",
            "style": "IPY_MODEL_5ceedcfb97c149ffae74372a2e714a49",
            "_dom_classes": [],
            "description": "",
            "_model_name": "DropdownModel",
            "index": 0,
            "_view_module": "@jupyter-widgets/controls",
            "_model_module_version": "1.5.0",
            "_view_count": null,
            "disabled": false,
            "_view_module_version": "1.5.0",
            "description_tooltip": null,
            "_model_module": "@jupyter-widgets/controls",
            "layout": "IPY_MODEL_06be1616403043bc8246a0c992674017"
          }
        },
        "70e7edcc5ce54ecd866d97347142f9ef": {
          "model_module": "@jupyter-widgets/controls",
          "model_name": "LabelModel",
          "state": {
            "_view_name": "LabelView",
            "style": "IPY_MODEL_c1b6cabbf751454f8e3229559085445a",
            "_dom_classes": [],
            "description": "",
            "_model_name": "LabelModel",
            "placeholder": "​",
            "_view_module": "@jupyter-widgets/controls",
            "_model_module_version": "1.5.0",
            "value": "Use PreTrained Weights",
            "_view_count": null,
            "_view_module_version": "1.5.0",
            "description_tooltip": null,
            "_model_module": "@jupyter-widgets/controls",
            "layout": "IPY_MODEL_ec888688abb94ff9ac25ed2b694be1ed"
          }
        },
        "ca0c4abb5e2748feb8d925fd749b5a49": {
          "model_module": "@jupyter-widgets/controls",
          "model_name": "DropdownModel",
          "state": {
            "_options_labels": [
              "Yes",
              "No"
            ],
            "_view_name": "DropdownView",
            "style": "IPY_MODEL_decd0a7a9afa4dcbb9863fc55553e102",
            "_dom_classes": [],
            "description": "",
            "_model_name": "DropdownModel",
            "index": 0,
            "_view_module": "@jupyter-widgets/controls",
            "_model_module_version": "1.5.0",
            "_view_count": null,
            "disabled": false,
            "_view_module_version": "1.5.0",
            "description_tooltip": null,
            "_model_module": "@jupyter-widgets/controls",
            "layout": "IPY_MODEL_1e8ee1246eaf4dabbc93f3713915d095"
          }
        },
        "131107cc559149aaa79cb860122b8990": {
          "model_module": "@jupyter-widgets/controls",
          "model_name": "LabelModel",
          "state": {
            "_view_name": "LabelView",
            "style": "IPY_MODEL_601f47a62b5044aab4d95cd289381080",
            "_dom_classes": [],
            "description": "",
            "_model_name": "LabelModel",
            "placeholder": "​",
            "_view_module": "@jupyter-widgets/controls",
            "_model_module_version": "1.5.0",
            "value": "Show Model Summary",
            "_view_count": null,
            "_view_module_version": "1.5.0",
            "description_tooltip": null,
            "_model_module": "@jupyter-widgets/controls",
            "layout": "IPY_MODEL_4b1b8b72c6fc4e7b9aafe1ac6cf62249"
          }
        },
        "0a7ef7d9f83441fab714370e5d8999e1": {
          "model_module": "@jupyter-widgets/controls",
          "model_name": "DropdownModel",
          "state": {
            "_options_labels": [
              "Yes",
              "No"
            ],
            "_view_name": "DropdownView",
            "style": "IPY_MODEL_5af999bc60114d0f9d70ba96973fc49b",
            "_dom_classes": [],
            "description": "",
            "_model_name": "DropdownModel",
            "index": 1,
            "_view_module": "@jupyter-widgets/controls",
            "_model_module_version": "1.5.0",
            "_view_count": null,
            "disabled": false,
            "_view_module_version": "1.5.0",
            "description_tooltip": null,
            "_model_module": "@jupyter-widgets/controls",
            "layout": "IPY_MODEL_26cdb5b519d148c5a865ab6b5f86f000"
          }
        },
        "75889c992d374d929d865eb607aed208": {
          "model_module": "@jupyter-widgets/controls",
          "model_name": "LabelModel",
          "state": {
            "_view_name": "LabelView",
            "style": "IPY_MODEL_bdd53c0f941842a6aa299adc3000b72b",
            "_dom_classes": [],
            "description": "",
            "_model_name": "LabelModel",
            "placeholder": "​",
            "_view_module": "@jupyter-widgets/controls",
            "_model_module_version": "1.5.0",
            "value": "Train Model",
            "_view_count": null,
            "_view_module_version": "1.5.0",
            "description_tooltip": null,
            "_model_module": "@jupyter-widgets/controls",
            "layout": "IPY_MODEL_c3c831c9afe643928f58e86baf1f89c3"
          }
        },
        "3abab6c488204a6aa18e360bb8f2efa4": {
          "model_module": "@jupyter-widgets/controls",
          "model_name": "DropdownModel",
          "state": {
            "_options_labels": [
              "Yes",
              "No"
            ],
            "_view_name": "DropdownView",
            "style": "IPY_MODEL_6fe544feb08e4afe8a53f78a109042f4",
            "_dom_classes": [],
            "description": "",
            "_model_name": "DropdownModel",
            "index": 1,
            "_view_module": "@jupyter-widgets/controls",
            "_model_module_version": "1.5.0",
            "_view_count": null,
            "disabled": false,
            "_view_module_version": "1.5.0",
            "description_tooltip": null,
            "_model_module": "@jupyter-widgets/controls",
            "layout": "IPY_MODEL_b23ca57f1ac14078bd9ef9f7abd8847b"
          }
        },
        "8a510f337ff441dc92cc9890ba75b0c5": {
          "model_module": "@jupyter-widgets/controls",
          "model_name": "LabelModel",
          "state": {
            "_view_name": "LabelView",
            "style": "IPY_MODEL_7eabf40e62834d7eb4596946171df6d9",
            "_dom_classes": [],
            "description": "",
            "_model_name": "LabelModel",
            "placeholder": "​",
            "_view_module": "@jupyter-widgets/controls",
            "_model_module_version": "1.5.0",
            "value": "Test Model",
            "_view_count": null,
            "_view_module_version": "1.5.0",
            "description_tooltip": null,
            "_model_module": "@jupyter-widgets/controls",
            "layout": "IPY_MODEL_61932a7ad2844a459d10785bc45a3e07"
          }
        },
        "ed63fd235f4546c894bc7d473fe9b412": {
          "model_module": "@jupyter-widgets/controls",
          "model_name": "DropdownModel",
          "state": {
            "_options_labels": [
              "Yes",
              "No"
            ],
            "_view_name": "DropdownView",
            "style": "IPY_MODEL_8d6aa0fd1098430c84b796d9766e62eb",
            "_dom_classes": [],
            "description": "",
            "_model_name": "DropdownModel",
            "index": 1,
            "_view_module": "@jupyter-widgets/controls",
            "_model_module_version": "1.5.0",
            "_view_count": null,
            "disabled": false,
            "_view_module_version": "1.5.0",
            "description_tooltip": null,
            "_model_module": "@jupyter-widgets/controls",
            "layout": "IPY_MODEL_e2fa100af29a4707b55eda2269a163ea"
          }
        },
        "8495bb5f74294aa9b2e71955a2a6da32": {
          "model_module": "@jupyter-widgets/controls",
          "model_name": "DescriptionStyleModel",
          "state": {
            "_view_name": "StyleView",
            "_model_name": "DescriptionStyleModel",
            "description_width": "",
            "_view_module": "@jupyter-widgets/base",
            "_model_module_version": "1.5.0",
            "_view_count": null,
            "_view_module_version": "1.2.0",
            "_model_module": "@jupyter-widgets/controls"
          }
        },
        "ca5627be50684e67acfe7c7313da12e1": {
          "model_module": "@jupyter-widgets/base",
          "model_name": "LayoutModel",
          "state": {
            "_view_name": "LayoutView",
            "grid_template_rows": null,
            "right": null,
            "justify_content": null,
            "_view_module": "@jupyter-widgets/base",
            "overflow": null,
            "_model_module_version": "1.2.0",
            "_view_count": null,
            "flex_flow": null,
            "width": null,
            "min_width": null,
            "border": null,
            "align_items": null,
            "bottom": null,
            "_model_module": "@jupyter-widgets/base",
            "top": null,
            "grid_column": null,
            "overflow_y": null,
            "overflow_x": null,
            "grid_auto_flow": null,
            "grid_area": null,
            "grid_template_columns": null,
            "flex": null,
            "_model_name": "LayoutModel",
            "justify_items": null,
            "grid_row": null,
            "max_height": null,
            "align_content": null,
            "visibility": null,
            "align_self": null,
            "height": null,
            "min_height": null,
            "padding": null,
            "grid_auto_rows": null,
            "grid_gap": null,
            "max_width": null,
            "order": null,
            "_view_module_version": "1.2.0",
            "grid_template_areas": null,
            "object_position": null,
            "object_fit": null,
            "grid_auto_columns": null,
            "margin": null,
            "display": null,
            "left": null
          }
        },
        "5ceedcfb97c149ffae74372a2e714a49": {
          "model_module": "@jupyter-widgets/controls",
          "model_name": "DescriptionStyleModel",
          "state": {
            "_view_name": "StyleView",
            "_model_name": "DescriptionStyleModel",
            "description_width": "",
            "_view_module": "@jupyter-widgets/base",
            "_model_module_version": "1.5.0",
            "_view_count": null,
            "_view_module_version": "1.2.0",
            "_model_module": "@jupyter-widgets/controls"
          }
        },
        "06be1616403043bc8246a0c992674017": {
          "model_module": "@jupyter-widgets/base",
          "model_name": "LayoutModel",
          "state": {
            "_view_name": "LayoutView",
            "grid_template_rows": null,
            "right": null,
            "justify_content": null,
            "_view_module": "@jupyter-widgets/base",
            "overflow": null,
            "_model_module_version": "1.2.0",
            "_view_count": null,
            "flex_flow": null,
            "width": null,
            "min_width": null,
            "border": null,
            "align_items": null,
            "bottom": null,
            "_model_module": "@jupyter-widgets/base",
            "top": null,
            "grid_column": null,
            "overflow_y": null,
            "overflow_x": null,
            "grid_auto_flow": null,
            "grid_area": null,
            "grid_template_columns": null,
            "flex": null,
            "_model_name": "LayoutModel",
            "justify_items": null,
            "grid_row": null,
            "max_height": null,
            "align_content": null,
            "visibility": null,
            "align_self": null,
            "height": null,
            "min_height": null,
            "padding": null,
            "grid_auto_rows": null,
            "grid_gap": null,
            "max_width": null,
            "order": null,
            "_view_module_version": "1.2.0",
            "grid_template_areas": null,
            "object_position": null,
            "object_fit": null,
            "grid_auto_columns": null,
            "margin": null,
            "display": null,
            "left": null
          }
        },
        "c1b6cabbf751454f8e3229559085445a": {
          "model_module": "@jupyter-widgets/controls",
          "model_name": "DescriptionStyleModel",
          "state": {
            "_view_name": "StyleView",
            "_model_name": "DescriptionStyleModel",
            "description_width": "",
            "_view_module": "@jupyter-widgets/base",
            "_model_module_version": "1.5.0",
            "_view_count": null,
            "_view_module_version": "1.2.0",
            "_model_module": "@jupyter-widgets/controls"
          }
        },
        "ec888688abb94ff9ac25ed2b694be1ed": {
          "model_module": "@jupyter-widgets/base",
          "model_name": "LayoutModel",
          "state": {
            "_view_name": "LayoutView",
            "grid_template_rows": null,
            "right": null,
            "justify_content": null,
            "_view_module": "@jupyter-widgets/base",
            "overflow": null,
            "_model_module_version": "1.2.0",
            "_view_count": null,
            "flex_flow": null,
            "width": null,
            "min_width": null,
            "border": null,
            "align_items": null,
            "bottom": null,
            "_model_module": "@jupyter-widgets/base",
            "top": null,
            "grid_column": null,
            "overflow_y": null,
            "overflow_x": null,
            "grid_auto_flow": null,
            "grid_area": null,
            "grid_template_columns": null,
            "flex": null,
            "_model_name": "LayoutModel",
            "justify_items": null,
            "grid_row": null,
            "max_height": null,
            "align_content": null,
            "visibility": null,
            "align_self": null,
            "height": null,
            "min_height": null,
            "padding": null,
            "grid_auto_rows": null,
            "grid_gap": null,
            "max_width": null,
            "order": null,
            "_view_module_version": "1.2.0",
            "grid_template_areas": null,
            "object_position": null,
            "object_fit": null,
            "grid_auto_columns": null,
            "margin": null,
            "display": null,
            "left": null
          }
        },
        "decd0a7a9afa4dcbb9863fc55553e102": {
          "model_module": "@jupyter-widgets/controls",
          "model_name": "DescriptionStyleModel",
          "state": {
            "_view_name": "StyleView",
            "_model_name": "DescriptionStyleModel",
            "description_width": "",
            "_view_module": "@jupyter-widgets/base",
            "_model_module_version": "1.5.0",
            "_view_count": null,
            "_view_module_version": "1.2.0",
            "_model_module": "@jupyter-widgets/controls"
          }
        },
        "1e8ee1246eaf4dabbc93f3713915d095": {
          "model_module": "@jupyter-widgets/base",
          "model_name": "LayoutModel",
          "state": {
            "_view_name": "LayoutView",
            "grid_template_rows": null,
            "right": null,
            "justify_content": null,
            "_view_module": "@jupyter-widgets/base",
            "overflow": null,
            "_model_module_version": "1.2.0",
            "_view_count": null,
            "flex_flow": null,
            "width": null,
            "min_width": null,
            "border": null,
            "align_items": null,
            "bottom": null,
            "_model_module": "@jupyter-widgets/base",
            "top": null,
            "grid_column": null,
            "overflow_y": null,
            "overflow_x": null,
            "grid_auto_flow": null,
            "grid_area": null,
            "grid_template_columns": null,
            "flex": null,
            "_model_name": "LayoutModel",
            "justify_items": null,
            "grid_row": null,
            "max_height": null,
            "align_content": null,
            "visibility": null,
            "align_self": null,
            "height": null,
            "min_height": null,
            "padding": null,
            "grid_auto_rows": null,
            "grid_gap": null,
            "max_width": null,
            "order": null,
            "_view_module_version": "1.2.0",
            "grid_template_areas": null,
            "object_position": null,
            "object_fit": null,
            "grid_auto_columns": null,
            "margin": null,
            "display": null,
            "left": null
          }
        },
        "601f47a62b5044aab4d95cd289381080": {
          "model_module": "@jupyter-widgets/controls",
          "model_name": "DescriptionStyleModel",
          "state": {
            "_view_name": "StyleView",
            "_model_name": "DescriptionStyleModel",
            "description_width": "",
            "_view_module": "@jupyter-widgets/base",
            "_model_module_version": "1.5.0",
            "_view_count": null,
            "_view_module_version": "1.2.0",
            "_model_module": "@jupyter-widgets/controls"
          }
        },
        "4b1b8b72c6fc4e7b9aafe1ac6cf62249": {
          "model_module": "@jupyter-widgets/base",
          "model_name": "LayoutModel",
          "state": {
            "_view_name": "LayoutView",
            "grid_template_rows": null,
            "right": null,
            "justify_content": null,
            "_view_module": "@jupyter-widgets/base",
            "overflow": null,
            "_model_module_version": "1.2.0",
            "_view_count": null,
            "flex_flow": null,
            "width": null,
            "min_width": null,
            "border": null,
            "align_items": null,
            "bottom": null,
            "_model_module": "@jupyter-widgets/base",
            "top": null,
            "grid_column": null,
            "overflow_y": null,
            "overflow_x": null,
            "grid_auto_flow": null,
            "grid_area": null,
            "grid_template_columns": null,
            "flex": null,
            "_model_name": "LayoutModel",
            "justify_items": null,
            "grid_row": null,
            "max_height": null,
            "align_content": null,
            "visibility": null,
            "align_self": null,
            "height": null,
            "min_height": null,
            "padding": null,
            "grid_auto_rows": null,
            "grid_gap": null,
            "max_width": null,
            "order": null,
            "_view_module_version": "1.2.0",
            "grid_template_areas": null,
            "object_position": null,
            "object_fit": null,
            "grid_auto_columns": null,
            "margin": null,
            "display": null,
            "left": null
          }
        },
        "5af999bc60114d0f9d70ba96973fc49b": {
          "model_module": "@jupyter-widgets/controls",
          "model_name": "DescriptionStyleModel",
          "state": {
            "_view_name": "StyleView",
            "_model_name": "DescriptionStyleModel",
            "description_width": "",
            "_view_module": "@jupyter-widgets/base",
            "_model_module_version": "1.5.0",
            "_view_count": null,
            "_view_module_version": "1.2.0",
            "_model_module": "@jupyter-widgets/controls"
          }
        },
        "26cdb5b519d148c5a865ab6b5f86f000": {
          "model_module": "@jupyter-widgets/base",
          "model_name": "LayoutModel",
          "state": {
            "_view_name": "LayoutView",
            "grid_template_rows": null,
            "right": null,
            "justify_content": null,
            "_view_module": "@jupyter-widgets/base",
            "overflow": null,
            "_model_module_version": "1.2.0",
            "_view_count": null,
            "flex_flow": null,
            "width": null,
            "min_width": null,
            "border": null,
            "align_items": null,
            "bottom": null,
            "_model_module": "@jupyter-widgets/base",
            "top": null,
            "grid_column": null,
            "overflow_y": null,
            "overflow_x": null,
            "grid_auto_flow": null,
            "grid_area": null,
            "grid_template_columns": null,
            "flex": null,
            "_model_name": "LayoutModel",
            "justify_items": null,
            "grid_row": null,
            "max_height": null,
            "align_content": null,
            "visibility": null,
            "align_self": null,
            "height": null,
            "min_height": null,
            "padding": null,
            "grid_auto_rows": null,
            "grid_gap": null,
            "max_width": null,
            "order": null,
            "_view_module_version": "1.2.0",
            "grid_template_areas": null,
            "object_position": null,
            "object_fit": null,
            "grid_auto_columns": null,
            "margin": null,
            "display": null,
            "left": null
          }
        },
        "bdd53c0f941842a6aa299adc3000b72b": {
          "model_module": "@jupyter-widgets/controls",
          "model_name": "DescriptionStyleModel",
          "state": {
            "_view_name": "StyleView",
            "_model_name": "DescriptionStyleModel",
            "description_width": "",
            "_view_module": "@jupyter-widgets/base",
            "_model_module_version": "1.5.0",
            "_view_count": null,
            "_view_module_version": "1.2.0",
            "_model_module": "@jupyter-widgets/controls"
          }
        },
        "c3c831c9afe643928f58e86baf1f89c3": {
          "model_module": "@jupyter-widgets/base",
          "model_name": "LayoutModel",
          "state": {
            "_view_name": "LayoutView",
            "grid_template_rows": null,
            "right": null,
            "justify_content": null,
            "_view_module": "@jupyter-widgets/base",
            "overflow": null,
            "_model_module_version": "1.2.0",
            "_view_count": null,
            "flex_flow": null,
            "width": null,
            "min_width": null,
            "border": null,
            "align_items": null,
            "bottom": null,
            "_model_module": "@jupyter-widgets/base",
            "top": null,
            "grid_column": null,
            "overflow_y": null,
            "overflow_x": null,
            "grid_auto_flow": null,
            "grid_area": null,
            "grid_template_columns": null,
            "flex": null,
            "_model_name": "LayoutModel",
            "justify_items": null,
            "grid_row": null,
            "max_height": null,
            "align_content": null,
            "visibility": null,
            "align_self": null,
            "height": null,
            "min_height": null,
            "padding": null,
            "grid_auto_rows": null,
            "grid_gap": null,
            "max_width": null,
            "order": null,
            "_view_module_version": "1.2.0",
            "grid_template_areas": null,
            "object_position": null,
            "object_fit": null,
            "grid_auto_columns": null,
            "margin": null,
            "display": null,
            "left": null
          }
        },
        "6fe544feb08e4afe8a53f78a109042f4": {
          "model_module": "@jupyter-widgets/controls",
          "model_name": "DescriptionStyleModel",
          "state": {
            "_view_name": "StyleView",
            "_model_name": "DescriptionStyleModel",
            "description_width": "",
            "_view_module": "@jupyter-widgets/base",
            "_model_module_version": "1.5.0",
            "_view_count": null,
            "_view_module_version": "1.2.0",
            "_model_module": "@jupyter-widgets/controls"
          }
        },
        "b23ca57f1ac14078bd9ef9f7abd8847b": {
          "model_module": "@jupyter-widgets/base",
          "model_name": "LayoutModel",
          "state": {
            "_view_name": "LayoutView",
            "grid_template_rows": null,
            "right": null,
            "justify_content": null,
            "_view_module": "@jupyter-widgets/base",
            "overflow": null,
            "_model_module_version": "1.2.0",
            "_view_count": null,
            "flex_flow": null,
            "width": null,
            "min_width": null,
            "border": null,
            "align_items": null,
            "bottom": null,
            "_model_module": "@jupyter-widgets/base",
            "top": null,
            "grid_column": null,
            "overflow_y": null,
            "overflow_x": null,
            "grid_auto_flow": null,
            "grid_area": null,
            "grid_template_columns": null,
            "flex": null,
            "_model_name": "LayoutModel",
            "justify_items": null,
            "grid_row": null,
            "max_height": null,
            "align_content": null,
            "visibility": null,
            "align_self": null,
            "height": null,
            "min_height": null,
            "padding": null,
            "grid_auto_rows": null,
            "grid_gap": null,
            "max_width": null,
            "order": null,
            "_view_module_version": "1.2.0",
            "grid_template_areas": null,
            "object_position": null,
            "object_fit": null,
            "grid_auto_columns": null,
            "margin": null,
            "display": null,
            "left": null
          }
        },
        "7eabf40e62834d7eb4596946171df6d9": {
          "model_module": "@jupyter-widgets/controls",
          "model_name": "DescriptionStyleModel",
          "state": {
            "_view_name": "StyleView",
            "_model_name": "DescriptionStyleModel",
            "description_width": "",
            "_view_module": "@jupyter-widgets/base",
            "_model_module_version": "1.5.0",
            "_view_count": null,
            "_view_module_version": "1.2.0",
            "_model_module": "@jupyter-widgets/controls"
          }
        },
        "61932a7ad2844a459d10785bc45a3e07": {
          "model_module": "@jupyter-widgets/base",
          "model_name": "LayoutModel",
          "state": {
            "_view_name": "LayoutView",
            "grid_template_rows": null,
            "right": null,
            "justify_content": null,
            "_view_module": "@jupyter-widgets/base",
            "overflow": null,
            "_model_module_version": "1.2.0",
            "_view_count": null,
            "flex_flow": null,
            "width": null,
            "min_width": null,
            "border": null,
            "align_items": null,
            "bottom": null,
            "_model_module": "@jupyter-widgets/base",
            "top": null,
            "grid_column": null,
            "overflow_y": null,
            "overflow_x": null,
            "grid_auto_flow": null,
            "grid_area": null,
            "grid_template_columns": null,
            "flex": null,
            "_model_name": "LayoutModel",
            "justify_items": null,
            "grid_row": null,
            "max_height": null,
            "align_content": null,
            "visibility": null,
            "align_self": null,
            "height": null,
            "min_height": null,
            "padding": null,
            "grid_auto_rows": null,
            "grid_gap": null,
            "max_width": null,
            "order": null,
            "_view_module_version": "1.2.0",
            "grid_template_areas": null,
            "object_position": null,
            "object_fit": null,
            "grid_auto_columns": null,
            "margin": null,
            "display": null,
            "left": null
          }
        },
        "8d6aa0fd1098430c84b796d9766e62eb": {
          "model_module": "@jupyter-widgets/controls",
          "model_name": "DescriptionStyleModel",
          "state": {
            "_view_name": "StyleView",
            "_model_name": "DescriptionStyleModel",
            "description_width": "",
            "_view_module": "@jupyter-widgets/base",
            "_model_module_version": "1.5.0",
            "_view_count": null,
            "_view_module_version": "1.2.0",
            "_model_module": "@jupyter-widgets/controls"
          }
        },
        "e2fa100af29a4707b55eda2269a163ea": {
          "model_module": "@jupyter-widgets/base",
          "model_name": "LayoutModel",
          "state": {
            "_view_name": "LayoutView",
            "grid_template_rows": null,
            "right": null,
            "justify_content": null,
            "_view_module": "@jupyter-widgets/base",
            "overflow": null,
            "_model_module_version": "1.2.0",
            "_view_count": null,
            "flex_flow": null,
            "width": null,
            "min_width": null,
            "border": null,
            "align_items": null,
            "bottom": null,
            "_model_module": "@jupyter-widgets/base",
            "top": null,
            "grid_column": null,
            "overflow_y": null,
            "overflow_x": null,
            "grid_auto_flow": null,
            "grid_area": null,
            "grid_template_columns": null,
            "flex": null,
            "_model_name": "LayoutModel",
            "justify_items": null,
            "grid_row": null,
            "max_height": null,
            "align_content": null,
            "visibility": null,
            "align_self": null,
            "height": null,
            "min_height": null,
            "padding": null,
            "grid_auto_rows": null,
            "grid_gap": null,
            "max_width": null,
            "order": null,
            "_view_module_version": "1.2.0",
            "grid_template_areas": null,
            "object_position": null,
            "object_fit": null,
            "grid_auto_columns": null,
            "margin": null,
            "display": null,
            "left": null
          }
        },
        "69f511e280c743849007ca3f34b84b3f": {
          "model_module": "@jupyter-widgets/output",
          "model_name": "OutputModel",
          "state": {
            "_view_name": "OutputView",
            "msg_id": "",
            "_dom_classes": [],
            "_model_name": "OutputModel",
            "outputs": [
              {
                "output_type": "stream",
                "metadata": {
                  "tags": []
                },
                "text": "\nPlease select a Backbone of your choice\n",
                "stream": "stdout"
              }
            ],
            "_view_module": "@jupyter-widgets/output",
            "_model_module_version": "1.0.0",
            "_view_count": null,
            "_view_module_version": "1.0.0",
            "layout": "IPY_MODEL_69d12db63af84e0c9c15722dd01b36a5",
            "_model_module": "@jupyter-widgets/output"
          }
        },
        "69d12db63af84e0c9c15722dd01b36a5": {
          "model_module": "@jupyter-widgets/base",
          "model_name": "LayoutModel",
          "state": {
            "_view_name": "LayoutView",
            "grid_template_rows": null,
            "right": null,
            "justify_content": null,
            "_view_module": "@jupyter-widgets/base",
            "overflow": null,
            "_model_module_version": "1.2.0",
            "_view_count": null,
            "flex_flow": null,
            "width": null,
            "min_width": null,
            "border": null,
            "align_items": null,
            "bottom": null,
            "_model_module": "@jupyter-widgets/base",
            "top": null,
            "grid_column": null,
            "overflow_y": null,
            "overflow_x": null,
            "grid_auto_flow": null,
            "grid_area": null,
            "grid_template_columns": null,
            "flex": null,
            "_model_name": "LayoutModel",
            "justify_items": null,
            "grid_row": null,
            "max_height": null,
            "align_content": null,
            "visibility": null,
            "align_self": null,
            "height": null,
            "min_height": null,
            "padding": null,
            "grid_auto_rows": null,
            "grid_gap": null,
            "max_width": null,
            "order": null,
            "_view_module_version": "1.2.0",
            "grid_template_areas": null,
            "object_position": null,
            "object_fit": null,
            "grid_auto_columns": null,
            "margin": null,
            "display": null,
            "left": null
          }
        }
      }
    }
  },
  "cells": [
    {
      "cell_type": "markdown",
      "metadata": {
        "id": "view-in-github",
        "colab_type": "text"
      },
      "source": [
        "<a href=\"https://colab.research.google.com/github/meashu31/AIML-Capstone-CV9/blob/Vadhi_master/Unet_Models_Pneumonia.ipynb\" target=\"_parent\"><img src=\"https://colab.research.google.com/assets/colab-badge.svg\" alt=\"Open In Colab\"/></a>"
      ]
    },
    {
      "cell_type": "markdown",
      "metadata": {
        "id": "xDN7dCedAIXD",
        "colab_type": "text"
      },
      "source": [
        "## Mount Gogle Drive"
      ]
    },
    {
      "cell_type": "code",
      "metadata": {
        "id": "cViY1pf-lIp8",
        "colab_type": "code",
        "colab": {
          "base_uri": "https://localhost:8080/",
          "height": 54
        },
        "outputId": "ec9718ff-3e72-43dd-f996-60a6e8b862df"
      },
      "source": [
        "from google.colab import drive\n",
        "drive.mount('/content/drive/')"
      ],
      "execution_count": 15,
      "outputs": [
        {
          "output_type": "stream",
          "text": [
            "Drive already mounted at /content/drive/; to attempt to forcibly remount, call drive.mount(\"/content/drive/\", force_remount=True).\n"
          ],
          "name": "stdout"
        }
      ]
    },
    {
      "cell_type": "code",
      "metadata": {
        "id": "K4Yt6mOWlowf",
        "colab_type": "code",
        "colab": {
          "base_uri": "https://localhost:8080/",
          "height": 360
        },
        "outputId": "a5e783bb-3894-4a6c-a0ec-3f0e1a89ee5a"
      },
      "source": [
        "pip install segmentation-models"
      ],
      "execution_count": 2,
      "outputs": [
        {
          "output_type": "stream",
          "text": [
            "Requirement already satisfied: segmentation-models in /usr/local/lib/python3.6/dist-packages (1.0.1)\n",
            "Requirement already satisfied: keras-applications<=1.0.8,>=1.0.7 in /usr/local/lib/python3.6/dist-packages (from segmentation-models) (1.0.8)\n",
            "Requirement already satisfied: efficientnet==1.0.0 in /usr/local/lib/python3.6/dist-packages (from segmentation-models) (1.0.0)\n",
            "Requirement already satisfied: image-classifiers==1.0.0 in /usr/local/lib/python3.6/dist-packages (from segmentation-models) (1.0.0)\n",
            "Requirement already satisfied: numpy>=1.9.1 in /usr/local/lib/python3.6/dist-packages (from keras-applications<=1.0.8,>=1.0.7->segmentation-models) (1.18.5)\n",
            "Requirement already satisfied: h5py in /usr/local/lib/python3.6/dist-packages (from keras-applications<=1.0.8,>=1.0.7->segmentation-models) (2.10.0)\n",
            "Requirement already satisfied: scikit-image in /usr/local/lib/python3.6/dist-packages (from efficientnet==1.0.0->segmentation-models) (0.16.2)\n",
            "Requirement already satisfied: six in /usr/local/lib/python3.6/dist-packages (from h5py->keras-applications<=1.0.8,>=1.0.7->segmentation-models) (1.12.0)\n",
            "Requirement already satisfied: imageio>=2.3.0 in /usr/local/lib/python3.6/dist-packages (from scikit-image->efficientnet==1.0.0->segmentation-models) (2.4.1)\n",
            "Requirement already satisfied: scipy>=0.19.0 in /usr/local/lib/python3.6/dist-packages (from scikit-image->efficientnet==1.0.0->segmentation-models) (1.4.1)\n",
            "Requirement already satisfied: pillow>=4.3.0 in /usr/local/lib/python3.6/dist-packages (from scikit-image->efficientnet==1.0.0->segmentation-models) (7.0.0)\n",
            "Requirement already satisfied: PyWavelets>=0.4.0 in /usr/local/lib/python3.6/dist-packages (from scikit-image->efficientnet==1.0.0->segmentation-models) (1.1.1)\n",
            "Requirement already satisfied: matplotlib!=3.0.0,>=2.0.0 in /usr/local/lib/python3.6/dist-packages (from scikit-image->efficientnet==1.0.0->segmentation-models) (3.2.1)\n",
            "Requirement already satisfied: networkx>=2.0 in /usr/local/lib/python3.6/dist-packages (from scikit-image->efficientnet==1.0.0->segmentation-models) (2.4)\n",
            "Requirement already satisfied: cycler>=0.10 in /usr/local/lib/python3.6/dist-packages (from matplotlib!=3.0.0,>=2.0.0->scikit-image->efficientnet==1.0.0->segmentation-models) (0.10.0)\n",
            "Requirement already satisfied: python-dateutil>=2.1 in /usr/local/lib/python3.6/dist-packages (from matplotlib!=3.0.0,>=2.0.0->scikit-image->efficientnet==1.0.0->segmentation-models) (2.8.1)\n",
            "Requirement already satisfied: kiwisolver>=1.0.1 in /usr/local/lib/python3.6/dist-packages (from matplotlib!=3.0.0,>=2.0.0->scikit-image->efficientnet==1.0.0->segmentation-models) (1.2.0)\n",
            "Requirement already satisfied: pyparsing!=2.0.4,!=2.1.2,!=2.1.6,>=2.0.1 in /usr/local/lib/python3.6/dist-packages (from matplotlib!=3.0.0,>=2.0.0->scikit-image->efficientnet==1.0.0->segmentation-models) (2.4.7)\n",
            "Requirement already satisfied: decorator>=4.3.0 in /usr/local/lib/python3.6/dist-packages (from networkx>=2.0->scikit-image->efficientnet==1.0.0->segmentation-models) (4.4.2)\n"
          ],
          "name": "stdout"
        }
      ]
    },
    {
      "cell_type": "code",
      "metadata": {
        "id": "n2Wq2-hcmRqH",
        "colab_type": "code",
        "colab": {
          "base_uri": "https://localhost:8080/",
          "height": 34
        },
        "outputId": "d64f79aa-0d16-40b4-add8-90bf288c1e1b"
      },
      "source": [
        "#------------------------- Load necessary libraries -------------------------#\n",
        "####------------------------- for loading path -------------------------#\n",
        "import os\n",
        "####------------------------- for DataGenerator -------------------------#\n",
        "import numpy as np\n",
        "import tensorflow as tf\n",
        "import keras\n",
        "from keras.preprocessing.image import ImageDataGenerator\n",
        "####------------------------- for Plotting -------------------------#\n",
        "import matplotlib.pyplot as plt\n",
        "####------------------------- for Model -------------------------#\n",
        "from keras.utils.layer_utils import count_params\n",
        "from tabulate import tabulate\n",
        "from segmentation_models import Unet\n",
        "from segmentation_models import get_preprocessing\n",
        "from segmentation_models.losses import bce_jaccard_loss\n",
        "from segmentation_models.metrics import iou_score\n",
        "from keras.callbacks import ModelCheckpoint, EarlyStopping, ReduceLROnPlateau\n",
        "#import pandas as pd\n",
        "from IPython.display import clear_output\n",
        "import calendar\n",
        "import time\n",
        "import datetime\n",
        "import matplotlib.pyplot as plt\n",
        "from keras.layers import *\n",
        "from keras.models import *"
      ],
      "execution_count": 34,
      "outputs": [
        {
          "output_type": "stream",
          "text": [
            "Segmentation Models: using `keras` framework.\n"
          ],
          "name": "stdout"
        }
      ]
    },
    {
      "cell_type": "code",
      "metadata": {
        "id": "0OEYWXZa9mQw",
        "colab_type": "code",
        "colab": {}
      },
      "source": [
        "path = '/content/drive/My Drive/great learning/capstone project/rsna-pneumonia-detection/'\n",
        "os.chdir(path) #changing the current directory path to the project direcotry where the dataset is available\n",
        "path = os.getcwd() # directory path of all the images"
      ],
      "execution_count": 17,
      "outputs": []
    },
    {
      "cell_type": "code",
      "metadata": {
        "id": "YN9avMtzmP84",
        "colab_type": "code",
        "colab": {
          "base_uri": "https://localhost:8080/",
          "height": 68
        },
        "outputId": "c39fc5d5-986e-4a08-90a3-079052b2a421"
      },
      "source": [
        "im_path = path +'/data/image_data/images/'\n",
        "mask_path = path + '/data/mask_data/masks/'\n",
        "train_list = os.listdir(im_path)\n",
        "mask_list = os.listdir(mask_path)\n",
        "print('Number of train Images:',len(train_list),'\\nNumber of Mask Images:',len(mask_list))\n",
        "# Check for any name mismatch between images and masks\n",
        "print(\"Number of UnCommon Images\",list(set(train_list) - set(mask_list)))"
      ],
      "execution_count": 18,
      "outputs": [
        {
          "output_type": "stream",
          "text": [
            "Number of train Images: 26684 \n",
            "Number of Mask Images: 26684\n",
            "Number of UnCommon Images []\n"
          ],
          "name": "stdout"
        }
      ]
    },
    {
      "cell_type": "code",
      "metadata": {
        "id": "2AsKBDwGpJHx",
        "colab_type": "code",
        "colab": {
          "base_uri": "https://localhost:8080/",
          "height": 51
        },
        "outputId": "63778bd2-6c0d-4cf1-ea07-0eb64fa2400b"
      },
      "source": [
        "image_gen_args = dict(featurewise_center=True,rotation_range=90,width_shift_range=0.1,height_shift_range=0.1,horizontal_flip=True,preprocessing_function=tf.keras.applications.mobilenet.preprocess_input,validation_split=0.2,zoom_range=0.2)\n",
        "mask_gen_args = dict(featurewise_center=True,rotation_range=90,width_shift_range=0.1,height_shift_range=0.1,horizontal_flip=True,validation_split=0.2,rescale=1./255,zoom_range=0.2)\n",
        "\n",
        "image_datagen = ImageDataGenerator(**image_gen_args)\n",
        "mask_datagen = ImageDataGenerator(**mask_gen_args)\n",
        "seed = 1\n",
        "\n",
        "image = tf.keras.preprocessing.image.load_img(im_path+train_list[0])\n",
        "input_img = keras.preprocessing.image.img_to_array(image)\n",
        "input_img = np.array([input_img])  # Convert single image to a batch.\n",
        "\n",
        "print(\"Input image shape:\",input_img.shape)\n",
        "\n",
        "mask = tf.keras.preprocessing.image.load_img(mask_path+train_list[0], color_mode=\"grayscale\")\n",
        "input_mask = keras.preprocessing.image.img_to_array(mask,)\n",
        "input_mask = np.array([input_mask])  # Convert single image to a batch.\n",
        "print(\"Input mask shape:\",input_mask.shape)\n",
        "\n",
        "image_datagen.fit(input_img, augment=True, seed=seed)\n",
        "mask_datagen.fit(input_mask, augment=True, seed=seed)"
      ],
      "execution_count": 27,
      "outputs": [
        {
          "output_type": "stream",
          "text": [
            "Input image shape: (1, 1024, 1024, 3)\n",
            "Input mask shape: (1, 1024, 1024, 1)\n"
          ],
          "name": "stdout"
        }
      ]
    },
    {
      "cell_type": "code",
      "metadata": {
        "id": "oOuPP6oyDIAm",
        "colab_type": "code",
        "colab": {
          "base_uri": "https://localhost:8080/",
          "height": 85
        },
        "outputId": "6701f237-6451-404e-b372-45db608c919b"
      },
      "source": [
        "#------------------------- Train DataSetGenerator -------------------------#\n",
        "train_image_generator = image_datagen.flow_from_directory(\"data/image_data\",class_mode=None,color_mode=\"rgb\",target_size=(224,224),batch_size=4,shuffle=True,subset='training',seed=seed)\n",
        "train_mask_generator = mask_datagen.flow_from_directory(\"data/mask_data\",class_mode=None,color_mode=\"grayscale\",target_size=(224,224),batch_size=4,shuffle=True,subset='training',seed=seed)\n",
        "#------------------------- Validation DataSetGenerator -------------------------#\n",
        "validation_image_generator = image_datagen.flow_from_directory(\"data/image_data\",class_mode=None,color_mode=\"rgb\",target_size=(224,224),batch_size=4,shuffle=True,subset='validation',seed=seed)\n",
        "validation_mask_generator = mask_datagen.flow_from_directory(\"data/mask_data\",class_mode=None,color_mode=\"grayscale\",target_size=(224,224),batch_size=4,shuffle=True,subset='validation',seed=seed)"
      ],
      "execution_count": 28,
      "outputs": [
        {
          "output_type": "stream",
          "text": [
            "Found 21348 images belonging to 1 classes.\n",
            "Found 21348 images belonging to 1 classes.\n",
            "Found 5336 images belonging to 1 classes.\n",
            "Found 5336 images belonging to 1 classes.\n"
          ],
          "name": "stdout"
        }
      ]
    },
    {
      "cell_type": "code",
      "metadata": {
        "id": "HZavFwOVFscN",
        "colab_type": "code",
        "colab": {
          "base_uri": "https://localhost:8080/",
          "height": 420
        },
        "outputId": "65b1b1dd-142e-4190-8eff-83359f248ab5"
      },
      "source": [
        "f, ((ax1, ax2)) = plt.subplots(1, 2, figsize = (15, 8))\n",
        "ax1.imshow(train_image_generator[1][0][:,:,0], cmap = plt.cm.bone)\n",
        "ax1.set_title('X-Ray')\n",
        "ax1.axis('off')\n",
        "ax2.imshow(train_mask_generator[1][0][:,:,0], cmap = plt.cm.bone)\n",
        "ax2.set_title('Mask')\n",
        "ax2.axis('off')\n",
        "plt.show()"
      ],
      "execution_count": 31,
      "outputs": [
        {
          "output_type": "display_data",
          "data": {
            "image/png": "[encoded data removed]",
            "text/plain": [
              "<Figure size 1080x576 with 2 Axes>"
            ]
          },
          "metadata": {
            "tags": [],
            "needs_background": "light"
          }
        }
      ]
    },
    {
      "cell_type": "code",
      "metadata": {
        "id": "M4OyoPvrILpF",
        "colab_type": "code",
        "colab": {}
      },
      "source": [
        "train_generator = zip(train_image_generator, train_mask_generator)\n",
        "validation_generator = zip(validation_image_generator, validation_mask_generator)"
      ],
      "execution_count": 32,
      "outputs": []
    },
    {
      "cell_type": "markdown",
      "metadata": {
        "id": "7ODT1cwlASER",
        "colab_type": "text"
      },
      "source": [
        "## Backboned-UNet"
      ]
    },
    {
      "cell_type": "code",
      "metadata": {
        "id": "XFn2TZ1hlS_M",
        "colab_type": "code",
        "colab": {}
      },
      "source": [
        "def create_model(Backbone='vgg16',pretrained=True,ShowSummery=False,TrainModel=True,TestModel=True):\n",
        "  # preprocess input\n",
        "  print(\"-------------------PreProcessing Input based on Bakbone Model----------------------\")\n",
        "  PreprocessInput = get_preprocessing(Backbone)\n",
        "    #------------------------- Train DataSetGenerator -------------------------#\n",
        "  image_gen_args = dict(featurewise_center=True,rotation_range=90,width_shift_range=0.1,height_shift_range=0.1,horizontal_flip=True,preprocessing_function=PreprocessInput,validation_split=0.2,zoom_range=0.2)\n",
        "  image_datagen = ImageDataGenerator(**image_gen_args)\n",
        "  image_datagen.fit(input_img, augment=True, seed=seed)\n",
        "  train_image_generator = image_datagen.flow_from_directory(\"data/image_data\",class_mode=None,color_mode=\"rgb\",target_size=(224,224),batch_size=4,shuffle=True,subset='training',seed=seed)\n",
        "      #------------------------- Validation DataSetGenerator -------------------------#\n",
        "  validation_image_generator = image_datagen.flow_from_directory(\"data/image_data\",class_mode=None,color_mode=\"rgb\",target_size=(224,224),batch_size=4,shuffle=True,subset='validation',seed=seed)\n",
        "  train_generator = zip(train_image_generator, train_mask_generator)\n",
        "  validation_generator = zip(validation_image_generator, validation_mask_generator)\n",
        "\n",
        "  # define model\n",
        "  print(\"-------------------Generating UNet Model----------------------\")\n",
        "  model = Unet(Backbone, encoder_weights='imagenet', input_shape=(224, 224, 3))\n",
        "  ##-------------------getLast layer and add reshape----------------------\n",
        "  LastLayerIdx = len(model.layers) - 1\n",
        "  LastLayerName = model.layers[LastLayerIdx].name\n",
        "  for layer in model.layers:\n",
        "    layer.trainable = not pretrained\n",
        "    LastLayer = model.get_layer(LastLayerName).output\n",
        "    x = Reshape((224, 224))(LastLayer)\n",
        "\n",
        "  model = Model(inputs=model.input, outputs=x)\n",
        "  # Model Overview\n",
        "  trainable_count = count_params(model.trainable_weights)\n",
        "  non_trainable_count = count_params(model.non_trainable_weights)\n",
        "\n",
        "  print(tabulate([['Model', 'UNet'],\\\n",
        "                          ['BackBone', Backbone],\\\n",
        "                          ['Number of Layers', len(model.layers)],\\\n",
        "                          ['Total params', model.count_params()],\\\n",
        "                          ['Trainable params', trainable_count],\\\n",
        "                          ['Non-trainable params', non_trainable_count]],\\\n",
        "                          headers=['Header', 'Value'], tablefmt='orgtbl'))\n",
        "  print()\n",
        "  print()\n",
        "  #If Choosen Show Summery\n",
        "  print(\"-------------------Model Summery----------------------\")\n",
        "  if ShowSummery: model.summary()\n",
        "  if TrainModel:\n",
        "    print(\"-------------------Training Model----------------------\")\n",
        "    # Compile model\n",
        "    model.compile('Adam', loss=bce_jaccard_loss, metrics=['accuracy',iou_score])\n",
        "    # checkpoint\n",
        "    ts = calendar.timegm(time.gmtime())\n",
        "    readable = datetime.datetime.fromtimestamp(ts).isoformat()\n",
        "    filepath = path + Backbone + \"/model-\"+ readable + \".h5\"\n",
        "    checkpoint = ModelCheckpoint(filepath, monitor=\"loss\", verbose=1, save_best_only=True, save_weights_only=True, mode=\"min\", period=1)\n",
        "    stop = EarlyStopping(monitor=\"loss\", patience=5, mode=\"min\")\n",
        "    batch_size = 8\n",
        "    model.fit(train_generator,\n",
        "              epochs=5,\n",
        "              steps_per_epoch = len(x_train)/batch_size,\n",
        "              validation_data=validation_generator,\n",
        "              validation_steps = len(x_train)/batch_size*2,\n",
        "              callbacks= [checkpoint, stop])\n",
        "  if TestModel:\n",
        "    test_list = ['0a2c130c-c536-4651-836d-95d07e9a89cf.png','0a03fbf6-3c9a-4e2e-89ce-c7629ae43a27.png']\n",
        "    test_gen = DataGenerator(list_IDs=test_list , image_path = im_path, mask_path=mask_path,dim=(224,224),batch_size=8,resize=True, preprocessinput=PreprocessInput)\n",
        "    model.compile('Adam', loss=bce_jaccard_loss, metrics=['accuracy',iou_score])\n",
        "    n = 0\n",
        "    sample_image = test_gen[n][0][0]\n",
        "    sample_image_redim = np.expand_dims(sample_image, axis=0)\n",
        "    region = model.predict(sample_image_redim)\n",
        "    f, ((ax1, ax2, ax3)) = plt.subplots(1, 3, figsize = (15, 8))\n",
        "    ax1.imshow(sample_image[:,:,0], cmap = plt.cm.bone)\n",
        "    ax1.set_title('Input Image')\n",
        "    ax1.axis('off')\n",
        "    ax2.imshow(test_gen[n][1][0], cmap = plt.cm.bone)\n",
        "    ax2.set_title('Ground Truth Mask')\n",
        "    ax2.axis('off')\n",
        "    ax3.imshow(region[0], cmap = plt.cm.bone)\n",
        "    ax3.set_title('Predicted Mask (no threshold applied)')\n",
        "    ax3.axis('off')\n",
        "    plt.show()"
      ],
      "execution_count": 32,
      "outputs": []
    },
    {
      "cell_type": "code",
      "metadata": {
        "id": "o5TGaMOo0vHo",
        "colab_type": "code",
        "colab": {
          "base_uri": "https://localhost:8080/",
          "height": 272
        },
        "outputId": "3aac2729-6f1c-4f50-e974-c905606064cc"
      },
      "source": [
        "print(tabulate([['UNet', 'VGG-16', 67, 23752273],\\\n",
        "                ['UNet', 'VGG-19', 70, 29061969],\\\n",
        "                ['UNet', 'ResNet-18', 128, 14340570],\\\n",
        "                ['UNet', 'ResNet-34', 200, 24456154],\\\n",
        "                ['UNet', 'ResNet-50', 232, 32561114],\\\n",
        "                ['UNet', 'ResNet-101', 419, 51605466],\\\n",
        "                ['UNet', 'ResNet-152', 606, 67295194],\\\n",
        "                ['UNet', 'DenseNet-121', 469, 12144977],\\\n",
        "                ['UNet', 'DenseNet-169', 637, 19519825],\\\n",
        "                ['UNet', 'DenseNet-201', 749, 26378577],\\\n",
        "                ['UNet', 'Inception-V3', 353, 29933105],\\\n",
        "                ['UNet', 'Inception-ResNet-V2', 822, 62061553],\\\n",
        "                ['UNet', 'MobileNet', 129, 8336337]],\n",
        "                headers=['Model', 'Backbone', 'Number of Layers', 'Total Parameters'], tablefmt='orgtbl',stralign=\"center\", numalign=\"center\"))"
      ],
      "execution_count": 4,
      "outputs": [
        {
          "output_type": "stream",
          "text": [
            "|  Model  |      Backbone       |  Number of Layers  |  Total Parameters  |\n",
            "|---------+---------------------+--------------------+--------------------|\n",
            "|  UNet   |       VGG-16        |         67         |      23752273      |\n",
            "|  UNet   |       VGG-19        |         70         |      29061969      |\n",
            "|  UNet   |      ResNet-18      |        128         |      14340570      |\n",
            "|  UNet   |      ResNet-34      |        200         |      24456154      |\n",
            "|  UNet   |      ResNet-50      |        232         |      32561114      |\n",
            "|  UNet   |     ResNet-101      |        419         |      51605466      |\n",
            "|  UNet   |     ResNet-152      |        606         |      67295194      |\n",
            "|  UNet   |    DenseNet-121     |        469         |      12144977      |\n",
            "|  UNet   |    DenseNet-169     |        637         |      19519825      |\n",
            "|  UNet   |    DenseNet-201     |        749         |      26378577      |\n",
            "|  UNet   |    Inception-V3     |        353         |      29933105      |\n",
            "|  UNet   | Inception-ResNet-V2 |        822         |      62061553      |\n",
            "|  UNet   |      MobileNet      |        129         |      8336337       |\n"
          ],
          "name": "stdout"
        }
      ]
    },
    {
      "cell_type": "code",
      "metadata": {
        "id": "QIbp_Q9kNoik",
        "colab_type": "code",
        "colab": {}
      },
      "source": [
        "#------------------------- Load necessary libraries -------------------------#\n",
        "from ipywidgets import widgets, Layout, Button, Box, Dropdown, Label,Output,interact, interactive_output\n",
        "#------------------------- Load widgets -------------------------#\n",
        "BackBoneLabel = Label(value='Select Backbone')\n",
        "BackboneDrop = Dropdown(options=[('Select', \"\"),(\"VGG-16\", \"vgg16\"),(\"VGG-19\", \"vgg19\"),\n",
        "                           (\"ResNet-18\",\"resnet18\"),(\"ResNet-34\",\"resnet34\"),\n",
        "                           (\"ResNet-50\",\"resnet50\"),(\"ResNet-101\",\"resnet101\"),\n",
        "                           (\"ResNet-152\",\"resnet152\"),(\"DenseNet-121\",\"densenet121\"),\n",
        "                           (\"DenseNet-169\",\"densenet169\"),(\"DenseNet-201\",\"densenet201\"),\n",
        "                           (\"Inception V3\",\"inceptionv3\"),(\"Inception ResNet V2\",\"inceptionresnetv2\"),\n",
        "                           (\"MobileNet\",\"mobilenet\")],value='')\n",
        "PreTrainLabel = Label(value='Use PreTrained Weights')\n",
        "PreTrainedDrop = Dropdown(options=[('Yes', True),(\"No\", False)],value=True)\n",
        "SummeryLabel = Label(value='Show Model Summary')\n",
        "SummeryDrop = Dropdown(options=[('Yes', True),(\"No\", False)],value=False)\n",
        "TrainLabel = Label(value='Train Model')\n",
        "TrainModel = Dropdown(options=[('Yes', True),(\"No\", False)],value=False)\n",
        "TestLabel = Label(value='Test Model')\n",
        "TestModel = Dropdown(options=[('Yes', True),(\"No\", False)],value=False)\n",
        "GenerateModelButton = widgets.Button(description=\"Generate Model\",disabled=False,button_style='success',tooltip='Click to generate model')\n",
        "#------------------------- Function on Selection -------------------------#\n",
        "def OnSelection(BackBoneSelection,PreTrainSelection,SummerySelection,TrainSelection,TestSelection):\n",
        "  PreTrainStr = None\n",
        "  ShowSummaryStr = None\n",
        "  TrainModelStr = None\n",
        "  TestModelStr = None\n",
        "  print()\n",
        "  if BackBoneSelection == \"\":\n",
        "    print(\"Please select a Backbone of your choice\")\n",
        "  else:\n",
        "    PreTrainStr = \"Trained\" if PreTrainSelection else \"UnTrained\"\n",
        "    ShowSummaryStr = \"be\" if SummerySelection else \"not be\"\n",
        "    TrainModelStr = \"be\" if SummerySelection else \"not be\"\n",
        "    TestModelStr = \"be\" if TestSelection else \"not be\"\n",
        "    print(\"UNet Model with\",PreTrainStr,BackBoneSelection,\"backbone will be loaded, Model Summary will\",ShowSummaryStr,\"displayed, will\", TrainModelStr, \"trained and will\",TestModelStr, \"tested with new data.\")\n",
        "    print()\n",
        "    print(\"If OK with above configuration, Click Generate Model (OR) Choose required configuration from GUI\")\n",
        "    print()\n",
        "    display(GenerateModelButton)\n",
        "#------------------------- Function at Button click -------------------------#\n",
        "def on_button_clicked(b):\n",
        "  create_model(Backbone=BackboneDrop.value,pretrained=PreTrainedDrop.value,ShowSummery=SummeryDrop.value,TrainModel=TrainModel.value,TestModel=TestModel.value)\n",
        "GenerateModelButton.on_click(on_button_clicked)\n",
        "#------------------------- Make widget -------------------------#\n",
        "out = interactive_output(OnSelection, {\"BackBoneSelection\":BackboneDrop, \"PreTrainSelection\":PreTrainedDrop, \"SummerySelection\":SummeryDrop, \"TrainSelection\":TrainModel, \"TestSelection\":TestModel})\n",
        "form_item_layout = Layout(display='flex',flex_flow='row',justify_content='space-between')\n",
        "form_items = [\n",
        "    Box([BackBoneLabel,BackboneDrop], layout=form_item_layout),\n",
        "    Box([PreTrainLabel, PreTrainedDrop], layout=form_item_layout),\n",
        "    Box([SummeryLabel, SummeryDrop], layout=form_item_layout),\n",
        "    Box([TrainLabel, TrainModel], layout=form_item_layout),\n",
        "    Box([TestLabel, TestModel], layout=form_item_layout)]\n",
        "GUI = Box(form_items, layout=Layout(display='flex',flex_flow='column',border='solid 2px',align_items='stretch',width='27%'))"
      ],
      "execution_count": 33,
      "outputs": []
    },
    {
      "cell_type": "code",
      "metadata": {
        "id": "CCnOMoAp8UP8",
        "colab_type": "code",
        "colab": {
          "base_uri": "https://localhost:8080/",
          "height": 215,
          "referenced_widgets": [
            "b85f20b0b7494ecb893d076b3f9972d6",
            "6994cd51334c4bc581d8bd60a1dc8b71",
            "1016fa04df2845b2954dd98064ea126e",
            "0b36dddf685a43df81ae54ae0547c361",
            "100df67d03994dda929d28a1a83e418d",
            "7fc4cea665034b0298e7220bb7f78fd4",
            "17cc2a8afbec4af883e2c07f9e3dd49b",
            "7acfdb0e71bd4707a55fc66f9b3a9868",
            "4a42485d86d8427da73f0c0460fa79ce",
            "0e7960663b2f45428172359338b2be61",
            "70e7edcc5ce54ecd866d97347142f9ef",
            "ca0c4abb5e2748feb8d925fd749b5a49",
            "131107cc559149aaa79cb860122b8990",
            "0a7ef7d9f83441fab714370e5d8999e1",
            "75889c992d374d929d865eb607aed208",
            "3abab6c488204a6aa18e360bb8f2efa4",
            "8a510f337ff441dc92cc9890ba75b0c5",
            "ed63fd235f4546c894bc7d473fe9b412",
            "8495bb5f74294aa9b2e71955a2a6da32",
            "ca5627be50684e67acfe7c7313da12e1",
            "5ceedcfb97c149ffae74372a2e714a49",
            "06be1616403043bc8246a0c992674017",
            "c1b6cabbf751454f8e3229559085445a",
            "ec888688abb94ff9ac25ed2b694be1ed",
            "decd0a7a9afa4dcbb9863fc55553e102",
            "1e8ee1246eaf4dabbc93f3713915d095",
            "601f47a62b5044aab4d95cd289381080",
            "4b1b8b72c6fc4e7b9aafe1ac6cf62249",
            "5af999bc60114d0f9d70ba96973fc49b",
            "26cdb5b519d148c5a865ab6b5f86f000",
            "bdd53c0f941842a6aa299adc3000b72b",
            "c3c831c9afe643928f58e86baf1f89c3",
            "6fe544feb08e4afe8a53f78a109042f4",
            "b23ca57f1ac14078bd9ef9f7abd8847b",
            "7eabf40e62834d7eb4596946171df6d9",
            "61932a7ad2844a459d10785bc45a3e07",
            "8d6aa0fd1098430c84b796d9766e62eb",
            "e2fa100af29a4707b55eda2269a163ea",
            "69f511e280c743849007ca3f34b84b3f",
            "69d12db63af84e0c9c15722dd01b36a5"
          ]
        },
        "outputId": "0c89bf61-def6-4efc-ca41-e5ab0783fa0e"
      },
      "source": [
        "display(GUI, out)"
      ],
      "execution_count": 34,
      "outputs": [
        {
          "output_type": "display_data",
          "data": {
            "application/vnd.jupyter.widget-view+json": {
              "model_id": "b85f20b0b7494ecb893d076b3f9972d6",
              "version_minor": 0,
              "version_major": 2
            },
            "text/plain": [
              "Box(children=(Box(children=(Label(value='Select Backbone'), Dropdown(options=(('Select', ''), ('VGG-16', 'vgg1…"
            ]
          },
          "metadata": {
            "tags": []
          }
        },
        {
          "output_type": "display_data",
          "data": {
            "application/vnd.jupyter.widget-view+json": {
              "model_id": "69f511e280c743849007ca3f34b84b3f",
              "version_minor": 0,
              "version_major": 2
            },
            "text/plain": [
              "Output()"
            ]
          },
          "metadata": {
            "tags": []
          }
        }
      ]
    },
    {
      "cell_type": "code",
      "metadata": {
        "id": "ck8kYY1R9Bqw",
        "colab_type": "code",
        "colab": {}
      },
      "source": [
        ""
      ],
      "execution_count": null,
      "outputs": []
    }
  ]
}