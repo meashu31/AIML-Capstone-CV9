{
  "nbformat": 4,
  "nbformat_minor": 0,
  "metadata": {
    "colab": {
      "name": "generate_png_data.ipynb",
      "provenance": [],
      "collapsed_sections": []
    },
    "kernelspec": {
      "name": "python3",
      "display_name": "Python 3"
    },
    "widgets": {
      "application/vnd.jupyter.widget-state+json": {
        "18249a55314b46499d76e7550e5aaf78": {
          "model_module": "@jupyter-widgets/controls",
          "model_name": "HBoxModel",
          "state": {
            "_view_name": "HBoxView",
            "_dom_classes": [],
            "_model_name": "HBoxModel",
            "_view_module": "@jupyter-widgets/controls",
            "_model_module_version": "1.5.0",
            "_view_count": null,
            "_view_module_version": "1.5.0",
            "box_style": "",
            "layout": "IPY_MODEL_dc03ee8331d94a0db04cc328405c2986",
            "_model_module": "@jupyter-widgets/controls",
            "children": [
              "IPY_MODEL_d1ca34712d8844f6b225172a5b8af759",
              "IPY_MODEL_4a96ef3562194f4fbb9abfbf7e32f18e"
            ]
          }
        },
        "dc03ee8331d94a0db04cc328405c2986": {
          "model_module": "@jupyter-widgets/base",
          "model_name": "LayoutModel",
          "state": {
            "_view_name": "LayoutView",
            "grid_template_rows": null,
            "right": null,
            "justify_content": null,
            "_view_module": "@jupyter-widgets/base",
            "overflow": null,
            "_model_module_version": "1.2.0",
            "_view_count": null,
            "flex_flow": null,
            "width": null,
            "min_width": null,
            "border": null,
            "align_items": null,
            "bottom": null,
            "_model_module": "@jupyter-widgets/base",
            "top": null,
            "grid_column": null,
            "overflow_y": null,
            "overflow_x": null,
            "grid_auto_flow": null,
            "grid_area": null,
            "grid_template_columns": null,
            "flex": null,
            "_model_name": "LayoutModel",
            "justify_items": null,
            "grid_row": null,
            "max_height": null,
            "align_content": null,
            "visibility": null,
            "align_self": null,
            "height": null,
            "min_height": null,
            "padding": null,
            "grid_auto_rows": null,
            "grid_gap": null,
            "max_width": null,
            "order": null,
            "_view_module_version": "1.2.0",
            "grid_template_areas": null,
            "object_position": null,
            "object_fit": null,
            "grid_auto_columns": null,
            "margin": null,
            "display": null,
            "left": null
          }
        },
        "d1ca34712d8844f6b225172a5b8af759": {
          "model_module": "@jupyter-widgets/controls",
          "model_name": "FloatProgressModel",
          "state": {
            "_view_name": "ProgressView",
            "style": "IPY_MODEL_36b0af0d059a404c84159d427355eb74",
            "_dom_classes": [],
            "description": "100%",
            "_model_name": "FloatProgressModel",
            "bar_style": "success",
            "max": 1,
            "_view_module": "@jupyter-widgets/controls",
            "_model_module_version": "1.5.0",
            "value": 1,
            "_view_count": null,
            "_view_module_version": "1.5.0",
            "orientation": "horizontal",
            "min": 0,
            "description_tooltip": null,
            "_model_module": "@jupyter-widgets/controls",
            "layout": "IPY_MODEL_2e9f562dae7a4b5abcbd1ce320c0fafa"
          }
        },
        "4a96ef3562194f4fbb9abfbf7e32f18e": {
          "model_module": "@jupyter-widgets/controls",
          "model_name": "HTMLModel",
          "state": {
            "_view_name": "HTMLView",
            "style": "IPY_MODEL_d98c9845f4194ab4944863ff86992075",
            "_dom_classes": [],
            "description": "",
            "_model_name": "HTMLModel",
            "placeholder": "​",
            "_view_module": "@jupyter-widgets/controls",
            "_model_module_version": "1.5.0",
            "value": " 1/1 [00:00&lt;00:00, 13.36it/s]",
            "_view_count": null,
            "_view_module_version": "1.5.0",
            "description_tooltip": null,
            "_model_module": "@jupyter-widgets/controls",
            "layout": "IPY_MODEL_deef42be65b043e1a0f8645f467f2103"
          }
        },
        "36b0af0d059a404c84159d427355eb74": {
          "model_module": "@jupyter-widgets/controls",
          "model_name": "ProgressStyleModel",
          "state": {
            "_view_name": "StyleView",
            "_model_name": "ProgressStyleModel",
            "description_width": "initial",
            "_view_module": "@jupyter-widgets/base",
            "_model_module_version": "1.5.0",
            "_view_count": null,
            "_view_module_version": "1.2.0",
            "bar_color": null,
            "_model_module": "@jupyter-widgets/controls"
          }
        },
        "2e9f562dae7a4b5abcbd1ce320c0fafa": {
          "model_module": "@jupyter-widgets/base",
          "model_name": "LayoutModel",
          "state": {
            "_view_name": "LayoutView",
            "grid_template_rows": null,
            "right": null,
            "justify_content": null,
            "_view_module": "@jupyter-widgets/base",
            "overflow": null,
            "_model_module_version": "1.2.0",
            "_view_count": null,
            "flex_flow": null,
            "width": null,
            "min_width": null,
            "border": null,
            "align_items": null,
            "bottom": null,
            "_model_module": "@jupyter-widgets/base",
            "top": null,
            "grid_column": null,
            "overflow_y": null,
            "overflow_x": null,
            "grid_auto_flow": null,
            "grid_area": null,
            "grid_template_columns": null,
            "flex": null,
            "_model_name": "LayoutModel",
            "justify_items": null,
            "grid_row": null,
            "max_height": null,
            "align_content": null,
            "visibility": null,
            "align_self": null,
            "height": null,
            "min_height": null,
            "padding": null,
            "grid_auto_rows": null,
            "grid_gap": null,
            "max_width": null,
            "order": null,
            "_view_module_version": "1.2.0",
            "grid_template_areas": null,
            "object_position": null,
            "object_fit": null,
            "grid_auto_columns": null,
            "margin": null,
            "display": null,
            "left": null
          }
        },
        "d98c9845f4194ab4944863ff86992075": {
          "model_module": "@jupyter-widgets/controls",
          "model_name": "DescriptionStyleModel",
          "state": {
            "_view_name": "StyleView",
            "_model_name": "DescriptionStyleModel",
            "description_width": "",
            "_view_module": "@jupyter-widgets/base",
            "_model_module_version": "1.5.0",
            "_view_count": null,
            "_view_module_version": "1.2.0",
            "_model_module": "@jupyter-widgets/controls"
          }
        },
        "deef42be65b043e1a0f8645f467f2103": {
          "model_module": "@jupyter-widgets/base",
          "model_name": "LayoutModel",
          "state": {
            "_view_name": "LayoutView",
            "grid_template_rows": null,
            "right": null,
            "justify_content": null,
            "_view_module": "@jupyter-widgets/base",
            "overflow": null,
            "_model_module_version": "1.2.0",
            "_view_count": null,
            "flex_flow": null,
            "width": null,
            "min_width": null,
            "border": null,
            "align_items": null,
            "bottom": null,
            "_model_module": "@jupyter-widgets/base",
            "top": null,
            "grid_column": null,
            "overflow_y": null,
            "overflow_x": null,
            "grid_auto_flow": null,
            "grid_area": null,
            "grid_template_columns": null,
            "flex": null,
            "_model_name": "LayoutModel",
            "justify_items": null,
            "grid_row": null,
            "max_height": null,
            "align_content": null,
            "visibility": null,
            "align_self": null,
            "height": null,
            "min_height": null,
            "padding": null,
            "grid_auto_rows": null,
            "grid_gap": null,
            "max_width": null,
            "order": null,
            "_view_module_version": "1.2.0",
            "grid_template_areas": null,
            "object_position": null,
            "object_fit": null,
            "grid_auto_columns": null,
            "margin": null,
            "display": null,
            "left": null
          }
        }
      }
    }
  },
  "cells": [
    {
      "cell_type": "markdown",
      "metadata": {
        "id": "H-AVIgk3Q03j",
        "colab_type": "text"
      },
      "source": [
        "### Install Pydicom library to read Patient DCM data"
      ]
    },
    {
      "cell_type": "code",
      "metadata": {
        "id": "C9tPVErXF_CU",
        "colab_type": "code",
        "outputId": "b95cf875-3e28-4424-8097-5f63947ecf0b",
        "colab": {
          "base_uri": "https://localhost:8080/",
          "height": 34
        }
      },
      "source": [
        "!pip install pydicom"
      ],
      "execution_count": 0,
      "outputs": [
        {
          "output_type": "stream",
          "text": [
            "Requirement already satisfied: pydicom in /usr/local/lib/python3.6/dist-packages (2.0.0)\n"
          ],
          "name": "stdout"
        }
      ]
    },
    {
      "cell_type": "markdown",
      "metadata": {
        "id": "A7Y_ZLi2Q8Lm",
        "colab_type": "text"
      },
      "source": [
        "### Mount Google Drive"
      ]
    },
    {
      "cell_type": "code",
      "metadata": {
        "id": "flaYlPOGGEok",
        "colab_type": "code",
        "outputId": "723b81d0-be15-4ec7-da3d-cb88b35843aa",
        "colab": {
          "base_uri": "https://localhost:8080/",
          "height": 54
        }
      },
      "source": [
        "from google.colab import drive\n",
        "drive.mount('/content/drive/')"
      ],
      "execution_count": 0,
      "outputs": [
        {
          "output_type": "stream",
          "text": [
            "Drive already mounted at /content/drive/; to attempt to forcibly remount, call drive.mount(\"/content/drive/\", force_remount=True).\n"
          ],
          "name": "stdout"
        }
      ]
    },
    {
      "cell_type": "markdown",
      "metadata": {
        "id": "5WkmTvmwRDHL",
        "colab_type": "text"
      },
      "source": [
        "### Import necessary libraries"
      ]
    },
    {
      "cell_type": "code",
      "metadata": {
        "id": "m2z-nT9eGJdj",
        "colab_type": "code",
        "colab": {}
      },
      "source": [
        "import pydicom\n",
        "import pandas as pd\n",
        "import numpy as np\n",
        "from tqdm.auto import tqdm\n",
        "from glob import glob\n",
        "from PIL import Image\n",
        "import os"
      ],
      "execution_count": 0,
      "outputs": []
    },
    {
      "cell_type": "markdown",
      "metadata": {
        "id": "NIFihIwbRKqi",
        "colab_type": "text"
      },
      "source": [
        "### Set the working directory"
      ]
    },
    {
      "cell_type": "code",
      "metadata": {
        "id": "X9LuHFuNGFvz",
        "colab_type": "code",
        "colab": {}
      },
      "source": [
        "project_path =  '/content/drive/My Drive/great learning/capstone project/rsna-pneumonia-detection'\n",
        "os.chdir(project_path)"
      ],
      "execution_count": 0,
      "outputs": []
    },
    {
      "cell_type": "markdown",
      "metadata": {
        "id": "UM66Wi9MRN14",
        "colab_type": "text"
      },
      "source": [
        "### Set the path to DCM data directory"
      ]
    },
    {
      "cell_type": "code",
      "metadata": {
        "id": "f2GwYOZLGZdI",
        "colab_type": "code",
        "colab": {}
      },
      "source": [
        "data_dir = os.path.join(project_path,\"stage_2_train_images\")\n"
      ],
      "execution_count": 0,
      "outputs": []
    },
    {
      "cell_type": "markdown",
      "metadata": {
        "id": "H_tFlUZrRlHU",
        "colab_type": "text"
      },
      "source": [
        "### Load the CSV with bbox annotations"
      ]
    },
    {
      "cell_type": "code",
      "metadata": {
        "id": "FDJR_SdVGpck",
        "colab_type": "code",
        "colab": {}
      },
      "source": [
        "bbox_dataframe = pd.read_csv(os.path.join(project_path,\"stage_2_train_labels.csv\")).reset_index()"
      ],
      "execution_count": 0,
      "outputs": []
    },
    {
      "cell_type": "markdown",
      "metadata": {
        "id": "G_NnvH81Rr1Y",
        "colab_type": "text"
      },
      "source": [
        "### Create list of pneumonia and non-pneumonia patients"
      ]
    },
    {
      "cell_type": "code",
      "metadata": {
        "id": "7qLsOJxhHBGq",
        "colab_type": "code",
        "colab": {}
      },
      "source": [
        "pneumonia_patients = bbox_dataframe[bbox_dataframe['Target'] == 1]['patientId'].drop_duplicates().to_list()\n",
        "non_pneumonia_patients = bbox_dataframe[bbox_dataframe['Target'] == 0]['patientId'].drop_duplicates().to_list()"
      ],
      "execution_count": 0,
      "outputs": []
    },
    {
      "cell_type": "markdown",
      "metadata": {
        "id": "WqeZC-APRxlM",
        "colab_type": "text"
      },
      "source": [
        "### Set the image size and path to the destination folders for X-Ray images and annotation masks"
      ]
    },
    {
      "cell_type": "code",
      "metadata": {
        "id": "Du65-VPOR4RI",
        "colab_type": "code",
        "colab": {}
      },
      "source": [
        "image_height = 1024\n",
        "image_width = 1024\n",
        "image_path = os.path.join(project_path,\"data\",\"images\")\n",
        "mask_path = os.path.join(project_path,\"data\",\"masks\")"
      ],
      "execution_count": 0,
      "outputs": []
    },
    {
      "cell_type": "markdown",
      "metadata": {
        "id": "FXJMPShWSFTd",
        "colab_type": "text"
      },
      "source": [
        "### Iterate through the Patient IDs and generate corresponding X-ray images from DCM Pixel Array and Annotation masks from CSV with bbox annotations"
      ]
    },
    {
      "cell_type": "code",
      "metadata": {
        "id": "Fe5ErCgMJchb",
        "colab_type": "code",
        "outputId": "122df9dd-dbc0-4dd0-a67d-fab031e6f69a",
        "colab": {
          "base_uri": "https://localhost:8080/",
          "height": 66,
          "referenced_widgets": [
            "18249a55314b46499d76e7550e5aaf78",
            "dc03ee8331d94a0db04cc328405c2986",
            "d1ca34712d8844f6b225172a5b8af759",
            "4a96ef3562194f4fbb9abfbf7e32f18e",
            "36b0af0d059a404c84159d427355eb74",
            "2e9f562dae7a4b5abcbd1ce320c0fafa",
            "d98c9845f4194ab4944863ff86992075",
            "deef42be65b043e1a0f8645f467f2103"
          ]
        }
      },
      "source": [
        "for ids in tqdm(pneumonia_patients):\n",
        "  dcm_file = os.path.join(data_dir,\"%s.dcm\" %ids)\n",
        "  dcm_data = pydicom.read_file(dcm_file)\n",
        "  image = dcm_data.pixel_array\n",
        "  image = image.astype(np.uint8)\n",
        "  im = Image.fromarray(image)\n",
        "  \n",
        "  mask = np.zeros(shape=(image_height, image_width),\n",
        "                     dtype=np.uint8)\n",
        "  \n",
        "  \n",
        "  for index,row in bbox_dataframe[bbox_dataframe['patientId'] == ids].iterrows():\n",
        "    x = int(row['x'])\n",
        "    y = int(row['y'])\n",
        "    w = int(row['width'])\n",
        "    h = int(row['height'])\n",
        "    mask[y:y+h,x:x+w] = 255\n",
        "  ms = Image.fromarray(mask)\n",
        "  im.save(os.path.join(image_path,ids+\".png\"))\n",
        "  ms.save(os.path.join(mask_path,ids+\".png\"))\n",
        "    "
      ],
      "execution_count": 0,
      "outputs": [
        {
          "output_type": "display_data",
          "data": {
            "application/vnd.jupyter.widget-view+json": {
              "model_id": "18249a55314b46499d76e7550e5aaf78",
              "version_minor": 0,
              "version_major": 2
            },
            "text/plain": [
              "HBox(children=(FloatProgress(value=0.0, max=1.0), HTML(value='')))"
            ]
          },
          "metadata": {
            "tags": []
          }
        },
        {
          "output_type": "stream",
          "text": [
            "\n"
          ],
          "name": "stdout"
        }
      ]
    },
    {
      "cell_type": "code",
      "metadata": {
        "id": "dBG99cPiacN6",
        "colab_type": "code",
        "colab": {}
      },
      "source": [
        "for ids in tqdm(non_pneumonia_patients):\n",
        "  dcm_file = os.path.join(data_dir,\"%s.dcm\" %ids)\n",
        "  dcm_data = pydicom.read_file(dcm_file)\n",
        "  image = dcm_data.pixel_array\n",
        "  image = image.astype(np.uint8)\n",
        "  im = Image.fromarray(image)\n",
        "  \n",
        "  mask = np.zeros(shape=(image_height, image_width),\n",
        "                     dtype=np.uint8)\n",
        "  \n",
        "  \n",
        "  \n",
        "  ms = Image.fromarray(mask)\n",
        "  im.save(os.path.join(image_path,ids+\".png\"))\n",
        "  ms.save(os.path.join(mask_path,ids+\".png\"))\n",
        "    "
      ],
      "execution_count": 0,
      "outputs": []
    }
  ]
}