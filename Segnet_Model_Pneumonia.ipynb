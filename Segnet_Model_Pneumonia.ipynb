{
  "nbformat": 4,
  "nbformat_minor": 0,
  "metadata": {
    "colab": {
      "name": "Segnet_Model_Pneumonia.ipynb",
      "provenance": [],
      "collapsed_sections": []
    },
    "kernelspec": {
      "name": "python3",
      "display_name": "Python 3"
    },
    "accelerator": "TPU"
  },
  "cells": [
    {
      "cell_type": "markdown",
      "metadata": {
        "id": "MyO4pPWxH27U",
        "colab_type": "text"
      },
      "source": [
        "### Mount Gogle Drive"
      ]
    },
    {
      "cell_type": "code",
      "metadata": {
        "id": "cViY1pf-lIp8",
        "colab_type": "code",
        "outputId": "64ba096b-17bd-459a-b76c-1c39dc0f9a14",
        "colab": {
          "base_uri": "https://localhost:8080/",
          "height": 122
        }
      },
      "source": [
        "from google.colab import drive\n",
        "drive.mount('/content/drive/')"
      ],
      "execution_count": 1,
      "outputs": [
        {
          "output_type": "stream",
          "text": [
            "Go to this URL in a browser: https://accounts.google.com/o/oauth2/auth?client_id=947318989803-6bn6qk8qdgf4n4g3pfee6491hc0brc4i.apps.googleusercontent.com&redirect_uri=urn%3aietf%3awg%3aoauth%3a2.0%3aoob&response_type=code&scope=email%20https%3a%2f%2fwww.googleapis.com%2fauth%2fdocs.test%20https%3a%2f%2fwww.googleapis.com%2fauth%2fdrive%20https%3a%2f%2fwww.googleapis.com%2fauth%2fdrive.photos.readonly%20https%3a%2f%2fwww.googleapis.com%2fauth%2fpeopleapi.readonly\n",
            "\n",
            "Enter your authorization code:\n",
            "··········\n",
            "Mounted at /content/drive/\n"
          ],
          "name": "stdout"
        }
      ]
    },
    {
      "cell_type": "markdown",
      "metadata": {
        "id": "gCECrHDrH_PZ",
        "colab_type": "text"
      },
      "source": [
        "### Load necessary libraries"
      ]
    },
    {
      "cell_type": "code",
      "metadata": {
        "id": "Ykocojv_ePbL",
        "colab_type": "code",
        "outputId": "b0462ce6-23e4-417e-c543-d64d5ee16bd9",
        "colab": {
          "base_uri": "https://localhost:8080/",
          "height": 34
        }
      },
      "source": [
        "import numpy as np\n",
        "import pandas as pd\n",
        "from PIL import Image\n",
        "import os\n",
        "from keras.utils.data_utils import Sequence\n",
        "from tensorflow.python.keras.utils import data_utils\n",
        "from sklearn.model_selection import train_test_split\n",
        "\n",
        "import matplotlib.pyplot as plt\n",
        "from tqdm import tqdm\n",
        "from matplotlib import pyplot\n",
        "import tensorflow as tf\n",
        "import cv2\n",
        "from tensorflow.keras.applications.mobilenet import preprocess_input\n",
        "import pickle\n",
        "import feather\n",
        "%matplotlib inline"
      ],
      "execution_count": 3,
      "outputs": [
        {
          "output_type": "stream",
          "text": [
            "Using TensorFlow backend.\n"
          ],
          "name": "stderr"
        }
      ]
    },
    {
      "cell_type": "markdown",
      "metadata": {
        "id": "-Rlt7aVJIIe6",
        "colab_type": "text"
      },
      "source": [
        "### Set working directory"
      ]
    },
    {
      "cell_type": "code",
      "metadata": {
        "id": "0VxFbCze-X00",
        "colab_type": "code",
        "colab": {}
      },
      "source": [
        "path = '/content/drive/My Drive/great learning/capstone project/rsna-pneumonia-detection/'\n",
        "os.chdir(path) #changing the current directory path to the project direcotry where the dataset is available\n",
        "path = os.getcwd() # directory path of all the images"
      ],
      "execution_count": 0,
      "outputs": []
    },
    {
      "cell_type": "markdown",
      "metadata": {
        "id": "wsQVxJUXIMzn",
        "colab_type": "text"
      },
      "source": [
        "### Set dataset directory<br><br>\n",
        "Structure of dataset:\n",
        "\n",
        "* data\n",
        "\n",
        "\n",
        "\n",
        "> 1.   images\n",
        "\n",
        "\n",
        "> *   0a0f91dc-6015-4342-b809-d19610854a21.png\n",
        "*   0a0f6755-610d-4b7c-a460-5f5a8f5c0743.png\n",
        "*   0a2c130c-.........\n",
        "\n",
        "\n",
        "> 2.   masks\n",
        "\n",
        "> *   0a0f91dc-6015-4342-b809-d19610854a21.png\n",
        "*   0a0f6755-610d-4b7c-a460-5f5a8f5c0743.png\n",
        "*   0a2c130c-.........\n"
      ]
    },
    {
      "cell_type": "code",
      "metadata": {
        "id": "kGCKyiQ7_WWQ",
        "colab_type": "code",
        "colab": {}
      },
      "source": [
        "im_path = path +'/data/images/'\n",
        "mask_path = path + '/data/masks/'"
      ],
      "execution_count": 0,
      "outputs": []
    },
    {
      "cell_type": "markdown",
      "metadata": {
        "id": "P8z4p0oyJv24",
        "colab_type": "text"
      },
      "source": [
        "### List the images and masks and check for any anamolies"
      ]
    },
    {
      "cell_type": "code",
      "metadata": {
        "id": "5S0d-FHfQQct",
        "colab_type": "code",
        "colab": {}
      },
      "source": [
        "train_list = os.listdir(im_path)"
      ],
      "execution_count": 0,
      "outputs": []
    },
    {
      "cell_type": "code",
      "metadata": {
        "id": "rMYiLr_WQRya",
        "colab_type": "code",
        "colab": {}
      },
      "source": [
        "mask_list = os.listdir(mask_path)"
      ],
      "execution_count": 0,
      "outputs": []
    },
    {
      "cell_type": "code",
      "metadata": {
        "id": "4_DY-3YNQTVR",
        "colab_type": "code",
        "outputId": "f5db644c-a6c4-4d9a-c814-cc6974f0b4d5",
        "colab": {
          "base_uri": "https://localhost:8080/",
          "height": 51
        }
      },
      "source": [
        "print(len(train_list))\n",
        "print(len(mask_list))"
      ],
      "execution_count": 10,
      "outputs": [
        {
          "output_type": "stream",
          "text": [
            "26684\n",
            "26684\n"
          ],
          "name": "stdout"
        }
      ]
    },
    {
      "cell_type": "code",
      "metadata": {
        "id": "-4AxP85SR0oy",
        "colab_type": "code",
        "outputId": "9fa575fa-f141-42c7-c477-1be1f4bb3edd",
        "colab": {
          "base_uri": "https://localhost:8080/",
          "height": 34
        }
      },
      "source": [
        "# Check for any name mismatch between images and masks\n",
        "list(set(train_list) - set(mask_list))"
      ],
      "execution_count": 93,
      "outputs": [
        {
          "output_type": "execute_result",
          "data": {
            "text/plain": [
              "[]"
            ]
          },
          "metadata": {
            "tags": []
          },
          "execution_count": 93
        }
      ]
    },
    {
      "cell_type": "markdown",
      "metadata": {
        "id": "aasdeIDcJ3d6",
        "colab_type": "text"
      },
      "source": [
        "### Split data into Training Set and Validation Set"
      ]
    },
    {
      "cell_type": "code",
      "metadata": {
        "id": "UVqGkzGflX7J",
        "colab_type": "code",
        "colab": {}
      },
      "source": [
        "X_train, X_val = train_test_split(train_list, test_size=0.20, random_state=53)"
      ],
      "execution_count": 0,
      "outputs": []
    },
    {
      "cell_type": "code",
      "metadata": {
        "id": "vl6i_m-Glf8C",
        "colab_type": "code",
        "outputId": "e1a2ab01-72c3-4908-d24b-0aa792c5978c",
        "colab": {
          "base_uri": "https://localhost:8080/",
          "height": 51
        }
      },
      "source": [
        "print('Length of training data:',len(X_train),'\\nLength of validation data:',len(X_val))"
      ],
      "execution_count": 92,
      "outputs": [
        {
          "output_type": "stream",
          "text": [
            "Length of training data: 21347 \n",
            "Length of validation data: 5337\n"
          ],
          "name": "stdout"
        }
      ]
    },
    {
      "cell_type": "markdown",
      "metadata": {
        "id": "jZR-IyLhJ-K6",
        "colab_type": "text"
      },
      "source": [
        "### Data Generator to generate resized data of 'n' batch size on the fly"
      ]
    },
    {
      "cell_type": "code",
      "metadata": {
        "id": "jRhCgkOJ_Q7e",
        "colab_type": "code",
        "colab": {}
      },
      "source": [
        "class DataGenerator(data_utils.Sequence):\n",
        "    \"\"\"Generates data for Keras\n",
        "    Sequence based data generator. Suitable for building data generator for training and prediction.\n",
        "    \"\"\"\n",
        "    def __init__(self, list_IDs, image_path, mask_path, batch_size=32, dim=(1024, 1024),n_channels=1, shuffle=True,resize=False):\n",
        "        \"\"\"Initialization\n",
        "        self.list_IDs = List of all unique patient Ids\n",
        "        self.image_path = path to image folder\n",
        "        self.mask_path = path to mask folder\n",
        "        self.batch_size = batch_size\n",
        "        self.dim = dimenstion for each input image\n",
        "        self.n_channels = no.of channels per image\n",
        "        self.resize = if true, will resize the input image to self.dim\n",
        "        self.shuffle = True to shuffle label indexes after every epoch\n",
        "        \"\"\"\n",
        "        self.list_IDs = list_IDs\n",
        "        self.TempList = list_IDs\n",
        "        self.image_path = image_path\n",
        "        self.mask_path = mask_path\n",
        "        self.batch_size = batch_size\n",
        "        self.dim = dim\n",
        "        self.n_channels = n_channels\n",
        "        self.shuffle = shuffle\n",
        "        self.resize = resize\n",
        "        self.on_epoch_end()\n",
        "\n",
        "    def __len__(self):\n",
        "        \"\"\"Denotes the number of batches per epoch\n",
        "        :return: number of batches per epoch\n",
        "        \"\"\"\n",
        "        return int(np.floor(len(self.list_IDs) / self.batch_size))\n",
        "\n",
        "    def __getitem__(self, index):\n",
        "        'Generate one batch of data'\n",
        "        # Generate indexes of the batch\n",
        "        indexes = self.indexes[index*self.batch_size:(index+1)*self.batch_size]\n",
        "\n",
        "        # Find list of IDs\n",
        "        list_IDs_temp = [self.list_IDs[k] for k in indexes]\n",
        "        if len(list_IDs_temp)==0:\n",
        "          print('Trying to access an empty batch. No image left to iterate over. Try changing the batch index')\n",
        "          return None\n",
        "        else:\n",
        "          # Generate data\n",
        "          X, y = self.__pixel_generation(list_IDs_temp)\n",
        "\n",
        "          return X, y\n",
        "\n",
        "    def on_epoch_end(self):\n",
        "        \"\"\"Updates indexes after each epoch\n",
        "        \"\"\"\n",
        "        self.indexes = np.arange(len(self.list_IDs))\n",
        "        if self.shuffle == True:\n",
        "            np.random.shuffle(self.indexes)\n",
        "\n",
        "    def __pixel_generation(self, list_IDs_temp):\n",
        "        'Generates data containing batch_size samples' # X : (n_samples, *dim)\n",
        "        ''' Initialization\n",
        "         *self.dim is a variable length parameter. It can vary based on the size of image'''\n",
        "        \n",
        "        x_image = np.empty((self.batch_size, self.dim[0],self.dim[1],3))\n",
        "        x_channels = np.empty((self.dim[0],self.dim[1],3))\n",
        "        y_mask = np.empty((self.batch_size, *self.dim))\n",
        "        ID_List = []\n",
        "        # Generate data\n",
        "        for i, ID in enumerate(list_IDs_temp):\n",
        "            if self.resize == True:\n",
        "              x_frame = Image.open(self.image_path + ID).resize((self.dim[0],self.dim[1]),Image.ANTIALIAS)\n",
        "              y_frame = Image.open(self.mask_path + ID).resize((self.dim[0],self.dim[1]),Image.ANTIALIAS)\n",
        "            \n",
        "            else:              \n",
        "              x_frame = Image.open(self.image_path + ID)\n",
        "              y_frame = Image.open(self.mask_path + ID)\n",
        "            \n",
        "            # Add channels and store images\n",
        "            for z in range(3):\n",
        "              x_channels[:,:,z] = np.array(x_frame)\n",
        "            x_image[i,] = np.array(x_channels)\n",
        "            # Store masks           \n",
        "            y_mask[i,] = np.array(y_frame)\n",
        "            \n",
        "        return x_image, y_mask"
      ],
      "execution_count": 0,
      "outputs": []
    },
    {
      "cell_type": "markdown",
      "metadata": {
        "id": "Pv6YKUGKKTUF",
        "colab_type": "text"
      },
      "source": [
        "### Data Generator instance for training set and validation set"
      ]
    },
    {
      "cell_type": "code",
      "metadata": {
        "id": "mLM9r37i_ZKa",
        "colab_type": "code",
        "colab": {}
      },
      "source": [
        "X_train_gen = DataGenerator(list_IDs=X_train , image_path = im_path, mask_path=mask_path,dim=(224,224),batch_size=8,resize=True)\n",
        "X_Val_gen = DataGenerator(list_IDs=X_val , image_path = im_path, mask_path=mask_path,dim=(224,224),batch_size=8,resize=True)"
      ],
      "execution_count": 0,
      "outputs": []
    },
    {
      "cell_type": "markdown",
      "metadata": {
        "id": "KyisuGJJKbzP",
        "colab_type": "text"
      },
      "source": [
        "### Sample image and masks from training set data generator"
      ]
    },
    {
      "cell_type": "code",
      "metadata": {
        "id": "_4aWjmZhyGfb",
        "colab_type": "code",
        "outputId": "37a5372a-4835-45cc-ff55-da6d3370a8d0",
        "colab": {
          "base_uri": "https://localhost:8080/",
          "height": 34
        }
      },
      "source": [
        "X_train_gen[0][1][0].shape"
      ],
      "execution_count": 16,
      "outputs": [
        {
          "output_type": "execute_result",
          "data": {
            "text/plain": [
              "(224, 224)"
            ]
          },
          "metadata": {
            "tags": []
          },
          "execution_count": 16
        }
      ]
    },
    {
      "cell_type": "code",
      "metadata": {
        "id": "ucTWQsVhwt0J",
        "colab_type": "code",
        "outputId": "59cb9094-03da-491d-f351-ed495527aea9",
        "colab": {
          "base_uri": "https://localhost:8080/",
          "height": 221
        }
      },
      "source": [
        "n = 25\n",
        "f, axarr = plt.subplots(1,2)\n",
        "axarr[0].imshow(X_train_gen[n][0][0][:,:,0])\n",
        "axarr[1].imshow(X_train_gen[n][1][0])"
      ],
      "execution_count": 17,
      "outputs": [
        {
          "output_type": "execute_result",
          "data": {
            "text/plain": [
              "<matplotlib.image.AxesImage at 0x7fab45483860>"
            ]
          },
          "metadata": {
            "tags": []
          },
          "execution_count": 17
        },
        {
          "output_type": "display_data",
          "data": {
            "image/png": "[encoded data removed]",
            "text/plain": [
              "<Figure size 432x288 with 2 Axes>"
            ]
          },
          "metadata": {
            "tags": [],
            "needs_background": "light"
          }
        }
      ]
    },
    {
      "cell_type": "markdown",
      "metadata": {
        "id": "jm-ceD22Kh-g",
        "colab_type": "text"
      },
      "source": [
        "### Parameter list for the model"
      ]
    },
    {
      "cell_type": "code",
      "metadata": {
        "id": "iEPigRriao0E",
        "colab_type": "code",
        "colab": {}
      },
      "source": [
        "IMAGE_HEIGHT = 224\n",
        "IMAGE_WIDTH = 224"
      ],
      "execution_count": 0,
      "outputs": []
    },
    {
      "cell_type": "code",
      "metadata": {
        "id": "C6Vfs23nHGSE",
        "colab_type": "code",
        "colab": {}
      },
      "source": [
        "include_top = False\n",
        "ALPHA = 1 # Width hyper parameter for MobileNet (0.25, 0.5, 0.75, 1.0). Higher width means more accurate but slower\n",
        "weights = \"imagenet\"\n",
        "IMAGE_ORDERING = \"channels_last\""
      ],
      "execution_count": 0,
      "outputs": []
    },
    {
      "cell_type": "markdown",
      "metadata": {
        "id": "seAWOVC9Kmov",
        "colab_type": "text"
      },
      "source": [
        "### SegNet model with Mobilenet as backbone at encode level 3 i.e. after 5th Depthwise block\n",
        "\n",
        "\n",
        "\n",
        "### [SegNet: A Deep Convolutional Encoder-Decoder Architecture for Image Segmentation](https://arxiv.org/pdf/1511.00561.pdf)\n",
        "\n",
        "The architecture of the encoder network is topologically identical to the 13 convolutional layers in the\n",
        "VGG16 network . The role of the decoder network is to map the low resolution encoder feature maps to full input resolution feature\n",
        "maps for pixel-wise classification. The novelty of SegNet lies is in the manner in which the decoder upsamples its lower resolution input\n",
        "feature map(s). Specifically, the decoder uses pooling indices computed in the max-pooling step of the corresponding encoder to\n",
        "perform non-linear upsampling. This eliminates the need for learning to upsample. The upsampled maps are sparse and are then\n",
        "convolved with trainable filters to produce dense feature maps.\n",
        "![alt text](https://www.researchgate.net/publication/335600030/figure/fig1/AS:799251789533191@1567567884607/Illustration-of-Segnet-architecture-with-the-input-image-and-the-final-expected-output.jpg)"
      ]
    },
    {
      "cell_type": "code",
      "metadata": {
        "id": "OKaSXbKaOpOD",
        "colab_type": "code",
        "colab": {}
      },
      "source": [
        "from tensorflow.keras.applications.mobilenet import MobileNet\n",
        "from tensorflow.keras.layers import *\n",
        "from tensorflow.keras.models import *\n",
        "\n",
        "def crop(o1, o2, i):\n",
        "    o_shape2 = Model(i, o2).output_shape\n",
        "\n",
        "    if IMAGE_ORDERING == 'channels_first':\n",
        "        output_height2 = o_shape2[2]\n",
        "        output_width2 = o_shape2[3]\n",
        "    else:\n",
        "        output_height2 = o_shape2[1]\n",
        "        output_width2 = o_shape2[2]\n",
        "\n",
        "    o_shape1 = Model(i, o1).output_shape\n",
        "    if IMAGE_ORDERING == 'channels_first':\n",
        "        output_height1 = o_shape1[2]\n",
        "        output_width1 = o_shape1[3]\n",
        "    else:\n",
        "        output_height1 = o_shape1[1]\n",
        "        output_width1 = o_shape1[2]\n",
        "\n",
        "    cx = abs(output_width1 - output_width2)\n",
        "    cy = abs(output_height2 - output_height1)\n",
        "\n",
        "    if output_width1 > output_width2:\n",
        "        o1 = Cropping2D(cropping=((0, 0),  (0, cx)),\n",
        "                        data_format=IMAGE_ORDERING)(o1)\n",
        "    else:\n",
        "        o2 = Cropping2D(cropping=((0, 0),  (0, cx)),\n",
        "                        data_format=IMAGE_ORDERING)(o2)\n",
        "\n",
        "    if output_height1 > output_height2:\n",
        "        o1 = Cropping2D(cropping=((0, cy),  (0, 0)),\n",
        "                        data_format=IMAGE_ORDERING)(o1)\n",
        "    else:\n",
        "        o2 = Cropping2D(cropping=((0, cy),  (0, 0)),\n",
        "                        data_format=IMAGE_ORDERING)(o2)\n",
        "\n",
        "    return o1, o2\n",
        "\n",
        "def get_segmentation_model(input, output):\n",
        "\n",
        "    img_input = input\n",
        "    o = output\n",
        "\n",
        "    o_shape = Model(img_input, o).output_shape\n",
        "    i_shape = Model(img_input, o).input_shape\n",
        "\n",
        "    if IMAGE_ORDERING == 'channels_first':\n",
        "        output_height = o_shape[2]\n",
        "        output_width = o_shape[3]\n",
        "        input_height = i_shape[2]\n",
        "        input_width = i_shape[3]\n",
        "        n_classes = o_shape[1]\n",
        "        o = (Reshape((-1, output_height*output_width)))(o)\n",
        "        o = (Permute((2, 1)))(o)\n",
        "    elif IMAGE_ORDERING == 'channels_last':\n",
        "        output_height = o_shape[1]\n",
        "        output_width = o_shape[2]\n",
        "        input_height = i_shape[1]\n",
        "        input_width = i_shape[2]\n",
        "        n_classes = o_shape[3]\n",
        "        o = (Reshape((IMAGE_HEIGHT, IMAGE_WIDTH)))(o)\n",
        "\n",
        "    o = (Activation('softmax'))(o)\n",
        "    model = Model(img_input, o)\n",
        "    model.output_width = output_width\n",
        "    model.output_height = output_height\n",
        "    model.input_height = input_height\n",
        "    model.input_width = input_width\n",
        "    model.model_name = \"\"\n",
        "\n",
        "    \n",
        "\n",
        "    return model\n",
        "\n",
        "def mobile_model(trainable=True, n_up=3):\n",
        "  \n",
        "  model = MobileNet(input_shape=(IMAGE_HEIGHT, IMAGE_WIDTH, 3), include_top=include_top, alpha=ALPHA, weights=weights)\n",
        "  img_input = model.input\n",
        "  for layer in model.layers:\n",
        "    layer.trainable = trainable\n",
        "    \n",
        "    # f1 = model.get_layer(\"conv_pw_1_relu\").output\n",
        "    # f2 = model.get_layer(\"conv_pw_3_relu\").output\n",
        "\n",
        "    f3 = model.get_layer(\"conv_pw_5_relu\").output\n",
        "\n",
        "    # f4 = model.get_layer(\"conv_pw_11_relu\").output\n",
        "    # f5 = model.get_layer(\"conv_pw_13_relu\").output\n",
        "    \n",
        "\n",
        "    # SEGNET encoder_level_3\n",
        "    o = f3\n",
        "\n",
        "    o = (ZeroPadding2D((1, 1), data_format=IMAGE_ORDERING))(o)\n",
        "    o = (Conv2D(512, (3, 3), padding='valid', data_format=IMAGE_ORDERING))(o)\n",
        "    o = (BatchNormalization())(o)\n",
        "\n",
        "    o = (UpSampling2D((2, 2), data_format=IMAGE_ORDERING))(o)\n",
        "    o = (ZeroPadding2D((1, 1), data_format=IMAGE_ORDERING))(o)\n",
        "    o = (Conv2D(256, (3, 3), padding='valid', data_format=IMAGE_ORDERING))(o)\n",
        "    o = (BatchNormalization())(o)\n",
        "\n",
        "    for _ in range(n_up-2):\n",
        "        o = (UpSampling2D((2, 2), data_format=IMAGE_ORDERING))(o)\n",
        "        o = (ZeroPadding2D((1, 1), data_format=IMAGE_ORDERING))(o)\n",
        "        o = (Conv2D(128, (3, 3), padding='valid',\n",
        "             data_format=IMAGE_ORDERING))(o)\n",
        "        o = (BatchNormalization())(o)\n",
        "\n",
        "    o = (UpSampling2D((2, 2), data_format=IMAGE_ORDERING))(o)\n",
        "    o = (ZeroPadding2D((1, 1), data_format=IMAGE_ORDERING))(o)\n",
        "    o = (Conv2D(64, (3, 3), padding='valid', data_format=IMAGE_ORDERING))(o)\n",
        "    o = (BatchNormalization())(o)\n",
        "\n",
        "    o = Conv2D(1, (3, 3), padding='same',\n",
        "               data_format=IMAGE_ORDERING)(o)\n",
        "\n",
        "    model = get_segmentation_model(img_input, o)\n",
        "    model.model_name = \"fcn_8\"\n",
        "  \n",
        "  \n",
        "\n",
        "  return model\n",
        "\n"
      ],
      "execution_count": 0,
      "outputs": []
    },
    {
      "cell_type": "markdown",
      "metadata": {
        "id": "TyQ7UziUK-a3",
        "colab_type": "text"
      },
      "source": [
        "### Create the model with frozen Mobilenet base layers"
      ]
    },
    {
      "cell_type": "code",
      "metadata": {
        "id": "gS0Y0gIyPXeB",
        "colab_type": "code",
        "outputId": "8b14040d-2fed-43eb-f2c1-fe86853d5f78",
        "colab": {
          "base_uri": "https://localhost:8080/",
          "height": 1000
        }
      },
      "source": [
        "# Give trainable=False as argument, if you want to freeze lower layers for fast training (but low accuracy)\n",
        "model = mobile_model(trainable=False)\n",
        "\n",
        "# Print summary\n",
        "model.summary()"
      ],
      "execution_count": 21,
      "outputs": [
        {
          "output_type": "stream",
          "text": [
            "Downloading data from https://storage.googleapis.com/tensorflow/keras-applications/mobilenet/mobilenet_1_0_224_tf_no_top.h5\n",
            "17227776/17225924 [==============================] - 0s 0us/step\n",
            "Model: \"model_260\"\n",
            "_________________________________________________________________\n",
            "Layer (type)                 Output Shape              Param #   \n",
            "=================================================================\n",
            "input_1 (InputLayer)         [(None, 224, 224, 3)]     0         \n",
            "_________________________________________________________________\n",
            "conv1_pad (ZeroPadding2D)    (None, 225, 225, 3)       0         \n",
            "_________________________________________________________________\n",
            "conv1 (Conv2D)               (None, 112, 112, 32)      864       \n",
            "_________________________________________________________________\n",
            "conv1_bn (BatchNormalization (None, 112, 112, 32)      128       \n",
            "_________________________________________________________________\n",
            "conv1_relu (ReLU)            (None, 112, 112, 32)      0         \n",
            "_________________________________________________________________\n",
            "conv_dw_1 (DepthwiseConv2D)  (None, 112, 112, 32)      288       \n",
            "_________________________________________________________________\n",
            "conv_dw_1_bn (BatchNormaliza (None, 112, 112, 32)      128       \n",
            "_________________________________________________________________\n",
            "conv_dw_1_relu (ReLU)        (None, 112, 112, 32)      0         \n",
            "_________________________________________________________________\n",
            "conv_pw_1 (Conv2D)           (None, 112, 112, 64)      2048      \n",
            "_________________________________________________________________\n",
            "conv_pw_1_bn (BatchNormaliza (None, 112, 112, 64)      256       \n",
            "_________________________________________________________________\n",
            "conv_pw_1_relu (ReLU)        (None, 112, 112, 64)      0         \n",
            "_________________________________________________________________\n",
            "conv_pad_2 (ZeroPadding2D)   (None, 113, 113, 64)      0         \n",
            "_________________________________________________________________\n",
            "conv_dw_2 (DepthwiseConv2D)  (None, 56, 56, 64)        576       \n",
            "_________________________________________________________________\n",
            "conv_dw_2_bn (BatchNormaliza (None, 56, 56, 64)        256       \n",
            "_________________________________________________________________\n",
            "conv_dw_2_relu (ReLU)        (None, 56, 56, 64)        0         \n",
            "_________________________________________________________________\n",
            "conv_pw_2 (Conv2D)           (None, 56, 56, 128)       8192      \n",
            "_________________________________________________________________\n",
            "conv_pw_2_bn (BatchNormaliza (None, 56, 56, 128)       512       \n",
            "_________________________________________________________________\n",
            "conv_pw_2_relu (ReLU)        (None, 56, 56, 128)       0         \n",
            "_________________________________________________________________\n",
            "conv_dw_3 (DepthwiseConv2D)  (None, 56, 56, 128)       1152      \n",
            "_________________________________________________________________\n",
            "conv_dw_3_bn (BatchNormaliza (None, 56, 56, 128)       512       \n",
            "_________________________________________________________________\n",
            "conv_dw_3_relu (ReLU)        (None, 56, 56, 128)       0         \n",
            "_________________________________________________________________\n",
            "conv_pw_3 (Conv2D)           (None, 56, 56, 128)       16384     \n",
            "_________________________________________________________________\n",
            "conv_pw_3_bn (BatchNormaliza (None, 56, 56, 128)       512       \n",
            "_________________________________________________________________\n",
            "conv_pw_3_relu (ReLU)        (None, 56, 56, 128)       0         \n",
            "_________________________________________________________________\n",
            "conv_pad_4 (ZeroPadding2D)   (None, 57, 57, 128)       0         \n",
            "_________________________________________________________________\n",
            "conv_dw_4 (DepthwiseConv2D)  (None, 28, 28, 128)       1152      \n",
            "_________________________________________________________________\n",
            "conv_dw_4_bn (BatchNormaliza (None, 28, 28, 128)       512       \n",
            "_________________________________________________________________\n",
            "conv_dw_4_relu (ReLU)        (None, 28, 28, 128)       0         \n",
            "_________________________________________________________________\n",
            "conv_pw_4 (Conv2D)           (None, 28, 28, 256)       32768     \n",
            "_________________________________________________________________\n",
            "conv_pw_4_bn (BatchNormaliza (None, 28, 28, 256)       1024      \n",
            "_________________________________________________________________\n",
            "conv_pw_4_relu (ReLU)        (None, 28, 28, 256)       0         \n",
            "_________________________________________________________________\n",
            "conv_dw_5 (DepthwiseConv2D)  (None, 28, 28, 256)       2304      \n",
            "_________________________________________________________________\n",
            "conv_dw_5_bn (BatchNormaliza (None, 28, 28, 256)       1024      \n",
            "_________________________________________________________________\n",
            "conv_dw_5_relu (ReLU)        (None, 28, 28, 256)       0         \n",
            "_________________________________________________________________\n",
            "conv_pw_5 (Conv2D)           (None, 28, 28, 256)       65536     \n",
            "_________________________________________________________________\n",
            "conv_pw_5_bn (BatchNormaliza (None, 28, 28, 256)       1024      \n",
            "_________________________________________________________________\n",
            "conv_pw_5_relu (ReLU)        (None, 28, 28, 256)       0         \n",
            "_________________________________________________________________\n",
            "zero_padding2d_344 (ZeroPadd (None, 30, 30, 256)       0         \n",
            "_________________________________________________________________\n",
            "conv2d_430 (Conv2D)          (None, 28, 28, 512)       1180160   \n",
            "_________________________________________________________________\n",
            "batch_normalization_344 (Bat (None, 28, 28, 512)       2048      \n",
            "_________________________________________________________________\n",
            "up_sampling2d_258 (UpSamplin (None, 56, 56, 512)       0         \n",
            "_________________________________________________________________\n",
            "zero_padding2d_345 (ZeroPadd (None, 58, 58, 512)       0         \n",
            "_________________________________________________________________\n",
            "conv2d_431 (Conv2D)          (None, 56, 56, 256)       1179904   \n",
            "_________________________________________________________________\n",
            "batch_normalization_345 (Bat (None, 56, 56, 256)       1024      \n",
            "_________________________________________________________________\n",
            "up_sampling2d_259 (UpSamplin (None, 112, 112, 256)     0         \n",
            "_________________________________________________________________\n",
            "zero_padding2d_346 (ZeroPadd (None, 114, 114, 256)     0         \n",
            "_________________________________________________________________\n",
            "conv2d_432 (Conv2D)          (None, 112, 112, 128)     295040    \n",
            "_________________________________________________________________\n",
            "batch_normalization_346 (Bat (None, 112, 112, 128)     512       \n",
            "_________________________________________________________________\n",
            "up_sampling2d_260 (UpSamplin (None, 224, 224, 128)     0         \n",
            "_________________________________________________________________\n",
            "zero_padding2d_347 (ZeroPadd (None, 226, 226, 128)     0         \n",
            "_________________________________________________________________\n",
            "conv2d_433 (Conv2D)          (None, 224, 224, 64)      73792     \n",
            "_________________________________________________________________\n",
            "batch_normalization_347 (Bat (None, 224, 224, 64)      256       \n",
            "_________________________________________________________________\n",
            "conv2d_434 (Conv2D)          (None, 224, 224, 1)       577       \n",
            "_________________________________________________________________\n",
            "reshape_86 (Reshape)         (None, 224, 224)          0         \n",
            "_________________________________________________________________\n",
            "activation_86 (Activation)   (None, 224, 224)          0         \n",
            "=================================================================\n",
            "Total params: 2,870,465\n",
            "Trainable params: 2,731,393\n",
            "Non-trainable params: 139,072\n",
            "_________________________________________________________________\n"
          ],
          "name": "stdout"
        }
      ]
    },
    {
      "cell_type": "markdown",
      "metadata": {
        "id": "a-JZNijuLIuU",
        "colab_type": "text"
      },
      "source": [
        "### Define metrics, loss and optimizers"
      ]
    },
    {
      "cell_type": "code",
      "metadata": {
        "id": "OW6cB2PNPbaJ",
        "colab_type": "code",
        "colab": {}
      },
      "source": [
        "def dice_coefficient(y_true, y_pred):\n",
        "    #### Add your code here ####\n",
        "    numerator = 2 * tf.reduce_sum(y_true * y_pred)\n",
        "    denominator = tf.reduce_sum(y_true + y_pred)\n",
        "    return numerator / (denominator + tf.keras.backend.epsilon())#### Add your code here ####"
      ],
      "execution_count": 0,
      "outputs": []
    },
    {
      "cell_type": "code",
      "metadata": {
        "id": "1AJ00R8xP1BO",
        "colab_type": "code",
        "colab": {}
      },
      "source": [
        "from tensorflow.keras.losses import binary_crossentropy\n",
        "from tensorflow.keras.backend import log, epsilon\n",
        "def loss(y_true, y_pred):\n",
        "    return binary_crossentropy(y_true, y_pred) - log(dice_coefficient(y_true, y_pred) + epsilon())"
      ],
      "execution_count": 0,
      "outputs": []
    },
    {
      "cell_type": "code",
      "metadata": {
        "id": "wj15mt40P2_D",
        "colab_type": "code",
        "colab": {}
      },
      "source": [
        "#### Add your code here ####\n",
        "from tensorflow.keras.optimizers import Adam\n",
        "optimizer = Adam(lr=1e-4, beta_1=0.9, beta_2=0.999, epsilon=None, decay=0.0, amsgrad=False)\n",
        "model.compile(loss=loss, optimizer=optimizer, metrics=[dice_coefficient])"
      ],
      "execution_count": 0,
      "outputs": []
    },
    {
      "cell_type": "code",
      "metadata": {
        "id": "cXfU4ttZP5XM",
        "colab_type": "code",
        "outputId": "c05a10fe-902a-4e0e-bf2d-6847566f9c68",
        "colab": {
          "base_uri": "https://localhost:8080/",
          "height": 34
        }
      },
      "source": [
        "from tensorflow.keras.callbacks import ModelCheckpoint, EarlyStopping, ReduceLROnPlateau\n",
        "checkpoint = ModelCheckpoint(\"checkpoint/model-{loss:.2f}.h5\", monitor=\"loss\", verbose=1, save_best_only=True,\n",
        "                             save_weights_only=True, mode=\"min\", period=1)\n",
        "stop = EarlyStopping(monitor=\"loss\", patience=5, mode=\"min\")\n",
        "reduce_lr = ReduceLROnPlateau(monitor=\"loss\", factor=0.2, patience=5, min_lr=1e-6, verbose=1, mode=\"min\")"
      ],
      "execution_count": 40,
      "outputs": [
        {
          "output_type": "stream",
          "text": [
            "WARNING:tensorflow:`period` argument is deprecated. Please use `save_freq` to specify the frequency in number of batches seen.\n"
          ],
          "name": "stdout"
        }
      ]
    },
    {
      "cell_type": "markdown",
      "metadata": {
        "id": "ZrqyceXpLR9F",
        "colab_type": "text"
      },
      "source": [
        "### Fit the model on the training set"
      ]
    },
    {
      "cell_type": "code",
      "metadata": {
        "id": "hVFjoI3yEPcK",
        "colab_type": "code",
        "outputId": "7fc40df7-34fb-44ce-b5e3-62e76d10ea2a",
        "colab": {
          "base_uri": "https://localhost:8080/",
          "height": 309
        }
      },
      "source": [
        "batch_size = 4\n",
        "model.fit(X_train_gen,\n",
        "          epochs=3,\n",
        "          workers = 1,\n",
        "          steps_per_epoch = len(X_train_gen)/batch_size,\n",
        "          validation_data=X_Val_gen,\n",
        "          validation_steps = len(X_train_gen)/batch_size*2,\n",
        "          callbacks= [checkpoint, reduce_lr, stop])"
      ],
      "execution_count": 41,
      "outputs": [
        {
          "output_type": "stream",
          "text": [
            "Epoch 1/3\n",
            "1334/1334 [==============================] - ETA: 0s - loss: 40.8328 - dice_coefficient: 0.0107WARNING:tensorflow:Your input ran out of data; interrupting training. Make sure that your dataset or generator can generate at least `steps_per_epoch * epochs` batches (in this case, 2668.0 batches). You may need to use the repeat() function when building your dataset.\n",
            "\n",
            "Epoch 00001: loss improved from inf to 40.83278, saving model to checkpoint/model-40.83.h5\n",
            "1334/1334 [==============================] - 8858s 7s/step - loss: 40.8328 - dice_coefficient: 0.0107 - val_loss: 41.8947 - val_dice_coefficient: 0.0113 - lr: 1.0000e-04\n",
            "Epoch 2/3\n",
            "1334/1334 [==============================] - ETA: 0s - loss: 40.7355 - dice_coefficient: 0.0109WARNING:tensorflow:Your input ran out of data; interrupting training. Make sure that your dataset or generator can generate at least `steps_per_epoch * epochs` batches (in this case, 2668.0 batches). You may need to use the repeat() function when building your dataset.\n",
            "\n",
            "Epoch 00002: loss improved from 40.83278 to 40.73550, saving model to checkpoint/model-40.74.h5\n",
            "1334/1334 [==============================] - 3631s 3s/step - loss: 40.7355 - dice_coefficient: 0.0109 - val_loss: 41.7456 - val_dice_coefficient: 0.0114 - lr: 1.0000e-04\n",
            "Epoch 3/3\n",
            "1334/1334 [==============================] - ETA: 0s - loss: 42.9727 - dice_coefficient: 0.0114WARNING:tensorflow:Your input ran out of data; interrupting training. Make sure that your dataset or generator can generate at least `steps_per_epoch * epochs` batches (in this case, 2668.0 batches). You may need to use the repeat() function when building your dataset.\n",
            "\n",
            "Epoch 00003: loss did not improve from 40.73550\n",
            "1334/1334 [==============================] - 2871s 2s/step - loss: 42.9727 - dice_coefficient: 0.0114 - val_loss: 41.8418 - val_dice_coefficient: 0.0106 - lr: 1.0000e-04\n"
          ],
          "name": "stdout"
        },
        {
          "output_type": "execute_result",
          "data": {
            "text/plain": [
              "<tensorflow.python.keras.callbacks.History at 0x7f0b56693ac8>"
            ]
          },
          "metadata": {
            "tags": []
          },
          "execution_count": 41
        }
      ]
    },
    {
      "cell_type": "markdown",
      "metadata": {
        "id": "Eg3oyzxdLXwD",
        "colab_type": "text"
      },
      "source": [
        "### Load the model from checkpoint for testing"
      ]
    },
    {
      "cell_type": "code",
      "metadata": {
        "id": "BcXMGo8CP_xK",
        "colab_type": "code",
        "colab": {}
      },
      "source": [
        "WEIGHTS_FILE = \"checkpoint/model-40.74.h5\"\n",
        "THRESHOLD = 0.8\n",
        "EPSILON = 0.02\n",
        "\n",
        "# model = create_model()\n",
        "model = mobile_model()\n",
        "model.load_weights(WEIGHTS_FILE)"
      ],
      "execution_count": 0,
      "outputs": []
    },
    {
      "cell_type": "markdown",
      "metadata": {
        "id": "lVstTg3INUXp",
        "colab_type": "text"
      },
      "source": [
        "### Create a test generator"
      ]
    },
    {
      "cell_type": "code",
      "metadata": {
        "id": "LpDnXh8QcezG",
        "colab_type": "code",
        "colab": {}
      },
      "source": [
        "test_list = ['0a2c130c-c536-4651-836d-95d07e9a89cf.png','0a03fbf6-3c9a-4e2e-89ce-c7629ae43a27.png']\n",
        "test_gen = DataGenerator(list_IDs=test_list , image_path = im_path, mask_path=mask_path,dim=(224,224),batch_size=8,resize=True)"
      ],
      "execution_count": 0,
      "outputs": []
    },
    {
      "cell_type": "markdown",
      "metadata": {
        "id": "7PEIZs9QNeN5",
        "colab_type": "text"
      },
      "source": [
        "### Prepare image for the model input"
      ]
    },
    {
      "cell_type": "code",
      "metadata": {
        "id": "hWHa8sWs7Zro",
        "colab_type": "code",
        "colab": {}
      },
      "source": [
        "n = 0\n",
        "sample_image = test_gen[n][0][0]\n",
        "sample_image_redim = np.expand_dims(sample_image, axis=0)\n",
        "\n",
        "\n",
        "\n"
      ],
      "execution_count": 0,
      "outputs": []
    },
    {
      "cell_type": "markdown",
      "metadata": {
        "id": "2dz77CzENh42",
        "colab_type": "text"
      },
      "source": [
        "### Pass image to the predict function"
      ]
    },
    {
      "cell_type": "code",
      "metadata": {
        "id": "NddUngPaNdEY",
        "colab_type": "code",
        "colab": {}
      },
      "source": [
        "region = model.predict(sample_image_redim)"
      ],
      "execution_count": 0,
      "outputs": []
    },
    {
      "cell_type": "markdown",
      "metadata": {
        "id": "Nt2PCbX6NmIo",
        "colab_type": "text"
      },
      "source": [
        "### Plot the image with ground truth mask and predicted mask.\n",
        "\n",
        "Since the loaded model is trained for just 3 epochs, the predicted masks is not the accurate result we wish to obtain. Using different losses and with more training and hyperparameter tuning we can achieve the desired results."
      ]
    },
    {
      "cell_type": "code",
      "metadata": {
        "id": "aPit30F29w6B",
        "colab_type": "code",
        "colab": {
          "base_uri": "https://localhost:8080/",
          "height": 733
        },
        "outputId": "18d7a0c3-d319-4d24-84a3-f033d420dcec"
      },
      "source": [
        "f, (ax1,ax2,ax3) = plt.subplots(3)\n",
        "f.set_figheight(12)\n",
        "f.set_figwidth(12)\n",
        "ax1.set_title('Input Image')\n",
        "ax1.imshow(sample_image[:,:,0])\n",
        "ax2.set_title('Ground Truth Mask')\n",
        "ax2.imshow(test_gen[n][1][0])\n",
        "ax3.set_title('Predicted Mask (no threshold applied)')\n",
        "ax3.imshow(region[0])\n"
      ],
      "execution_count": 90,
      "outputs": [
        {
          "output_type": "execute_result",
          "data": {
            "text/plain": [
              "<matplotlib.image.AxesImage at 0x7fab2e096f98>"
            ]
          },
          "metadata": {
            "tags": []
          },
          "execution_count": 90
        },
        {
          "output_type": "display_data",
          "data": {
            "image/png": "[encoded data removed]",
            "text/plain": [
              "<Figure size 864x864 with 3 Axes>"
            ]
          },
          "metadata": {
            "tags": [],
            "needs_background": "light"
          }
        }
      ]
    },
    {
      "cell_type": "markdown",
      "metadata": {
        "id": "_w2546iNOOsd",
        "colab_type": "text"
      },
      "source": [
        "# Conclusion\n",
        "* We created a custom data generator to load the X-Rays images as well as corresponding target masks.\n",
        "* Using Mobilenet model as encoder and SegNet as decoder we created a model for image segmentation to predict the region of condtion for pneumonia.\n",
        "* We use dice co-efficient as a metric while training to measure the similarity between data\n",
        "\n",
        "# To do\n",
        "1. To improve model performance:\n",
        "* Train model for more epochs\n",
        "* Tune Hyperparameters\n",
        "* Try different losses\n",
        "\n",
        "2. Implement other image segmentation architectures\n",
        "3. Implement ChexNet architecture"
      ]
    }
  ]
}